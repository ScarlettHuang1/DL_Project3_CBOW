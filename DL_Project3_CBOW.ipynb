{
 "cells": [
  {
   "cell_type": "code",
   "execution_count": 1,
   "metadata": {
    "id": "080d50fc"
   },
   "outputs": [],
   "source": [
    "import time\n",
    "import torch\n",
    "from torch.utils.data import DataLoader, TensorDataset\n",
    "from torchtext.data.utils import get_tokenizer\n",
    "from torchtext.datasets import DATASETS\n",
    "from torchtext.vocab import build_vocab_from_iterator\n",
    "import torch.nn as nn\n",
    "from tqdm import tqdm\n",
    "import pickle\n",
    "import random\n",
    "import numpy as np\n",
    "from collections import Counter, defaultdict\n",
    "import numpy as np\n",
    "import matplotlib.pyplot as plt\n",
    "from sklearn.decomposition import PCA\n",
    "from gensim.test.utils import datapath, get_tmpfile\n",
    "from gensim.models import KeyedVectors\n",
    "import gensim.downloader\n",
    "from torch import FloatTensor as FT\n",
    "\n",
    "# Get the interactive Tools for Matplotlib\n",
    "%matplotlib notebook\n",
    "%matplotlib inline\n",
    "\n",
    "plt.style.use('ggplot')"
   ]
  },
  {
   "cell_type": "code",
   "execution_count": 2,
   "metadata": {
    "id": "31b412ca"
   },
   "outputs": [],
   "source": [
    "# DEVICE = \"mps\" if torch.backends.mps.is_available() else  \"cpu\"\n",
    "DEVICE = \"cuda\" if torch.cuda.is_available() else  \"cpu\"\n",
    "\n",
    "# The batch size in Adam or SGD\n",
    "BATCH_SIZE = 512\n",
    "\n",
    "# Number of epochs\n",
    "NUM_EPOCHS = 10\n",
    "\n",
    "# Predict from 2 words the inner word for CBOW\n",
    "# I.e. I'll have a window like [\"a\", \"b\", \"c\"] of continuous text (each is a word)\n",
    "# We'll predict each of wc = [\"a\", \"c\"] from \"b\" = wc for Skip-Gram\n",
    "# For CBOW, we'll use [\"a\", \"c\"] to predict \"b\" = wo\n",
    "WINDOW = 1\n",
    "\n",
    "# Negative samples.\n",
    "K = 4"
   ]
  },
  {
   "cell_type": "code",
   "execution_count": 3,
   "metadata": {
    "colab": {
     "base_uri": "https://localhost:8080/"
    },
    "id": "3217b67b",
    "outputId": "1a4cad14-97da-4052-ce73-d54f4126a80c"
   },
   "outputs": [
    {
     "name": "stdout",
     "output_type": "stream",
     "text": [
      "Mounted at /content/drive\n",
      "du: cannot access 'text8': No such file or directory\n",
      "100000000\n"
     ]
    }
   ],
   "source": [
    "# data in Google Drive\n",
    "from google.colab import drive\n",
    "drive.mount('/content/drive')\n",
    "\n",
    "!du -h text8\n",
    "\n",
    "f = open('/content/drive/MyDrive/sh/text8-1', 'r')\n",
    "text = f.read()\n",
    "# One big string of size 100M\n",
    "print(len(text))"
   ]
  },
  {
   "cell_type": "code",
   "execution_count": 4,
   "metadata": {
    "id": "6c1bf892"
   },
   "outputs": [],
   "source": [
    "punc = '!\"#$%&()*+,-./:;<=>?@[\\\\]^_\\'{|}~\\t\\n'\n",
    "\n",
    "# Can do regular expressions here too\n",
    "for c in punc:\n",
    "    if c in text:\n",
    "        text.replace(c, ' ')"
   ]
  },
  {
   "cell_type": "code",
   "execution_count": 5,
   "metadata": {
    "id": "0bc19b0c"
   },
   "outputs": [],
   "source": [
    "TOKENIZER = get_tokenizer(\"basic_english\")"
   ]
  },
  {
   "cell_type": "code",
   "execution_count": 6,
   "metadata": {
    "id": "ff8fd598"
   },
   "outputs": [],
   "source": [
    "words = TOKENIZER(text)\n",
    "f = Counter(words)"
   ]
  },
  {
   "cell_type": "code",
   "execution_count": 7,
   "metadata": {
    "colab": {
     "base_uri": "https://localhost:8080/"
    },
    "id": "ba7f72f8",
    "outputId": "d6532b18-f120-48f8-9619-7bbb4ec91c2a"
   },
   "outputs": [
    {
     "data": {
      "text/plain": [
       "17005207"
      ]
     },
     "execution_count": 7,
     "metadata": {},
     "output_type": "execute_result"
    }
   ],
   "source": [
    "len(words)"
   ]
  },
  {
   "cell_type": "code",
   "execution_count": 8,
   "metadata": {
    "id": "16b736a4"
   },
   "outputs": [],
   "source": [
    "# a very crude filter on the text which removes all very popular words\n",
    "text = [word for word in words if f[word] > 5]"
   ]
  },
  {
   "cell_type": "code",
   "execution_count": 9,
   "metadata": {
    "colab": {
     "base_uri": "https://localhost:8080/"
    },
    "id": "6916a763",
    "outputId": "2696558f-b0b7-440c-bc79-9d517c3f7c6b"
   },
   "outputs": [
    {
     "data": {
      "text/plain": [
       "['anarchism', 'originated', 'as', 'a', 'term']"
      ]
     },
     "execution_count": 9,
     "metadata": {},
     "output_type": "execute_result"
    }
   ],
   "source": [
    "text[0:5]"
   ]
  },
  {
   "cell_type": "code",
   "execution_count": 10,
   "metadata": {
    "id": "10ad817a"
   },
   "outputs": [],
   "source": [
    "VOCAB = build_vocab_from_iterator([text])"
   ]
  },
  {
   "cell_type": "code",
   "execution_count": 11,
   "metadata": {
    "id": "a7f69fc9"
   },
   "outputs": [],
   "source": [
    "# word -> int hash map\n",
    "stoi = VOCAB.get_stoi()\n",
    "# int -> word hash map\n",
    "itos = VOCAB.get_itos()"
   ]
  },
  {
   "cell_type": "code",
   "execution_count": 12,
   "metadata": {
    "colab": {
     "base_uri": "https://localhost:8080/"
    },
    "id": "9991f9ab",
    "outputId": "6359114c-db74-4956-dab2-21d31daa9ee8"
   },
   "outputs": [
    {
     "data": {
      "text/plain": [
       "11"
      ]
     },
     "execution_count": 12,
     "metadata": {},
     "output_type": "execute_result"
    }
   ],
   "source": [
    "stoi['as']"
   ]
  },
  {
   "cell_type": "code",
   "execution_count": 13,
   "metadata": {
    "colab": {
     "base_uri": "https://localhost:8080/"
    },
    "id": "0f49f5fa",
    "outputId": "46ce9019-10e5-4494-cea1-15353a33518f"
   },
   "outputs": [
    {
     "data": {
      "text/plain": [
       "63641"
      ]
     },
     "execution_count": 13,
     "metadata": {},
     "output_type": "execute_result"
    }
   ],
   "source": [
    "# Total number of words\n",
    "len(stoi)"
   ]
  },
  {
   "cell_type": "code",
   "execution_count": 14,
   "metadata": {
    "id": "6c5c415a"
   },
   "outputs": [],
   "source": [
    "f = Counter(text)\n",
    "# This is the probability that we pick a word in the corpus\n",
    "z = {word: f[word] / len(text) for word in f}"
   ]
  },
  {
   "cell_type": "code",
   "execution_count": 15,
   "metadata": {
    "id": "1e543e1e"
   },
   "outputs": [],
   "source": [
    "threshold = 1e-5\n",
    "# Probability that word is kept while subsampling\n",
    "# This is explained here and sightly differet from the paper: http://mccormickml.com/2017/01/11/word2vec-tutorial-part-2-negative-sampling/\n",
    "p_keep = {word: (np.sqrt(z[word] / 0.001) + 1)*(0.0001 / z[word]) for word in f}"
   ]
  },
  {
   "cell_type": "code",
   "execution_count": 16,
   "metadata": {
    "id": "dd22119d"
   },
   "outputs": [],
   "source": [
    "# This is in the integer space\n",
    "train_dataset = [word for word in text if random.random() < p_keep[word]]\n",
    "\n",
    "# Rebuild the vocabulary\n",
    "VOCAB = build_vocab_from_iterator([train_dataset])"
   ]
  },
  {
   "cell_type": "code",
   "execution_count": 17,
   "metadata": {
    "colab": {
     "base_uri": "https://localhost:8080/"
    },
    "id": "a2d695da",
    "outputId": "aec73a1b-79ba-4136-fb2b-c6748b6fe9a6"
   },
   "outputs": [
    {
     "data": {
      "text/plain": [
       "7847883"
      ]
     },
     "execution_count": 17,
     "metadata": {},
     "output_type": "execute_result"
    }
   ],
   "source": [
    "len(train_dataset)"
   ]
  },
  {
   "cell_type": "code",
   "execution_count": 18,
   "metadata": {
    "id": "30d67549"
   },
   "outputs": [],
   "source": [
    "# word -> int mapping\n",
    "stoi = VOCAB.get_stoi()\n",
    "# int -> word mapping\n",
    "itos = VOCAB.get_itos()"
   ]
  },
  {
   "cell_type": "code",
   "execution_count": 19,
   "metadata": {
    "colab": {
     "base_uri": "https://localhost:8080/"
    },
    "id": "b46337b8",
    "outputId": "948d6e02-5cda-42ec-fe34-9db2b8cb751e"
   },
   "outputs": [
    {
     "data": {
      "text/plain": [
       "63641"
      ]
     },
     "execution_count": 19,
     "metadata": {},
     "output_type": "execute_result"
    }
   ],
   "source": [
    "# The vocabulary size after we do all the filters\n",
    "len(VOCAB)"
   ]
  },
  {
   "cell_type": "code",
   "execution_count": 20,
   "metadata": {
    "id": "c9346f36"
   },
   "outputs": [],
   "source": [
    "# The probability we draw something for negative sampling\n",
    "f = Counter(train_dataset)\n",
    "p = torch.zeros(len(VOCAB))\n",
    "\n",
    "# Downsample frequent words and upsample less frequent\n",
    "s = sum([np.power(freq, 0.75) for word, freq in f.items()])\n",
    "\n",
    "for word in f:\n",
    "    p[stoi[word]] = np.power(f[word], 0.75) / s"
   ]
  },
  {
   "cell_type": "code",
   "execution_count": 21,
   "metadata": {
    "id": "dd713c15"
   },
   "outputs": [],
   "source": [
    "# Map everything to integers\n",
    "train_dataset = [stoi[word] for word in text]"
   ]
  },
  {
   "cell_type": "code",
   "execution_count": 22,
   "metadata": {
    "id": "8e96c0c4"
   },
   "outputs": [],
   "source": [
    "# This just gets the (wc, wo) pairs that are positive - they are seen together!\n",
    "def get_tokenized_dataset(dataset, verbose=False):\n",
    "    x_list = []\n",
    "    for i, token in enumerate(dataset):\n",
    "        m = 1\n",
    "\n",
    "        # Get the left and right tokens\n",
    "        start = max(0,i-m)\n",
    "        left_tokens = dataset[start:i]\n",
    "\n",
    "        end = min(len(dataset)-1,i+m)\n",
    "        right_tokens = dataset[i+1:end+1]\n",
    "\n",
    "        # Check these are the same length, and if so use them to add a row of data. This should be a list like\n",
    "        # [a, c, b] where b is the center word\n",
    "        if len(left_tokens) == len(right_tokens):\n",
    "            w_context = left_tokens + right_tokens\n",
    "\n",
    "            wc = token\n",
    "\n",
    "            x_list.extend(\n",
    "                [[w_context[0],w_context[1], wc]]\n",
    "            )\n",
    "\n",
    "    return x_list"
   ]
  },
  {
   "cell_type": "code",
   "execution_count": 23,
   "metadata": {
    "id": "3eb82aad"
   },
   "outputs": [],
   "source": [
    "train_x_list = get_tokenized_dataset(train_dataset, verbose=False)"
   ]
  },
  {
   "cell_type": "code",
   "execution_count": 24,
   "metadata": {
    "id": "8412ee4d"
   },
   "outputs": [],
   "source": [
    "pickle.dump(train_x_list, open('train_x_list.pkl', 'wb'))"
   ]
  },
  {
   "cell_type": "code",
   "execution_count": 25,
   "metadata": {
    "id": "3fd54caf"
   },
   "outputs": [],
   "source": [
    "train_x_list = pickle.load(open('train_x_list.pkl', 'rb'))"
   ]
  },
  {
   "cell_type": "code",
   "execution_count": 26,
   "metadata": {
    "colab": {
     "base_uri": "https://localhost:8080/"
    },
    "id": "576765f3",
    "outputId": "a43feae9-ef17-4d9d-9fdc-7173cf5ab846"
   },
   "outputs": [
    {
     "data": {
      "text/plain": [
       "[[5233, 11, 3083],\n",
       " [3083, 5, 11],\n",
       " [11, 196, 5],\n",
       " [5, 1, 196],\n",
       " [196, 3133, 1],\n",
       " [1, 49, 3133],\n",
       " [3133, 57, 49],\n",
       " [49, 172, 57],\n",
       " [57, 127, 172],\n",
       " [172, 741, 127]]"
      ]
     },
     "execution_count": 26,
     "metadata": {},
     "output_type": "execute_result"
    }
   ],
   "source": [
    "# These are (wc, wo) pairs. All are y = +1 by design\n",
    "train_x_list[:10]"
   ]
  },
  {
   "cell_type": "code",
   "execution_count": 27,
   "metadata": {
    "id": "316df1dc"
   },
   "outputs": [],
   "source": [
    "# The number of things of BATCH_SIZE = 512\n",
    "assert(len(train_x_list) // BATCH_SIZE == 32579)"
   ]
  },
  {
   "cell_type": "markdown",
   "metadata": {
    "id": "488c3519"
   },
   "source": [
    "### Set up the dataloader."
   ]
  },
  {
   "cell_type": "code",
   "execution_count": 28,
   "metadata": {
    "id": "2e31ae4b"
   },
   "outputs": [],
   "source": [
    "train_dl = DataLoader(\n",
    "    TensorDataset(\n",
    "        torch.tensor(train_x_list).to(DEVICE),\n",
    "    ),\n",
    "    batch_size=BATCH_SIZE,\n",
    "    shuffle=True\n",
    ")"
   ]
  },
  {
   "cell_type": "code",
   "execution_count": 29,
   "metadata": {
    "id": "e9c42f50"
   },
   "outputs": [],
   "source": [
    "for xb in train_dl:\n",
    "    assert(xb[0].shape == (BATCH_SIZE, 3))\n",
    "    break"
   ]
  },
  {
   "cell_type": "markdown",
   "metadata": {
    "id": "12d93d22"
   },
   "source": [
    "### Words we'll use to asses the quality of the model ..."
   ]
  },
  {
   "cell_type": "code",
   "execution_count": 30,
   "metadata": {
    "id": "ffada8d0"
   },
   "outputs": [],
   "source": [
    "valid_ids = torch.tensor([\n",
    "    stoi['money'],\n",
    "    stoi['lion'],\n",
    "    stoi['africa'],\n",
    "    stoi['musician'],\n",
    "    stoi['dance'],\n",
    "])"
   ]
  },
  {
   "cell_type": "markdown",
   "metadata": {
    "id": "64096cd8"
   },
   "source": [
    "### Get the model."
   ]
  },
  {
   "cell_type": "code",
   "execution_count": 31,
   "metadata": {
    "id": "dc51c359"
   },
   "outputs": [],
   "source": [
    "class CBOWNegativeSampling(nn.Module):\n",
    "    def __init__(self, vocab_size, embed_dim):\n",
    "        super(CBOWNegativeSampling, self).__init__()\n",
    "        self.A = nn.Embedding(vocab_size, embed_dim) # Context vectors - center word\n",
    "        self.B = nn.Embedding(vocab_size, embed_dim) # Output vectors - words around the center word\n",
    "        self.init_weights()\n",
    "\n",
    "    def init_weights(self):\n",
    "        # Is this the best way? Not sure\n",
    "        initrange = 0.5\n",
    "        self.A.weight.data.uniform_(-initrange, initrange)\n",
    "        self.B.weight.data.uniform_(-initrange, initrange)\n",
    "\n",
    "    def forward(self, x):\n",
    "        # N is the batch size\n",
    "        # x is (N, 3)\n",
    "\n",
    "        # Context words are 2m things, m = 1 so w_context is (N, 2) while wc is N\n",
    "\n",
    "        if x.shape[1]==(3):\n",
    "            w_context, wc = x[:,:2], x[:,2]\n",
    "        else:\n",
    "            print(x)\n",
    "            print(x.shape)\n",
    "            # w_context, wc = x\n",
    "\n",
    "        w_context, wc = x[:,:2], x[:,2]\n",
    "\n",
    "        # Each of these is (N, 2, D) since each context has 2 word\n",
    "        # We want this to be (N, D) and this is what we get\n",
    "\n",
    "        # (N, 2, D)\n",
    "        a = self.A(w_context)\n",
    "\n",
    "        # (N, D)\n",
    "        a_avg = a.mean(dim=1)\n",
    "\n",
    "        # Each of these is (N, D) since each target has 1 word\n",
    "        b = self.B(wc)\n",
    "\n",
    "        # The product between each context and target vector. Look at the Skip-Gram code.\n",
    "        # The logits is now (N, 1) since we sum across the final dimension.\n",
    "        logits = (a_avg*b).sum(axis = -1)\n",
    "\n",
    "        return logits"
   ]
  },
  {
   "cell_type": "code",
   "execution_count": 33,
   "metadata": {
    "id": "ed9c509d"
   },
   "outputs": [],
   "source": [
    "@torch.no_grad()\n",
    "def validate_embeddings(\n",
    "    model,\n",
    "    valid_ids,\n",
    "    itos\n",
    "):\n",
    "    \"\"\" Validation logic \"\"\"\n",
    "\n",
    "    # We will use context embeddings to get the most similar words\n",
    "    # Other strategies include: using target embeddings, mean embeddings after avaraging context/target\n",
    "    embedding_weights = model.A.weight\n",
    "\n",
    "    normalized_embeddings = embedding_weights.cpu() / np.sqrt(\n",
    "        np.sum(embedding_weights.cpu().numpy()**2, axis=1, keepdims=True)\n",
    "    )\n",
    "\n",
    "    # Get the embeddings corresponding to valid_term_ids\n",
    "    valid_embeddings = normalized_embeddings[valid_ids, :]\n",
    "\n",
    "    # Compute the similarity between valid_term_ids (S) and all the embeddings (V)\n",
    "    # We do S x d (d x V) => S x D and sort by negative similarity\n",
    "    top_k = 10 # Top k items will be displayed\n",
    "    similarity = np.dot(valid_embeddings.cpu().numpy(), normalized_embeddings.cpu().numpy().T)\n",
    "\n",
    "    # Invert similarity matrix to negative\n",
    "    # Ignore the first one because that would be the same word as the probe word\n",
    "    similarity_top_k = np.argsort(-similarity, axis=1)[:, 1: top_k+1]\n",
    "\n",
    "    # Print the output.\n",
    "    for i, word_id in enumerate(valid_ids):\n",
    "        # j >= 1 here since we don't want to include the word itself.\n",
    "        similar_word_str = ', '.join([itos[j] for j in similarity_top_k[i, :] if j >= 1])\n",
    "        print(f\"{itos[word_id]}: {similar_word_str}\")\n",
    "\n",
    "    print('\\n')"
   ]
  },
  {
   "cell_type": "markdown",
   "metadata": {
    "id": "3b3c6ed5"
   },
   "source": [
    "### Set up the model"
   ]
  },
  {
   "cell_type": "code",
   "execution_count": 34,
   "metadata": {
    "id": "16da95d1"
   },
   "outputs": [],
   "source": [
    "LR = 10.0\n",
    "NUM_EPOCHS = 10\n",
    "EMBED_DIM = 300"
   ]
  },
  {
   "cell_type": "code",
   "execution_count": 35,
   "metadata": {
    "id": "cef585f4"
   },
   "outputs": [],
   "source": [
    "model = CBOWNegativeSampling(len(VOCAB), EMBED_DIM).to(DEVICE)\n",
    "optimizer = torch.optim.SGD(model.parameters(), lr=LR)\n",
    "# The learning rate is lowered every epoch by 1/10.\n",
    "scheduler = torch.optim.lr_scheduler.StepLR(optimizer, 1, gamma=0.1)"
   ]
  },
  {
   "cell_type": "code",
   "execution_count": 36,
   "metadata": {
    "colab": {
     "base_uri": "https://localhost:8080/"
    },
    "id": "f8a642bf",
    "outputId": "93b3a044-9dc4-4a88-bf4f-e8b33c91b852"
   },
   "outputs": [
    {
     "data": {
      "text/plain": [
       "CBOWNegativeSampling(\n",
       "  (A): Embedding(63641, 300)\n",
       "  (B): Embedding(63641, 300)\n",
       ")"
      ]
     },
     "execution_count": 36,
     "metadata": {},
     "output_type": "execute_result"
    }
   ],
   "source": [
    "model"
   ]
  },
  {
   "cell_type": "code",
   "execution_count": 37,
   "metadata": {
    "colab": {
     "base_uri": "https://localhost:8080/"
    },
    "id": "85773616",
    "outputId": "1c50b43d-4d26-4bd2-e158-0fb856f621e2"
   },
   "outputs": [
    {
     "name": "stdout",
     "output_type": "stream",
     "text": [
      "money: k, regimen, acylation, subcarrier, landfall, cyclades, hinted, elision, starbuck, lexicographers\n",
      "lion: retrograde, dignity, toves, mismatched, operatic, cmos, lowry, karlheinz, sis, kilo\n",
      "africa: merritt, managua, straightforward, brace, crumbs, imply, marsha, tique, verdict, ibis\n",
      "musician: nicotine, theses, rh, unfairly, regulated, elsevier, provider, habitation, literatures, depart\n",
      "dance: hadrian, ftp, appreciating, packers, occupation, yarmouth, centrum, afrikaners, cta, bust\n",
      "\n",
      "\n"
     ]
    }
   ],
   "source": [
    "validate_embeddings(model, valid_ids, itos)"
   ]
  },
  {
   "cell_type": "markdown",
   "metadata": {
    "id": "86476e2a"
   },
   "source": [
    "### Train the model"
   ]
  },
  {
   "cell_type": "code",
   "execution_count": 40,
   "metadata": {
    "id": "24950481"
   },
   "outputs": [],
   "source": [
    "ratios = []\n",
    "\n",
    "def train(dataloader, model, optimizer, epoch):\n",
    "    model.train()\n",
    "    total_acc, total_count, total_loss, total_batches = 0, 0, 0.0, 0.0\n",
    "    log_interval = 500\n",
    "\n",
    "    for idx, x_batch in tqdm(enumerate(dataloader)):\n",
    "\n",
    "        x_batch = x_batch[0]\n",
    "\n",
    "        # if x_batch.shape[1] != 3: ### check\n",
    "        #   print(x_batch.shape, x_batch) ### check\n",
    "\n",
    "        batch_size = x_batch.shape[0]\n",
    "\n",
    "        # Zero the gradient so they don't accumulate\n",
    "        optimizer.zero_grad()\n",
    "\n",
    "        logits = model(x_batch)\n",
    "\n",
    "        # Get the positive samples loss. Notice we use weights here\n",
    "        positive_loss = torch.nn.BCEWithLogitsLoss()(input=logits, target=torch.ones(batch_size).to(DEVICE).float())\n",
    "\n",
    "        # For each batch, get some negative samples\n",
    "        # We need a total of len(y_batch) * K samples across a batch\n",
    "        # We then reshape this batch\n",
    "        # These are effectively the output words\n",
    "        negative_samples = torch.multinomial(p, batch_size * K, replacement=True).to(DEVICE)\n",
    "\n",
    "        # Context words are 2m things, m = 1 so w_context is (N, 2) while wc is (N, )\n",
    "        w_context, wc = x_batch[:, :2], x_batch[:2]\n",
    "\n",
    "        \"\"\"\n",
    "        if w_context looks like below (batch_size = 3)\n",
    "        [\n",
    "        (a, b),\n",
    "        (c, d),\n",
    "        (e, f)\n",
    "        ] and K = 2 we'd like to get:\n",
    "\n",
    "        [\n",
    "        (a, b),\n",
    "        (a, b),\n",
    "        (c, d),\n",
    "        (c, d),\n",
    "        (e, f),\n",
    "        (e, f)\n",
    "        ]\n",
    "\n",
    "        This will be batch_size * K rows.\n",
    "        \"\"\"\n",
    "\n",
    "        # This should be (N * K, 2)\n",
    "        w_context = torch.concat([\n",
    "            w.repeat(K, 1) for w in torch.tensor(w_context).split(1)\n",
    "        ])\n",
    "\n",
    "        # Add a last dimension and set wc to the negative samples\n",
    "        wc = negative_samples.unsqueeze(1)\n",
    "\n",
    "        # Get the negative samples. This should be (N * K, 3)\n",
    "        # Concatenate the w_context and wc along the column. Make sure everything is on CUDA / MPS or CPU\n",
    "        x_batch_negative = torch.cat([w_context,wc],dim = 1).to(DEVICE)\n",
    "\n",
    "        \"\"\"\n",
    "        Note the way we formulated the targets: they are all 0 since these are negative samples.\n",
    "        We do the BCEWithLogitsLoss by hand basically here.\n",
    "        Notice we sum across the negative samples, per positive word.\n",
    "\n",
    "        This is literally the equation in the lecture notes.\n",
    "        \"\"\"\n",
    "\n",
    "        # (N, K, D) -> (N, D) -> (N)\n",
    "        # Look at the Skip-Gram notebook\n",
    "        negative_loss = model(x_batch_negative).neg().sigmoid().log().reshape(\n",
    "            batch_size, K).sum(1).mean().neg().to(DEVICE)\n",
    "\n",
    "        loss = (positive_loss + negative_loss).mean()\n",
    "\n",
    "        # Get the gradients via back propagation\n",
    "        loss.backward()\n",
    "\n",
    "        # Clip the gradients? Generally a good idea\n",
    "        torch.nn.utils.clip_grad_norm_(model.parameters(), 0.1)\n",
    "\n",
    "        # Used for optimization. This should be roughly 0.001, on average\n",
    "        with torch.no_grad():\n",
    "            r = [\n",
    "                (LR * p.grad.std() / p.data.std()).log10().item() for _, p in model.named_parameters()\n",
    "            ]\n",
    "            ratios.append(r)\n",
    "\n",
    "        # Do an optimization step. Update the parameters A and B\n",
    "        optimizer.step()\n",
    "\n",
    "        # Get the new loss.\n",
    "        total_loss += 1.0 * loss.item()\n",
    "\n",
    "        # Update the batch count\n",
    "        total_batches += 1\n",
    "\n",
    "        if idx % log_interval == 0:\n",
    "            print(\n",
    "                \"| epoch {:3d} | {:5d}/{:5d} batches \"\n",
    "                \"| loss {:8.3f} \".format(\n",
    "                    epoch,\n",
    "                    idx,\n",
    "                    len(dataloader),\n",
    "                    total_loss / total_batches\n",
    "                )\n",
    "            )\n",
    "            validate_embeddings(model, valid_ids, itos)\n",
    "            total_loss, total_batches = 0.0, 0.0"
   ]
  },
  {
   "cell_type": "markdown",
   "metadata": {
    "id": "0764d675"
   },
   "source": [
    "### Some results from the run look like below:"
   ]
  },
  {
   "cell_type": "code",
   "execution_count": 41,
   "metadata": {
    "colab": {
     "base_uri": "https://localhost:8080/"
    },
    "id": "a9e02c09",
    "outputId": "7c4a3f52-322b-4909-bd44-bd7ed22c2795"
   },
   "outputs": [
    {
     "metadata": {
      "tags": null
     },
     "name": "stderr",
     "output_type": "stream",
     "text": [
      "\r",
      "0it [00:00, ?it/s]<ipython-input-40-267a1378b34c>:56: UserWarning: To copy construct from a tensor, it is recommended to use sourceTensor.clone().detach() or sourceTensor.clone().detach().requires_grad_(True), rather than torch.tensor(sourceTensor).\n",
      "  w.repeat(K, 1) for w in torch.tensor(w_context).split(1)\n"
     ]
    },
    {
     "metadata": {
      "tags": null
     },
     "name": "stdout",
     "output_type": "stream",
     "text": [
      "| epoch   1 |     0/32580 batches | loss    4.046 \n"
     ]
    },
    {
     "metadata": {
      "tags": null
     },
     "name": "stderr",
     "output_type": "stream",
     "text": [
      "7it [00:01,  7.02it/s]"
     ]
    },
    {
     "metadata": {
      "tags": null
     },
     "name": "stdout",
     "output_type": "stream",
     "text": [
      "money: k, regimen, acylation, subcarrier, landfall, cyclades, hinted, elision, starbuck, lexicographers\n",
      "lion: retrograde, dignity, toves, mismatched, operatic, cmos, lowry, karlheinz, sis, kilo\n",
      "africa: merritt, managua, straightforward, brace, crumbs, imply, marsha, tique, verdict, gand\n",
      "musician: nicotine, theses, rh, unfairly, regulated, elsevier, provider, habitation, literatures, depart\n",
      "dance: hadrian, ftp, appreciating, packers, occupation, yarmouth, centrum, afrikaners, cta, bust\n",
      "\n",
      "\n"
     ]
    },
    {
     "metadata": {
      "tags": null
     },
     "name": "stderr",
     "output_type": "stream",
     "text": [
      "496it [00:08, 69.27it/s]"
     ]
    },
    {
     "metadata": {
      "tags": null
     },
     "name": "stdout",
     "output_type": "stream",
     "text": [
      "| epoch   1 |   500/32580 batches | loss    3.714 \n",
      "money: k, acylation, regimen, subcarrier, landfall, cyclades, hinted, starbuck, lexicographers, anh\n",
      "lion: retrograde, dignity, toves, mismatched, operatic, cmos, karlheinz, lowry, sis, kilo\n",
      "africa: merritt, managua, crumbs, straightforward, brace, marsha, verdict, tique, imply, ibis\n"
     ]
    },
    {
     "metadata": {
      "tags": null
     },
     "name": "stderr",
     "output_type": "stream",
     "text": [
      "510it [00:08, 46.55it/s]"
     ]
    },
    {
     "metadata": {
      "tags": null
     },
     "name": "stdout",
     "output_type": "stream",
     "text": [
      "musician: nicotine, theses, rh, unfairly, regulated, elsevier, provider, habitation, literatures, maquis\n",
      "dance: hadrian, ftp, appreciating, packers, occupation, yarmouth, afrikaners, centrum, sights, cta\n",
      "\n",
      "\n"
     ]
    },
    {
     "metadata": {
      "tags": null
     },
     "name": "stderr",
     "output_type": "stream",
     "text": [
      "998it [00:15, 69.37it/s]"
     ]
    },
    {
     "metadata": {
      "tags": null
     },
     "name": "stdout",
     "output_type": "stream",
     "text": [
      "| epoch   1 |  1000/32580 batches | loss    3.350 \n"
     ]
    },
    {
     "metadata": {
      "tags": null
     },
     "name": "stderr",
     "output_type": "stream",
     "text": [
      "1012it [00:16, 46.38it/s]"
     ]
    },
    {
     "metadata": {
      "tags": null
     },
     "name": "stdout",
     "output_type": "stream",
     "text": [
      "money: k, subcarrier, regimen, acylation, hinted, landfall, lexicographers, cyclades, starbuck, anh\n",
      "lion: retrograde, dignity, toves, mismatched, operatic, cmos, karlheinz, lowry, sis, kilo\n",
      "africa: merritt, managua, brace, marsha, verdict, straightforward, crumbs, imply, diedrich, tique\n",
      "musician: nicotine, theses, rh, regulated, unfairly, elsevier, habitation, provider, literatures, depart\n",
      "dance: hadrian, ftp, appreciating, packers, occupation, yarmouth, afrikaners, sights, bust, centrum\n",
      "\n",
      "\n"
     ]
    },
    {
     "metadata": {
      "tags": null
     },
     "name": "stderr",
     "output_type": "stream",
     "text": [
      "1499it [00:23, 67.91it/s]"
     ]
    },
    {
     "metadata": {
      "tags": null
     },
     "name": "stdout",
     "output_type": "stream",
     "text": [
      "| epoch   1 |  1500/32580 batches | loss    3.018 \n"
     ]
    },
    {
     "metadata": {
      "tags": null
     },
     "name": "stderr",
     "output_type": "stream",
     "text": [
      "\r",
      "1506it [00:23, 40.45it/s]"
     ]
    },
    {
     "metadata": {
      "tags": null
     },
     "name": "stdout",
     "output_type": "stream",
     "text": [
      "money: k, subcarrier, regimen, acylation, lexicographers, starbuck, cyclades, anh, plymouth, hinted\n",
      "lion: retrograde, dignity, toves, mismatched, operatic, karlheinz, lowry, cmos, sis, kilo\n",
      "africa: merritt, managua, marsha, verdict, brace, diedrich, imply, straightforward, crumbs, tique\n",
      "musician: nicotine, theses, rh, regulated, unfairly, habitation, provider, elsevier, literatures, microphones\n",
      "dance: hadrian, ftp, appreciating, packers, occupation, yarmouth, afrikaners, sights, bust, centrum\n",
      "\n",
      "\n"
     ]
    },
    {
     "metadata": {
      "tags": null
     },
     "name": "stderr",
     "output_type": "stream",
     "text": [
      "1996it [00:30, 67.89it/s]"
     ]
    },
    {
     "metadata": {
      "tags": null
     },
     "name": "stdout",
     "output_type": "stream",
     "text": [
      "| epoch   1 |  2000/32580 batches | loss    2.781 \n"
     ]
    },
    {
     "metadata": {
      "tags": null
     },
     "name": "stderr",
     "output_type": "stream",
     "text": [
      "2010it [00:31, 45.05it/s]"
     ]
    },
    {
     "metadata": {
      "tags": null
     },
     "name": "stdout",
     "output_type": "stream",
     "text": [
      "money: k, subcarrier, regimen, acylation, lexicographers, starbuck, moheli, plymouth, cyclades, anh\n",
      "lion: dignity, retrograde, toves, mismatched, operatic, karlheinz, lowry, sis, cmos, lately\n",
      "africa: merritt, diedrich, verdict, marsha, brace, managua, area, crumbs, imply, tique\n",
      "musician: nicotine, theses, rh, regulated, habitation, unfairly, provider, elsevier, literatures, microphones\n",
      "dance: hadrian, ftp, appreciating, packers, occupation, afrikaners, yarmouth, sights, bust, centrum\n",
      "\n",
      "\n"
     ]
    },
    {
     "metadata": {
      "tags": null
     },
     "name": "stderr",
     "output_type": "stream",
     "text": [
      "2494it [00:38, 68.84it/s]"
     ]
    },
    {
     "metadata": {
      "tags": null
     },
     "name": "stdout",
     "output_type": "stream",
     "text": [
      "| epoch   1 |  2500/32580 batches | loss    2.615 \n"
     ]
    },
    {
     "metadata": {
      "tags": null
     },
     "name": "stderr",
     "output_type": "stream",
     "text": [
      "2507it [00:38, 44.80it/s]"
     ]
    },
    {
     "metadata": {
      "tags": null
     },
     "name": "stdout",
     "output_type": "stream",
     "text": [
      "money: k, subcarrier, lexicographers, moheli, regimen, starbuck, plymouth, acylation, anh, cyclades\n",
      "lion: dignity, retrograde, toves, mismatched, operatic, karlheinz, lowry, sis, cmos, lately\n",
      "africa: merritt, diedrich, verdict, area, most, brace, marsha, managua, imply, crumbs\n",
      "musician: nicotine, theses, rh, regulated, habitation, unfairly, provider, elsevier, literatures, microphones\n",
      "dance: hadrian, ftp, appreciating, packers, occupation, yarmouth, bust, sights, afrikaners, ceawlin\n",
      "\n",
      "\n"
     ]
    },
    {
     "metadata": {
      "tags": null
     },
     "name": "stderr",
     "output_type": "stream",
     "text": [
      "2997it [00:45, 69.40it/s]"
     ]
    },
    {
     "metadata": {
      "tags": null
     },
     "name": "stdout",
     "output_type": "stream",
     "text": [
      "| epoch   1 |  3000/32580 batches | loss    2.483 \n"
     ]
    },
    {
     "metadata": {
      "tags": null
     },
     "name": "stderr",
     "output_type": "stream",
     "text": [
      "3011it [00:46, 46.73it/s]"
     ]
    },
    {
     "metadata": {
      "tags": null
     },
     "name": "stdout",
     "output_type": "stream",
     "text": [
      "money: k, subcarrier, lexicographers, starbuck, various, regimen, moheli, plymouth, computer, anh\n",
      "lion: dignity, retrograde, toves, mismatched, operatic, sis, karlheinz, lowry, cmos, kilo\n",
      "africa: merritt, most, area, diedrich, verdict, brace, marsha, not, is, imply\n",
      "musician: nicotine, theses, rh, habitation, regulated, unfairly, provider, elsevier, literatures, microphones\n",
      "dance: ftp, hadrian, appreciating, yarmouth, packers, occupation, bust, sights, afrikaners, ceawlin\n",
      "\n",
      "\n"
     ]
    },
    {
     "metadata": {
      "tags": null
     },
     "name": "stderr",
     "output_type": "stream",
     "text": [
      "3499it [00:53, 69.60it/s]"
     ]
    },
    {
     "metadata": {
      "tags": null
     },
     "name": "stdout",
     "output_type": "stream",
     "text": [
      "| epoch   1 |  3500/32580 batches | loss    2.375 \n"
     ]
    },
    {
     "metadata": {
      "tags": null
     },
     "name": "stderr",
     "output_type": "stream",
     "text": [
      "\r",
      "3506it [00:53, 41.05it/s]"
     ]
    },
    {
     "metadata": {
      "tags": null
     },
     "name": "stdout",
     "output_type": "stream",
     "text": [
      "money: k, subcarrier, various, lexicographers, starbuck, became, moheli, regimen, computer, plymouth\n",
      "lion: dignity, retrograde, toves, mismatched, operatic, sis, lowry, karlheinz, cmos, th\n",
      "africa: merritt, most, area, diedrich, have, people, is, were, not, verdict\n",
      "musician: nicotine, theses, rh, habitation, regulated, unfairly, provider, literatures, moral, elsevier\n",
      "dance: ftp, hadrian, appreciating, yarmouth, occupation, packers, antipodes, ceawlin, bust, steinman\n",
      "\n",
      "\n"
     ]
    },
    {
     "metadata": {
      "tags": null
     },
     "name": "stderr",
     "output_type": "stream",
     "text": [
      "4000it [01:00, 69.09it/s]"
     ]
    },
    {
     "metadata": {
      "tags": null
     },
     "name": "stdout",
     "output_type": "stream",
     "text": [
      "| epoch   1 |  4000/32580 batches | loss    2.293 \n"
     ]
    },
    {
     "metadata": {
      "tags": null
     },
     "name": "stderr",
     "output_type": "stream",
     "text": [
      "\r",
      "4007it [01:01, 41.24it/s]"
     ]
    },
    {
     "metadata": {
      "tags": null
     },
     "name": "stdout",
     "output_type": "stream",
     "text": [
      "money: k, became, subcarrier, various, even, those, computer, established, lexicographers, starbuck\n",
      "lion: dignity, retrograde, toves, mismatched, operatic, sis, lowry, karlheinz, th, cmos\n",
      "africa: most, area, merritt, have, people, is, were, american, not, which\n",
      "musician: nicotine, theses, rh, habitation, regulated, unfairly, provider, moral, determined, elsevier\n",
      "dance: hadrian, ftp, appreciating, occupation, yarmouth, ceawlin, antipodes, packers, democratic, bust\n",
      "\n",
      "\n"
     ]
    },
    {
     "metadata": {
      "tags": null
     },
     "name": "stderr",
     "output_type": "stream",
     "text": [
      "4500it [01:08, 69.35it/s]"
     ]
    },
    {
     "metadata": {
      "tags": null
     },
     "name": "stdout",
     "output_type": "stream",
     "text": [
      "| epoch   1 |  4500/32580 batches | loss    2.222 \n"
     ]
    },
    {
     "metadata": {
      "tags": null
     },
     "name": "stderr",
     "output_type": "stream",
     "text": [
      "\r",
      "4507it [01:08, 41.48it/s]"
     ]
    },
    {
     "metadata": {
      "tags": null
     },
     "name": "stdout",
     "output_type": "stream",
     "text": [
      "money: k, even, those, computer, became, various, established, subcarrier, area, while\n",
      "lion: dignity, retrograde, toves, mismatched, operatic, single, sis, lowry, karlheinz, th\n",
      "africa: most, area, have, american, people, were, merritt, or, which, made\n",
      "musician: nicotine, rh, theses, habitation, regulated, provider, determined, moral, unfairly, elsevier\n",
      "dance: hadrian, ftp, appreciating, democratic, occupation, yarmouth, ceawlin, antipodes, steinman, packers\n",
      "\n",
      "\n"
     ]
    },
    {
     "metadata": {
      "tags": null
     },
     "name": "stderr",
     "output_type": "stream",
     "text": [
      "4994it [01:15, 69.44it/s]"
     ]
    },
    {
     "metadata": {
      "tags": null
     },
     "name": "stdout",
     "output_type": "stream",
     "text": [
      "| epoch   1 |  5000/32580 batches | loss    2.161 \n"
     ]
    },
    {
     "metadata": {
      "tags": null
     },
     "name": "stderr",
     "output_type": "stream",
     "text": [
      "5007it [01:16, 45.32it/s]"
     ]
    },
    {
     "metadata": {
      "tags": null
     },
     "name": "stdout",
     "output_type": "stream",
     "text": [
      "money: k, even, computer, those, became, various, established, while, been, area\n",
      "lion: dignity, retrograde, toves, single, mismatched, operatic, sis, th, karlheinz, lowry\n",
      "africa: most, people, area, american, have, which, made, time, used, not\n",
      "musician: nicotine, rh, theses, habitation, regulated, determined, moral, h, north, provider\n",
      "dance: hadrian, ftp, democratic, ceawlin, appreciating, occupation, steinman, yarmouth, formed, antipodes\n",
      "\n",
      "\n"
     ]
    },
    {
     "metadata": {
      "tags": null
     },
     "name": "stderr",
     "output_type": "stream",
     "text": [
      "5500it [01:23, 69.97it/s]"
     ]
    },
    {
     "metadata": {
      "tags": null
     },
     "name": "stdout",
     "output_type": "stream",
     "text": [
      "| epoch   1 |  5500/32580 batches | loss    2.107 \n"
     ]
    },
    {
     "metadata": {
      "tags": null
     },
     "name": "stderr",
     "output_type": "stream",
     "text": [
      "\r",
      "5507it [01:23, 42.39it/s]"
     ]
    },
    {
     "metadata": {
      "tags": null
     },
     "name": "stdout",
     "output_type": "stream",
     "text": [
      "money: k, those, even, computer, became, various, been, established, while, will\n",
      "lion: dignity, retrograde, single, toves, th, mismatched, operatic, took, sis, karlheinz\n",
      "africa: most, people, area, american, time, any, have, made, used, world\n",
      "musician: nicotine, north, rh, theses, h, m, habitation, early, regulated, determined\n",
      "dance: hadrian, ftp, democratic, formed, ceawlin, occupation, appreciating, yarmouth, antipodes, steinman\n",
      "\n",
      "\n"
     ]
    },
    {
     "metadata": {
      "tags": null
     },
     "name": "stderr",
     "output_type": "stream",
     "text": [
      "5999it [01:30, 67.29it/s]"
     ]
    },
    {
     "metadata": {
      "tags": null
     },
     "name": "stdout",
     "output_type": "stream",
     "text": [
      "| epoch   1 |  6000/32580 batches | loss    2.053 \n"
     ]
    },
    {
     "metadata": {
      "tags": null
     },
     "name": "stderr",
     "output_type": "stream",
     "text": [
      "\r",
      "6006it [01:31, 40.16it/s]"
     ]
    },
    {
     "metadata": {
      "tags": null
     },
     "name": "stdout",
     "output_type": "stream",
     "text": [
      "money: k, those, became, even, been, various, established, while, home, area\n",
      "lion: dignity, retrograde, single, toves, th, still, took, mismatched, operatic, sis\n",
      "africa: most, people, time, area, any, made, used, american, world, other\n",
      "musician: north, h, early, m, rh, theses, determined, nicotine, because, what\n",
      "dance: hadrian, ftp, formed, democratic, occupation, west, ceawlin, given, marriage, yarmouth\n",
      "\n",
      "\n"
     ]
    },
    {
     "metadata": {
      "tags": null
     },
     "name": "stderr",
     "output_type": "stream",
     "text": [
      "6493it [01:38, 67.10it/s]"
     ]
    },
    {
     "metadata": {
      "tags": null
     },
     "name": "stdout",
     "output_type": "stream",
     "text": [
      "| epoch   1 |  6500/32580 batches | loss    2.014 \n"
     ]
    },
    {
     "metadata": {
      "tags": null
     },
     "name": "stderr",
     "output_type": "stream",
     "text": [
      "6507it [01:38, 45.71it/s]"
     ]
    },
    {
     "metadata": {
      "tags": null
     },
     "name": "stdout",
     "output_type": "stream",
     "text": [
      "money: k, those, became, even, established, been, various, area, home, computer\n",
      "lion: dignity, th, retrograde, single, took, still, toves, mismatched, western, sis\n",
      "africa: most, people, time, any, made, used, area, american, what, use\n",
      "musician: north, because, h, early, m, what, number, few, determined, use\n",
      "dance: hadrian, ftp, democratic, formed, west, ceawlin, occupation, given, marriage, them\n",
      "\n",
      "\n"
     ]
    },
    {
     "metadata": {
      "tags": null
     },
     "name": "stderr",
     "output_type": "stream",
     "text": [
      "6995it [01:45, 68.88it/s]"
     ]
    },
    {
     "metadata": {
      "tags": null
     },
     "name": "stdout",
     "output_type": "stream",
     "text": [
      "| epoch   1 |  7000/32580 batches | loss    1.975 \n"
     ]
    },
    {
     "metadata": {
      "tags": null
     },
     "name": "stderr",
     "output_type": "stream",
     "text": [
      "7008it [01:46, 45.47it/s]"
     ]
    },
    {
     "metadata": {
      "tags": null
     },
     "name": "stdout",
     "output_type": "stream",
     "text": [
      "money: k, those, became, even, established, area, been, various, well, home\n",
      "lion: dignity, took, th, still, single, western, retrograde, e, died, accepted\n",
      "africa: most, people, time, made, used, any, area, american, government, use\n",
      "musician: north, because, h, m, early, number, few, what, use, k\n",
      "dance: formed, hadrian, democratic, ftp, west, occupation, them, given, ceawlin, marriage\n",
      "\n",
      "\n"
     ]
    },
    {
     "metadata": {
      "tags": null
     },
     "name": "stderr",
     "output_type": "stream",
     "text": [
      "7500it [01:53, 69.05it/s]"
     ]
    },
    {
     "metadata": {
      "tags": null
     },
     "name": "stdout",
     "output_type": "stream",
     "text": [
      "| epoch   1 |  7500/32580 batches | loss    1.939 \n"
     ]
    },
    {
     "metadata": {
      "tags": null
     },
     "name": "stderr",
     "output_type": "stream",
     "text": [
      "\r",
      "7507it [01:53, 40.71it/s]"
     ]
    },
    {
     "metadata": {
      "tags": null
     },
     "name": "stdout",
     "output_type": "stream",
     "text": [
      "money: k, those, became, even, area, home, various, well, established, been\n",
      "lion: dignity, took, western, single, still, retrograde, th, accepted, e, died\n",
      "africa: most, people, time, made, used, area, any, use, government, such\n",
      "musician: north, h, because, m, early, number, what, few, use, nature\n",
      "dance: formed, west, democratic, hadrian, ftp, given, them, support, occupation, play\n",
      "\n",
      "\n"
     ]
    },
    {
     "metadata": {
      "tags": null
     },
     "name": "stderr",
     "output_type": "stream",
     "text": [
      "8000it [02:00, 69.48it/s]"
     ]
    },
    {
     "metadata": {
      "tags": null
     },
     "name": "stdout",
     "output_type": "stream",
     "text": [
      "| epoch   1 |  8000/32580 batches | loss    1.914 \n"
     ]
    },
    {
     "metadata": {
      "tags": null
     },
     "name": "stderr",
     "output_type": "stream",
     "text": [
      "\r",
      "8007it [02:01, 41.92it/s]"
     ]
    },
    {
     "metadata": {
      "tags": null
     },
     "name": "stdout",
     "output_type": "stream",
     "text": [
      "money: those, k, became, even, established, well, area, home, him, work\n",
      "lion: dignity, took, single, western, retrograde, e, th, accepted, died, still\n",
      "africa: people, most, time, made, used, area, government, any, use, such\n",
      "musician: north, h, because, number, early, m, use, what, group, few\n",
      "dance: formed, democratic, west, given, hadrian, them, support, ftp, marriage, beginning\n",
      "\n",
      "\n"
     ]
    },
    {
     "metadata": {
      "tags": null
     },
     "name": "stderr",
     "output_type": "stream",
     "text": [
      "8498it [02:08, 69.84it/s]"
     ]
    },
    {
     "metadata": {
      "tags": null
     },
     "name": "stdout",
     "output_type": "stream",
     "text": [
      "| epoch   1 |  8500/32580 batches | loss    1.887 \n"
     ]
    },
    {
     "metadata": {
      "tags": null
     },
     "name": "stderr",
     "output_type": "stream",
     "text": [
      "8512it [02:08, 47.50it/s]"
     ]
    },
    {
     "metadata": {
      "tags": null
     },
     "name": "stdout",
     "output_type": "stream",
     "text": [
      "money: those, k, even, became, well, use, established, work, home, area\n",
      "lion: dignity, took, single, western, e, died, accepted, th, retrograde, still\n",
      "africa: people, time, most, made, used, area, government, use, any, order\n",
      "musician: north, h, number, because, early, m, english, official, use, few\n",
      "dance: formed, democratic, given, west, support, them, hadrian, play, beginning, common\n",
      "\n",
      "\n"
     ]
    },
    {
     "metadata": {
      "tags": null
     },
     "name": "stderr",
     "output_type": "stream",
     "text": [
      "8999it [02:15, 70.07it/s]"
     ]
    },
    {
     "metadata": {
      "tags": null
     },
     "name": "stdout",
     "output_type": "stream",
     "text": [
      "| epoch   1 |  9000/32580 batches | loss    1.862 \n"
     ]
    },
    {
     "metadata": {
      "tags": null
     },
     "name": "stderr",
     "output_type": "stream",
     "text": [
      "\r",
      "9007it [02:15, 43.03it/s]"
     ]
    },
    {
     "metadata": {
      "tags": null
     },
     "name": "stdout",
     "output_type": "stream",
     "text": [
      "money: those, k, well, even, work, became, use, established, home, area\n",
      "lion: took, dignity, western, single, died, e, th, accepted, causes, still\n",
      "africa: time, made, people, most, used, area, use, government, order, well\n",
      "musician: north, h, number, early, because, m, group, english, few, official\n",
      "dance: formed, given, democratic, west, support, them, use, beginning, common, play\n",
      "\n",
      "\n"
     ]
    },
    {
     "metadata": {
      "tags": null
     },
     "name": "stderr",
     "output_type": "stream",
     "text": [
      "9500it [02:23, 68.35it/s]"
     ]
    },
    {
     "metadata": {
      "tags": null
     },
     "name": "stdout",
     "output_type": "stream",
     "text": [
      "| epoch   1 |  9500/32580 batches | loss    1.834 \n"
     ]
    },
    {
     "metadata": {
      "tags": null
     },
     "name": "stderr",
     "output_type": "stream",
     "text": [
      "\r",
      "9507it [02:23, 41.24it/s]"
     ]
    },
    {
     "metadata": {
      "tags": null
     },
     "name": "stdout",
     "output_type": "stream",
     "text": [
      "money: those, k, work, well, even, established, home, became, use, death\n",
      "lion: took, dignity, single, died, western, e, accepted, causes, x, th\n",
      "africa: time, made, people, used, most, use, area, order, country, government\n",
      "musician: north, number, h, early, because, m, group, english, official, university\n",
      "dance: formed, given, democratic, west, support, play, use, common, beginning, others\n",
      "\n",
      "\n"
     ]
    },
    {
     "metadata": {
      "tags": null
     },
     "name": "stderr",
     "output_type": "stream",
     "text": [
      "9997it [02:30, 69.50it/s]"
     ]
    },
    {
     "metadata": {
      "tags": null
     },
     "name": "stdout",
     "output_type": "stream",
     "text": [
      "| epoch   1 | 10000/32580 batches | loss    1.815 \n"
     ]
    },
    {
     "metadata": {
      "tags": null
     },
     "name": "stderr",
     "output_type": "stream",
     "text": [
      "10011it [02:30, 46.99it/s]"
     ]
    },
    {
     "metadata": {
      "tags": null
     },
     "name": "stdout",
     "output_type": "stream",
     "text": [
      "money: those, k, well, established, even, work, became, home, death, example\n",
      "lion: took, dignity, died, single, western, accepted, e, causes, still, x\n",
      "africa: time, made, people, used, most, order, use, government, country, well\n",
      "musician: north, number, h, early, because, english, group, made, university, men\n",
      "dance: given, formed, democratic, west, play, support, use, common, or, beginning\n",
      "\n",
      "\n"
     ]
    },
    {
     "metadata": {
      "tags": null
     },
     "name": "stderr",
     "output_type": "stream",
     "text": [
      "10496it [02:38, 67.44it/s]"
     ]
    },
    {
     "metadata": {
      "tags": null
     },
     "name": "stdout",
     "output_type": "stream",
     "text": [
      "| epoch   1 | 10500/32580 batches | loss    1.797 \n"
     ]
    },
    {
     "metadata": {
      "tags": null
     },
     "name": "stderr",
     "output_type": "stream",
     "text": [
      "10510it [02:38, 45.79it/s]"
     ]
    },
    {
     "metadata": {
      "tags": null
     },
     "name": "stdout",
     "output_type": "stream",
     "text": [
      "money: those, well, even, established, work, became, example, home, death, k\n",
      "lion: took, dignity, died, western, single, accepted, causes, e, still, x\n",
      "africa: time, people, made, government, use, used, well, order, end, country\n",
      "musician: north, number, h, early, because, english, group, use, nature, culture\n",
      "dance: formed, given, west, support, democratic, use, used, play, common, beginning\n",
      "\n",
      "\n"
     ]
    },
    {
     "metadata": {
      "tags": null
     },
     "name": "stderr",
     "output_type": "stream",
     "text": [
      "10994it [02:45, 69.21it/s]"
     ]
    },
    {
     "metadata": {
      "tags": null
     },
     "name": "stdout",
     "output_type": "stream",
     "text": [
      "| epoch   1 | 11000/32580 batches | loss    1.776 \n"
     ]
    },
    {
     "metadata": {
      "tags": null
     },
     "name": "stderr",
     "output_type": "stream",
     "text": [
      "11007it [02:45, 45.09it/s]"
     ]
    },
    {
     "metadata": {
      "tags": null
     },
     "name": "stdout",
     "output_type": "stream",
     "text": [
      "money: those, even, well, work, established, example, became, way, home, use\n",
      "lion: took, died, dignity, accepted, western, single, causes, carbon, e, o\n",
      "africa: time, people, use, made, order, government, well, end, used, country\n",
      "musician: north, h, number, early, because, english, group, nature, example, culture\n",
      "dance: formed, given, west, use, support, used, democratic, music, play, common\n",
      "\n",
      "\n"
     ]
    },
    {
     "metadata": {
      "tags": null
     },
     "name": "stderr",
     "output_type": "stream",
     "text": [
      "11495it [02:53, 68.44it/s]"
     ]
    },
    {
     "metadata": {
      "tags": null
     },
     "name": "stdout",
     "output_type": "stream",
     "text": [
      "| epoch   1 | 11500/32580 batches | loss    1.757 \n"
     ]
    },
    {
     "metadata": {
      "tags": null
     },
     "name": "stderr",
     "output_type": "stream",
     "text": [
      "11508it [02:53, 45.24it/s]"
     ]
    },
    {
     "metadata": {
      "tags": null
     },
     "name": "stdout",
     "output_type": "stream",
     "text": [
      "money: work, even, those, well, established, example, use, way, home, death\n",
      "lion: took, accepted, died, dignity, western, causes, carbon, still, single, way\n",
      "africa: time, use, people, order, made, support, government, end, country, well\n",
      "musician: north, number, h, early, because, english, group, nature, actor, culture\n",
      "dance: given, formed, use, west, support, music, used, common, democratic, play\n",
      "\n",
      "\n"
     ]
    },
    {
     "metadata": {
      "tags": null
     },
     "name": "stderr",
     "output_type": "stream",
     "text": [
      "11993it [03:00, 69.28it/s]"
     ]
    },
    {
     "metadata": {
      "tags": null
     },
     "name": "stdout",
     "output_type": "stream",
     "text": [
      "| epoch   1 | 12000/32580 batches | loss    1.740 \n"
     ]
    },
    {
     "metadata": {
      "tags": null
     },
     "name": "stderr",
     "output_type": "stream",
     "text": [
      "12007it [03:00, 45.90it/s]"
     ]
    },
    {
     "metadata": {
      "tags": null
     },
     "name": "stdout",
     "output_type": "stream",
     "text": [
      "money: work, those, even, example, well, use, established, way, death, home\n",
      "lion: took, accepted, died, dignity, causes, released, western, carbon, way, still\n",
      "africa: time, use, people, end, order, made, support, government, country, well\n",
      "musician: north, h, number, early, group, english, because, actor, culture, example\n",
      "dance: given, formed, use, music, west, used, support, common, democratic, beginning\n",
      "\n",
      "\n"
     ]
    },
    {
     "metadata": {
      "tags": null
     },
     "name": "stderr",
     "output_type": "stream",
     "text": [
      "12499it [03:08, 69.32it/s]"
     ]
    },
    {
     "metadata": {
      "tags": null
     },
     "name": "stdout",
     "output_type": "stream",
     "text": [
      "| epoch   1 | 12500/32580 batches | loss    1.724 \n"
     ]
    },
    {
     "metadata": {
      "tags": null
     },
     "name": "stderr",
     "output_type": "stream",
     "text": [
      "12513it [03:08, 46.58it/s]"
     ]
    },
    {
     "metadata": {
      "tags": null
     },
     "name": "stdout",
     "output_type": "stream",
     "text": [
      "money: work, well, those, example, use, way, even, established, death, home\n",
      "lion: took, accepted, died, dignity, causes, released, carbon, size, followed, way\n",
      "africa: time, people, order, end, use, country, government, made, support, well\n",
      "musician: north, early, h, number, english, group, actor, because, nature, culture\n",
      "dance: given, formed, use, music, west, support, used, beginning, play, common\n",
      "\n",
      "\n"
     ]
    },
    {
     "metadata": {
      "tags": null
     },
     "name": "stderr",
     "output_type": "stream",
     "text": [
      "12997it [03:15, 69.09it/s]"
     ]
    },
    {
     "metadata": {
      "tags": null
     },
     "name": "stdout",
     "output_type": "stream",
     "text": [
      "| epoch   1 | 13000/32580 batches | loss    1.711 \n"
     ]
    },
    {
     "metadata": {
      "tags": null
     },
     "name": "stderr",
     "output_type": "stream",
     "text": [
      "13011it [03:16, 45.27it/s]"
     ]
    },
    {
     "metadata": {
      "tags": null
     },
     "name": "stdout",
     "output_type": "stream",
     "text": [
      "money: work, even, example, well, way, use, established, death, those, home\n",
      "lion: took, accepted, died, released, followed, carbon, causes, size, dignity, western\n",
      "africa: time, end, order, country, use, people, made, used, north, support\n",
      "musician: north, h, actor, early, english, number, culture, group, nature, example\n",
      "dance: given, formed, use, music, support, west, used, play, beginning, end\n",
      "\n",
      "\n"
     ]
    },
    {
     "metadata": {
      "tags": null
     },
     "name": "stderr",
     "output_type": "stream",
     "text": [
      "13496it [03:23, 68.22it/s]"
     ]
    },
    {
     "metadata": {
      "tags": null
     },
     "name": "stdout",
     "output_type": "stream",
     "text": [
      "| epoch   1 | 13500/32580 batches | loss    1.694 \n"
     ]
    },
    {
     "metadata": {
      "tags": null
     },
     "name": "stderr",
     "output_type": "stream",
     "text": [
      "13510it [03:23, 46.32it/s]"
     ]
    },
    {
     "metadata": {
      "tags": null
     },
     "name": "stdout",
     "output_type": "stream",
     "text": [
      "money: work, even, example, well, way, established, home, death, those, use\n",
      "lion: took, accepted, died, released, followed, carbon, size, causes, far, majority\n",
      "africa: end, time, order, country, north, made, support, use, used, east\n",
      "musician: actor, north, h, early, number, english, culture, nature, example, group\n",
      "dance: given, formed, use, music, support, west, used, play, end, beginning\n",
      "\n",
      "\n"
     ]
    },
    {
     "metadata": {
      "tags": null
     },
     "name": "stderr",
     "output_type": "stream",
     "text": [
      "13997it [03:30, 69.76it/s]"
     ]
    },
    {
     "metadata": {
      "tags": null
     },
     "name": "stdout",
     "output_type": "stream",
     "text": [
      "| epoch   1 | 14000/32580 batches | loss    1.685 \n"
     ]
    },
    {
     "metadata": {
      "tags": null
     },
     "name": "stderr",
     "output_type": "stream",
     "text": [
      "14011it [03:30, 47.39it/s]"
     ]
    },
    {
     "metadata": {
      "tags": null
     },
     "name": "stdout",
     "output_type": "stream",
     "text": [
      "money: work, way, example, death, well, even, established, those, home, use\n",
      "lion: took, accepted, died, released, size, followed, causes, carbon, brought, single\n",
      "africa: end, time, order, europe, north, use, country, support, made, well\n",
      "musician: actor, h, north, number, culture, early, nature, english, group, example\n",
      "dance: formed, given, use, music, support, west, used, play, beginning, end\n",
      "\n",
      "\n"
     ]
    },
    {
     "metadata": {
      "tags": null
     },
     "name": "stderr",
     "output_type": "stream",
     "text": [
      "14495it [03:37, 68.26it/s]"
     ]
    },
    {
     "metadata": {
      "tags": null
     },
     "name": "stdout",
     "output_type": "stream",
     "text": [
      "| epoch   1 | 14500/32580 batches | loss    1.671 \n"
     ]
    },
    {
     "metadata": {
      "tags": null
     },
     "name": "stderr",
     "output_type": "stream",
     "text": [
      "14508it [03:38, 45.37it/s]"
     ]
    },
    {
     "metadata": {
      "tags": null
     },
     "name": "stdout",
     "output_type": "stream",
     "text": [
      "money: work, way, well, established, death, example, use, even, home, those\n",
      "lion: accepted, took, died, released, followed, size, causes, carbon, single, x\n",
      "africa: end, time, order, europe, north, country, use, east, well, part\n",
      "musician: actor, h, north, number, nature, culture, english, example, group, early\n",
      "dance: formed, given, music, use, support, play, beginning, end, used, country\n",
      "\n",
      "\n"
     ]
    },
    {
     "metadata": {
      "tags": null
     },
     "name": "stderr",
     "output_type": "stream",
     "text": [
      "14996it [03:45, 69.88it/s]"
     ]
    },
    {
     "metadata": {
      "tags": null
     },
     "name": "stdout",
     "output_type": "stream",
     "text": [
      "| epoch   1 | 15000/32580 batches | loss    1.659 \n"
     ]
    },
    {
     "metadata": {
      "tags": null
     },
     "name": "stderr",
     "output_type": "stream",
     "text": [
      "15010it [03:45, 46.62it/s]"
     ]
    },
    {
     "metadata": {
      "tags": null
     },
     "name": "stdout",
     "output_type": "stream",
     "text": [
      "money: work, way, example, death, well, established, home, even, use, addition\n",
      "lion: accepted, released, took, died, size, followed, single, causes, brought, far\n",
      "africa: end, order, time, europe, north, east, part, country, use, made\n",
      "musician: actor, h, north, english, culture, nature, number, early, example, group\n",
      "dance: formed, given, music, support, use, country, play, beginning, used, west\n",
      "\n",
      "\n"
     ]
    },
    {
     "metadata": {
      "tags": null
     },
     "name": "stderr",
     "output_type": "stream",
     "text": [
      "15498it [03:52, 67.34it/s]"
     ]
    },
    {
     "metadata": {
      "tags": null
     },
     "name": "stdout",
     "output_type": "stream",
     "text": [
      "| epoch   1 | 15500/32580 batches | loss    1.650 \n"
     ]
    },
    {
     "metadata": {
      "tags": null
     },
     "name": "stderr",
     "output_type": "stream",
     "text": [
      "15512it [03:53, 46.45it/s]"
     ]
    },
    {
     "metadata": {
      "tags": null
     },
     "name": "stdout",
     "output_type": "stream",
     "text": [
      "money: work, way, example, use, established, death, addition, well, home, even\n",
      "lion: accepted, released, took, died, size, followed, brought, single, causes, carbon\n",
      "africa: end, order, europe, time, east, north, china, country, germany, part\n",
      "musician: actor, h, north, english, nature, number, culture, example, early, group\n",
      "dance: formed, music, given, use, country, support, play, beginning, end, west\n",
      "\n",
      "\n"
     ]
    },
    {
     "metadata": {
      "tags": null
     },
     "name": "stderr",
     "output_type": "stream",
     "text": [
      "15994it [04:00, 69.62it/s]"
     ]
    },
    {
     "metadata": {
      "tags": null
     },
     "name": "stdout",
     "output_type": "stream",
     "text": [
      "| epoch   1 | 16000/32580 batches | loss    1.634 \n"
     ]
    },
    {
     "metadata": {
      "tags": null
     },
     "name": "stderr",
     "output_type": "stream",
     "text": [
      "16007it [04:00, 45.27it/s]"
     ]
    },
    {
     "metadata": {
      "tags": null
     },
     "name": "stdout",
     "output_type": "stream",
     "text": [
      "money: work, example, way, death, established, use, addition, well, even, home\n",
      "lion: accepted, took, released, size, followed, died, brought, carbon, causes, majority\n",
      "africa: end, europe, order, north, time, china, east, part, germany, country\n",
      "musician: actor, h, north, english, number, nature, example, culture, women, addition\n",
      "dance: music, formed, given, country, use, support, beginning, play, end, example\n",
      "\n",
      "\n"
     ]
    },
    {
     "metadata": {
      "tags": null
     },
     "name": "stderr",
     "output_type": "stream",
     "text": [
      "16498it [04:07, 69.32it/s]"
     ]
    },
    {
     "metadata": {
      "tags": null
     },
     "name": "stdout",
     "output_type": "stream",
     "text": [
      "| epoch   1 | 16500/32580 batches | loss    1.620 \n"
     ]
    },
    {
     "metadata": {
      "tags": null
     },
     "name": "stderr",
     "output_type": "stream",
     "text": [
      "16512it [04:08, 46.74it/s]"
     ]
    },
    {
     "metadata": {
      "tags": null
     },
     "name": "stdout",
     "output_type": "stream",
     "text": [
      "money: work, way, example, death, established, addition, well, use, home, given\n",
      "lion: accepted, took, released, followed, size, brought, died, carbon, causes, majority\n",
      "africa: end, europe, order, north, east, time, china, germany, south, part\n",
      "musician: actor, h, north, english, number, nature, addition, example, early, culture\n",
      "dance: music, formed, given, country, use, support, beginning, end, play, used\n",
      "\n",
      "\n"
     ]
    },
    {
     "metadata": {
      "tags": null
     },
     "name": "stderr",
     "output_type": "stream",
     "text": [
      "17000it [04:15, 68.85it/s]"
     ]
    },
    {
     "metadata": {
      "tags": null
     },
     "name": "stdout",
     "output_type": "stream",
     "text": [
      "| epoch   1 | 17000/32580 batches | loss    1.615 \n"
     ]
    },
    {
     "metadata": {
      "tags": null
     },
     "name": "stderr",
     "output_type": "stream",
     "text": [
      "\r",
      "17007it [04:15, 40.66it/s]"
     ]
    },
    {
     "metadata": {
      "tags": null
     },
     "name": "stdout",
     "output_type": "stream",
     "text": [
      "money: work, way, example, addition, death, established, use, well, home, even\n",
      "lion: accepted, took, released, size, followed, brought, died, carbon, causes, uses\n",
      "africa: end, europe, order, north, east, china, time, germany, south, part\n",
      "musician: actor, h, north, english, addition, example, number, nature, order, early\n",
      "dance: music, formed, given, country, use, support, beginning, play, end, used\n",
      "\n",
      "\n"
     ]
    },
    {
     "metadata": {
      "tags": null
     },
     "name": "stderr",
     "output_type": "stream",
     "text": [
      "17499it [04:22, 69.40it/s]"
     ]
    },
    {
     "metadata": {
      "tags": null
     },
     "name": "stdout",
     "output_type": "stream",
     "text": [
      "| epoch   1 | 17500/32580 batches | loss    1.605 \n"
     ]
    },
    {
     "metadata": {
      "tags": null
     },
     "name": "stderr",
     "output_type": "stream",
     "text": [
      "17513it [04:23, 46.74it/s]"
     ]
    },
    {
     "metadata": {
      "tags": null
     },
     "name": "stdout",
     "output_type": "stream",
     "text": [
      "money: work, way, example, addition, established, use, death, home, well, even\n",
      "lion: accepted, released, followed, took, brought, size, died, carbon, causes, study\n",
      "africa: end, europe, north, order, china, east, south, time, germany, united\n",
      "musician: actor, h, addition, north, english, example, number, culture, actress, nature\n",
      "dance: music, formed, given, country, use, beginning, play, support, used, end\n",
      "\n",
      "\n"
     ]
    },
    {
     "metadata": {
      "tags": null
     },
     "name": "stderr",
     "output_type": "stream",
     "text": [
      "17994it [04:30, 69.70it/s]"
     ]
    },
    {
     "metadata": {
      "tags": null
     },
     "name": "stdout",
     "output_type": "stream",
     "text": [
      "| epoch   1 | 18000/32580 batches | loss    1.598 \n"
     ]
    },
    {
     "metadata": {
      "tags": null
     },
     "name": "stderr",
     "output_type": "stream",
     "text": [
      "18007it [04:30, 45.59it/s]"
     ]
    },
    {
     "metadata": {
      "tags": null
     },
     "name": "stdout",
     "output_type": "stream",
     "text": [
      "money: work, addition, way, example, death, use, established, well, those, ability\n",
      "lion: accepted, released, took, size, followed, brought, died, carbon, study, uses\n",
      "africa: end, europe, north, china, order, east, time, germany, part, south\n",
      "musician: actor, h, addition, english, actress, north, culture, example, number, nine\n",
      "dance: music, formed, given, country, use, beginning, women, support, end, play\n",
      "\n",
      "\n"
     ]
    },
    {
     "metadata": {
      "tags": null
     },
     "name": "stderr",
     "output_type": "stream",
     "text": [
      "18497it [04:37, 69.44it/s]"
     ]
    },
    {
     "metadata": {
      "tags": null
     },
     "name": "stdout",
     "output_type": "stream",
     "text": [
      "| epoch   1 | 18500/32580 batches | loss    1.584 \n"
     ]
    },
    {
     "metadata": {
      "tags": null
     },
     "name": "stderr",
     "output_type": "stream",
     "text": [
      "18511it [04:38, 45.34it/s]"
     ]
    },
    {
     "metadata": {
      "tags": null
     },
     "name": "stdout",
     "output_type": "stream",
     "text": [
      "money: work, addition, example, way, death, use, those, established, well, ability\n",
      "lion: accepted, released, followed, size, took, died, brought, carbon, study, majority\n",
      "africa: end, europe, north, china, east, order, south, part, time, germany\n",
      "musician: actor, addition, h, actress, english, north, culture, example, writer, number\n",
      "dance: music, formed, given, use, country, beginning, end, women, play, support\n",
      "\n",
      "\n"
     ]
    },
    {
     "metadata": {
      "tags": null
     },
     "name": "stderr",
     "output_type": "stream",
     "text": [
      "18999it [04:45, 70.02it/s]"
     ]
    },
    {
     "metadata": {
      "tags": null
     },
     "name": "stdout",
     "output_type": "stream",
     "text": [
      "| epoch   1 | 19000/32580 batches | loss    1.576 \n"
     ]
    },
    {
     "metadata": {
      "tags": null
     },
     "name": "stderr",
     "output_type": "stream",
     "text": [
      "\r",
      "19006it [04:45, 41.93it/s]"
     ]
    },
    {
     "metadata": {
      "tags": null
     },
     "name": "stdout",
     "output_type": "stream",
     "text": [
      "money: work, addition, way, example, use, death, established, those, well, ability\n",
      "lion: accepted, released, followed, size, carbon, died, brought, took, study, majority\n",
      "africa: end, europe, north, china, east, south, part, order, america, time\n",
      "musician: actor, addition, actress, english, h, women, writer, culture, number, example\n",
      "dance: music, formed, use, country, given, beginning, women, end, play, support\n",
      "\n",
      "\n"
     ]
    },
    {
     "metadata": {
      "tags": null
     },
     "name": "stderr",
     "output_type": "stream",
     "text": [
      "19499it [04:52, 69.17it/s]"
     ]
    },
    {
     "metadata": {
      "tags": null
     },
     "name": "stdout",
     "output_type": "stream",
     "text": [
      "| epoch   1 | 19500/32580 batches | loss    1.571 \n"
     ]
    },
    {
     "metadata": {
      "tags": null
     },
     "name": "stderr",
     "output_type": "stream",
     "text": [
      "19513it [04:53, 46.70it/s]"
     ]
    },
    {
     "metadata": {
      "tags": null
     },
     "name": "stdout",
     "output_type": "stream",
     "text": [
      "money: work, addition, way, death, example, established, ability, those, use, able\n",
      "lion: accepted, released, followed, size, carbon, brought, died, uses, took, majority\n",
      "africa: end, europe, china, north, east, south, part, america, order, result\n",
      "musician: actor, addition, actress, english, h, women, writer, culture, number, author\n",
      "dance: music, formed, use, country, given, beginning, women, end, play, support\n",
      "\n",
      "\n"
     ]
    },
    {
     "metadata": {
      "tags": null
     },
     "name": "stderr",
     "output_type": "stream",
     "text": [
      "19996it [05:03, 68.65it/s]"
     ]
    },
    {
     "metadata": {
      "tags": null
     },
     "name": "stdout",
     "output_type": "stream",
     "text": [
      "| epoch   1 | 20000/32580 batches | loss    1.555 \n"
     ]
    },
    {
     "metadata": {
      "tags": null
     },
     "name": "stderr",
     "output_type": "stream",
     "text": [
      "20010it [05:03, 46.12it/s]"
     ]
    },
    {
     "metadata": {
      "tags": null
     },
     "name": "stdout",
     "output_type": "stream",
     "text": [
      "money: work, addition, way, death, example, ability, established, those, fact, able\n",
      "lion: accepted, released, followed, size, brought, uses, majority, died, carbon, took\n",
      "africa: end, europe, north, china, america, east, south, part, order, result\n",
      "musician: actor, actress, addition, h, writer, english, author, women, number, nine\n",
      "dance: music, formed, country, use, beginning, given, end, women, play, support\n",
      "\n",
      "\n"
     ]
    },
    {
     "metadata": {
      "tags": null
     },
     "name": "stderr",
     "output_type": "stream",
     "text": [
      "20493it [05:10, 70.14it/s]"
     ]
    },
    {
     "metadata": {
      "tags": null
     },
     "name": "stdout",
     "output_type": "stream",
     "text": [
      "| epoch   1 | 20500/32580 batches | loss    1.552 \n"
     ]
    },
    {
     "metadata": {
      "tags": null
     },
     "name": "stderr",
     "output_type": "stream",
     "text": [
      "20507it [05:10, 47.10it/s]"
     ]
    },
    {
     "metadata": {
      "tags": null
     },
     "name": "stdout",
     "output_type": "stream",
     "text": [
      "money: work, addition, way, example, death, ability, fact, established, able, those\n",
      "lion: accepted, released, followed, size, majority, brought, died, uses, carbon, took\n",
      "africa: end, europe, china, north, south, america, east, result, part, order\n",
      "musician: actor, actress, addition, writer, author, h, english, singer, culture, women\n",
      "dance: music, formed, country, beginning, end, given, use, women, play, example\n",
      "\n",
      "\n"
     ]
    },
    {
     "metadata": {
      "tags": null
     },
     "name": "stderr",
     "output_type": "stream",
     "text": [
      "20995it [05:17, 68.50it/s]"
     ]
    },
    {
     "metadata": {
      "tags": null
     },
     "name": "stdout",
     "output_type": "stream",
     "text": [
      "| epoch   1 | 21000/32580 batches | loss    1.545 \n"
     ]
    },
    {
     "metadata": {
      "tags": null
     },
     "name": "stderr",
     "output_type": "stream",
     "text": [
      "21008it [05:18, 44.58it/s]"
     ]
    },
    {
     "metadata": {
      "tags": null
     },
     "name": "stdout",
     "output_type": "stream",
     "text": [
      "money: work, addition, way, death, example, ability, able, fact, established, even\n",
      "lion: accepted, followed, released, size, majority, brought, died, uses, took, carbon\n",
      "africa: end, europe, china, north, south, america, east, result, germany, part\n",
      "musician: actor, actress, addition, writer, author, h, english, singer, nine, culture\n",
      "dance: music, formed, country, beginning, end, given, use, women, play, example\n",
      "\n",
      "\n"
     ]
    },
    {
     "metadata": {
      "tags": null
     },
     "name": "stderr",
     "output_type": "stream",
     "text": [
      "21497it [05:25, 69.78it/s]"
     ]
    },
    {
     "metadata": {
      "tags": null
     },
     "name": "stdout",
     "output_type": "stream",
     "text": [
      "| epoch   1 | 21500/32580 batches | loss    1.536 \n"
     ]
    },
    {
     "metadata": {
      "tags": null
     },
     "name": "stderr",
     "output_type": "stream",
     "text": [
      "21511it [05:25, 45.80it/s]"
     ]
    },
    {
     "metadata": {
      "tags": null
     },
     "name": "stdout",
     "output_type": "stream",
     "text": [
      "money: work, addition, way, death, example, ability, fact, able, established, even\n",
      "lion: accepted, followed, released, size, brought, majority, uses, died, carbon, need\n",
      "africa: end, europe, china, north, south, america, east, india, result, germany\n",
      "musician: actor, actress, writer, addition, author, singer, h, english, nine, culture\n",
      "dance: music, formed, country, beginning, end, use, given, play, example, women\n",
      "\n",
      "\n"
     ]
    },
    {
     "metadata": {
      "tags": null
     },
     "name": "stderr",
     "output_type": "stream",
     "text": [
      "21997it [05:32, 68.34it/s]"
     ]
    },
    {
     "metadata": {
      "tags": null
     },
     "name": "stdout",
     "output_type": "stream",
     "text": [
      "| epoch   1 | 22000/32580 batches | loss    1.532 \n"
     ]
    },
    {
     "metadata": {
      "tags": null
     },
     "name": "stderr",
     "output_type": "stream",
     "text": [
      "22011it [05:33, 44.49it/s]"
     ]
    },
    {
     "metadata": {
      "tags": null
     },
     "name": "stdout",
     "output_type": "stream",
     "text": [
      "money: addition, work, way, death, ability, example, fact, able, established, him\n",
      "lion: accepted, followed, released, size, brought, majority, died, uses, carbon, writing\n",
      "africa: end, europe, china, north, america, east, south, india, result, germany\n",
      "musician: actor, writer, actress, addition, author, singer, english, nine, h, example\n",
      "dance: music, country, formed, end, beginning, given, play, women, use, example\n",
      "\n",
      "\n"
     ]
    },
    {
     "metadata": {
      "tags": null
     },
     "name": "stderr",
     "output_type": "stream",
     "text": [
      "22495it [05:40, 69.14it/s]"
     ]
    },
    {
     "metadata": {
      "tags": null
     },
     "name": "stdout",
     "output_type": "stream",
     "text": [
      "| epoch   1 | 22500/32580 batches | loss    1.522 \n"
     ]
    },
    {
     "metadata": {
      "tags": null
     },
     "name": "stderr",
     "output_type": "stream",
     "text": [
      "22508it [05:40, 45.34it/s]"
     ]
    },
    {
     "metadata": {
      "tags": null
     },
     "name": "stdout",
     "output_type": "stream",
     "text": [
      "money: addition, work, way, ability, death, fact, able, example, even, established\n",
      "lion: accepted, followed, released, size, brought, died, majority, writing, uses, need\n",
      "africa: end, europe, china, north, america, east, india, south, germany, result\n",
      "musician: actor, writer, actress, addition, author, english, singer, h, nine, example\n",
      "dance: music, country, formed, beginning, end, given, use, example, women, play\n",
      "\n",
      "\n"
     ]
    },
    {
     "metadata": {
      "tags": null
     },
     "name": "stderr",
     "output_type": "stream",
     "text": [
      "22997it [05:47, 68.94it/s]"
     ]
    },
    {
     "metadata": {
      "tags": null
     },
     "name": "stdout",
     "output_type": "stream",
     "text": [
      "| epoch   1 | 23000/32580 batches | loss    1.519 \n"
     ]
    },
    {
     "metadata": {
      "tags": null
     },
     "name": "stderr",
     "output_type": "stream",
     "text": [
      "23011it [05:48, 46.50it/s]"
     ]
    },
    {
     "metadata": {
      "tags": null
     },
     "name": "stdout",
     "output_type": "stream",
     "text": [
      "money: addition, work, way, ability, death, fact, able, example, him, established\n",
      "lion: followed, accepted, released, brought, died, size, writing, majority, uses, need\n",
      "africa: end, europe, china, north, america, east, india, south, result, germany\n",
      "musician: actor, writer, actress, author, addition, singer, h, nine, english, born\n",
      "dance: music, country, formed, beginning, end, given, used, actor, example, use\n",
      "\n",
      "\n"
     ]
    },
    {
     "metadata": {
      "tags": null
     },
     "name": "stderr",
     "output_type": "stream",
     "text": [
      "23496it [05:55, 69.14it/s]"
     ]
    },
    {
     "metadata": {
      "tags": null
     },
     "name": "stdout",
     "output_type": "stream",
     "text": [
      "| epoch   1 | 23500/32580 batches | loss    1.512 \n"
     ]
    },
    {
     "metadata": {
      "tags": null
     },
     "name": "stderr",
     "output_type": "stream",
     "text": [
      "23510it [05:55, 46.62it/s]"
     ]
    },
    {
     "metadata": {
      "tags": null
     },
     "name": "stdout",
     "output_type": "stream",
     "text": [
      "money: addition, work, ability, way, death, able, him, even, fact, example\n",
      "lion: accepted, followed, size, brought, released, died, majority, writing, uses, study\n",
      "africa: end, europe, china, north, america, india, east, south, result, germany\n",
      "musician: actor, writer, actress, author, addition, singer, english, nine, h, born\n",
      "dance: music, country, formed, beginning, end, democratic, used, actor, given, women\n",
      "\n",
      "\n"
     ]
    },
    {
     "metadata": {
      "tags": null
     },
     "name": "stderr",
     "output_type": "stream",
     "text": [
      "24000it [06:02, 69.72it/s]"
     ]
    },
    {
     "metadata": {
      "tags": null
     },
     "name": "stdout",
     "output_type": "stream",
     "text": [
      "| epoch   1 | 24000/32580 batches | loss    1.508 \n"
     ]
    },
    {
     "metadata": {
      "tags": null
     },
     "name": "stderr",
     "output_type": "stream",
     "text": [
      "\r",
      "24007it [06:03, 41.26it/s]"
     ]
    },
    {
     "metadata": {
      "tags": null
     },
     "name": "stdout",
     "output_type": "stream",
     "text": [
      "money: addition, work, way, ability, able, death, him, fact, even, example\n",
      "lion: followed, accepted, size, brought, died, released, uses, writing, majority, need\n",
      "africa: end, europe, china, north, india, america, east, south, germany, result\n",
      "musician: actor, writer, actress, author, addition, singer, english, nine, born, h\n",
      "dance: music, country, formed, beginning, end, democratic, actor, style, given, rock\n",
      "\n",
      "\n"
     ]
    },
    {
     "metadata": {
      "tags": null
     },
     "name": "stderr",
     "output_type": "stream",
     "text": [
      "24499it [06:10, 69.52it/s]"
     ]
    },
    {
     "metadata": {
      "tags": null
     },
     "name": "stdout",
     "output_type": "stream",
     "text": [
      "| epoch   1 | 24500/32580 batches | loss    1.501 \n"
     ]
    },
    {
     "metadata": {
      "tags": null
     },
     "name": "stderr",
     "output_type": "stream",
     "text": [
      "\r",
      "24506it [06:10, 41.00it/s]"
     ]
    },
    {
     "metadata": {
      "tags": null
     },
     "name": "stdout",
     "output_type": "stream",
     "text": [
      "money: addition, work, way, even, ability, able, him, death, fact, example\n",
      "lion: followed, accepted, size, released, brought, writing, died, majority, uses, need\n",
      "africa: end, europe, china, india, america, east, north, germany, south, result\n",
      "musician: actor, writer, actress, author, addition, singer, born, nine, english, h\n",
      "dance: music, country, formed, beginning, democratic, end, style, rock, actor, culture\n",
      "\n",
      "\n"
     ]
    },
    {
     "metadata": {
      "tags": null
     },
     "name": "stderr",
     "output_type": "stream",
     "text": [
      "24999it [06:17, 68.08it/s]"
     ]
    },
    {
     "metadata": {
      "tags": null
     },
     "name": "stdout",
     "output_type": "stream",
     "text": [
      "| epoch   1 | 25000/32580 batches | loss    1.491 \n"
     ]
    },
    {
     "metadata": {
      "tags": null
     },
     "name": "stderr",
     "output_type": "stream",
     "text": [
      "25013it [06:18, 46.42it/s]"
     ]
    },
    {
     "metadata": {
      "tags": null
     },
     "name": "stdout",
     "output_type": "stream",
     "text": [
      "money: addition, work, way, ability, even, able, death, fact, him, established\n",
      "lion: followed, accepted, size, brought, writing, released, died, uses, majority, win\n",
      "africa: end, europe, china, india, america, north, east, south, germany, result\n",
      "musician: actor, writer, actress, author, singer, addition, born, nine, english, eight\n",
      "dance: music, country, formed, beginning, end, style, rock, democratic, culture, actor\n",
      "\n",
      "\n"
     ]
    },
    {
     "metadata": {
      "tags": null
     },
     "name": "stderr",
     "output_type": "stream",
     "text": [
      "25497it [06:25, 69.10it/s]"
     ]
    },
    {
     "metadata": {
      "tags": null
     },
     "name": "stdout",
     "output_type": "stream",
     "text": [
      "| epoch   1 | 25500/32580 batches | loss    1.484 \n"
     ]
    },
    {
     "metadata": {
      "tags": null
     },
     "name": "stderr",
     "output_type": "stream",
     "text": [
      "25511it [06:25, 46.47it/s]"
     ]
    },
    {
     "metadata": {
      "tags": null
     },
     "name": "stdout",
     "output_type": "stream",
     "text": [
      "money: addition, ability, work, way, able, even, death, him, fact, example\n",
      "lion: followed, accepted, size, brought, released, writing, uses, died, need, majority\n",
      "africa: end, europe, china, india, america, north, east, germany, south, result\n",
      "musician: actor, writer, actress, author, singer, addition, born, nine, english, eight\n",
      "dance: music, country, formed, beginning, rock, end, democratic, style, actor, culture\n",
      "\n",
      "\n"
     ]
    },
    {
     "metadata": {
      "tags": null
     },
     "name": "stderr",
     "output_type": "stream",
     "text": [
      "25994it [06:32, 68.90it/s]"
     ]
    },
    {
     "metadata": {
      "tags": null
     },
     "name": "stdout",
     "output_type": "stream",
     "text": [
      "| epoch   1 | 26000/32580 batches | loss    1.479 \n"
     ]
    },
    {
     "metadata": {
      "tags": null
     },
     "name": "stderr",
     "output_type": "stream",
     "text": [
      "26007it [06:33, 44.76it/s]"
     ]
    },
    {
     "metadata": {
      "tags": null
     },
     "name": "stdout",
     "output_type": "stream",
     "text": [
      "money: addition, work, ability, way, able, him, even, it, fact, death\n",
      "lion: followed, accepted, size, brought, released, uses, need, win, writing, died\n",
      "africa: end, europe, china, india, america, north, east, germany, south, result\n",
      "musician: actor, writer, author, actress, singer, addition, nine, born, english, museum\n",
      "dance: music, country, formed, beginning, rock, end, democratic, actor, used, culture\n",
      "\n",
      "\n"
     ]
    },
    {
     "metadata": {
      "tags": null
     },
     "name": "stderr",
     "output_type": "stream",
     "text": [
      "26496it [06:40, 67.93it/s]"
     ]
    },
    {
     "metadata": {
      "tags": null
     },
     "name": "stdout",
     "output_type": "stream",
     "text": [
      "| epoch   1 | 26500/32580 batches | loss    1.479 \n"
     ]
    },
    {
     "metadata": {
      "tags": null
     },
     "name": "stderr",
     "output_type": "stream",
     "text": [
      "26510it [06:40, 45.90it/s]"
     ]
    },
    {
     "metadata": {
      "tags": null
     },
     "name": "stdout",
     "output_type": "stream",
     "text": [
      "money: addition, work, way, ability, able, even, him, it, fact, death\n",
      "lion: followed, size, accepted, brought, released, died, uses, majority, causes, writing\n",
      "africa: end, europe, china, india, america, north, east, germany, south, result\n",
      "musician: actor, writer, author, actress, singer, addition, nine, born, english, culture\n",
      "dance: music, country, beginning, rock, formed, end, democratic, actor, used, culture\n",
      "\n",
      "\n"
     ]
    },
    {
     "metadata": {
      "tags": null
     },
     "name": "stderr",
     "output_type": "stream",
     "text": [
      "26997it [06:47, 69.26it/s]"
     ]
    },
    {
     "metadata": {
      "tags": null
     },
     "name": "stdout",
     "output_type": "stream",
     "text": [
      "| epoch   1 | 27000/32580 batches | loss    1.473 \n"
     ]
    },
    {
     "metadata": {
      "tags": null
     },
     "name": "stderr",
     "output_type": "stream",
     "text": [
      "27011it [06:48, 44.94it/s]"
     ]
    },
    {
     "metadata": {
      "tags": null
     },
     "name": "stdout",
     "output_type": "stream",
     "text": [
      "money: addition, ability, able, work, way, him, even, it, fact, well\n",
      "lion: followed, size, accepted, released, brought, died, win, majority, causes, uses\n",
      "africa: end, europe, china, india, america, north, east, germany, south, addition\n",
      "musician: actor, writer, author, actress, singer, addition, born, english, nine, museum\n",
      "dance: music, country, beginning, formed, rock, actor, end, culture, democratic, style\n",
      "\n",
      "\n"
     ]
    },
    {
     "metadata": {
      "tags": null
     },
     "name": "stderr",
     "output_type": "stream",
     "text": [
      "27496it [06:55, 69.34it/s]"
     ]
    },
    {
     "metadata": {
      "tags": null
     },
     "name": "stdout",
     "output_type": "stream",
     "text": [
      "| epoch   1 | 27500/32580 batches | loss    1.464 \n"
     ]
    },
    {
     "metadata": {
      "tags": null
     },
     "name": "stderr",
     "output_type": "stream",
     "text": [
      "27510it [06:55, 45.83it/s]"
     ]
    },
    {
     "metadata": {
      "tags": null
     },
     "name": "stdout",
     "output_type": "stream",
     "text": [
      "money: addition, ability, work, way, able, it, even, him, fact, example\n",
      "lion: followed, size, accepted, released, brought, died, majority, africa, win, need\n",
      "africa: europe, end, china, india, america, east, north, germany, south, west\n",
      "musician: actor, writer, author, singer, actress, addition, nine, born, english, museum\n",
      "dance: music, country, beginning, rock, actor, style, formed, culture, democratic, end\n",
      "\n",
      "\n"
     ]
    },
    {
     "metadata": {
      "tags": null
     },
     "name": "stderr",
     "output_type": "stream",
     "text": [
      "27999it [07:02, 68.97it/s]"
     ]
    },
    {
     "metadata": {
      "tags": null
     },
     "name": "stdout",
     "output_type": "stream",
     "text": [
      "| epoch   1 | 28000/32580 batches | loss    1.461 \n"
     ]
    },
    {
     "metadata": {
      "tags": null
     },
     "name": "stderr",
     "output_type": "stream",
     "text": [
      "\r",
      "28006it [07:03, 41.47it/s]"
     ]
    },
    {
     "metadata": {
      "tags": null
     },
     "name": "stdout",
     "output_type": "stream",
     "text": [
      "money: addition, ability, able, work, way, even, him, it, fact, death\n",
      "lion: size, followed, accepted, brought, released, africa, died, causes, majority, writing\n",
      "africa: end, europe, china, india, america, north, east, germany, south, result\n",
      "musician: actor, writer, singer, author, actress, addition, nine, born, english, museum\n",
      "dance: music, country, beginning, rock, formed, style, actor, culture, end, used\n",
      "\n",
      "\n"
     ]
    },
    {
     "metadata": {
      "tags": null
     },
     "name": "stderr",
     "output_type": "stream",
     "text": [
      "28500it [07:10, 67.51it/s]"
     ]
    },
    {
     "metadata": {
      "tags": null
     },
     "name": "stdout",
     "output_type": "stream",
     "text": [
      "| epoch   1 | 28500/32580 batches | loss    1.454 \n"
     ]
    },
    {
     "metadata": {
      "tags": null
     },
     "name": "stderr",
     "output_type": "stream",
     "text": [
      "\r",
      "28507it [07:10, 39.01it/s]"
     ]
    },
    {
     "metadata": {
      "tags": null
     },
     "name": "stdout",
     "output_type": "stream",
     "text": [
      "money: addition, work, ability, way, even, able, him, it, fact, death\n",
      "lion: accepted, size, brought, followed, released, win, africa, majority, writing, need\n",
      "africa: europe, end, china, india, america, east, north, germany, south, result\n",
      "musician: actor, writer, singer, actress, author, addition, nine, born, english, culture\n",
      "dance: music, country, beginning, rock, formed, culture, style, actor, traditional, end\n",
      "\n",
      "\n"
     ]
    },
    {
     "metadata": {
      "tags": null
     },
     "name": "stderr",
     "output_type": "stream",
     "text": [
      "28994it [07:17, 69.57it/s]"
     ]
    },
    {
     "metadata": {
      "tags": null
     },
     "name": "stdout",
     "output_type": "stream",
     "text": [
      "| epoch   1 | 29000/32580 batches | loss    1.452 \n"
     ]
    },
    {
     "metadata": {
      "tags": null
     },
     "name": "stderr",
     "output_type": "stream",
     "text": [
      "29007it [07:18, 45.50it/s]"
     ]
    },
    {
     "metadata": {
      "tags": null
     },
     "name": "stdout",
     "output_type": "stream",
     "text": [
      "money: addition, way, work, ability, even, able, him, it, death, example\n",
      "lion: accepted, size, brought, released, win, followed, majority, writing, died, africa\n",
      "africa: europe, end, china, india, east, america, north, south, germany, result\n",
      "musician: actor, writer, singer, actress, author, addition, nine, born, culture, english\n",
      "dance: music, country, rock, beginning, style, formed, culture, traditional, actor, end\n",
      "\n",
      "\n"
     ]
    },
    {
     "metadata": {
      "tags": null
     },
     "name": "stderr",
     "output_type": "stream",
     "text": [
      "29497it [07:25, 69.10it/s]"
     ]
    },
    {
     "metadata": {
      "tags": null
     },
     "name": "stdout",
     "output_type": "stream",
     "text": [
      "| epoch   1 | 29500/32580 batches | loss    1.446 \n"
     ]
    },
    {
     "metadata": {
      "tags": null
     },
     "name": "stderr",
     "output_type": "stream",
     "text": [
      "29511it [07:25, 46.40it/s]"
     ]
    },
    {
     "metadata": {
      "tags": null
     },
     "name": "stdout",
     "output_type": "stream",
     "text": [
      "money: way, addition, ability, work, even, him, able, it, fact, example\n",
      "lion: accepted, brought, size, released, writing, died, followed, win, africa, majority\n",
      "africa: europe, end, china, india, east, america, north, germany, south, result\n",
      "musician: actor, writer, singer, author, actress, addition, nine, born, culture, museum\n",
      "dance: music, country, rock, beginning, formed, style, culture, actor, democratic, end\n",
      "\n",
      "\n"
     ]
    },
    {
     "metadata": {
      "tags": null
     },
     "name": "stderr",
     "output_type": "stream",
     "text": [
      "29995it [07:32, 65.70it/s]"
     ]
    },
    {
     "metadata": {
      "tags": null
     },
     "name": "stdout",
     "output_type": "stream",
     "text": [
      "| epoch   1 | 30000/32580 batches | loss    1.438 \n"
     ]
    },
    {
     "metadata": {
      "tags": null
     },
     "name": "stderr",
     "output_type": "stream",
     "text": [
      "30008it [07:33, 44.71it/s]"
     ]
    },
    {
     "metadata": {
      "tags": null
     },
     "name": "stdout",
     "output_type": "stream",
     "text": [
      "money: addition, way, him, ability, work, able, even, it, example, those\n",
      "lion: accepted, brought, size, writing, released, win, died, followed, scene, africa\n",
      "africa: europe, end, china, india, east, america, north, germany, south, addition\n",
      "musician: actor, writer, singer, actress, author, addition, nine, born, culture, museum\n",
      "dance: music, country, rock, beginning, formed, style, actor, culture, traditional, end\n",
      "\n",
      "\n"
     ]
    },
    {
     "metadata": {
      "tags": null
     },
     "name": "stderr",
     "output_type": "stream",
     "text": [
      "30499it [07:40, 69.18it/s]"
     ]
    },
    {
     "metadata": {
      "tags": null
     },
     "name": "stdout",
     "output_type": "stream",
     "text": [
      "| epoch   1 | 30500/32580 batches | loss    1.439 \n"
     ]
    },
    {
     "metadata": {
      "tags": null
     },
     "name": "stderr",
     "output_type": "stream",
     "text": [
      "\r",
      "30506it [07:40, 41.35it/s]"
     ]
    },
    {
     "metadata": {
      "tags": null
     },
     "name": "stdout",
     "output_type": "stream",
     "text": [
      "money: addition, way, him, ability, able, work, even, them, those, example\n",
      "lion: accepted, writing, brought, win, released, size, causes, scene, died, piece\n",
      "africa: europe, china, end, india, east, north, america, germany, south, addition\n",
      "musician: actor, writer, actress, singer, author, addition, nine, born, english, museum\n",
      "dance: music, country, rock, style, beginning, formed, actor, culture, traditional, democratic\n",
      "\n",
      "\n"
     ]
    },
    {
     "metadata": {
      "tags": null
     },
     "name": "stderr",
     "output_type": "stream",
     "text": [
      "30996it [07:47, 69.09it/s]"
     ]
    },
    {
     "metadata": {
      "tags": null
     },
     "name": "stdout",
     "output_type": "stream",
     "text": [
      "| epoch   1 | 31000/32580 batches | loss    1.432 \n"
     ]
    },
    {
     "metadata": {
      "tags": null
     },
     "name": "stderr",
     "output_type": "stream",
     "text": [
      "31010it [07:48, 46.50it/s]"
     ]
    },
    {
     "metadata": {
      "tags": null
     },
     "name": "stdout",
     "output_type": "stream",
     "text": [
      "money: him, way, addition, ability, even, able, work, them, those, it\n",
      "lion: accepted, win, size, writing, brought, released, scene, causes, died, followed\n",
      "africa: europe, china, end, india, america, north, east, addition, germany, united\n",
      "musician: actor, writer, actress, singer, author, addition, nine, born, english, culture\n",
      "dance: music, country, rock, style, beginning, culture, actor, formed, traditional, democratic\n",
      "\n",
      "\n"
     ]
    },
    {
     "metadata": {
      "tags": null
     },
     "name": "stderr",
     "output_type": "stream",
     "text": [
      "31494it [07:55, 68.68it/s]"
     ]
    },
    {
     "metadata": {
      "tags": null
     },
     "name": "stdout",
     "output_type": "stream",
     "text": [
      "| epoch   1 | 31500/32580 batches | loss    1.428 \n"
     ]
    },
    {
     "metadata": {
      "tags": null
     },
     "name": "stderr",
     "output_type": "stream",
     "text": [
      "31507it [07:55, 44.91it/s]"
     ]
    },
    {
     "metadata": {
      "tags": null
     },
     "name": "stdout",
     "output_type": "stream",
     "text": [
      "money: him, addition, ability, way, able, them, even, work, it, those\n",
      "lion: accepted, size, writing, win, brought, released, piece, scene, followed, causes\n",
      "africa: europe, china, end, india, america, north, east, germany, addition, united\n",
      "musician: actor, writer, singer, actress, author, addition, nine, born, english, culture\n",
      "dance: music, country, rock, style, beginning, culture, actor, traditional, formed, democratic\n",
      "\n",
      "\n"
     ]
    },
    {
     "metadata": {
      "tags": null
     },
     "name": "stderr",
     "output_type": "stream",
     "text": [
      "31994it [08:02, 69.61it/s]"
     ]
    },
    {
     "metadata": {
      "tags": null
     },
     "name": "stdout",
     "output_type": "stream",
     "text": [
      "| epoch   1 | 32000/32580 batches | loss    1.424 \n"
     ]
    },
    {
     "metadata": {
      "tags": null
     },
     "name": "stderr",
     "output_type": "stream",
     "text": [
      "32007it [08:03, 44.47it/s]"
     ]
    },
    {
     "metadata": {
      "tags": null
     },
     "name": "stdout",
     "output_type": "stream",
     "text": [
      "money: him, ability, addition, way, them, able, work, even, it, taken\n",
      "lion: accepted, size, writing, win, released, brought, piece, followed, scene, causes\n",
      "africa: europe, china, end, india, america, north, east, germany, south, addition\n",
      "musician: actor, writer, singer, actress, author, addition, nine, born, english, painter\n",
      "dance: music, country, rock, style, beginning, culture, actor, traditional, formed, democratic\n",
      "\n",
      "\n"
     ]
    },
    {
     "metadata": {
      "tags": null
     },
     "name": "stderr",
     "output_type": "stream",
     "text": [
      "32500it [08:10, 67.67it/s]"
     ]
    },
    {
     "metadata": {
      "tags": null
     },
     "name": "stdout",
     "output_type": "stream",
     "text": [
      "| epoch   1 | 32500/32580 batches | loss    1.422 \n"
     ]
    },
    {
     "metadata": {
      "tags": null
     },
     "name": "stderr",
     "output_type": "stream",
     "text": [
      "\r",
      "32507it [08:10, 40.33it/s]"
     ]
    },
    {
     "metadata": {
      "tags": null
     },
     "name": "stdout",
     "output_type": "stream",
     "text": [
      "money: him, addition, them, able, ability, way, work, even, it, taken\n",
      "lion: accepted, size, win, released, writing, piece, africa, causes, brought, scene\n",
      "africa: europe, china, end, india, america, north, east, germany, addition, south\n",
      "musician: actor, writer, singer, actress, author, addition, nine, born, english, seven\n",
      "dance: music, country, rock, style, traditional, actor, culture, beginning, democratic, formed\n",
      "\n",
      "\n"
     ]
    },
    {
     "metadata": {
      "tags": null
     },
     "name": "stderr",
     "output_type": "stream",
     "text": [
      "32580it [08:12, 66.13it/s]\n",
      "0it [00:00, ?it/s]"
     ]
    },
    {
     "metadata": {
      "tags": null
     },
     "name": "stdout",
     "output_type": "stream",
     "text": [
      "| epoch   2 |     0/32580 batches | loss    1.320 \n"
     ]
    },
    {
     "metadata": {
      "tags": null
     },
     "name": "stderr",
     "output_type": "stream",
     "text": [
      "7it [00:01,  7.19it/s]"
     ]
    },
    {
     "metadata": {
      "tags": null
     },
     "name": "stdout",
     "output_type": "stream",
     "text": [
      "money: him, addition, them, ability, able, way, work, even, it, taken\n",
      "lion: accepted, win, size, released, writing, piece, died, brought, africa, causes\n",
      "africa: europe, china, end, india, america, north, east, germany, south, nine\n",
      "musician: actor, writer, singer, actress, author, addition, nine, born, english, seven\n",
      "dance: music, rock, country, style, traditional, culture, beginning, actor, democratic, formed\n",
      "\n",
      "\n"
     ]
    },
    {
     "metadata": {
      "tags": null
     },
     "name": "stderr",
     "output_type": "stream",
     "text": [
      "497it [00:08, 69.01it/s]"
     ]
    },
    {
     "metadata": {
      "tags": null
     },
     "name": "stdout",
     "output_type": "stream",
     "text": [
      "| epoch   2 |   500/32580 batches | loss    1.378 \n"
     ]
    },
    {
     "metadata": {
      "tags": null
     },
     "name": "stderr",
     "output_type": "stream",
     "text": [
      "511it [00:08, 46.62it/s]"
     ]
    },
    {
     "metadata": {
      "tags": null
     },
     "name": "stdout",
     "output_type": "stream",
     "text": [
      "money: him, addition, ability, them, able, way, work, even, it, taken\n",
      "lion: accepted, win, size, released, writing, piece, died, africa, brought, causes\n",
      "africa: europe, china, india, end, america, north, east, germany, south, addition\n",
      "musician: actor, writer, singer, actress, author, addition, nine, born, english, seven\n",
      "dance: music, rock, country, style, traditional, culture, beginning, actor, democratic, formed\n",
      "\n",
      "\n"
     ]
    },
    {
     "metadata": {
      "tags": null
     },
     "name": "stderr",
     "output_type": "stream",
     "text": [
      "996it [00:15, 66.87it/s]"
     ]
    },
    {
     "metadata": {
      "tags": null
     },
     "name": "stdout",
     "output_type": "stream",
     "text": [
      "| epoch   2 |  1000/32580 batches | loss    1.377 \n"
     ]
    },
    {
     "metadata": {
      "tags": null
     },
     "name": "stderr",
     "output_type": "stream",
     "text": [
      "1009it [00:16, 45.23it/s]"
     ]
    },
    {
     "metadata": {
      "tags": null
     },
     "name": "stdout",
     "output_type": "stream",
     "text": [
      "money: him, addition, ability, able, them, way, work, even, it, taken\n",
      "lion: accepted, win, size, released, writing, piece, died, brought, africa, followed\n",
      "africa: europe, china, india, end, america, north, east, germany, south, addition\n",
      "musician: actor, writer, singer, actress, author, addition, nine, born, english, seven\n",
      "dance: music, rock, country, style, traditional, culture, beginning, actor, democratic, formed\n",
      "\n",
      "\n"
     ]
    },
    {
     "metadata": {
      "tags": null
     },
     "name": "stderr",
     "output_type": "stream",
     "text": [
      "1499it [00:23, 68.45it/s]"
     ]
    },
    {
     "metadata": {
      "tags": null
     },
     "name": "stdout",
     "output_type": "stream",
     "text": [
      "| epoch   2 |  1500/32580 batches | loss    1.369 \n"
     ]
    },
    {
     "metadata": {
      "tags": null
     },
     "name": "stderr",
     "output_type": "stream",
     "text": [
      "\r",
      "1506it [00:23, 40.70it/s]"
     ]
    },
    {
     "metadata": {
      "tags": null
     },
     "name": "stdout",
     "output_type": "stream",
     "text": [
      "money: him, addition, ability, them, able, way, work, even, it, taken\n",
      "lion: accepted, win, size, released, writing, piece, died, brought, africa, causes\n",
      "africa: europe, china, india, end, america, north, east, germany, south, addition\n",
      "musician: actor, writer, singer, actress, author, addition, nine, born, english, seven\n",
      "dance: music, rock, country, style, traditional, culture, beginning, actor, democratic, formed\n",
      "\n",
      "\n"
     ]
    },
    {
     "metadata": {
      "tags": null
     },
     "name": "stderr",
     "output_type": "stream",
     "text": [
      "1997it [00:31, 69.43it/s]"
     ]
    },
    {
     "metadata": {
      "tags": null
     },
     "name": "stdout",
     "output_type": "stream",
     "text": [
      "| epoch   2 |  2000/32580 batches | loss    1.366 \n"
     ]
    },
    {
     "metadata": {
      "tags": null
     },
     "name": "stderr",
     "output_type": "stream",
     "text": [
      "2011it [00:31, 46.03it/s]"
     ]
    },
    {
     "metadata": {
      "tags": null
     },
     "name": "stdout",
     "output_type": "stream",
     "text": [
      "money: him, addition, ability, them, able, way, work, even, it, taken\n",
      "lion: accepted, win, size, released, writing, piece, died, brought, africa, causes\n",
      "africa: europe, china, india, end, america, north, east, germany, south, addition\n",
      "musician: actor, writer, singer, actress, author, addition, nine, born, english, seven\n",
      "dance: music, rock, country, style, traditional, culture, beginning, actor, democratic, formed\n",
      "\n",
      "\n"
     ]
    },
    {
     "metadata": {
      "tags": null
     },
     "name": "stderr",
     "output_type": "stream",
     "text": [
      "2497it [00:38, 67.05it/s]"
     ]
    },
    {
     "metadata": {
      "tags": null
     },
     "name": "stdout",
     "output_type": "stream",
     "text": [
      "| epoch   2 |  2500/32580 batches | loss    1.371 \n"
     ]
    },
    {
     "metadata": {
      "tags": null
     },
     "name": "stderr",
     "output_type": "stream",
     "text": [
      "2511it [00:38, 46.01it/s]"
     ]
    },
    {
     "metadata": {
      "tags": null
     },
     "name": "stdout",
     "output_type": "stream",
     "text": [
      "money: him, addition, them, ability, able, way, work, even, it, taken\n",
      "lion: accepted, win, size, released, writing, piece, died, brought, africa, causes\n",
      "africa: europe, china, india, end, america, north, east, germany, south, addition\n",
      "musician: actor, writer, singer, actress, author, addition, nine, born, seven, english\n",
      "dance: music, rock, country, style, traditional, culture, actor, beginning, democratic, formed\n",
      "\n",
      "\n"
     ]
    },
    {
     "metadata": {
      "tags": null
     },
     "name": "stderr",
     "output_type": "stream",
     "text": [
      "2995it [00:45, 69.38it/s]"
     ]
    },
    {
     "metadata": {
      "tags": null
     },
     "name": "stdout",
     "output_type": "stream",
     "text": [
      "| epoch   2 |  3000/32580 batches | loss    1.369 \n"
     ]
    },
    {
     "metadata": {
      "tags": null
     },
     "name": "stderr",
     "output_type": "stream",
     "text": [
      "3008it [00:46, 45.51it/s]"
     ]
    },
    {
     "metadata": {
      "tags": null
     },
     "name": "stdout",
     "output_type": "stream",
     "text": [
      "money: him, them, addition, ability, able, way, work, even, it, taken\n",
      "lion: accepted, win, size, writing, released, piece, brought, died, causes, africa\n",
      "africa: europe, china, india, end, america, north, east, germany, south, addition\n",
      "musician: actor, writer, singer, actress, author, addition, nine, born, seven, english\n",
      "dance: music, rock, country, style, traditional, culture, actor, beginning, democratic, formed\n",
      "\n",
      "\n"
     ]
    },
    {
     "metadata": {
      "tags": null
     },
     "name": "stderr",
     "output_type": "stream",
     "text": [
      "3493it [00:53, 70.09it/s]"
     ]
    },
    {
     "metadata": {
      "tags": null
     },
     "name": "stdout",
     "output_type": "stream",
     "text": [
      "| epoch   2 |  3500/32580 batches | loss    1.368 \n"
     ]
    },
    {
     "metadata": {
      "tags": null
     },
     "name": "stderr",
     "output_type": "stream",
     "text": [
      "3507it [00:53, 46.31it/s]"
     ]
    },
    {
     "metadata": {
      "tags": null
     },
     "name": "stdout",
     "output_type": "stream",
     "text": [
      "money: him, them, addition, ability, able, way, work, even, it, taken\n",
      "lion: accepted, win, size, writing, released, piece, brought, died, africa, causes\n",
      "africa: europe, china, india, end, america, north, east, germany, south, addition\n",
      "musician: actor, writer, singer, actress, author, addition, nine, born, english, seven\n",
      "dance: music, rock, country, style, traditional, culture, actor, beginning, democratic, formed\n",
      "\n",
      "\n"
     ]
    },
    {
     "metadata": {
      "tags": null
     },
     "name": "stderr",
     "output_type": "stream",
     "text": [
      "3999it [01:01, 67.59it/s]"
     ]
    },
    {
     "metadata": {
      "tags": null
     },
     "name": "stdout",
     "output_type": "stream",
     "text": [
      "| epoch   2 |  4000/32580 batches | loss    1.371 \n"
     ]
    },
    {
     "metadata": {
      "tags": null
     },
     "name": "stderr",
     "output_type": "stream",
     "text": [
      "\r",
      "4006it [01:01, 40.53it/s]"
     ]
    },
    {
     "metadata": {
      "tags": null
     },
     "name": "stdout",
     "output_type": "stream",
     "text": [
      "money: him, them, addition, ability, able, way, work, even, it, taken\n",
      "lion: accepted, win, size, writing, released, piece, brought, died, africa, causes\n",
      "africa: europe, china, india, end, america, north, east, germany, south, addition\n",
      "musician: actor, writer, singer, actress, author, addition, nine, born, english, seven\n",
      "dance: music, rock, country, style, traditional, culture, actor, beginning, democratic, formed\n",
      "\n",
      "\n"
     ]
    },
    {
     "metadata": {
      "tags": null
     },
     "name": "stderr",
     "output_type": "stream",
     "text": [
      "4494it [01:08, 67.28it/s]"
     ]
    },
    {
     "metadata": {
      "tags": null
     },
     "name": "stdout",
     "output_type": "stream",
     "text": [
      "| epoch   2 |  4500/32580 batches | loss    1.365 \n",
      "money: him, them, addition, ability, able, way, work, even, it, taken\n"
     ]
    },
    {
     "metadata": {
      "tags": null
     },
     "name": "stderr",
     "output_type": "stream",
     "text": [
      "4507it [01:08, 44.56it/s]"
     ]
    },
    {
     "metadata": {
      "tags": null
     },
     "name": "stdout",
     "output_type": "stream",
     "text": [
      "lion: accepted, win, size, released, writing, piece, brought, africa, causes, died\n",
      "africa: europe, china, india, end, america, north, east, germany, south, addition\n",
      "musician: actor, writer, singer, actress, author, addition, nine, born, english, painter\n",
      "dance: music, rock, country, style, traditional, culture, actor, beginning, democratic, formed\n",
      "\n",
      "\n"
     ]
    },
    {
     "metadata": {
      "tags": null
     },
     "name": "stderr",
     "output_type": "stream",
     "text": [
      "4995it [01:16, 69.49it/s]"
     ]
    },
    {
     "metadata": {
      "tags": null
     },
     "name": "stdout",
     "output_type": "stream",
     "text": [
      "| epoch   2 |  5000/32580 batches | loss    1.370 \n",
      "money: him, them, addition, ability, able, way, work, even, it, taken\n",
      "lion: accepted, win, size, released, writing, piece, brought, africa, causes, died\n",
      "africa: europe, china, india, end, america, north, east, germany, south, addition\n",
      "musician: actor, writer, singer, actress, author, addition, nine, born, english, painter\n",
      "dance: music, rock, country, style, traditional, culture, actor, beginning, democratic, formed\n"
     ]
    },
    {
     "metadata": {
      "tags": null
     },
     "name": "stderr",
     "output_type": "stream",
     "text": [
      "5008it [01:16, 46.18it/s]"
     ]
    },
    {
     "metadata": {
      "tags": null
     },
     "name": "stdout",
     "output_type": "stream",
     "text": [
      "\n",
      "\n"
     ]
    },
    {
     "metadata": {
      "tags": null
     },
     "name": "stderr",
     "output_type": "stream",
     "text": [
      "5495it [01:23, 69.37it/s]"
     ]
    },
    {
     "metadata": {
      "tags": null
     },
     "name": "stdout",
     "output_type": "stream",
     "text": [
      "| epoch   2 |  5500/32580 batches | loss    1.364 \n"
     ]
    },
    {
     "metadata": {
      "tags": null
     },
     "name": "stderr",
     "output_type": "stream",
     "text": [
      "5508it [01:23, 45.42it/s]"
     ]
    },
    {
     "metadata": {
      "tags": null
     },
     "name": "stdout",
     "output_type": "stream",
     "text": [
      "money: him, them, addition, ability, able, way, work, even, it, taken\n",
      "lion: accepted, win, size, released, writing, piece, brought, africa, died, causes\n",
      "africa: europe, china, india, end, america, north, east, germany, south, addition\n",
      "musician: actor, writer, singer, actress, author, addition, nine, born, english, painter\n",
      "dance: music, rock, country, style, traditional, culture, actor, beginning, democratic, formed\n",
      "\n",
      "\n"
     ]
    },
    {
     "metadata": {
      "tags": null
     },
     "name": "stderr",
     "output_type": "stream",
     "text": [
      "5999it [01:31, 68.41it/s]"
     ]
    },
    {
     "metadata": {
      "tags": null
     },
     "name": "stdout",
     "output_type": "stream",
     "text": [
      "| epoch   2 |  6000/32580 batches | loss    1.362 \n"
     ]
    },
    {
     "metadata": {
      "tags": null
     },
     "name": "stderr",
     "output_type": "stream",
     "text": [
      "6013it [01:31, 46.47it/s]"
     ]
    },
    {
     "metadata": {
      "tags": null
     },
     "name": "stdout",
     "output_type": "stream",
     "text": [
      "money: him, them, addition, ability, able, way, work, even, it, taken\n",
      "lion: accepted, win, size, writing, released, piece, africa, brought, died, causes\n",
      "africa: europe, china, india, end, america, north, east, germany, south, addition\n",
      "musician: actor, writer, singer, actress, author, addition, nine, born, english, seven\n",
      "dance: music, rock, country, style, traditional, culture, actor, beginning, democratic, formed\n",
      "\n",
      "\n"
     ]
    },
    {
     "metadata": {
      "tags": null
     },
     "name": "stderr",
     "output_type": "stream",
     "text": [
      "6493it [01:38, 70.07it/s]"
     ]
    },
    {
     "metadata": {
      "tags": null
     },
     "name": "stdout",
     "output_type": "stream",
     "text": [
      "| epoch   2 |  6500/32580 batches | loss    1.360 \n"
     ]
    },
    {
     "metadata": {
      "tags": null
     },
     "name": "stderr",
     "output_type": "stream",
     "text": [
      "6507it [01:38, 46.37it/s]"
     ]
    },
    {
     "metadata": {
      "tags": null
     },
     "name": "stdout",
     "output_type": "stream",
     "text": [
      "money: him, them, addition, ability, able, way, work, even, it, taken\n",
      "lion: accepted, win, size, writing, released, piece, africa, brought, died, scene\n",
      "africa: europe, china, india, end, america, north, east, germany, south, addition\n",
      "musician: actor, writer, singer, actress, author, addition, nine, born, english, painter\n",
      "dance: music, rock, country, style, traditional, culture, actor, beginning, democratic, formed\n",
      "\n",
      "\n"
     ]
    },
    {
     "metadata": {
      "tags": null
     },
     "name": "stderr",
     "output_type": "stream",
     "text": [
      "7000it [01:46, 68.98it/s]"
     ]
    },
    {
     "metadata": {
      "tags": null
     },
     "name": "stdout",
     "output_type": "stream",
     "text": [
      "| epoch   2 |  7000/32580 batches | loss    1.363 \n"
     ]
    },
    {
     "metadata": {
      "tags": null
     },
     "name": "stderr",
     "output_type": "stream",
     "text": [
      "\r",
      "7007it [01:46, 40.95it/s]"
     ]
    },
    {
     "metadata": {
      "tags": null
     },
     "name": "stdout",
     "output_type": "stream",
     "text": [
      "money: him, them, addition, ability, able, way, work, even, it, taken\n",
      "lion: accepted, win, size, writing, released, piece, africa, brought, died, scene\n",
      "africa: europe, china, india, end, america, north, east, germany, south, addition\n",
      "musician: actor, writer, singer, actress, author, addition, nine, born, english, painter\n",
      "dance: music, rock, country, style, traditional, culture, actor, beginning, democratic, formed\n",
      "\n",
      "\n"
     ]
    },
    {
     "metadata": {
      "tags": null
     },
     "name": "stderr",
     "output_type": "stream",
     "text": [
      "7494it [01:53, 65.43it/s]"
     ]
    },
    {
     "metadata": {
      "tags": null
     },
     "name": "stdout",
     "output_type": "stream",
     "text": [
      "| epoch   2 |  7500/32580 batches | loss    1.363 \n"
     ]
    },
    {
     "metadata": {
      "tags": null
     },
     "name": "stderr",
     "output_type": "stream",
     "text": [
      "7507it [01:53, 43.84it/s]"
     ]
    },
    {
     "metadata": {
      "tags": null
     },
     "name": "stdout",
     "output_type": "stream",
     "text": [
      "money: him, addition, them, ability, able, way, work, it, even, taken\n",
      "lion: accepted, win, size, writing, released, piece, africa, brought, scene, causes\n",
      "africa: europe, china, india, end, america, north, east, germany, south, addition\n",
      "musician: actor, writer, singer, actress, author, addition, nine, born, english, painter\n",
      "dance: music, rock, country, style, traditional, culture, actor, beginning, democratic, formed\n",
      "\n",
      "\n"
     ]
    },
    {
     "metadata": {
      "tags": null
     },
     "name": "stderr",
     "output_type": "stream",
     "text": [
      "7998it [02:01, 69.09it/s]"
     ]
    },
    {
     "metadata": {
      "tags": null
     },
     "name": "stdout",
     "output_type": "stream",
     "text": [
      "| epoch   2 |  8000/32580 batches | loss    1.359 \n"
     ]
    },
    {
     "metadata": {
      "tags": null
     },
     "name": "stderr",
     "output_type": "stream",
     "text": [
      "8012it [02:01, 46.81it/s]"
     ]
    },
    {
     "metadata": {
      "tags": null
     },
     "name": "stdout",
     "output_type": "stream",
     "text": [
      "money: him, them, addition, ability, able, way, work, it, even, taken\n",
      "lion: accepted, win, size, released, writing, piece, africa, brought, causes, scene\n",
      "africa: europe, china, india, end, america, north, east, germany, south, addition\n",
      "musician: actor, writer, singer, actress, author, addition, nine, born, english, painter\n",
      "dance: music, rock, country, style, traditional, culture, actor, beginning, democratic, formed\n",
      "\n",
      "\n"
     ]
    },
    {
     "metadata": {
      "tags": null
     },
     "name": "stderr",
     "output_type": "stream",
     "text": [
      "8499it [02:08, 69.57it/s]"
     ]
    },
    {
     "metadata": {
      "tags": null
     },
     "name": "stdout",
     "output_type": "stream",
     "text": [
      "| epoch   2 |  8500/32580 batches | loss    1.363 \n"
     ]
    },
    {
     "metadata": {
      "tags": null
     },
     "name": "stderr",
     "output_type": "stream",
     "text": [
      "\r",
      "8506it [02:08, 41.47it/s]"
     ]
    },
    {
     "metadata": {
      "tags": null
     },
     "name": "stdout",
     "output_type": "stream",
     "text": [
      "money: him, them, addition, ability, able, way, work, even, it, taken\n",
      "lion: accepted, win, size, released, writing, piece, scene, africa, brought, causes\n",
      "africa: europe, china, india, end, america, north, east, germany, south, addition\n",
      "musician: actor, writer, singer, actress, author, addition, nine, born, english, painter\n",
      "dance: music, rock, country, style, traditional, culture, actor, beginning, democratic, formed\n",
      "\n",
      "\n"
     ]
    },
    {
     "metadata": {
      "tags": null
     },
     "name": "stderr",
     "output_type": "stream",
     "text": [
      "8994it [02:16, 69.26it/s]"
     ]
    },
    {
     "metadata": {
      "tags": null
     },
     "name": "stdout",
     "output_type": "stream",
     "text": [
      "| epoch   2 |  9000/32580 batches | loss    1.360 \n"
     ]
    },
    {
     "metadata": {
      "tags": null
     },
     "name": "stderr",
     "output_type": "stream",
     "text": [
      "9007it [02:16, 44.84it/s]"
     ]
    },
    {
     "metadata": {
      "tags": null
     },
     "name": "stdout",
     "output_type": "stream",
     "text": [
      "money: him, them, addition, ability, able, way, work, even, it, taken\n",
      "lion: accepted, win, size, released, writing, piece, scene, africa, brought, causes\n",
      "africa: europe, china, india, end, america, north, east, germany, south, addition\n",
      "musician: actor, writer, singer, actress, author, addition, nine, born, english, painter\n",
      "dance: music, rock, country, style, traditional, culture, actor, beginning, democratic, formed\n",
      "\n",
      "\n"
     ]
    },
    {
     "metadata": {
      "tags": null
     },
     "name": "stderr",
     "output_type": "stream",
     "text": [
      "9497it [02:23, 69.13it/s]"
     ]
    },
    {
     "metadata": {
      "tags": null
     },
     "name": "stdout",
     "output_type": "stream",
     "text": [
      "| epoch   2 |  9500/32580 batches | loss    1.359 \n"
     ]
    },
    {
     "metadata": {
      "tags": null
     },
     "name": "stderr",
     "output_type": "stream",
     "text": [
      "9511it [02:24, 46.52it/s]"
     ]
    },
    {
     "metadata": {
      "tags": null
     },
     "name": "stdout",
     "output_type": "stream",
     "text": [
      "money: him, them, addition, ability, able, way, work, even, it, taken\n",
      "lion: accepted, win, size, released, writing, piece, scene, africa, brought, causes\n",
      "africa: europe, china, india, end, america, north, east, germany, south, addition\n",
      "musician: actor, writer, singer, actress, author, addition, nine, born, english, painter\n",
      "dance: music, rock, country, style, traditional, culture, actor, beginning, democratic, formed\n",
      "\n",
      "\n"
     ]
    },
    {
     "metadata": {
      "tags": null
     },
     "name": "stderr",
     "output_type": "stream",
     "text": [
      "9997it [02:31, 68.77it/s]"
     ]
    },
    {
     "metadata": {
      "tags": null
     },
     "name": "stdout",
     "output_type": "stream",
     "text": [
      "| epoch   2 | 10000/32580 batches | loss    1.355 \n"
     ]
    },
    {
     "metadata": {
      "tags": null
     },
     "name": "stderr",
     "output_type": "stream",
     "text": [
      "10011it [02:31, 46.19it/s]"
     ]
    },
    {
     "metadata": {
      "tags": null
     },
     "name": "stdout",
     "output_type": "stream",
     "text": [
      "money: him, them, addition, ability, able, way, work, even, it, taken\n",
      "lion: accepted, win, size, released, writing, piece, scene, africa, causes, brought\n",
      "africa: europe, china, india, end, america, north, east, germany, south, addition\n",
      "musician: actor, writer, singer, actress, author, addition, nine, born, english, painter\n",
      "dance: music, rock, country, style, traditional, culture, actor, beginning, democratic, formed\n",
      "\n",
      "\n"
     ]
    },
    {
     "metadata": {
      "tags": null
     },
     "name": "stderr",
     "output_type": "stream",
     "text": [
      "10495it [02:41, 66.37it/s]"
     ]
    },
    {
     "metadata": {
      "tags": null
     },
     "name": "stdout",
     "output_type": "stream",
     "text": [
      "| epoch   2 | 10500/32580 batches | loss    1.356 \n"
     ]
    },
    {
     "metadata": {
      "tags": null
     },
     "name": "stderr",
     "output_type": "stream",
     "text": [
      "10508it [02:41, 44.68it/s]"
     ]
    },
    {
     "metadata": {
      "tags": null
     },
     "name": "stdout",
     "output_type": "stream",
     "text": [
      "money: him, them, addition, ability, able, way, work, even, it, taken\n",
      "lion: accepted, win, size, released, writing, piece, scene, africa, causes, brought\n",
      "africa: europe, china, india, end, america, north, east, germany, south, addition\n",
      "musician: actor, writer, singer, actress, author, addition, nine, born, english, painter\n",
      "dance: music, rock, country, style, traditional, culture, actor, beginning, democratic, formed\n",
      "\n",
      "\n"
     ]
    },
    {
     "metadata": {
      "tags": null
     },
     "name": "stderr",
     "output_type": "stream",
     "text": [
      "10999it [02:48, 69.10it/s]"
     ]
    },
    {
     "metadata": {
      "tags": null
     },
     "name": "stdout",
     "output_type": "stream",
     "text": [
      "| epoch   2 | 11000/32580 batches | loss    1.358 \n"
     ]
    },
    {
     "metadata": {
      "tags": null
     },
     "name": "stderr",
     "output_type": "stream",
     "text": [
      "11013it [02:49, 46.80it/s]"
     ]
    },
    {
     "metadata": {
      "tags": null
     },
     "name": "stdout",
     "output_type": "stream",
     "text": [
      "money: him, them, addition, ability, able, way, work, even, it, taken\n",
      "lion: accepted, win, size, released, writing, piece, scene, africa, causes, brought\n",
      "africa: europe, china, india, end, america, north, east, germany, south, addition\n",
      "musician: actor, writer, singer, actress, author, addition, nine, born, english, painter\n",
      "dance: music, rock, country, style, traditional, culture, beginning, actor, democratic, formed\n",
      "\n",
      "\n"
     ]
    },
    {
     "metadata": {
      "tags": null
     },
     "name": "stderr",
     "output_type": "stream",
     "text": [
      "11496it [02:56, 68.06it/s]"
     ]
    },
    {
     "metadata": {
      "tags": null
     },
     "name": "stdout",
     "output_type": "stream",
     "text": [
      "| epoch   2 | 11500/32580 batches | loss    1.357 \n"
     ]
    },
    {
     "metadata": {
      "tags": null
     },
     "name": "stderr",
     "output_type": "stream",
     "text": [
      "11510it [02:56, 45.79it/s]"
     ]
    },
    {
     "metadata": {
      "tags": null
     },
     "name": "stdout",
     "output_type": "stream",
     "text": [
      "money: him, them, addition, able, ability, way, work, even, it, taken\n",
      "lion: accepted, win, size, released, writing, piece, scene, africa, causes, brought\n",
      "africa: europe, china, india, end, america, north, east, germany, south, addition\n",
      "musician: actor, writer, singer, actress, author, addition, nine, born, english, painter\n",
      "dance: music, rock, country, style, traditional, culture, actor, beginning, democratic, formed\n",
      "\n",
      "\n"
     ]
    },
    {
     "metadata": {
      "tags": null
     },
     "name": "stderr",
     "output_type": "stream",
     "text": [
      "11996it [03:03, 68.95it/s]"
     ]
    },
    {
     "metadata": {
      "tags": null
     },
     "name": "stdout",
     "output_type": "stream",
     "text": [
      "| epoch   2 | 12000/32580 batches | loss    1.356 \n"
     ]
    },
    {
     "metadata": {
      "tags": null
     },
     "name": "stderr",
     "output_type": "stream",
     "text": [
      "12010it [03:04, 45.97it/s]"
     ]
    },
    {
     "metadata": {
      "tags": null
     },
     "name": "stdout",
     "output_type": "stream",
     "text": [
      "money: him, them, addition, able, ability, way, work, even, it, taken\n",
      "lion: accepted, win, size, writing, released, piece, scene, africa, causes, brought\n",
      "africa: europe, china, india, end, america, north, east, germany, south, addition\n",
      "musician: actor, writer, singer, actress, author, addition, nine, born, english, painter\n",
      "dance: music, rock, country, style, traditional, culture, beginning, actor, democratic, formed\n",
      "\n",
      "\n"
     ]
    },
    {
     "metadata": {
      "tags": null
     },
     "name": "stderr",
     "output_type": "stream",
     "text": [
      "12496it [03:11, 69.37it/s]"
     ]
    },
    {
     "metadata": {
      "tags": null
     },
     "name": "stdout",
     "output_type": "stream",
     "text": [
      "| epoch   2 | 12500/32580 batches | loss    1.361 \n"
     ]
    },
    {
     "metadata": {
      "tags": null
     },
     "name": "stderr",
     "output_type": "stream",
     "text": [
      "12510it [03:11, 46.32it/s]"
     ]
    },
    {
     "metadata": {
      "tags": null
     },
     "name": "stdout",
     "output_type": "stream",
     "text": [
      "money: him, them, addition, able, ability, way, work, it, even, taken\n",
      "lion: accepted, win, size, writing, released, piece, scene, africa, causes, brought\n",
      "africa: europe, china, india, end, america, north, east, germany, south, addition\n",
      "musician: actor, writer, singer, actress, author, addition, nine, born, english, painter\n",
      "dance: music, rock, country, style, traditional, culture, actor, beginning, democratic, formed\n",
      "\n",
      "\n"
     ]
    },
    {
     "metadata": {
      "tags": null
     },
     "name": "stderr",
     "output_type": "stream",
     "text": [
      "12995it [03:18, 68.74it/s]"
     ]
    },
    {
     "metadata": {
      "tags": null
     },
     "name": "stdout",
     "output_type": "stream",
     "text": [
      "| epoch   2 | 13000/32580 batches | loss    1.357 \n"
     ]
    },
    {
     "metadata": {
      "tags": null
     },
     "name": "stderr",
     "output_type": "stream",
     "text": [
      "13008it [03:19, 45.31it/s]"
     ]
    },
    {
     "metadata": {
      "tags": null
     },
     "name": "stdout",
     "output_type": "stream",
     "text": [
      "money: him, them, addition, ability, able, way, work, it, even, taken\n",
      "lion: accepted, win, size, released, writing, piece, scene, africa, causes, brought\n",
      "africa: europe, china, india, end, america, north, east, germany, south, addition\n",
      "musician: actor, writer, singer, actress, author, addition, nine, born, painter, english\n",
      "dance: music, rock, country, style, traditional, culture, beginning, actor, democratic, formed\n",
      "\n",
      "\n"
     ]
    },
    {
     "metadata": {
      "tags": null
     },
     "name": "stderr",
     "output_type": "stream",
     "text": [
      "13498it [03:26, 68.49it/s]"
     ]
    },
    {
     "metadata": {
      "tags": null
     },
     "name": "stdout",
     "output_type": "stream",
     "text": [
      "| epoch   2 | 13500/32580 batches | loss    1.353 \n"
     ]
    },
    {
     "metadata": {
      "tags": null
     },
     "name": "stderr",
     "output_type": "stream",
     "text": [
      "13512it [03:26, 46.42it/s]"
     ]
    },
    {
     "metadata": {
      "tags": null
     },
     "name": "stdout",
     "output_type": "stream",
     "text": [
      "money: him, them, addition, ability, able, way, it, work, even, taken\n",
      "lion: accepted, win, size, released, writing, piece, scene, brought, africa, causes\n",
      "africa: europe, china, india, end, america, north, east, germany, south, addition\n",
      "musician: actor, writer, singer, actress, author, addition, nine, born, painter, english\n",
      "dance: music, rock, country, style, traditional, culture, actor, beginning, democratic, formed\n",
      "\n",
      "\n"
     ]
    },
    {
     "metadata": {
      "tags": null
     },
     "name": "stderr",
     "output_type": "stream",
     "text": [
      "13995it [03:33, 69.67it/s]"
     ]
    },
    {
     "metadata": {
      "tags": null
     },
     "name": "stdout",
     "output_type": "stream",
     "text": [
      "| epoch   2 | 14000/32580 batches | loss    1.362 \n"
     ]
    },
    {
     "metadata": {
      "tags": null
     },
     "name": "stderr",
     "output_type": "stream",
     "text": [
      "14008it [03:34, 44.82it/s]"
     ]
    },
    {
     "metadata": {
      "tags": null
     },
     "name": "stdout",
     "output_type": "stream",
     "text": [
      "money: him, them, addition, ability, able, way, it, work, even, taken\n",
      "lion: accepted, win, size, released, writing, piece, scene, brought, africa, causes\n",
      "africa: europe, china, india, end, america, north, east, germany, south, addition\n",
      "musician: actor, writer, singer, actress, author, addition, nine, born, painter, english\n",
      "dance: music, rock, country, style, traditional, culture, beginning, actor, democratic, formed\n",
      "\n",
      "\n"
     ]
    },
    {
     "metadata": {
      "tags": null
     },
     "name": "stderr",
     "output_type": "stream",
     "text": [
      "14498it [03:41, 68.91it/s]"
     ]
    },
    {
     "metadata": {
      "tags": null
     },
     "name": "stdout",
     "output_type": "stream",
     "text": [
      "| epoch   2 | 14500/32580 batches | loss    1.353 \n"
     ]
    },
    {
     "metadata": {
      "tags": null
     },
     "name": "stderr",
     "output_type": "stream",
     "text": [
      "14512it [03:42, 46.55it/s]"
     ]
    },
    {
     "metadata": {
      "tags": null
     },
     "name": "stdout",
     "output_type": "stream",
     "text": [
      "money: him, them, addition, ability, able, way, it, work, even, taken\n",
      "lion: accepted, win, size, writing, released, piece, scene, brought, africa, causes\n",
      "africa: europe, china, india, end, america, north, east, germany, south, addition\n",
      "musician: actor, writer, singer, actress, author, addition, nine, born, painter, english\n",
      "dance: music, rock, country, style, traditional, culture, actor, beginning, democratic, formed\n",
      "\n",
      "\n"
     ]
    },
    {
     "metadata": {
      "tags": null
     },
     "name": "stderr",
     "output_type": "stream",
     "text": [
      "14994it [03:48, 69.68it/s]"
     ]
    },
    {
     "metadata": {
      "tags": null
     },
     "name": "stdout",
     "output_type": "stream",
     "text": [
      "| epoch   2 | 15000/32580 batches | loss    1.355 \n",
      "money: him, them, addition, ability, able, way, it, work, even, taken\n",
      "lion: accepted, win, size, released, writing, piece, scene, brought, africa, causes\n",
      "africa: europe, china, india, end, america, north, east, germany, south, addition\n",
      "musician: actor, writer, singer, actress, author, addition, nine, born, painter, english\n",
      "dance: music, rock, country, style, traditional, culture, actor, beginning, democratic, formed\n"
     ]
    },
    {
     "metadata": {
      "tags": null
     },
     "name": "stderr",
     "output_type": "stream",
     "text": [
      "15007it [03:49, 45.03it/s]"
     ]
    },
    {
     "metadata": {
      "tags": null
     },
     "name": "stdout",
     "output_type": "stream",
     "text": [
      "\n",
      "\n"
     ]
    },
    {
     "metadata": {
      "tags": null
     },
     "name": "stderr",
     "output_type": "stream",
     "text": [
      "15494it [03:56, 69.31it/s]"
     ]
    },
    {
     "metadata": {
      "tags": null
     },
     "name": "stdout",
     "output_type": "stream",
     "text": [
      "| epoch   2 | 15500/32580 batches | loss    1.355 \n"
     ]
    },
    {
     "metadata": {
      "tags": null
     },
     "name": "stderr",
     "output_type": "stream",
     "text": [
      "15507it [03:56, 44.50it/s]"
     ]
    },
    {
     "metadata": {
      "tags": null
     },
     "name": "stdout",
     "output_type": "stream",
     "text": [
      "money: him, them, addition, ability, able, it, way, work, even, taken\n",
      "lion: accepted, win, size, released, writing, piece, scene, brought, africa, causes\n",
      "africa: europe, china, india, end, america, north, east, germany, south, addition\n",
      "musician: actor, writer, singer, actress, author, addition, nine, born, painter, english\n",
      "dance: music, rock, country, style, traditional, culture, beginning, actor, democratic, formed\n",
      "\n",
      "\n"
     ]
    },
    {
     "metadata": {
      "tags": null
     },
     "name": "stderr",
     "output_type": "stream",
     "text": [
      "15997it [04:03, 69.11it/s]"
     ]
    },
    {
     "metadata": {
      "tags": null
     },
     "name": "stdout",
     "output_type": "stream",
     "text": [
      "| epoch   2 | 16000/32580 batches | loss    1.354 \n"
     ]
    },
    {
     "metadata": {
      "tags": null
     },
     "name": "stderr",
     "output_type": "stream",
     "text": [
      "16011it [04:04, 44.66it/s]"
     ]
    },
    {
     "metadata": {
      "tags": null
     },
     "name": "stdout",
     "output_type": "stream",
     "text": [
      "money: him, them, able, addition, ability, way, it, work, even, taken\n",
      "lion: accepted, win, size, writing, released, piece, scene, brought, causes, africa\n",
      "africa: europe, china, india, end, america, north, east, germany, south, addition\n",
      "musician: actor, writer, singer, actress, author, addition, nine, born, painter, english\n",
      "dance: music, rock, country, style, traditional, culture, beginning, actor, democratic, formed\n",
      "\n",
      "\n"
     ]
    },
    {
     "metadata": {
      "tags": null
     },
     "name": "stderr",
     "output_type": "stream",
     "text": [
      "16498it [04:11, 67.28it/s]"
     ]
    },
    {
     "metadata": {
      "tags": null
     },
     "name": "stdout",
     "output_type": "stream",
     "text": [
      "| epoch   2 | 16500/32580 batches | loss    1.350 \n",
      "money: him, them, able, addition, ability, it, way, work, even, taken\n",
      "lion: accepted, win, size, writing, released, piece, scene, brought, causes, africa\n",
      "africa: europe, china, india, end, america, north, east, germany, south, addition\n",
      "musician: actor, writer, singer, actress, author, addition, nine, born, painter, english\n",
      "dance: music, rock, country, style, traditional, culture, beginning, actor, democratic, formed\n"
     ]
    },
    {
     "metadata": {
      "tags": null
     },
     "name": "stderr",
     "output_type": "stream",
     "text": [
      "16512it [04:12, 46.45it/s]"
     ]
    },
    {
     "metadata": {
      "tags": null
     },
     "name": "stdout",
     "output_type": "stream",
     "text": [
      "\n",
      "\n"
     ]
    },
    {
     "metadata": {
      "tags": null
     },
     "name": "stderr",
     "output_type": "stream",
     "text": [
      "16998it [04:19, 69.51it/s]"
     ]
    },
    {
     "metadata": {
      "tags": null
     },
     "name": "stdout",
     "output_type": "stream",
     "text": [
      "| epoch   2 | 17000/32580 batches | loss    1.355 \n"
     ]
    },
    {
     "metadata": {
      "tags": null
     },
     "name": "stderr",
     "output_type": "stream",
     "text": [
      "17012it [04:19, 46.98it/s]"
     ]
    },
    {
     "metadata": {
      "tags": null
     },
     "name": "stdout",
     "output_type": "stream",
     "text": [
      "money: him, them, able, ability, addition, way, it, work, even, taken\n",
      "lion: accepted, win, size, writing, released, piece, scene, brought, causes, africa\n",
      "africa: europe, china, india, end, america, north, east, germany, south, addition\n",
      "musician: actor, writer, singer, actress, author, addition, nine, born, painter, english\n",
      "dance: music, rock, country, style, traditional, culture, beginning, actor, democratic, formed\n",
      "\n",
      "\n"
     ]
    },
    {
     "metadata": {
      "tags": null
     },
     "name": "stderr",
     "output_type": "stream",
     "text": [
      "17495it [04:26, 68.66it/s]"
     ]
    },
    {
     "metadata": {
      "tags": null
     },
     "name": "stdout",
     "output_type": "stream",
     "text": [
      "| epoch   2 | 17500/32580 batches | loss    1.352 \n"
     ]
    },
    {
     "metadata": {
      "tags": null
     },
     "name": "stderr",
     "output_type": "stream",
     "text": [
      "17508it [04:26, 43.49it/s]"
     ]
    },
    {
     "metadata": {
      "tags": null
     },
     "name": "stdout",
     "output_type": "stream",
     "text": [
      "money: him, them, able, ability, addition, way, it, work, even, taken\n",
      "lion: accepted, win, writing, size, released, piece, scene, brought, causes, africa\n",
      "africa: europe, china, india, end, america, north, east, germany, south, addition\n",
      "musician: actor, writer, singer, actress, author, addition, nine, born, painter, english\n",
      "dance: music, rock, country, style, traditional, culture, beginning, actor, democratic, formed\n",
      "\n",
      "\n"
     ]
    },
    {
     "metadata": {
      "tags": null
     },
     "name": "stderr",
     "output_type": "stream",
     "text": [
      "17999it [04:34, 68.93it/s]"
     ]
    },
    {
     "metadata": {
      "tags": null
     },
     "name": "stdout",
     "output_type": "stream",
     "text": [
      "| epoch   2 | 18000/32580 batches | loss    1.350 \n",
      "money: him, them, able, ability, addition, way, it, work, even, taken\n",
      "lion: accepted, win, writing, size, released, piece, scene, brought, africa, causes\n",
      "africa: europe, china, india, end, america, north, east, germany, south, addition\n",
      "musician: actor, writer, singer, actress, author, addition, nine, born, painter, english\n",
      "dance: music, rock, country, style, traditional, culture, beginning, actor, democratic, formed\n"
     ]
    },
    {
     "metadata": {
      "tags": null
     },
     "name": "stderr",
     "output_type": "stream",
     "text": [
      "\r",
      "18006it [04:34, 40.87it/s]"
     ]
    },
    {
     "metadata": {
      "tags": null
     },
     "name": "stdout",
     "output_type": "stream",
     "text": [
      "\n",
      "\n"
     ]
    },
    {
     "metadata": {
      "tags": null
     },
     "name": "stderr",
     "output_type": "stream",
     "text": [
      "18498it [04:41, 69.55it/s]"
     ]
    },
    {
     "metadata": {
      "tags": null
     },
     "name": "stdout",
     "output_type": "stream",
     "text": [
      "| epoch   2 | 18500/32580 batches | loss    1.348 \n"
     ]
    },
    {
     "metadata": {
      "tags": null
     },
     "name": "stderr",
     "output_type": "stream",
     "text": [
      "18512it [04:42, 47.68it/s]"
     ]
    },
    {
     "metadata": {
      "tags": null
     },
     "name": "stdout",
     "output_type": "stream",
     "text": [
      "money: him, them, able, ability, addition, it, way, work, even, taken\n",
      "lion: accepted, win, writing, size, released, piece, scene, brought, causes, africa\n",
      "africa: europe, china, india, end, america, north, east, germany, south, addition\n",
      "musician: actor, writer, singer, actress, author, addition, nine, born, painter, english\n",
      "dance: music, rock, country, style, traditional, culture, beginning, actor, democratic, formed\n",
      "\n",
      "\n"
     ]
    },
    {
     "metadata": {
      "tags": null
     },
     "name": "stderr",
     "output_type": "stream",
     "text": [
      "18999it [04:49, 68.83it/s]"
     ]
    },
    {
     "metadata": {
      "tags": null
     },
     "name": "stdout",
     "output_type": "stream",
     "text": [
      "| epoch   2 | 19000/32580 batches | loss    1.350 \n"
     ]
    },
    {
     "metadata": {
      "tags": null
     },
     "name": "stderr",
     "output_type": "stream",
     "text": [
      "19013it [04:49, 46.71it/s]"
     ]
    },
    {
     "metadata": {
      "tags": null
     },
     "name": "stdout",
     "output_type": "stream",
     "text": [
      "money: him, them, able, ability, addition, it, way, work, even, taken\n",
      "lion: accepted, win, writing, size, released, piece, scene, brought, causes, africa\n",
      "africa: europe, china, india, end, america, north, east, germany, south, addition\n",
      "musician: actor, writer, singer, actress, author, addition, nine, born, painter, english\n",
      "dance: music, rock, country, style, traditional, culture, beginning, actor, democratic, formed\n",
      "\n",
      "\n"
     ]
    },
    {
     "metadata": {
      "tags": null
     },
     "name": "stderr",
     "output_type": "stream",
     "text": [
      "19497it [04:56, 68.99it/s]"
     ]
    },
    {
     "metadata": {
      "tags": null
     },
     "name": "stdout",
     "output_type": "stream",
     "text": [
      "| epoch   2 | 19500/32580 batches | loss    1.351 \n"
     ]
    },
    {
     "metadata": {
      "tags": null
     },
     "name": "stderr",
     "output_type": "stream",
     "text": [
      "19511it [04:57, 46.58it/s]"
     ]
    },
    {
     "metadata": {
      "tags": null
     },
     "name": "stdout",
     "output_type": "stream",
     "text": [
      "money: him, them, able, ability, addition, way, it, work, even, taken\n",
      "lion: accepted, win, writing, size, released, piece, scene, brought, causes, africa\n",
      "africa: europe, china, india, end, america, north, east, germany, south, addition\n",
      "musician: actor, writer, singer, actress, author, addition, nine, born, painter, english\n",
      "dance: music, rock, country, style, traditional, culture, beginning, actor, democratic, formed\n",
      "\n",
      "\n"
     ]
    },
    {
     "metadata": {
      "tags": null
     },
     "name": "stderr",
     "output_type": "stream",
     "text": [
      "19996it [05:04, 68.90it/s]"
     ]
    },
    {
     "metadata": {
      "tags": null
     },
     "name": "stdout",
     "output_type": "stream",
     "text": [
      "| epoch   2 | 20000/32580 batches | loss    1.354 \n"
     ]
    },
    {
     "metadata": {
      "tags": null
     },
     "name": "stderr",
     "output_type": "stream",
     "text": [
      "20010it [05:04, 46.19it/s]"
     ]
    },
    {
     "metadata": {
      "tags": null
     },
     "name": "stdout",
     "output_type": "stream",
     "text": [
      "money: him, them, able, ability, addition, way, it, even, work, taken\n",
      "lion: accepted, win, writing, released, size, piece, scene, brought, causes, africa\n",
      "africa: europe, china, india, end, america, north, east, germany, south, addition\n",
      "musician: actor, writer, singer, actress, author, addition, nine, born, painter, english\n",
      "dance: music, rock, country, style, traditional, culture, beginning, actor, democratic, formed\n",
      "\n",
      "\n"
     ]
    },
    {
     "metadata": {
      "tags": null
     },
     "name": "stderr",
     "output_type": "stream",
     "text": [
      "20500it [05:11, 67.29it/s]"
     ]
    },
    {
     "metadata": {
      "tags": null
     },
     "name": "stdout",
     "output_type": "stream",
     "text": [
      "| epoch   2 | 20500/32580 batches | loss    1.346 \n"
     ]
    },
    {
     "metadata": {
      "tags": null
     },
     "name": "stderr",
     "output_type": "stream",
     "text": [
      "\r",
      "20507it [05:12, 40.43it/s]"
     ]
    },
    {
     "metadata": {
      "tags": null
     },
     "name": "stdout",
     "output_type": "stream",
     "text": [
      "money: him, them, ability, able, addition, way, it, work, even, taken\n",
      "lion: accepted, win, writing, size, released, piece, scene, brought, causes, africa\n",
      "africa: europe, china, india, end, america, north, east, germany, south, addition\n",
      "musician: actor, writer, singer, actress, author, addition, nine, born, painter, english\n",
      "dance: music, rock, country, style, traditional, culture, beginning, actor, democratic, formed\n",
      "\n",
      "\n"
     ]
    },
    {
     "metadata": {
      "tags": null
     },
     "name": "stderr",
     "output_type": "stream",
     "text": [
      "20998it [05:19, 68.20it/s]"
     ]
    },
    {
     "metadata": {
      "tags": null
     },
     "name": "stdout",
     "output_type": "stream",
     "text": [
      "| epoch   2 | 21000/32580 batches | loss    1.349 \n"
     ]
    },
    {
     "metadata": {
      "tags": null
     },
     "name": "stderr",
     "output_type": "stream",
     "text": [
      "21012it [05:19, 46.45it/s]"
     ]
    },
    {
     "metadata": {
      "tags": null
     },
     "name": "stdout",
     "output_type": "stream",
     "text": [
      "money: him, them, ability, able, addition, way, it, even, work, taken\n",
      "lion: accepted, win, writing, released, size, piece, scene, brought, causes, followed\n",
      "africa: europe, china, india, end, america, north, east, germany, south, addition\n",
      "musician: actor, writer, singer, actress, author, addition, nine, born, painter, english\n",
      "dance: music, rock, country, style, traditional, culture, beginning, actor, democratic, formed\n",
      "\n",
      "\n"
     ]
    },
    {
     "metadata": {
      "tags": null
     },
     "name": "stderr",
     "output_type": "stream",
     "text": [
      "21498it [05:26, 68.47it/s]"
     ]
    },
    {
     "metadata": {
      "tags": null
     },
     "name": "stdout",
     "output_type": "stream",
     "text": [
      "| epoch   2 | 21500/32580 batches | loss    1.353 \n"
     ]
    },
    {
     "metadata": {
      "tags": null
     },
     "name": "stderr",
     "output_type": "stream",
     "text": [
      "21512it [05:27, 46.24it/s]"
     ]
    },
    {
     "metadata": {
      "tags": null
     },
     "name": "stdout",
     "output_type": "stream",
     "text": [
      "money: him, them, ability, able, addition, way, it, even, work, taken\n",
      "lion: win, accepted, writing, released, size, piece, scene, brought, causes, followed\n",
      "africa: europe, china, india, end, america, north, east, germany, south, addition\n",
      "musician: actor, writer, singer, actress, author, addition, nine, born, painter, english\n",
      "dance: music, rock, country, style, traditional, culture, beginning, actor, democratic, formed\n",
      "\n",
      "\n"
     ]
    },
    {
     "metadata": {
      "tags": null
     },
     "name": "stderr",
     "output_type": "stream",
     "text": [
      "21998it [05:34, 69.31it/s]"
     ]
    },
    {
     "metadata": {
      "tags": null
     },
     "name": "stdout",
     "output_type": "stream",
     "text": [
      "| epoch   2 | 22000/32580 batches | loss    1.352 \n"
     ]
    },
    {
     "metadata": {
      "tags": null
     },
     "name": "stderr",
     "output_type": "stream",
     "text": [
      "22012it [05:34, 47.08it/s]"
     ]
    },
    {
     "metadata": {
      "tags": null
     },
     "name": "stdout",
     "output_type": "stream",
     "text": [
      "money: him, them, ability, able, addition, way, it, even, work, taken\n",
      "lion: accepted, win, writing, released, size, piece, scene, brought, causes, followed\n",
      "africa: europe, china, india, end, america, north, east, germany, south, addition\n",
      "musician: actor, writer, singer, actress, author, addition, nine, born, painter, english\n",
      "dance: music, rock, country, style, traditional, culture, beginning, actor, democratic, formed\n",
      "\n",
      "\n"
     ]
    },
    {
     "metadata": {
      "tags": null
     },
     "name": "stderr",
     "output_type": "stream",
     "text": [
      "22496it [05:44, 68.32it/s]"
     ]
    },
    {
     "metadata": {
      "tags": null
     },
     "name": "stdout",
     "output_type": "stream",
     "text": [
      "| epoch   2 | 22500/32580 batches | loss    1.348 \n"
     ]
    },
    {
     "metadata": {
      "tags": null
     },
     "name": "stderr",
     "output_type": "stream",
     "text": [
      "22510it [05:44, 46.45it/s]"
     ]
    },
    {
     "metadata": {
      "tags": null
     },
     "name": "stdout",
     "output_type": "stream",
     "text": [
      "money: him, them, able, ability, addition, it, way, even, work, taken\n",
      "lion: accepted, win, writing, size, piece, released, scene, brought, causes, followed\n",
      "africa: europe, china, india, end, america, north, east, germany, south, addition\n",
      "musician: actor, writer, singer, actress, author, addition, nine, born, painter, english\n",
      "dance: music, rock, country, style, traditional, culture, beginning, actor, democratic, formed\n",
      "\n",
      "\n"
     ]
    },
    {
     "metadata": {
      "tags": null
     },
     "name": "stderr",
     "output_type": "stream",
     "text": [
      "22994it [05:51, 69.34it/s]"
     ]
    },
    {
     "metadata": {
      "tags": null
     },
     "name": "stdout",
     "output_type": "stream",
     "text": [
      "| epoch   2 | 23000/32580 batches | loss    1.351 \n"
     ]
    },
    {
     "metadata": {
      "tags": null
     },
     "name": "stderr",
     "output_type": "stream",
     "text": [
      "23007it [05:52, 45.20it/s]"
     ]
    },
    {
     "metadata": {
      "tags": null
     },
     "name": "stdout",
     "output_type": "stream",
     "text": [
      "money: him, them, able, ability, addition, it, way, even, work, taken\n",
      "lion: accepted, win, writing, size, piece, released, scene, brought, followed, causes\n",
      "africa: europe, china, india, end, america, north, east, germany, south, addition\n",
      "musician: actor, writer, singer, actress, author, addition, nine, born, painter, english\n",
      "dance: music, rock, country, style, traditional, culture, beginning, actor, democratic, formed\n",
      "\n",
      "\n"
     ]
    },
    {
     "metadata": {
      "tags": null
     },
     "name": "stderr",
     "output_type": "stream",
     "text": [
      "23500it [05:59, 67.78it/s]"
     ]
    },
    {
     "metadata": {
      "tags": null
     },
     "name": "stdout",
     "output_type": "stream",
     "text": [
      "| epoch   2 | 23500/32580 batches | loss    1.347 \n",
      "money: him, them, able, ability, it, addition, way, even, work, taken\n",
      "lion: accepted, win, writing, piece, size, released, scene, brought, followed, causes\n",
      "africa: europe, china, india, america, end, north, east, germany, south, addition\n",
      "musician: actor, writer, singer, actress, author, addition, nine, born, painter, english\n",
      "dance: music, rock, country, style, traditional, culture, beginning, actor, democratic, formed\n",
      "\n",
      "\n"
     ]
    },
    {
     "metadata": {
      "tags": null
     },
     "name": "stderr",
     "output_type": "stream",
     "text": [
      "23995it [06:06, 68.59it/s]"
     ]
    },
    {
     "metadata": {
      "tags": null
     },
     "name": "stdout",
     "output_type": "stream",
     "text": [
      "| epoch   2 | 24000/32580 batches | loss    1.350 \n"
     ]
    },
    {
     "metadata": {
      "tags": null
     },
     "name": "stderr",
     "output_type": "stream",
     "text": [
      "24008it [06:07, 45.26it/s]"
     ]
    },
    {
     "metadata": {
      "tags": null
     },
     "name": "stdout",
     "output_type": "stream",
     "text": [
      "money: him, them, able, it, ability, addition, way, even, work, taken\n",
      "lion: accepted, win, writing, piece, size, released, scene, brought, followed, causes\n",
      "africa: europe, china, india, end, america, north, east, germany, south, addition\n",
      "musician: actor, writer, singer, actress, author, addition, nine, born, painter, english\n",
      "dance: music, rock, country, style, traditional, culture, beginning, actor, democratic, formed\n",
      "\n",
      "\n"
     ]
    },
    {
     "metadata": {
      "tags": null
     },
     "name": "stderr",
     "output_type": "stream",
     "text": [
      "24498it [06:14, 68.62it/s]"
     ]
    },
    {
     "metadata": {
      "tags": null
     },
     "name": "stdout",
     "output_type": "stream",
     "text": [
      "| epoch   2 | 24500/32580 batches | loss    1.349 \n"
     ]
    },
    {
     "metadata": {
      "tags": null
     },
     "name": "stderr",
     "output_type": "stream",
     "text": [
      "24512it [06:14, 46.23it/s]"
     ]
    },
    {
     "metadata": {
      "tags": null
     },
     "name": "stdout",
     "output_type": "stream",
     "text": [
      "money: him, them, able, ability, addition, it, way, even, work, taken\n",
      "lion: accepted, win, writing, piece, released, size, scene, brought, followed, causes\n",
      "africa: europe, china, india, end, america, north, east, germany, south, addition\n",
      "musician: actor, writer, singer, actress, author, addition, nine, born, painter, english\n",
      "dance: music, rock, country, style, traditional, culture, beginning, actor, democratic, formed\n",
      "\n",
      "\n"
     ]
    },
    {
     "metadata": {
      "tags": null
     },
     "name": "stderr",
     "output_type": "stream",
     "text": [
      "24994it [06:21, 68.91it/s]"
     ]
    },
    {
     "metadata": {
      "tags": null
     },
     "name": "stdout",
     "output_type": "stream",
     "text": [
      "| epoch   2 | 25000/32580 batches | loss    1.349 \n"
     ]
    },
    {
     "metadata": {
      "tags": null
     },
     "name": "stderr",
     "output_type": "stream",
     "text": [
      "25007it [06:22, 45.35it/s]"
     ]
    },
    {
     "metadata": {
      "tags": null
     },
     "name": "stdout",
     "output_type": "stream",
     "text": [
      "money: him, them, it, ability, able, addition, way, even, work, taken\n",
      "lion: accepted, win, writing, piece, released, size, scene, brought, followed, causes\n",
      "africa: europe, china, india, end, america, north, east, germany, south, addition\n",
      "musician: actor, writer, singer, actress, author, addition, nine, born, painter, english\n",
      "dance: music, rock, country, style, traditional, culture, beginning, actor, democratic, formed\n",
      "\n",
      "\n"
     ]
    },
    {
     "metadata": {
      "tags": null
     },
     "name": "stderr",
     "output_type": "stream",
     "text": [
      "25497it [06:29, 69.15it/s]"
     ]
    },
    {
     "metadata": {
      "tags": null
     },
     "name": "stdout",
     "output_type": "stream",
     "text": [
      "| epoch   2 | 25500/32580 batches | loss    1.348 \n"
     ]
    },
    {
     "metadata": {
      "tags": null
     },
     "name": "stderr",
     "output_type": "stream",
     "text": [
      "25511it [06:29, 46.49it/s]"
     ]
    },
    {
     "metadata": {
      "tags": null
     },
     "name": "stdout",
     "output_type": "stream",
     "text": [
      "money: him, them, it, ability, able, addition, way, even, work, taken\n",
      "lion: win, accepted, writing, piece, released, size, scene, brought, followed, causes\n",
      "africa: europe, china, india, america, end, north, east, germany, south, addition\n",
      "musician: actor, writer, singer, actress, author, addition, nine, born, painter, english\n",
      "dance: music, rock, country, style, traditional, culture, beginning, actor, democratic, formed\n",
      "\n",
      "\n"
     ]
    },
    {
     "metadata": {
      "tags": null
     },
     "name": "stderr",
     "output_type": "stream",
     "text": [
      "25998it [06:36, 68.87it/s]"
     ]
    },
    {
     "metadata": {
      "tags": null
     },
     "name": "stdout",
     "output_type": "stream",
     "text": [
      "| epoch   2 | 26000/32580 batches | loss    1.349 \n"
     ]
    },
    {
     "metadata": {
      "tags": null
     },
     "name": "stderr",
     "output_type": "stream",
     "text": [
      "26012it [06:37, 45.89it/s]"
     ]
    },
    {
     "metadata": {
      "tags": null
     },
     "name": "stdout",
     "output_type": "stream",
     "text": [
      "money: him, them, it, able, ability, addition, way, even, work, taken\n",
      "lion: win, accepted, writing, piece, released, size, scene, brought, followed, causes\n",
      "africa: europe, china, india, america, end, north, east, germany, south, addition\n",
      "musician: actor, writer, singer, actress, author, addition, nine, born, painter, english\n",
      "dance: music, rock, country, style, traditional, culture, beginning, actor, democratic, formed\n",
      "\n",
      "\n"
     ]
    },
    {
     "metadata": {
      "tags": null
     },
     "name": "stderr",
     "output_type": "stream",
     "text": [
      "26497it [06:44, 68.77it/s]"
     ]
    },
    {
     "metadata": {
      "tags": null
     },
     "name": "stdout",
     "output_type": "stream",
     "text": [
      "| epoch   2 | 26500/32580 batches | loss    1.342 \n"
     ]
    },
    {
     "metadata": {
      "tags": null
     },
     "name": "stderr",
     "output_type": "stream",
     "text": [
      "26511it [06:44, 46.23it/s]"
     ]
    },
    {
     "metadata": {
      "tags": null
     },
     "name": "stdout",
     "output_type": "stream",
     "text": [
      "money: him, them, it, able, ability, addition, way, even, work, taken\n",
      "lion: accepted, win, writing, piece, released, size, scene, brought, followed, causes\n",
      "africa: europe, china, india, america, end, north, east, germany, south, addition\n",
      "musician: actor, writer, singer, actress, author, addition, nine, born, painter, english\n",
      "dance: music, rock, country, style, traditional, culture, beginning, actor, democratic, formed\n",
      "\n",
      "\n"
     ]
    },
    {
     "metadata": {
      "tags": null
     },
     "name": "stderr",
     "output_type": "stream",
     "text": [
      "27000it [06:51, 69.62it/s]"
     ]
    },
    {
     "metadata": {
      "tags": null
     },
     "name": "stdout",
     "output_type": "stream",
     "text": [
      "| epoch   2 | 27000/32580 batches | loss    1.349 \n"
     ]
    },
    {
     "metadata": {
      "tags": null
     },
     "name": "stderr",
     "output_type": "stream",
     "text": [
      "\r",
      "27007it [06:52, 41.97it/s]"
     ]
    },
    {
     "metadata": {
      "tags": null
     },
     "name": "stdout",
     "output_type": "stream",
     "text": [
      "money: him, them, it, able, ability, addition, way, even, work, taken\n",
      "lion: accepted, win, writing, piece, released, size, scene, brought, followed, causes\n",
      "africa: europe, china, india, america, end, north, east, germany, south, addition\n",
      "musician: actor, writer, singer, actress, author, addition, nine, born, painter, english\n",
      "dance: music, rock, country, style, traditional, culture, beginning, actor, democratic, formed\n",
      "\n",
      "\n"
     ]
    },
    {
     "metadata": {
      "tags": null
     },
     "name": "stderr",
     "output_type": "stream",
     "text": [
      "27493it [06:59, 68.91it/s]"
     ]
    },
    {
     "metadata": {
      "tags": null
     },
     "name": "stdout",
     "output_type": "stream",
     "text": [
      "| epoch   2 | 27500/32580 batches | loss    1.341 \n"
     ]
    },
    {
     "metadata": {
      "tags": null
     },
     "name": "stderr",
     "output_type": "stream",
     "text": [
      "27507it [06:59, 45.77it/s]"
     ]
    },
    {
     "metadata": {
      "tags": null
     },
     "name": "stdout",
     "output_type": "stream",
     "text": [
      "money: him, them, it, ability, able, addition, way, even, work, taken\n",
      "lion: accepted, win, writing, piece, released, size, scene, brought, followed, causes\n",
      "africa: europe, china, india, america, end, north, east, germany, south, addition\n",
      "musician: actor, writer, singer, actress, author, addition, nine, born, painter, english\n",
      "dance: music, rock, country, style, traditional, culture, beginning, actor, democratic, formed\n",
      "\n",
      "\n"
     ]
    },
    {
     "metadata": {
      "tags": null
     },
     "name": "stderr",
     "output_type": "stream",
     "text": [
      "27995it [07:06, 69.13it/s]"
     ]
    },
    {
     "metadata": {
      "tags": null
     },
     "name": "stdout",
     "output_type": "stream",
     "text": [
      "| epoch   2 | 28000/32580 batches | loss    1.346 \n"
     ]
    },
    {
     "metadata": {
      "tags": null
     },
     "name": "stderr",
     "output_type": "stream",
     "text": [
      "28008it [07:07, 45.58it/s]"
     ]
    },
    {
     "metadata": {
      "tags": null
     },
     "name": "stdout",
     "output_type": "stream",
     "text": [
      "money: him, them, ability, able, addition, it, way, even, work, taken\n",
      "lion: accepted, win, writing, piece, released, size, scene, brought, followed, causes\n",
      "africa: europe, china, india, america, end, north, east, germany, south, addition\n",
      "musician: actor, writer, singer, actress, author, addition, nine, born, painter, english\n",
      "dance: music, rock, country, style, traditional, culture, beginning, actor, democratic, formed\n",
      "\n",
      "\n"
     ]
    },
    {
     "metadata": {
      "tags": null
     },
     "name": "stderr",
     "output_type": "stream",
     "text": [
      "28497it [07:14, 68.55it/s]"
     ]
    },
    {
     "metadata": {
      "tags": null
     },
     "name": "stdout",
     "output_type": "stream",
     "text": [
      "| epoch   2 | 28500/32580 batches | loss    1.345 \n",
      "money: him, them, ability, able, it, addition, way, even, work, taken\n",
      "lion: accepted, win, piece, writing, released, size, scene, brought, followed, causes\n",
      "africa: europe, china, india, america, end, north, east, germany, south, addition\n",
      "musician: actor, writer, singer, actress, author, addition, nine, born, painter, kind\n",
      "dance: music, rock, country, style, traditional, culture, beginning, actor, democratic, formed\n"
     ]
    },
    {
     "metadata": {
      "tags": null
     },
     "name": "stderr",
     "output_type": "stream",
     "text": [
      "28511it [07:14, 46.44it/s]"
     ]
    },
    {
     "metadata": {
      "tags": null
     },
     "name": "stdout",
     "output_type": "stream",
     "text": [
      "\n",
      "\n"
     ]
    },
    {
     "metadata": {
      "tags": null
     },
     "name": "stderr",
     "output_type": "stream",
     "text": [
      "28994it [07:21, 68.57it/s]"
     ]
    },
    {
     "metadata": {
      "tags": null
     },
     "name": "stdout",
     "output_type": "stream",
     "text": [
      "| epoch   2 | 29000/32580 batches | loss    1.348 \n"
     ]
    },
    {
     "metadata": {
      "tags": null
     },
     "name": "stderr",
     "output_type": "stream",
     "text": [
      "29007it [07:22, 44.79it/s]"
     ]
    },
    {
     "metadata": {
      "tags": null
     },
     "name": "stdout",
     "output_type": "stream",
     "text": [
      "money: him, them, ability, able, it, addition, way, even, work, taken\n",
      "lion: win, accepted, piece, writing, released, size, scene, brought, followed, causes\n",
      "africa: europe, china, india, america, end, north, east, germany, south, addition\n",
      "musician: actor, writer, singer, actress, author, addition, nine, born, painter, poet\n",
      "dance: music, rock, country, style, traditional, culture, beginning, actor, democratic, formed\n",
      "\n",
      "\n"
     ]
    },
    {
     "metadata": {
      "tags": null
     },
     "name": "stderr",
     "output_type": "stream",
     "text": [
      "29495it [07:29, 67.52it/s]"
     ]
    },
    {
     "metadata": {
      "tags": null
     },
     "name": "stdout",
     "output_type": "stream",
     "text": [
      "| epoch   2 | 29500/32580 batches | loss    1.344 \n"
     ]
    },
    {
     "metadata": {
      "tags": null
     },
     "name": "stderr",
     "output_type": "stream",
     "text": [
      "29508it [07:29, 45.24it/s]"
     ]
    },
    {
     "metadata": {
      "tags": null
     },
     "name": "stdout",
     "output_type": "stream",
     "text": [
      "money: him, them, it, ability, able, addition, way, even, work, taken\n",
      "lion: win, accepted, piece, writing, released, size, scene, brought, followed, causes\n",
      "africa: europe, china, india, america, end, north, east, germany, south, addition\n",
      "musician: actor, writer, singer, actress, author, addition, nine, born, painter, poet\n",
      "dance: music, rock, country, style, traditional, culture, beginning, actor, democratic, formed\n",
      "\n",
      "\n"
     ]
    },
    {
     "metadata": {
      "tags": null
     },
     "name": "stderr",
     "output_type": "stream",
     "text": [
      "29996it [07:36, 68.66it/s]"
     ]
    },
    {
     "metadata": {
      "tags": null
     },
     "name": "stdout",
     "output_type": "stream",
     "text": [
      "| epoch   2 | 30000/32580 batches | loss    1.345 \n"
     ]
    },
    {
     "metadata": {
      "tags": null
     },
     "name": "stderr",
     "output_type": "stream",
     "text": [
      "30009it [07:37, 44.14it/s]"
     ]
    },
    {
     "metadata": {
      "tags": null
     },
     "name": "stdout",
     "output_type": "stream",
     "text": [
      "money: him, them, it, able, ability, addition, way, even, work, taken\n",
      "lion: win, accepted, piece, writing, released, size, scene, brought, followed, causes\n",
      "africa: europe, china, india, america, north, end, east, germany, south, addition\n",
      "musician: actor, writer, singer, actress, author, addition, nine, born, painter, poet\n",
      "dance: music, rock, country, style, traditional, culture, beginning, actor, democratic, formed\n",
      "\n",
      "\n"
     ]
    },
    {
     "metadata": {
      "tags": null
     },
     "name": "stderr",
     "output_type": "stream",
     "text": [
      "30498it [07:44, 69.29it/s]"
     ]
    },
    {
     "metadata": {
      "tags": null
     },
     "name": "stdout",
     "output_type": "stream",
     "text": [
      "| epoch   2 | 30500/32580 batches | loss    1.340 \n"
     ]
    },
    {
     "metadata": {
      "tags": null
     },
     "name": "stderr",
     "output_type": "stream",
     "text": [
      "30512it [07:44, 46.21it/s]"
     ]
    },
    {
     "metadata": {
      "tags": null
     },
     "name": "stdout",
     "output_type": "stream",
     "text": [
      "money: him, them, able, ability, it, addition, way, even, work, taken\n",
      "lion: win, accepted, writing, piece, released, size, scene, brought, followed, causes\n",
      "africa: europe, china, india, america, north, end, east, germany, south, addition\n",
      "musician: actor, writer, singer, actress, author, addition, nine, born, painter, poet\n",
      "dance: music, rock, country, style, traditional, culture, beginning, actor, democratic, formed\n",
      "\n",
      "\n"
     ]
    },
    {
     "metadata": {
      "tags": null
     },
     "name": "stderr",
     "output_type": "stream",
     "text": [
      "30994it [07:51, 69.54it/s]"
     ]
    },
    {
     "metadata": {
      "tags": null
     },
     "name": "stdout",
     "output_type": "stream",
     "text": [
      "| epoch   2 | 31000/32580 batches | loss    1.342 \n"
     ]
    },
    {
     "metadata": {
      "tags": null
     },
     "name": "stderr",
     "output_type": "stream",
     "text": [
      "31007it [07:52, 44.55it/s]"
     ]
    },
    {
     "metadata": {
      "tags": null
     },
     "name": "stdout",
     "output_type": "stream",
     "text": [
      "money: him, them, able, ability, it, addition, way, even, work, taken\n",
      "lion: win, accepted, writing, piece, released, size, scene, brought, followed, africa\n",
      "africa: europe, china, india, america, north, end, east, germany, south, addition\n",
      "musician: actor, writer, singer, actress, author, addition, nine, born, painter, poet\n",
      "dance: music, rock, country, style, traditional, culture, beginning, actor, democratic, formed\n",
      "\n",
      "\n"
     ]
    },
    {
     "metadata": {
      "tags": null
     },
     "name": "stderr",
     "output_type": "stream",
     "text": [
      "31498it [07:59, 67.34it/s]"
     ]
    },
    {
     "metadata": {
      "tags": null
     },
     "name": "stdout",
     "output_type": "stream",
     "text": [
      "| epoch   2 | 31500/32580 batches | loss    1.347 \n"
     ]
    },
    {
     "metadata": {
      "tags": null
     },
     "name": "stderr",
     "output_type": "stream",
     "text": [
      "31512it [07:59, 45.62it/s]"
     ]
    },
    {
     "metadata": {
      "tags": null
     },
     "name": "stdout",
     "output_type": "stream",
     "text": [
      "money: him, them, able, ability, it, addition, way, even, work, taken\n",
      "lion: win, accepted, writing, piece, released, size, scene, brought, followed, africa\n",
      "africa: europe, china, india, america, north, end, east, germany, south, addition\n",
      "musician: actor, writer, singer, actress, author, addition, nine, born, painter, poet\n",
      "dance: music, rock, country, style, traditional, culture, beginning, actor, democratic, formed\n",
      "\n",
      "\n"
     ]
    },
    {
     "metadata": {
      "tags": null
     },
     "name": "stderr",
     "output_type": "stream",
     "text": [
      "31995it [08:06, 68.35it/s]"
     ]
    },
    {
     "metadata": {
      "tags": null
     },
     "name": "stdout",
     "output_type": "stream",
     "text": [
      "| epoch   2 | 32000/32580 batches | loss    1.340 \n"
     ]
    },
    {
     "metadata": {
      "tags": null
     },
     "name": "stderr",
     "output_type": "stream",
     "text": [
      "32008it [08:07, 44.64it/s]"
     ]
    },
    {
     "metadata": {
      "tags": null
     },
     "name": "stdout",
     "output_type": "stream",
     "text": [
      "money: him, them, able, it, ability, addition, way, even, work, taken\n",
      "lion: win, accepted, writing, piece, released, scene, size, brought, followed, africa\n",
      "africa: europe, china, india, america, north, end, east, germany, south, addition\n",
      "musician: actor, writer, singer, actress, author, addition, nine, born, painter, poet\n",
      "dance: music, rock, country, style, traditional, culture, beginning, actor, democratic, formed\n",
      "\n",
      "\n"
     ]
    },
    {
     "metadata": {
      "tags": null
     },
     "name": "stderr",
     "output_type": "stream",
     "text": [
      "32498it [08:14, 68.23it/s]"
     ]
    },
    {
     "metadata": {
      "tags": null
     },
     "name": "stdout",
     "output_type": "stream",
     "text": [
      "| epoch   2 | 32500/32580 batches | loss    1.341 \n"
     ]
    },
    {
     "metadata": {
      "tags": null
     },
     "name": "stderr",
     "output_type": "stream",
     "text": [
      "32512it [08:14, 46.38it/s]"
     ]
    },
    {
     "metadata": {
      "tags": null
     },
     "name": "stdout",
     "output_type": "stream",
     "text": [
      "money: him, them, able, ability, it, addition, way, even, work, taken\n",
      "lion: win, accepted, writing, piece, released, scene, size, brought, africa, followed\n",
      "africa: europe, china, india, america, north, end, east, germany, south, addition\n",
      "musician: actor, writer, singer, actress, author, addition, nine, born, painter, poet\n",
      "dance: music, rock, country, style, traditional, culture, beginning, actor, democratic, formed\n",
      "\n",
      "\n"
     ]
    },
    {
     "metadata": {
      "tags": null
     },
     "name": "stderr",
     "output_type": "stream",
     "text": [
      "32580it [08:16, 65.57it/s]\n",
      "0it [00:00, ?it/s]"
     ]
    },
    {
     "metadata": {
      "tags": null
     },
     "name": "stdout",
     "output_type": "stream",
     "text": [
      "| epoch   3 |     0/32580 batches | loss    1.300 \n"
     ]
    },
    {
     "metadata": {
      "tags": null
     },
     "name": "stderr",
     "output_type": "stream",
     "text": [
      "7it [00:01,  7.02it/s]"
     ]
    },
    {
     "metadata": {
      "tags": null
     },
     "name": "stdout",
     "output_type": "stream",
     "text": [
      "money: him, them, able, ability, it, addition, way, even, work, taken\n",
      "lion: win, accepted, writing, piece, released, scene, size, brought, africa, followed\n",
      "africa: europe, china, india, america, north, end, east, germany, south, addition\n",
      "musician: actor, writer, singer, actress, author, addition, nine, born, painter, poet\n",
      "dance: music, rock, country, style, traditional, culture, beginning, actor, democratic, formed\n",
      "\n",
      "\n"
     ]
    },
    {
     "metadata": {
      "tags": null
     },
     "name": "stderr",
     "output_type": "stream",
     "text": [
      "500it [00:08, 69.27it/s]"
     ]
    },
    {
     "metadata": {
      "tags": null
     },
     "name": "stdout",
     "output_type": "stream",
     "text": [
      "| epoch   3 |   500/32580 batches | loss    1.331 \n"
     ]
    },
    {
     "metadata": {
      "tags": null
     },
     "name": "stderr",
     "output_type": "stream",
     "text": [
      "\r",
      "507it [00:08, 40.82it/s]"
     ]
    },
    {
     "metadata": {
      "tags": null
     },
     "name": "stdout",
     "output_type": "stream",
     "text": [
      "money: him, them, able, ability, it, addition, way, even, work, taken\n",
      "lion: win, accepted, writing, piece, released, scene, size, brought, africa, followed\n",
      "africa: europe, china, india, america, north, end, east, germany, south, addition\n",
      "musician: actor, writer, singer, actress, author, addition, nine, born, painter, poet\n",
      "dance: music, rock, country, style, traditional, culture, beginning, actor, democratic, formed\n",
      "\n",
      "\n"
     ]
    },
    {
     "metadata": {
      "tags": null
     },
     "name": "stderr",
     "output_type": "stream",
     "text": [
      "997it [00:15, 68.84it/s]"
     ]
    },
    {
     "metadata": {
      "tags": null
     },
     "name": "stdout",
     "output_type": "stream",
     "text": [
      "| epoch   3 |  1000/32580 batches | loss    1.334 \n"
     ]
    },
    {
     "metadata": {
      "tags": null
     },
     "name": "stderr",
     "output_type": "stream",
     "text": [
      "1011it [00:16, 46.44it/s]"
     ]
    },
    {
     "metadata": {
      "tags": null
     },
     "name": "stdout",
     "output_type": "stream",
     "text": [
      "money: him, them, able, ability, it, addition, way, even, work, taken\n",
      "lion: win, accepted, writing, piece, released, scene, size, brought, africa, followed\n",
      "africa: europe, china, india, america, north, end, east, germany, south, addition\n",
      "musician: actor, writer, singer, actress, author, addition, nine, born, painter, poet\n",
      "dance: music, rock, country, style, traditional, culture, beginning, actor, democratic, formed\n",
      "\n",
      "\n"
     ]
    },
    {
     "metadata": {
      "tags": null
     },
     "name": "stderr",
     "output_type": "stream",
     "text": [
      "1499it [00:23, 68.12it/s]"
     ]
    },
    {
     "metadata": {
      "tags": null
     },
     "name": "stdout",
     "output_type": "stream",
     "text": [
      "| epoch   3 |  1500/32580 batches | loss    1.333 \n",
      "money: him, them, able, it, ability, addition, way, even, work, taken\n",
      "lion: win, accepted, writing, piece, released, scene, size, brought, africa, followed\n",
      "africa: europe, china, india, america, north, end, east, germany, south, addition\n",
      "musician: actor, writer, singer, actress, author, addition, nine, born, painter, poet\n",
      "dance: music, rock, country, style, traditional, culture, beginning, actor, democratic, formed\n"
     ]
    },
    {
     "metadata": {
      "tags": null
     },
     "name": "stderr",
     "output_type": "stream",
     "text": [
      "1513it [00:23, 46.62it/s]"
     ]
    },
    {
     "metadata": {
      "tags": null
     },
     "name": "stdout",
     "output_type": "stream",
     "text": [
      "\n",
      "\n"
     ]
    },
    {
     "metadata": {
      "tags": null
     },
     "name": "stderr",
     "output_type": "stream",
     "text": [
      "2000it [00:31, 69.17it/s]"
     ]
    },
    {
     "metadata": {
      "tags": null
     },
     "name": "stdout",
     "output_type": "stream",
     "text": [
      "| epoch   3 |  2000/32580 batches | loss    1.333 \n"
     ]
    },
    {
     "metadata": {
      "tags": null
     },
     "name": "stderr",
     "output_type": "stream",
     "text": [
      "\r",
      "2007it [00:31, 40.73it/s]"
     ]
    },
    {
     "metadata": {
      "tags": null
     },
     "name": "stdout",
     "output_type": "stream",
     "text": [
      "money: him, them, able, it, ability, addition, way, even, work, taken\n",
      "lion: win, accepted, writing, piece, released, scene, size, brought, africa, followed\n",
      "africa: europe, china, india, america, north, end, east, germany, south, addition\n",
      "musician: actor, writer, singer, actress, author, addition, nine, born, painter, poet\n",
      "dance: music, rock, country, style, traditional, culture, beginning, actor, democratic, formed\n",
      "\n",
      "\n"
     ]
    },
    {
     "metadata": {
      "tags": null
     },
     "name": "stderr",
     "output_type": "stream",
     "text": [
      "2495it [00:38, 69.62it/s]"
     ]
    },
    {
     "metadata": {
      "tags": null
     },
     "name": "stdout",
     "output_type": "stream",
     "text": [
      "| epoch   3 |  2500/32580 batches | loss    1.333 \n"
     ]
    },
    {
     "metadata": {
      "tags": null
     },
     "name": "stderr",
     "output_type": "stream",
     "text": [
      "2508it [00:38, 45.90it/s]"
     ]
    },
    {
     "metadata": {
      "tags": null
     },
     "name": "stdout",
     "output_type": "stream",
     "text": [
      "money: him, them, it, able, ability, addition, way, even, work, taken\n",
      "lion: win, accepted, writing, piece, released, scene, size, brought, africa, followed\n",
      "africa: europe, china, india, america, north, end, east, germany, south, addition\n",
      "musician: actor, writer, singer, actress, author, addition, nine, born, painter, poet\n",
      "dance: music, rock, country, style, traditional, culture, beginning, actor, democratic, formed\n",
      "\n",
      "\n"
     ]
    },
    {
     "metadata": {
      "tags": null
     },
     "name": "stderr",
     "output_type": "stream",
     "text": [
      "3000it [00:46, 69.13it/s]"
     ]
    },
    {
     "metadata": {
      "tags": null
     },
     "name": "stdout",
     "output_type": "stream",
     "text": [
      "| epoch   3 |  3000/32580 batches | loss    1.335 \n"
     ]
    },
    {
     "metadata": {
      "tags": null
     },
     "name": "stderr",
     "output_type": "stream",
     "text": [
      "\r",
      "3007it [00:46, 40.83it/s]"
     ]
    },
    {
     "metadata": {
      "tags": null
     },
     "name": "stdout",
     "output_type": "stream",
     "text": [
      "money: him, them, it, able, ability, addition, way, even, work, taken\n",
      "lion: win, accepted, writing, piece, released, scene, size, brought, africa, followed\n",
      "africa: europe, china, india, america, north, end, east, germany, south, addition\n",
      "musician: actor, writer, singer, actress, author, addition, nine, born, painter, poet\n",
      "dance: music, rock, country, style, traditional, culture, beginning, actor, democratic, formed\n",
      "\n",
      "\n"
     ]
    },
    {
     "metadata": {
      "tags": null
     },
     "name": "stderr",
     "output_type": "stream",
     "text": [
      "3498it [00:53, 68.32it/s]"
     ]
    },
    {
     "metadata": {
      "tags": null
     },
     "name": "stdout",
     "output_type": "stream",
     "text": [
      "| epoch   3 |  3500/32580 batches | loss    1.337 \n"
     ]
    },
    {
     "metadata": {
      "tags": null
     },
     "name": "stderr",
     "output_type": "stream",
     "text": [
      "3512it [00:54, 46.37it/s]"
     ]
    },
    {
     "metadata": {
      "tags": null
     },
     "name": "stdout",
     "output_type": "stream",
     "text": [
      "money: him, them, able, it, ability, addition, way, even, work, taken\n",
      "lion: win, accepted, writing, piece, released, scene, size, brought, africa, followed\n",
      "africa: europe, china, india, america, north, end, east, germany, south, addition\n",
      "musician: actor, writer, singer, actress, author, addition, nine, born, painter, poet\n",
      "dance: music, rock, country, style, traditional, culture, beginning, actor, democratic, formed\n",
      "\n",
      "\n"
     ]
    },
    {
     "metadata": {
      "tags": null
     },
     "name": "stderr",
     "output_type": "stream",
     "text": [
      "3995it [01:01, 69.61it/s]"
     ]
    },
    {
     "metadata": {
      "tags": null
     },
     "name": "stdout",
     "output_type": "stream",
     "text": [
      "| epoch   3 |  4000/32580 batches | loss    1.336 \n"
     ]
    },
    {
     "metadata": {
      "tags": null
     },
     "name": "stderr",
     "output_type": "stream",
     "text": [
      "4008it [01:01, 45.57it/s]"
     ]
    },
    {
     "metadata": {
      "tags": null
     },
     "name": "stdout",
     "output_type": "stream",
     "text": [
      "money: him, them, able, it, ability, addition, way, even, work, taken\n",
      "lion: win, accepted, writing, piece, released, scene, size, brought, africa, followed\n",
      "africa: europe, china, india, america, north, end, east, germany, south, addition\n",
      "musician: actor, writer, singer, actress, author, addition, nine, born, painter, poet\n",
      "dance: music, rock, country, style, traditional, culture, beginning, actor, democratic, formed\n",
      "\n",
      "\n"
     ]
    },
    {
     "metadata": {
      "tags": null
     },
     "name": "stderr",
     "output_type": "stream",
     "text": [
      "4500it [01:08, 69.51it/s]"
     ]
    },
    {
     "metadata": {
      "tags": null
     },
     "name": "stdout",
     "output_type": "stream",
     "text": [
      "| epoch   3 |  4500/32580 batches | loss    1.333 \n"
     ]
    },
    {
     "metadata": {
      "tags": null
     },
     "name": "stderr",
     "output_type": "stream",
     "text": [
      "\r",
      "4507it [01:08, 41.00it/s]"
     ]
    },
    {
     "metadata": {
      "tags": null
     },
     "name": "stdout",
     "output_type": "stream",
     "text": [
      "money: him, them, able, it, ability, addition, way, even, work, taken\n",
      "lion: win, accepted, writing, piece, released, scene, size, brought, africa, followed\n",
      "africa: europe, china, india, america, north, end, east, germany, south, addition\n",
      "musician: actor, writer, singer, actress, author, addition, nine, born, painter, poet\n",
      "dance: music, rock, country, style, traditional, culture, beginning, actor, democratic, formed\n",
      "\n",
      "\n"
     ]
    },
    {
     "metadata": {
      "tags": null
     },
     "name": "stderr",
     "output_type": "stream",
     "text": [
      "4997it [01:16, 68.90it/s]"
     ]
    },
    {
     "metadata": {
      "tags": null
     },
     "name": "stdout",
     "output_type": "stream",
     "text": [
      "| epoch   3 |  5000/32580 batches | loss    1.332 \n"
     ]
    },
    {
     "metadata": {
      "tags": null
     },
     "name": "stderr",
     "output_type": "stream",
     "text": [
      "5011it [01:16, 45.80it/s]"
     ]
    },
    {
     "metadata": {
      "tags": null
     },
     "name": "stdout",
     "output_type": "stream",
     "text": [
      "money: him, them, able, it, ability, addition, way, even, work, taken\n",
      "lion: win, accepted, writing, piece, released, scene, size, brought, africa, followed\n",
      "africa: europe, china, india, america, north, end, east, germany, south, addition\n",
      "musician: actor, writer, singer, actress, author, addition, nine, born, painter, poet\n",
      "dance: music, rock, country, style, traditional, culture, beginning, actor, democratic, formed\n",
      "\n",
      "\n"
     ]
    },
    {
     "metadata": {
      "tags": null
     },
     "name": "stderr",
     "output_type": "stream",
     "text": [
      "5495it [01:23, 69.18it/s]"
     ]
    },
    {
     "metadata": {
      "tags": null
     },
     "name": "stdout",
     "output_type": "stream",
     "text": [
      "| epoch   3 |  5500/32580 batches | loss    1.332 \n"
     ]
    },
    {
     "metadata": {
      "tags": null
     },
     "name": "stderr",
     "output_type": "stream",
     "text": [
      "5508it [01:24, 45.67it/s]"
     ]
    },
    {
     "metadata": {
      "tags": null
     },
     "name": "stdout",
     "output_type": "stream",
     "text": [
      "money: him, them, it, able, ability, addition, way, even, work, taken\n",
      "lion: win, accepted, writing, piece, released, scene, size, brought, africa, followed\n",
      "africa: europe, china, india, america, north, end, east, germany, south, addition\n",
      "musician: actor, writer, singer, actress, author, addition, nine, born, painter, poet\n",
      "dance: music, rock, country, style, traditional, culture, beginning, actor, democratic, formed\n",
      "\n",
      "\n"
     ]
    },
    {
     "metadata": {
      "tags": null
     },
     "name": "stderr",
     "output_type": "stream",
     "text": [
      "5997it [01:31, 68.06it/s]"
     ]
    },
    {
     "metadata": {
      "tags": null
     },
     "name": "stdout",
     "output_type": "stream",
     "text": [
      "| epoch   3 |  6000/32580 batches | loss    1.334 \n"
     ]
    },
    {
     "metadata": {
      "tags": null
     },
     "name": "stderr",
     "output_type": "stream",
     "text": [
      "6011it [01:31, 45.53it/s]"
     ]
    },
    {
     "metadata": {
      "tags": null
     },
     "name": "stdout",
     "output_type": "stream",
     "text": [
      "money: him, them, it, able, ability, addition, way, even, work, taken\n",
      "lion: win, accepted, writing, piece, released, scene, size, brought, africa, followed\n",
      "africa: europe, china, india, america, north, end, east, germany, south, addition\n",
      "musician: actor, writer, singer, actress, author, addition, nine, born, painter, poet\n",
      "dance: music, rock, country, style, traditional, culture, beginning, actor, democratic, formed\n",
      "\n",
      "\n"
     ]
    },
    {
     "metadata": {
      "tags": null
     },
     "name": "stderr",
     "output_type": "stream",
     "text": [
      "6500it [01:38, 66.45it/s]"
     ]
    },
    {
     "metadata": {
      "tags": null
     },
     "name": "stdout",
     "output_type": "stream",
     "text": [
      "| epoch   3 |  6500/32580 batches | loss    1.337 \n"
     ]
    },
    {
     "metadata": {
      "tags": null
     },
     "name": "stderr",
     "output_type": "stream",
     "text": [
      "\r",
      "6507it [01:39, 40.37it/s]"
     ]
    },
    {
     "metadata": {
      "tags": null
     },
     "name": "stdout",
     "output_type": "stream",
     "text": [
      "money: him, them, it, able, ability, addition, way, even, work, taken\n",
      "lion: win, accepted, writing, piece, released, scene, size, brought, africa, followed\n",
      "africa: europe, china, india, america, north, end, east, germany, south, addition\n",
      "musician: actor, writer, singer, actress, author, addition, nine, born, painter, poet\n",
      "dance: music, rock, country, style, traditional, culture, beginning, actor, democratic, formed\n",
      "\n",
      "\n"
     ]
    },
    {
     "metadata": {
      "tags": null
     },
     "name": "stderr",
     "output_type": "stream",
     "text": [
      "6995it [01:46, 67.32it/s]"
     ]
    },
    {
     "metadata": {
      "tags": null
     },
     "name": "stdout",
     "output_type": "stream",
     "text": [
      "| epoch   3 |  7000/32580 batches | loss    1.331 \n"
     ]
    },
    {
     "metadata": {
      "tags": null
     },
     "name": "stderr",
     "output_type": "stream",
     "text": [
      "7008it [01:46, 44.69it/s]"
     ]
    },
    {
     "metadata": {
      "tags": null
     },
     "name": "stdout",
     "output_type": "stream",
     "text": [
      "money: him, them, it, able, ability, addition, way, even, work, taken\n",
      "lion: win, accepted, writing, piece, released, scene, size, brought, africa, followed\n",
      "africa: europe, china, india, america, north, end, east, germany, south, addition\n",
      "musician: actor, writer, singer, actress, author, addition, nine, born, painter, poet\n",
      "dance: music, rock, country, style, traditional, culture, beginning, actor, democratic, formed\n",
      "\n",
      "\n"
     ]
    },
    {
     "metadata": {
      "tags": null
     },
     "name": "stderr",
     "output_type": "stream",
     "text": [
      "7495it [01:53, 68.80it/s]"
     ]
    },
    {
     "metadata": {
      "tags": null
     },
     "name": "stdout",
     "output_type": "stream",
     "text": [
      "| epoch   3 |  7500/32580 batches | loss    1.336 \n"
     ]
    },
    {
     "metadata": {
      "tags": null
     },
     "name": "stderr",
     "output_type": "stream",
     "text": [
      "7508it [01:54, 45.26it/s]"
     ]
    },
    {
     "metadata": {
      "tags": null
     },
     "name": "stdout",
     "output_type": "stream",
     "text": [
      "money: him, them, it, able, ability, addition, way, even, work, taken\n",
      "lion: win, accepted, writing, piece, released, scene, size, brought, africa, followed\n",
      "africa: europe, china, india, america, north, end, east, germany, south, addition\n",
      "musician: actor, writer, singer, actress, author, addition, nine, born, painter, poet\n",
      "dance: music, rock, country, style, traditional, culture, beginning, actor, democratic, formed\n",
      "\n",
      "\n"
     ]
    },
    {
     "metadata": {
      "tags": null
     },
     "name": "stderr",
     "output_type": "stream",
     "text": [
      "7996it [02:01, 65.41it/s]"
     ]
    },
    {
     "metadata": {
      "tags": null
     },
     "name": "stdout",
     "output_type": "stream",
     "text": [
      "| epoch   3 |  8000/32580 batches | loss    1.334 \n"
     ]
    },
    {
     "metadata": {
      "tags": null
     },
     "name": "stderr",
     "output_type": "stream",
     "text": [
      "8010it [02:01, 45.07it/s]"
     ]
    },
    {
     "metadata": {
      "tags": null
     },
     "name": "stdout",
     "output_type": "stream",
     "text": [
      "money: him, them, it, able, ability, addition, way, even, work, taken\n",
      "lion: win, accepted, writing, piece, released, scene, size, brought, africa, followed\n",
      "africa: europe, china, india, america, north, end, east, germany, south, addition\n",
      "musician: actor, writer, singer, actress, author, addition, nine, born, painter, poet\n",
      "dance: music, rock, country, style, traditional, culture, beginning, actor, democratic, formed\n",
      "\n",
      "\n"
     ]
    },
    {
     "metadata": {
      "tags": null
     },
     "name": "stderr",
     "output_type": "stream",
     "text": [
      "8500it [02:08, 69.43it/s]"
     ]
    },
    {
     "metadata": {
      "tags": null
     },
     "name": "stdout",
     "output_type": "stream",
     "text": [
      "| epoch   3 |  8500/32580 batches | loss    1.336 \n"
     ]
    },
    {
     "metadata": {
      "tags": null
     },
     "name": "stderr",
     "output_type": "stream",
     "text": [
      "\r",
      "8507it [02:09, 40.95it/s]"
     ]
    },
    {
     "metadata": {
      "tags": null
     },
     "name": "stdout",
     "output_type": "stream",
     "text": [
      "money: him, them, it, able, ability, addition, way, even, work, taken\n",
      "lion: win, accepted, writing, piece, released, scene, size, brought, africa, followed\n",
      "africa: europe, china, india, america, north, end, east, germany, south, addition\n",
      "musician: actor, writer, singer, actress, author, addition, nine, born, painter, poet\n",
      "dance: music, rock, country, style, traditional, culture, beginning, actor, democratic, formed\n",
      "\n",
      "\n"
     ]
    },
    {
     "metadata": {
      "tags": null
     },
     "name": "stderr",
     "output_type": "stream",
     "text": [
      "8997it [02:16, 68.70it/s]"
     ]
    },
    {
     "metadata": {
      "tags": null
     },
     "name": "stdout",
     "output_type": "stream",
     "text": [
      "| epoch   3 |  9000/32580 batches | loss    1.332 \n"
     ]
    },
    {
     "metadata": {
      "tags": null
     },
     "name": "stderr",
     "output_type": "stream",
     "text": [
      "9011it [02:16, 46.33it/s]"
     ]
    },
    {
     "metadata": {
      "tags": null
     },
     "name": "stdout",
     "output_type": "stream",
     "text": [
      "money: him, them, it, able, ability, addition, way, even, work, taken\n",
      "lion: win, accepted, writing, piece, released, scene, size, brought, africa, followed\n",
      "africa: europe, china, india, america, north, end, east, germany, south, addition\n",
      "musician: actor, writer, singer, actress, author, addition, nine, born, painter, poet\n",
      "dance: music, rock, country, style, traditional, culture, beginning, actor, democratic, formed\n",
      "\n",
      "\n"
     ]
    },
    {
     "metadata": {
      "tags": null
     },
     "name": "stderr",
     "output_type": "stream",
     "text": [
      "9499it [02:23, 69.13it/s]"
     ]
    },
    {
     "metadata": {
      "tags": null
     },
     "name": "stdout",
     "output_type": "stream",
     "text": [
      "| epoch   3 |  9500/32580 batches | loss    1.338 \n"
     ]
    },
    {
     "metadata": {
      "tags": null
     },
     "name": "stderr",
     "output_type": "stream",
     "text": [
      "\r",
      "9506it [02:24, 40.85it/s]"
     ]
    },
    {
     "metadata": {
      "tags": null
     },
     "name": "stdout",
     "output_type": "stream",
     "text": [
      "money: him, them, it, able, ability, addition, way, even, work, taken\n",
      "lion: win, accepted, writing, piece, released, scene, size, brought, africa, followed\n",
      "africa: europe, china, india, america, north, end, east, germany, south, addition\n",
      "musician: actor, writer, singer, actress, author, addition, nine, born, painter, poet\n",
      "dance: music, rock, country, style, traditional, culture, beginning, actor, democratic, formed\n",
      "\n",
      "\n"
     ]
    },
    {
     "metadata": {
      "tags": null
     },
     "name": "stderr",
     "output_type": "stream",
     "text": [
      "9996it [02:31, 69.26it/s]"
     ]
    },
    {
     "metadata": {
      "tags": null
     },
     "name": "stdout",
     "output_type": "stream",
     "text": [
      "| epoch   3 | 10000/32580 batches | loss    1.333 \n"
     ]
    },
    {
     "metadata": {
      "tags": null
     },
     "name": "stderr",
     "output_type": "stream",
     "text": [
      "10009it [02:31, 45.47it/s]"
     ]
    },
    {
     "metadata": {
      "tags": null
     },
     "name": "stdout",
     "output_type": "stream",
     "text": [
      "money: him, them, it, able, ability, addition, way, even, work, taken\n",
      "lion: win, accepted, writing, piece, released, scene, size, brought, africa, followed\n",
      "africa: europe, china, india, america, north, end, east, germany, south, addition\n",
      "musician: actor, writer, singer, actress, author, addition, nine, born, painter, poet\n",
      "dance: music, rock, country, style, traditional, culture, beginning, actor, democratic, formed\n",
      "\n",
      "\n"
     ]
    },
    {
     "metadata": {
      "tags": null
     },
     "name": "stderr",
     "output_type": "stream",
     "text": [
      "10494it [02:38, 69.14it/s]"
     ]
    },
    {
     "metadata": {
      "tags": null
     },
     "name": "stdout",
     "output_type": "stream",
     "text": [
      "| epoch   3 | 10500/32580 batches | loss    1.335 \n"
     ]
    },
    {
     "metadata": {
      "tags": null
     },
     "name": "stderr",
     "output_type": "stream",
     "text": [
      "10507it [02:39, 43.61it/s]"
     ]
    },
    {
     "metadata": {
      "tags": null
     },
     "name": "stdout",
     "output_type": "stream",
     "text": [
      "money: him, them, it, able, ability, addition, way, even, work, taken\n",
      "lion: win, accepted, writing, piece, released, scene, size, brought, africa, followed\n",
      "africa: europe, china, india, america, north, end, east, germany, south, addition\n",
      "musician: actor, writer, singer, actress, author, addition, nine, born, painter, poet\n",
      "dance: music, rock, country, style, traditional, culture, beginning, actor, democratic, formed\n",
      "\n",
      "\n"
     ]
    },
    {
     "metadata": {
      "tags": null
     },
     "name": "stderr",
     "output_type": "stream",
     "text": [
      "10995it [02:46, 67.27it/s]"
     ]
    },
    {
     "metadata": {
      "tags": null
     },
     "name": "stdout",
     "output_type": "stream",
     "text": [
      "| epoch   3 | 11000/32580 batches | loss    1.333 \n"
     ]
    },
    {
     "metadata": {
      "tags": null
     },
     "name": "stderr",
     "output_type": "stream",
     "text": [
      "11008it [02:46, 45.24it/s]"
     ]
    },
    {
     "metadata": {
      "tags": null
     },
     "name": "stdout",
     "output_type": "stream",
     "text": [
      "money: him, them, it, able, ability, addition, way, even, work, taken\n",
      "lion: win, accepted, writing, piece, released, scene, size, brought, africa, followed\n",
      "africa: europe, china, india, america, north, end, east, germany, south, addition\n",
      "musician: actor, writer, singer, actress, author, addition, nine, born, painter, poet\n",
      "dance: music, rock, country, style, traditional, culture, beginning, actor, democratic, formed\n",
      "\n",
      "\n"
     ]
    },
    {
     "metadata": {
      "tags": null
     },
     "name": "stderr",
     "output_type": "stream",
     "text": [
      "11500it [02:54, 67.55it/s]"
     ]
    },
    {
     "metadata": {
      "tags": null
     },
     "name": "stdout",
     "output_type": "stream",
     "text": [
      "| epoch   3 | 11500/32580 batches | loss    1.334 \n"
     ]
    },
    {
     "metadata": {
      "tags": null
     },
     "name": "stderr",
     "output_type": "stream",
     "text": [
      "\r",
      "11507it [02:54, 40.47it/s]"
     ]
    },
    {
     "metadata": {
      "tags": null
     },
     "name": "stdout",
     "output_type": "stream",
     "text": [
      "money: him, them, it, able, ability, addition, way, even, work, taken\n",
      "lion: win, accepted, writing, piece, released, scene, size, brought, africa, followed\n",
      "africa: europe, china, india, america, north, end, east, germany, south, addition\n",
      "musician: actor, writer, singer, actress, author, addition, nine, born, painter, poet\n",
      "dance: music, rock, country, style, traditional, culture, beginning, actor, democratic, formed\n",
      "\n",
      "\n"
     ]
    },
    {
     "metadata": {
      "tags": null
     },
     "name": "stderr",
     "output_type": "stream",
     "text": [
      "11994it [03:01, 64.98it/s]"
     ]
    },
    {
     "metadata": {
      "tags": null
     },
     "name": "stdout",
     "output_type": "stream",
     "text": [
      "| epoch   3 | 12000/32580 batches | loss    1.335 \n"
     ]
    },
    {
     "metadata": {
      "tags": null
     },
     "name": "stderr",
     "output_type": "stream",
     "text": [
      "12007it [03:01, 43.90it/s]"
     ]
    },
    {
     "metadata": {
      "tags": null
     },
     "name": "stdout",
     "output_type": "stream",
     "text": [
      "money: him, them, it, able, ability, addition, way, even, work, taken\n",
      "lion: win, accepted, writing, piece, released, scene, size, brought, africa, followed\n",
      "africa: europe, china, india, america, north, end, east, germany, south, addition\n",
      "musician: actor, writer, singer, actress, author, addition, nine, born, painter, poet\n",
      "dance: music, rock, country, style, traditional, culture, beginning, actor, democratic, formed\n",
      "\n",
      "\n"
     ]
    },
    {
     "metadata": {
      "tags": null
     },
     "name": "stderr",
     "output_type": "stream",
     "text": [
      "12500it [03:09, 69.19it/s]"
     ]
    },
    {
     "metadata": {
      "tags": null
     },
     "name": "stdout",
     "output_type": "stream",
     "text": [
      "| epoch   3 | 12500/32580 batches | loss    1.334 \n"
     ]
    },
    {
     "metadata": {
      "tags": null
     },
     "name": "stderr",
     "output_type": "stream",
     "text": [
      "\r",
      "12507it [03:09, 41.32it/s]"
     ]
    },
    {
     "metadata": {
      "tags": null
     },
     "name": "stdout",
     "output_type": "stream",
     "text": [
      "money: him, them, it, able, ability, addition, way, even, work, taken\n",
      "lion: win, accepted, writing, piece, released, scene, size, brought, africa, followed\n",
      "africa: europe, china, india, america, north, end, east, germany, south, addition\n",
      "musician: actor, writer, singer, actress, author, addition, nine, born, painter, poet\n",
      "dance: music, rock, country, style, traditional, culture, beginning, actor, democratic, formed\n",
      "\n",
      "\n"
     ]
    },
    {
     "metadata": {
      "tags": null
     },
     "name": "stderr",
     "output_type": "stream",
     "text": [
      "12999it [03:16, 69.40it/s]"
     ]
    },
    {
     "metadata": {
      "tags": null
     },
     "name": "stdout",
     "output_type": "stream",
     "text": [
      "| epoch   3 | 13000/32580 batches | loss    1.335 \n"
     ]
    },
    {
     "metadata": {
      "tags": null
     },
     "name": "stderr",
     "output_type": "stream",
     "text": [
      "\r",
      "13006it [03:16, 41.85it/s]"
     ]
    },
    {
     "metadata": {
      "tags": null
     },
     "name": "stdout",
     "output_type": "stream",
     "text": [
      "money: him, them, it, able, ability, addition, way, even, work, taken\n",
      "lion: win, accepted, writing, piece, released, scene, size, brought, africa, followed\n",
      "africa: europe, china, india, america, north, end, east, germany, south, addition\n",
      "musician: actor, writer, singer, actress, author, addition, nine, born, painter, poet\n",
      "dance: music, rock, country, style, traditional, culture, beginning, actor, democratic, formed\n",
      "\n",
      "\n"
     ]
    },
    {
     "metadata": {
      "tags": null
     },
     "name": "stderr",
     "output_type": "stream",
     "text": [
      "13500it [03:26, 68.82it/s]"
     ]
    },
    {
     "metadata": {
      "tags": null
     },
     "name": "stdout",
     "output_type": "stream",
     "text": [
      "| epoch   3 | 13500/32580 batches | loss    1.332 \n"
     ]
    },
    {
     "metadata": {
      "tags": null
     },
     "name": "stderr",
     "output_type": "stream",
     "text": [
      "\r",
      "13507it [03:27, 40.66it/s]"
     ]
    },
    {
     "metadata": {
      "tags": null
     },
     "name": "stdout",
     "output_type": "stream",
     "text": [
      "money: him, them, it, able, ability, addition, way, even, work, taken\n",
      "lion: win, accepted, writing, piece, released, scene, size, brought, africa, followed\n",
      "africa: europe, china, india, america, north, end, east, germany, south, addition\n",
      "musician: actor, writer, singer, actress, author, addition, nine, born, painter, poet\n",
      "dance: music, rock, country, style, traditional, culture, beginning, actor, democratic, formed\n",
      "\n",
      "\n"
     ]
    },
    {
     "metadata": {
      "tags": null
     },
     "name": "stderr",
     "output_type": "stream",
     "text": [
      "13997it [03:34, 68.98it/s]"
     ]
    },
    {
     "metadata": {
      "tags": null
     },
     "name": "stdout",
     "output_type": "stream",
     "text": [
      "| epoch   3 | 14000/32580 batches | loss    1.331 \n",
      "money: him, them, it, able, ability, addition, way, even, work, taken\n"
     ]
    },
    {
     "metadata": {
      "tags": null
     },
     "name": "stderr",
     "output_type": "stream",
     "text": [
      "14011it [03:34, 46.59it/s]"
     ]
    },
    {
     "metadata": {
      "tags": null
     },
     "name": "stdout",
     "output_type": "stream",
     "text": [
      "lion: win, accepted, writing, piece, released, scene, size, brought, africa, followed\n",
      "africa: europe, china, india, america, north, end, east, germany, south, addition\n",
      "musician: actor, writer, singer, actress, author, addition, nine, born, painter, poet\n",
      "dance: music, rock, country, style, traditional, culture, beginning, actor, democratic, formed\n",
      "\n",
      "\n"
     ]
    },
    {
     "metadata": {
      "tags": null
     },
     "name": "stderr",
     "output_type": "stream",
     "text": [
      "14495it [03:41, 69.16it/s]"
     ]
    },
    {
     "metadata": {
      "tags": null
     },
     "name": "stdout",
     "output_type": "stream",
     "text": [
      "| epoch   3 | 14500/32580 batches | loss    1.333 \n"
     ]
    },
    {
     "metadata": {
      "tags": null
     },
     "name": "stderr",
     "output_type": "stream",
     "text": [
      "14508it [03:42, 45.43it/s]"
     ]
    },
    {
     "metadata": {
      "tags": null
     },
     "name": "stdout",
     "output_type": "stream",
     "text": [
      "money: him, them, it, able, ability, addition, way, even, work, taken\n",
      "lion: win, accepted, writing, piece, released, scene, size, brought, africa, followed\n",
      "africa: europe, china, india, america, north, end, east, germany, south, addition\n",
      "musician: actor, writer, singer, actress, author, addition, nine, born, painter, poet\n",
      "dance: music, rock, country, style, traditional, culture, beginning, actor, democratic, formed\n",
      "\n",
      "\n"
     ]
    },
    {
     "metadata": {
      "tags": null
     },
     "name": "stderr",
     "output_type": "stream",
     "text": [
      "15000it [03:49, 68.62it/s]"
     ]
    },
    {
     "metadata": {
      "tags": null
     },
     "name": "stdout",
     "output_type": "stream",
     "text": [
      "| epoch   3 | 15000/32580 batches | loss    1.331 \n"
     ]
    },
    {
     "metadata": {
      "tags": null
     },
     "name": "stderr",
     "output_type": "stream",
     "text": [
      "\r",
      "15007it [03:49, 40.12it/s]"
     ]
    },
    {
     "metadata": {
      "tags": null
     },
     "name": "stdout",
     "output_type": "stream",
     "text": [
      "money: him, them, it, able, ability, addition, way, even, work, taken\n",
      "lion: win, accepted, writing, piece, released, scene, size, brought, africa, followed\n",
      "africa: europe, china, india, america, north, end, east, germany, south, addition\n",
      "musician: actor, writer, singer, actress, author, addition, nine, born, painter, poet\n",
      "dance: music, rock, country, style, traditional, culture, beginning, actor, democratic, formed\n",
      "\n",
      "\n"
     ]
    },
    {
     "metadata": {
      "tags": null
     },
     "name": "stderr",
     "output_type": "stream",
     "text": [
      "15497it [03:56, 69.34it/s]"
     ]
    },
    {
     "metadata": {
      "tags": null
     },
     "name": "stdout",
     "output_type": "stream",
     "text": [
      "| epoch   3 | 15500/32580 batches | loss    1.332 \n"
     ]
    },
    {
     "metadata": {
      "tags": null
     },
     "name": "stderr",
     "output_type": "stream",
     "text": [
      "15511it [03:57, 46.57it/s]"
     ]
    },
    {
     "metadata": {
      "tags": null
     },
     "name": "stdout",
     "output_type": "stream",
     "text": [
      "money: him, them, it, able, ability, addition, way, even, work, taken\n",
      "lion: win, accepted, writing, piece, released, scene, size, brought, africa, followed\n",
      "africa: europe, china, india, america, north, end, east, germany, south, addition\n",
      "musician: actor, writer, singer, actress, author, addition, nine, born, painter, poet\n",
      "dance: music, rock, country, style, traditional, culture, beginning, actor, democratic, formed\n",
      "\n",
      "\n"
     ]
    },
    {
     "metadata": {
      "tags": null
     },
     "name": "stderr",
     "output_type": "stream",
     "text": [
      "15999it [04:04, 68.55it/s]"
     ]
    },
    {
     "metadata": {
      "tags": null
     },
     "name": "stdout",
     "output_type": "stream",
     "text": [
      "| epoch   3 | 16000/32580 batches | loss    1.334 \n"
     ]
    },
    {
     "metadata": {
      "tags": null
     },
     "name": "stderr",
     "output_type": "stream",
     "text": [
      "\r",
      "16006it [04:04, 40.66it/s]"
     ]
    },
    {
     "metadata": {
      "tags": null
     },
     "name": "stdout",
     "output_type": "stream",
     "text": [
      "money: him, them, it, able, ability, addition, way, even, work, taken\n",
      "lion: win, accepted, piece, writing, released, scene, size, brought, africa, followed\n",
      "africa: europe, china, india, america, north, end, east, germany, south, addition\n",
      "musician: actor, writer, singer, actress, author, addition, nine, born, painter, poet\n",
      "dance: music, rock, country, style, traditional, culture, beginning, actor, democratic, formed\n",
      "\n",
      "\n"
     ]
    },
    {
     "metadata": {
      "tags": null
     },
     "name": "stderr",
     "output_type": "stream",
     "text": [
      "16496it [04:11, 69.54it/s]"
     ]
    },
    {
     "metadata": {
      "tags": null
     },
     "name": "stdout",
     "output_type": "stream",
     "text": [
      "| epoch   3 | 16500/32580 batches | loss    1.331 \n"
     ]
    },
    {
     "metadata": {
      "tags": null
     },
     "name": "stderr",
     "output_type": "stream",
     "text": [
      "16509it [04:12, 45.41it/s]"
     ]
    },
    {
     "metadata": {
      "tags": null
     },
     "name": "stdout",
     "output_type": "stream",
     "text": [
      "money: him, them, it, able, ability, addition, way, even, work, taken\n",
      "lion: win, accepted, piece, writing, released, scene, size, brought, africa, followed\n",
      "africa: europe, china, india, america, north, end, east, germany, south, addition\n",
      "musician: actor, writer, singer, actress, author, addition, nine, born, painter, poet\n",
      "dance: music, rock, country, style, traditional, culture, beginning, actor, democratic, formed\n",
      "\n",
      "\n"
     ]
    },
    {
     "metadata": {
      "tags": null
     },
     "name": "stderr",
     "output_type": "stream",
     "text": [
      "16999it [04:19, 69.28it/s]"
     ]
    },
    {
     "metadata": {
      "tags": null
     },
     "name": "stdout",
     "output_type": "stream",
     "text": [
      "| epoch   3 | 17000/32580 batches | loss    1.334 \n"
     ]
    },
    {
     "metadata": {
      "tags": null
     },
     "name": "stderr",
     "output_type": "stream",
     "text": [
      "\r",
      "17006it [04:19, 41.25it/s]"
     ]
    },
    {
     "metadata": {
      "tags": null
     },
     "name": "stdout",
     "output_type": "stream",
     "text": [
      "money: him, them, it, able, ability, addition, way, even, work, taken\n",
      "lion: win, accepted, piece, writing, released, scene, size, brought, africa, followed\n",
      "africa: europe, china, india, america, north, end, east, germany, south, addition\n",
      "musician: actor, writer, singer, actress, author, addition, nine, born, painter, poet\n",
      "dance: music, rock, country, style, traditional, culture, beginning, actor, democratic, formed\n",
      "\n",
      "\n"
     ]
    },
    {
     "name": "stderr",
     "output_type": "stream",
     "text": [
      "17500it [04:27, 69.51it/s]"
     ]
    },
    {
     "name": "stdout",
     "output_type": "stream",
     "text": [
      "| epoch   3 | 17500/32580 batches | loss    1.335 \n"
     ]
    },
    {
     "name": "stderr",
     "output_type": "stream",
     "text": [
      "\r",
      "17507it [04:27, 40.88it/s]"
     ]
    },
    {
     "name": "stdout",
     "output_type": "stream",
     "text": [
      "money: him, them, it, able, ability, addition, way, even, work, taken\n",
      "lion: win, accepted, piece, writing, released, scene, size, brought, africa, followed\n",
      "africa: europe, china, india, america, north, end, east, germany, south, addition\n",
      "musician: actor, writer, singer, actress, author, addition, nine, born, painter, poet\n",
      "dance: music, rock, country, style, traditional, culture, beginning, actor, democratic, formed\n",
      "\n",
      "\n"
     ]
    },
    {
     "name": "stderr",
     "output_type": "stream",
     "text": [
      "17994it [04:34, 69.32it/s]"
     ]
    },
    {
     "name": "stdout",
     "output_type": "stream",
     "text": [
      "| epoch   3 | 18000/32580 batches | loss    1.334 \n"
     ]
    },
    {
     "name": "stderr",
     "output_type": "stream",
     "text": [
      "18007it [04:34, 45.11it/s]"
     ]
    },
    {
     "name": "stdout",
     "output_type": "stream",
     "text": [
      "money: him, them, it, able, ability, addition, way, even, work, taken\n",
      "lion: win, accepted, piece, writing, released, scene, size, brought, africa, followed\n",
      "africa: europe, china, india, america, north, end, east, germany, south, addition\n",
      "musician: actor, writer, singer, actress, author, addition, nine, born, painter, poet\n",
      "dance: music, rock, country, style, traditional, culture, beginning, actor, democratic, formed\n",
      "\n",
      "\n"
     ]
    },
    {
     "name": "stderr",
     "output_type": "stream",
     "text": [
      "18499it [04:42, 69.46it/s]"
     ]
    },
    {
     "name": "stdout",
     "output_type": "stream",
     "text": [
      "| epoch   3 | 18500/32580 batches | loss    1.334 \n"
     ]
    },
    {
     "name": "stderr",
     "output_type": "stream",
     "text": [
      "18513it [04:42, 46.61it/s]"
     ]
    },
    {
     "name": "stdout",
     "output_type": "stream",
     "text": [
      "money: him, them, it, able, ability, addition, way, even, work, taken\n",
      "lion: win, accepted, piece, writing, released, scene, size, brought, africa, followed\n",
      "africa: europe, china, india, america, north, east, end, germany, south, addition\n",
      "musician: actor, writer, singer, actress, author, addition, nine, born, painter, poet\n",
      "dance: music, rock, country, style, traditional, culture, beginning, actor, democratic, formed\n",
      "\n",
      "\n"
     ]
    },
    {
     "name": "stderr",
     "output_type": "stream",
     "text": [
      "18996it [04:49, 68.82it/s]"
     ]
    },
    {
     "name": "stdout",
     "output_type": "stream",
     "text": [
      "| epoch   3 | 19000/32580 batches | loss    1.334 \n",
      "money: him, them, it, able, ability, addition, way, even, work, taken\n",
      "lion: win, accepted, piece, writing, released, scene, size, brought, africa, followed\n",
      "africa: europe, china, india, america, north, end, east, germany, south, addition\n",
      "musician: actor, writer, singer, actress, author, addition, nine, born, painter, poet\n",
      "dance: music, rock, country, style, traditional, culture, beginning, actor, democratic, formed\n"
     ]
    },
    {
     "name": "stderr",
     "output_type": "stream",
     "text": [
      "19009it [04:49, 45.14it/s]"
     ]
    },
    {
     "name": "stdout",
     "output_type": "stream",
     "text": [
      "\n",
      "\n"
     ]
    },
    {
     "name": "stderr",
     "output_type": "stream",
     "text": [
      "19500it [04:57, 68.58it/s]"
     ]
    },
    {
     "name": "stdout",
     "output_type": "stream",
     "text": [
      "| epoch   3 | 19500/32580 batches | loss    1.335 \n"
     ]
    },
    {
     "name": "stderr",
     "output_type": "stream",
     "text": [
      "\r",
      "19507it [04:57, 40.62it/s]"
     ]
    },
    {
     "name": "stdout",
     "output_type": "stream",
     "text": [
      "money: him, them, it, able, ability, addition, way, even, work, taken\n",
      "lion: win, accepted, piece, writing, released, scene, size, brought, africa, followed\n",
      "africa: europe, china, india, america, north, end, east, germany, south, addition\n",
      "musician: actor, writer, singer, actress, author, addition, nine, born, painter, poet\n",
      "dance: music, rock, country, style, traditional, culture, beginning, actor, democratic, formed\n",
      "\n",
      "\n"
     ]
    },
    {
     "name": "stderr",
     "output_type": "stream",
     "text": [
      "19997it [05:04, 66.97it/s]"
     ]
    },
    {
     "name": "stdout",
     "output_type": "stream",
     "text": [
      "| epoch   3 | 20000/32580 batches | loss    1.330 \n"
     ]
    },
    {
     "name": "stderr",
     "output_type": "stream",
     "text": [
      "20011it [05:05, 45.65it/s]"
     ]
    },
    {
     "name": "stdout",
     "output_type": "stream",
     "text": [
      "money: him, them, it, able, ability, addition, way, even, work, taken\n",
      "lion: win, accepted, piece, writing, released, scene, size, brought, africa, followed\n",
      "africa: europe, china, india, america, north, east, end, germany, south, addition\n",
      "musician: actor, writer, singer, actress, author, addition, nine, born, painter, poet\n",
      "dance: music, rock, country, style, traditional, culture, beginning, actor, democratic, formed\n",
      "\n",
      "\n"
     ]
    },
    {
     "name": "stderr",
     "output_type": "stream",
     "text": [
      "20496it [05:12, 67.65it/s]"
     ]
    },
    {
     "name": "stdout",
     "output_type": "stream",
     "text": [
      "| epoch   3 | 20500/32580 batches | loss    1.333 \n"
     ]
    },
    {
     "name": "stderr",
     "output_type": "stream",
     "text": [
      "20509it [05:12, 43.87it/s]"
     ]
    },
    {
     "name": "stdout",
     "output_type": "stream",
     "text": [
      "money: him, them, it, able, ability, addition, way, even, work, taken\n",
      "lion: win, accepted, piece, writing, released, scene, size, brought, africa, followed\n",
      "africa: europe, china, india, america, north, east, end, germany, south, addition\n",
      "musician: actor, writer, singer, actress, author, addition, nine, born, painter, poet\n",
      "dance: music, rock, country, style, traditional, culture, beginning, actor, democratic, formed\n",
      "\n",
      "\n"
     ]
    },
    {
     "name": "stderr",
     "output_type": "stream",
     "text": [
      "21000it [05:19, 69.16it/s]"
     ]
    },
    {
     "name": "stdout",
     "output_type": "stream",
     "text": [
      "| epoch   3 | 21000/32580 batches | loss    1.336 \n"
     ]
    },
    {
     "name": "stderr",
     "output_type": "stream",
     "text": [
      "\r",
      "21007it [05:20, 40.99it/s]"
     ]
    },
    {
     "name": "stdout",
     "output_type": "stream",
     "text": [
      "money: him, them, it, able, ability, addition, way, even, work, taken\n",
      "lion: win, accepted, piece, writing, released, scene, size, brought, africa, followed\n",
      "africa: europe, china, india, america, north, east, end, germany, south, addition\n",
      "musician: actor, writer, singer, actress, author, addition, nine, born, painter, poet\n",
      "dance: music, rock, country, style, traditional, culture, beginning, actor, democratic, formed\n",
      "\n",
      "\n"
     ]
    },
    {
     "name": "stderr",
     "output_type": "stream",
     "text": [
      "21500it [05:27, 67.20it/s]"
     ]
    },
    {
     "name": "stdout",
     "output_type": "stream",
     "text": [
      "| epoch   3 | 21500/32580 batches | loss    1.332 \n"
     ]
    },
    {
     "name": "stderr",
     "output_type": "stream",
     "text": [
      "\r",
      "21507it [05:27, 40.60it/s]"
     ]
    },
    {
     "name": "stdout",
     "output_type": "stream",
     "text": [
      "money: him, them, it, able, ability, addition, way, even, work, taken\n",
      "lion: win, accepted, piece, writing, released, scene, size, brought, africa, followed\n",
      "africa: europe, china, india, america, north, east, end, germany, south, addition\n",
      "musician: actor, writer, singer, actress, author, addition, nine, born, painter, poet\n",
      "dance: music, rock, country, style, traditional, culture, beginning, actor, democratic, formed\n",
      "\n",
      "\n"
     ]
    },
    {
     "name": "stderr",
     "output_type": "stream",
     "text": [
      "21998it [05:34, 68.43it/s]"
     ]
    },
    {
     "name": "stdout",
     "output_type": "stream",
     "text": [
      "| epoch   3 | 22000/32580 batches | loss    1.331 \n"
     ]
    },
    {
     "name": "stderr",
     "output_type": "stream",
     "text": [
      "22012it [05:35, 46.26it/s]"
     ]
    },
    {
     "name": "stdout",
     "output_type": "stream",
     "text": [
      "money: him, them, it, able, ability, addition, way, even, work, taken\n",
      "lion: win, accepted, piece, writing, released, scene, size, brought, africa, followed\n",
      "africa: europe, china, india, america, north, east, end, germany, south, addition\n",
      "musician: actor, writer, singer, actress, author, addition, nine, born, painter, poet\n",
      "dance: music, rock, country, style, traditional, culture, beginning, actor, democratic, formed\n",
      "\n",
      "\n"
     ]
    },
    {
     "name": "stderr",
     "output_type": "stream",
     "text": [
      "22495it [05:42, 68.82it/s]"
     ]
    },
    {
     "name": "stdout",
     "output_type": "stream",
     "text": [
      "| epoch   3 | 22500/32580 batches | loss    1.335 \n"
     ]
    },
    {
     "name": "stderr",
     "output_type": "stream",
     "text": [
      "22508it [05:42, 45.20it/s]"
     ]
    },
    {
     "name": "stdout",
     "output_type": "stream",
     "text": [
      "money: him, them, it, able, ability, addition, way, even, work, taken\n",
      "lion: win, accepted, piece, writing, released, scene, size, brought, africa, followed\n",
      "africa: europe, china, india, america, north, east, end, germany, south, addition\n",
      "musician: actor, writer, singer, actress, author, addition, nine, born, painter, poet\n",
      "dance: music, rock, country, style, traditional, culture, beginning, actor, democratic, formed\n",
      "\n",
      "\n"
     ]
    },
    {
     "name": "stderr",
     "output_type": "stream",
     "text": [
      "22999it [05:49, 69.34it/s]"
     ]
    },
    {
     "name": "stdout",
     "output_type": "stream",
     "text": [
      "| epoch   3 | 23000/32580 batches | loss    1.334 \n"
     ]
    },
    {
     "name": "stderr",
     "output_type": "stream",
     "text": [
      "\r",
      "23006it [05:50, 40.74it/s]"
     ]
    },
    {
     "name": "stdout",
     "output_type": "stream",
     "text": [
      "money: him, them, it, able, ability, addition, way, even, work, taken\n",
      "lion: win, accepted, piece, writing, released, scene, size, brought, africa, followed\n",
      "africa: europe, china, india, america, north, east, end, germany, south, addition\n",
      "musician: actor, writer, singer, actress, author, addition, nine, born, painter, poet\n",
      "dance: music, rock, country, style, traditional, culture, beginning, actor, democratic, formed\n",
      "\n",
      "\n"
     ]
    },
    {
     "name": "stderr",
     "output_type": "stream",
     "text": [
      "23497it [05:57, 69.11it/s]"
     ]
    },
    {
     "name": "stdout",
     "output_type": "stream",
     "text": [
      "| epoch   3 | 23500/32580 batches | loss    1.333 \n"
     ]
    },
    {
     "name": "stderr",
     "output_type": "stream",
     "text": [
      "23511it [05:57, 46.48it/s]"
     ]
    },
    {
     "name": "stdout",
     "output_type": "stream",
     "text": [
      "money: him, them, it, able, ability, addition, way, even, work, taken\n",
      "lion: win, accepted, piece, writing, released, scene, size, brought, africa, followed\n",
      "africa: europe, china, india, america, north, east, end, germany, south, addition\n",
      "musician: actor, writer, singer, actress, author, addition, nine, born, painter, poet\n",
      "dance: music, rock, country, style, traditional, culture, beginning, actor, democratic, formed\n",
      "\n",
      "\n"
     ]
    },
    {
     "name": "stderr",
     "output_type": "stream",
     "text": [
      "23998it [06:04, 69.49it/s]"
     ]
    },
    {
     "name": "stdout",
     "output_type": "stream",
     "text": [
      "| epoch   3 | 24000/32580 batches | loss    1.334 \n"
     ]
    },
    {
     "name": "stderr",
     "output_type": "stream",
     "text": [
      "24012it [06:05, 46.68it/s]"
     ]
    },
    {
     "name": "stdout",
     "output_type": "stream",
     "text": [
      "money: him, them, it, able, ability, addition, way, even, work, taken\n",
      "lion: win, accepted, piece, writing, released, scene, size, brought, africa, followed\n",
      "africa: europe, china, india, america, north, east, end, germany, south, addition\n",
      "musician: actor, writer, singer, actress, author, addition, nine, born, painter, poet\n",
      "dance: music, rock, country, style, traditional, culture, beginning, actor, democratic, formed\n",
      "\n",
      "\n"
     ]
    },
    {
     "name": "stderr",
     "output_type": "stream",
     "text": [
      "24494it [06:12, 68.59it/s]"
     ]
    },
    {
     "name": "stdout",
     "output_type": "stream",
     "text": [
      "| epoch   3 | 24500/32580 batches | loss    1.332 \n"
     ]
    },
    {
     "name": "stderr",
     "output_type": "stream",
     "text": [
      "24507it [06:12, 45.33it/s]"
     ]
    },
    {
     "name": "stdout",
     "output_type": "stream",
     "text": [
      "money: him, them, it, able, ability, addition, even, way, work, taken\n",
      "lion: win, accepted, piece, writing, released, scene, size, brought, africa, followed\n",
      "africa: europe, china, india, america, north, east, end, germany, south, addition\n",
      "musician: actor, writer, singer, actress, author, addition, nine, born, painter, poet\n",
      "dance: music, rock, country, style, traditional, culture, beginning, actor, democratic, formed\n",
      "\n",
      "\n"
     ]
    },
    {
     "name": "stderr",
     "output_type": "stream",
     "text": [
      "24996it [06:19, 69.06it/s]"
     ]
    },
    {
     "name": "stdout",
     "output_type": "stream",
     "text": [
      "| epoch   3 | 25000/32580 batches | loss    1.334 \n"
     ]
    },
    {
     "name": "stderr",
     "output_type": "stream",
     "text": [
      "25010it [06:20, 46.24it/s]"
     ]
    },
    {
     "name": "stdout",
     "output_type": "stream",
     "text": [
      "money: him, them, it, able, ability, addition, way, even, work, taken\n",
      "lion: win, accepted, piece, writing, released, scene, size, brought, africa, followed\n",
      "africa: europe, china, india, america, north, east, end, germany, south, addition\n",
      "musician: actor, writer, singer, actress, author, addition, nine, born, painter, poet\n",
      "dance: music, rock, country, style, traditional, culture, beginning, actor, democratic, formed\n",
      "\n",
      "\n"
     ]
    },
    {
     "name": "stderr",
     "output_type": "stream",
     "text": [
      "25494it [06:27, 67.57it/s]"
     ]
    },
    {
     "name": "stdout",
     "output_type": "stream",
     "text": [
      "| epoch   3 | 25500/32580 batches | loss    1.337 \n"
     ]
    },
    {
     "name": "stderr",
     "output_type": "stream",
     "text": [
      "25507it [06:27, 45.00it/s]"
     ]
    },
    {
     "name": "stdout",
     "output_type": "stream",
     "text": [
      "money: him, them, it, able, ability, addition, way, even, work, taken\n",
      "lion: win, accepted, piece, writing, released, scene, size, brought, africa, followed\n",
      "africa: europe, china, india, america, north, east, end, germany, south, addition\n",
      "musician: actor, writer, singer, actress, author, addition, nine, born, painter, poet\n",
      "dance: music, rock, country, style, traditional, culture, beginning, actor, democratic, formed\n",
      "\n",
      "\n"
     ]
    },
    {
     "name": "stderr",
     "output_type": "stream",
     "text": [
      "25997it [06:34, 67.38it/s]"
     ]
    },
    {
     "name": "stdout",
     "output_type": "stream",
     "text": [
      "| epoch   3 | 26000/32580 batches | loss    1.333 \n"
     ]
    },
    {
     "name": "stderr",
     "output_type": "stream",
     "text": [
      "26011it [06:35, 46.02it/s]"
     ]
    },
    {
     "name": "stdout",
     "output_type": "stream",
     "text": [
      "money: him, them, it, able, ability, addition, way, even, work, taken\n",
      "lion: win, accepted, piece, writing, released, scene, size, brought, africa, followed\n",
      "africa: europe, china, india, america, north, east, end, germany, south, addition\n",
      "musician: actor, writer, singer, actress, author, addition, nine, born, painter, poet\n",
      "dance: music, rock, country, style, traditional, culture, beginning, actor, democratic, formed\n",
      "\n",
      "\n"
     ]
    },
    {
     "name": "stderr",
     "output_type": "stream",
     "text": [
      "26499it [06:42, 69.34it/s]"
     ]
    },
    {
     "name": "stdout",
     "output_type": "stream",
     "text": [
      "| epoch   3 | 26500/32580 batches | loss    1.330 \n"
     ]
    },
    {
     "name": "stderr",
     "output_type": "stream",
     "text": [
      "\r",
      "26506it [06:42, 40.78it/s]"
     ]
    },
    {
     "name": "stdout",
     "output_type": "stream",
     "text": [
      "money: him, them, it, able, ability, addition, way, even, work, taken\n",
      "lion: win, accepted, piece, writing, released, scene, size, brought, africa, followed\n",
      "africa: europe, china, india, america, north, east, end, germany, south, addition\n",
      "musician: actor, writer, singer, actress, author, addition, nine, born, painter, poet\n",
      "dance: music, rock, country, style, traditional, culture, beginning, actor, democratic, formed\n",
      "\n",
      "\n"
     ]
    },
    {
     "name": "stderr",
     "output_type": "stream",
     "text": [
      "26997it [06:49, 69.22it/s]"
     ]
    },
    {
     "name": "stdout",
     "output_type": "stream",
     "text": [
      "| epoch   3 | 27000/32580 batches | loss    1.335 \n"
     ]
    },
    {
     "name": "stderr",
     "output_type": "stream",
     "text": [
      "27011it [06:50, 45.49it/s]"
     ]
    },
    {
     "name": "stdout",
     "output_type": "stream",
     "text": [
      "money: him, them, it, able, ability, addition, way, even, work, taken\n",
      "lion: win, accepted, piece, writing, released, scene, size, brought, africa, followed\n",
      "africa: europe, china, india, america, north, east, end, germany, south, addition\n",
      "musician: actor, writer, singer, actress, author, addition, nine, born, painter, poet\n",
      "dance: music, rock, country, style, traditional, culture, beginning, actor, democratic, formed\n",
      "\n",
      "\n"
     ]
    },
    {
     "name": "stderr",
     "output_type": "stream",
     "text": [
      "27494it [06:57, 68.54it/s]"
     ]
    },
    {
     "name": "stdout",
     "output_type": "stream",
     "text": [
      "| epoch   3 | 27500/32580 batches | loss    1.336 \n"
     ]
    },
    {
     "name": "stderr",
     "output_type": "stream",
     "text": [
      "27507it [06:57, 43.21it/s]"
     ]
    },
    {
     "name": "stdout",
     "output_type": "stream",
     "text": [
      "money: him, them, it, able, ability, addition, way, even, work, taken\n",
      "lion: win, accepted, piece, writing, released, scene, size, brought, africa, followed\n",
      "africa: europe, china, india, america, north, east, end, germany, south, addition\n",
      "musician: actor, writer, singer, actress, author, addition, nine, born, painter, poet\n",
      "dance: music, rock, country, style, traditional, culture, beginning, actor, democratic, formed\n",
      "\n",
      "\n"
     ]
    },
    {
     "name": "stderr",
     "output_type": "stream",
     "text": [
      "27997it [07:04, 68.82it/s]"
     ]
    },
    {
     "name": "stdout",
     "output_type": "stream",
     "text": [
      "| epoch   3 | 28000/32580 batches | loss    1.332 \n"
     ]
    },
    {
     "name": "stderr",
     "output_type": "stream",
     "text": [
      "28011it [07:05, 46.32it/s]"
     ]
    },
    {
     "name": "stdout",
     "output_type": "stream",
     "text": [
      "money: him, them, it, able, ability, addition, way, even, work, taken\n",
      "lion: win, accepted, piece, writing, released, scene, size, brought, africa, followed\n",
      "africa: europe, china, india, america, north, east, end, germany, south, addition\n",
      "musician: actor, writer, singer, actress, author, addition, nine, born, painter, poet\n",
      "dance: music, rock, country, style, traditional, culture, beginning, actor, democratic, formed\n",
      "\n",
      "\n"
     ]
    },
    {
     "name": "stderr",
     "output_type": "stream",
     "text": [
      "28497it [07:12, 68.78it/s]"
     ]
    },
    {
     "name": "stdout",
     "output_type": "stream",
     "text": [
      "| epoch   3 | 28500/32580 batches | loss    1.331 \n"
     ]
    },
    {
     "name": "stderr",
     "output_type": "stream",
     "text": [
      "28511it [07:12, 46.32it/s]"
     ]
    },
    {
     "name": "stdout",
     "output_type": "stream",
     "text": [
      "money: him, them, it, able, ability, addition, way, even, work, taken\n",
      "lion: win, accepted, piece, writing, released, scene, size, brought, africa, followed\n",
      "africa: europe, china, india, america, north, east, end, germany, south, addition\n",
      "musician: actor, writer, singer, actress, author, addition, nine, born, painter, poet\n",
      "dance: music, rock, country, style, traditional, culture, beginning, actor, democratic, formed\n",
      "\n",
      "\n"
     ]
    },
    {
     "name": "stderr",
     "output_type": "stream",
     "text": [
      "28994it [07:19, 68.65it/s]"
     ]
    },
    {
     "name": "stdout",
     "output_type": "stream",
     "text": [
      "| epoch   3 | 29000/32580 batches | loss    1.333 \n"
     ]
    },
    {
     "name": "stderr",
     "output_type": "stream",
     "text": [
      "29007it [07:20, 44.40it/s]"
     ]
    },
    {
     "name": "stdout",
     "output_type": "stream",
     "text": [
      "money: him, them, it, able, ability, addition, way, even, work, taken\n",
      "lion: win, accepted, piece, writing, released, scene, size, brought, africa, followed\n",
      "africa: europe, china, india, america, north, east, end, germany, south, addition\n",
      "musician: actor, writer, singer, actress, author, addition, nine, born, painter, poet\n",
      "dance: music, rock, country, style, traditional, culture, beginning, actor, democratic, formed\n",
      "\n",
      "\n"
     ]
    },
    {
     "name": "stderr",
     "output_type": "stream",
     "text": [
      "29498it [07:27, 68.41it/s]"
     ]
    },
    {
     "name": "stdout",
     "output_type": "stream",
     "text": [
      "| epoch   3 | 29500/32580 batches | loss    1.335 \n"
     ]
    },
    {
     "name": "stderr",
     "output_type": "stream",
     "text": [
      "29512it [07:28, 46.24it/s]"
     ]
    },
    {
     "name": "stdout",
     "output_type": "stream",
     "text": [
      "money: him, them, it, able, ability, addition, way, even, work, taken\n",
      "lion: win, accepted, piece, writing, released, scene, size, brought, africa, followed\n",
      "africa: europe, china, india, america, north, east, end, germany, south, addition\n",
      "musician: actor, writer, singer, actress, author, addition, nine, born, painter, poet\n",
      "dance: music, rock, country, style, traditional, culture, beginning, actor, democratic, formed\n",
      "\n",
      "\n"
     ]
    },
    {
     "name": "stderr",
     "output_type": "stream",
     "text": [
      "29995it [07:35, 69.35it/s]"
     ]
    },
    {
     "name": "stdout",
     "output_type": "stream",
     "text": [
      "| epoch   3 | 30000/32580 batches | loss    1.332 \n"
     ]
    },
    {
     "name": "stderr",
     "output_type": "stream",
     "text": [
      "30008it [07:35, 45.61it/s]"
     ]
    },
    {
     "name": "stdout",
     "output_type": "stream",
     "text": [
      "money: him, them, it, able, ability, addition, way, even, work, taken\n",
      "lion: win, accepted, piece, writing, released, scene, size, brought, africa, followed\n",
      "africa: europe, china, india, america, north, east, end, germany, south, addition\n",
      "musician: actor, writer, singer, actress, author, addition, nine, born, painter, poet\n",
      "dance: music, rock, country, style, traditional, culture, beginning, actor, democratic, formed\n",
      "\n",
      "\n"
     ]
    },
    {
     "name": "stderr",
     "output_type": "stream",
     "text": [
      "30499it [07:42, 68.86it/s]"
     ]
    },
    {
     "name": "stdout",
     "output_type": "stream",
     "text": [
      "| epoch   3 | 30500/32580 batches | loss    1.336 \n"
     ]
    },
    {
     "name": "stderr",
     "output_type": "stream",
     "text": [
      "30513it [07:43, 46.67it/s]"
     ]
    },
    {
     "name": "stdout",
     "output_type": "stream",
     "text": [
      "money: him, them, it, able, ability, addition, way, even, work, taken\n",
      "lion: win, accepted, piece, writing, released, scene, size, brought, africa, followed\n",
      "africa: europe, china, india, america, north, east, end, germany, south, addition\n",
      "musician: actor, writer, singer, actress, author, addition, nine, born, painter, poet\n",
      "dance: music, rock, country, style, traditional, culture, beginning, actor, democratic, formed\n",
      "\n",
      "\n"
     ]
    },
    {
     "name": "stderr",
     "output_type": "stream",
     "text": [
      "30996it [07:50, 68.14it/s]"
     ]
    },
    {
     "name": "stdout",
     "output_type": "stream",
     "text": [
      "| epoch   3 | 31000/32580 batches | loss    1.329 \n"
     ]
    },
    {
     "name": "stderr",
     "output_type": "stream",
     "text": [
      "31009it [07:50, 44.58it/s]"
     ]
    },
    {
     "name": "stdout",
     "output_type": "stream",
     "text": [
      "money: him, them, it, able, ability, addition, way, even, work, taken\n",
      "lion: win, accepted, piece, writing, released, scene, size, brought, africa, followed\n",
      "africa: europe, china, india, america, north, east, end, germany, south, addition\n",
      "musician: actor, writer, singer, actress, author, addition, nine, born, painter, poet\n",
      "dance: music, rock, country, style, traditional, culture, beginning, actor, democratic, formed\n",
      "\n",
      "\n"
     ]
    },
    {
     "name": "stderr",
     "output_type": "stream",
     "text": [
      "31494it [07:57, 68.92it/s]"
     ]
    },
    {
     "name": "stdout",
     "output_type": "stream",
     "text": [
      "| epoch   3 | 31500/32580 batches | loss    1.329 \n"
     ]
    },
    {
     "name": "stderr",
     "output_type": "stream",
     "text": [
      "31507it [07:58, 45.18it/s]"
     ]
    },
    {
     "name": "stdout",
     "output_type": "stream",
     "text": [
      "money: him, them, it, able, ability, addition, way, even, work, taken\n",
      "lion: win, accepted, piece, writing, released, scene, size, brought, africa, followed\n",
      "africa: europe, china, india, america, north, east, end, germany, south, addition\n",
      "musician: actor, writer, singer, actress, author, addition, nine, born, painter, poet\n",
      "dance: music, rock, country, style, traditional, culture, beginning, actor, democratic, formed\n",
      "\n",
      "\n"
     ]
    },
    {
     "name": "stderr",
     "output_type": "stream",
     "text": [
      "31994it [08:05, 69.19it/s]"
     ]
    },
    {
     "name": "stdout",
     "output_type": "stream",
     "text": [
      "| epoch   3 | 32000/32580 batches | loss    1.329 \n"
     ]
    },
    {
     "name": "stderr",
     "output_type": "stream",
     "text": [
      "32007it [08:05, 45.37it/s]"
     ]
    },
    {
     "name": "stdout",
     "output_type": "stream",
     "text": [
      "money: him, them, it, able, ability, addition, way, even, work, taken\n",
      "lion: win, accepted, piece, writing, released, scene, size, brought, africa, followed\n",
      "africa: europe, china, india, america, north, east, end, germany, south, addition\n",
      "musician: actor, writer, singer, actress, author, addition, nine, born, painter, poet\n",
      "dance: music, rock, country, style, traditional, culture, beginning, actor, democratic, formed\n",
      "\n",
      "\n"
     ]
    },
    {
     "name": "stderr",
     "output_type": "stream",
     "text": [
      "32497it [08:12, 69.22it/s]"
     ]
    },
    {
     "name": "stdout",
     "output_type": "stream",
     "text": [
      "| epoch   3 | 32500/32580 batches | loss    1.331 \n"
     ]
    },
    {
     "name": "stderr",
     "output_type": "stream",
     "text": [
      "32511it [08:13, 46.21it/s]"
     ]
    },
    {
     "name": "stdout",
     "output_type": "stream",
     "text": [
      "money: him, them, it, able, ability, addition, way, even, work, taken\n",
      "lion: win, accepted, piece, writing, released, scene, size, brought, africa, followed\n",
      "africa: europe, china, india, america, north, east, end, germany, south, addition\n",
      "musician: actor, writer, singer, actress, author, addition, nine, born, painter, poet\n",
      "dance: music, rock, country, style, traditional, culture, beginning, actor, democratic, formed\n",
      "\n",
      "\n"
     ]
    },
    {
     "name": "stderr",
     "output_type": "stream",
     "text": [
      "32580it [08:15, 65.79it/s]\n",
      "0it [00:00, ?it/s]"
     ]
    },
    {
     "name": "stdout",
     "output_type": "stream",
     "text": [
      "| epoch   4 |     0/32580 batches | loss    1.229 \n"
     ]
    },
    {
     "name": "stderr",
     "output_type": "stream",
     "text": [
      "7it [00:01,  6.83it/s]"
     ]
    },
    {
     "name": "stdout",
     "output_type": "stream",
     "text": [
      "money: him, them, it, able, ability, addition, way, even, work, taken\n",
      "lion: win, accepted, piece, writing, released, scene, size, brought, africa, followed\n",
      "africa: europe, china, india, america, north, east, end, germany, south, addition\n",
      "musician: actor, writer, singer, actress, author, addition, nine, born, painter, poet\n",
      "dance: music, rock, country, style, traditional, culture, beginning, actor, democratic, formed\n",
      "\n",
      "\n"
     ]
    },
    {
     "name": "stderr",
     "output_type": "stream",
     "text": [
      "499it [00:08, 68.26it/s]"
     ]
    },
    {
     "name": "stdout",
     "output_type": "stream",
     "text": [
      "| epoch   4 |   500/32580 batches | loss    1.331 \n"
     ]
    },
    {
     "name": "stderr",
     "output_type": "stream",
     "text": [
      "\r",
      "506it [00:08, 40.26it/s]"
     ]
    },
    {
     "name": "stdout",
     "output_type": "stream",
     "text": [
      "money: him, them, it, able, ability, addition, way, even, work, taken\n",
      "lion: win, accepted, piece, writing, released, scene, size, brought, africa, followed\n",
      "africa: europe, china, india, america, north, east, end, germany, south, addition\n",
      "musician: actor, writer, singer, actress, author, addition, nine, born, painter, poet\n",
      "dance: music, rock, country, style, traditional, culture, beginning, actor, democratic, formed\n",
      "\n",
      "\n"
     ]
    },
    {
     "name": "stderr",
     "output_type": "stream",
     "text": [
      "996it [00:16, 67.90it/s]"
     ]
    },
    {
     "name": "stdout",
     "output_type": "stream",
     "text": [
      "| epoch   4 |  1000/32580 batches | loss    1.333 \n"
     ]
    },
    {
     "name": "stderr",
     "output_type": "stream",
     "text": [
      "1010it [00:16, 45.63it/s]"
     ]
    },
    {
     "name": "stdout",
     "output_type": "stream",
     "text": [
      "money: him, them, it, able, ability, addition, way, even, work, taken\n",
      "lion: win, accepted, piece, writing, released, scene, size, brought, africa, followed\n",
      "africa: europe, china, india, america, north, east, end, germany, south, addition\n",
      "musician: actor, writer, singer, actress, author, addition, nine, born, painter, poet\n",
      "dance: music, rock, country, style, traditional, culture, beginning, actor, democratic, formed\n",
      "\n",
      "\n"
     ]
    },
    {
     "name": "stderr",
     "output_type": "stream",
     "text": [
      "1500it [00:23, 69.18it/s]"
     ]
    },
    {
     "name": "stdout",
     "output_type": "stream",
     "text": [
      "| epoch   4 |  1500/32580 batches | loss    1.332 \n"
     ]
    },
    {
     "name": "stderr",
     "output_type": "stream",
     "text": [
      "\r",
      "1507it [00:23, 40.87it/s]"
     ]
    },
    {
     "name": "stdout",
     "output_type": "stream",
     "text": [
      "money: him, them, it, able, ability, addition, way, even, work, taken\n",
      "lion: win, accepted, piece, writing, released, scene, size, brought, africa, followed\n",
      "africa: europe, china, india, america, north, east, end, germany, south, addition\n",
      "musician: actor, writer, singer, actress, author, addition, nine, born, painter, poet\n",
      "dance: music, rock, country, style, traditional, culture, beginning, actor, democratic, formed\n",
      "\n",
      "\n"
     ]
    },
    {
     "name": "stderr",
     "output_type": "stream",
     "text": [
      "1997it [00:31, 67.79it/s]"
     ]
    },
    {
     "name": "stdout",
     "output_type": "stream",
     "text": [
      "| epoch   4 |  2000/32580 batches | loss    1.330 \n"
     ]
    },
    {
     "name": "stderr",
     "output_type": "stream",
     "text": [
      "2011it [00:31, 46.01it/s]"
     ]
    },
    {
     "name": "stdout",
     "output_type": "stream",
     "text": [
      "money: him, them, it, able, ability, addition, way, even, work, taken\n",
      "lion: win, accepted, piece, writing, released, scene, size, brought, africa, followed\n",
      "africa: europe, china, india, america, north, east, end, germany, south, addition\n",
      "musician: actor, writer, singer, actress, author, addition, nine, born, painter, poet\n",
      "dance: music, rock, country, style, traditional, culture, beginning, actor, democratic, formed\n",
      "\n",
      "\n"
     ]
    },
    {
     "name": "stderr",
     "output_type": "stream",
     "text": [
      "2494it [00:38, 69.28it/s]"
     ]
    },
    {
     "name": "stdout",
     "output_type": "stream",
     "text": [
      "| epoch   4 |  2500/32580 batches | loss    1.330 \n"
     ]
    },
    {
     "name": "stderr",
     "output_type": "stream",
     "text": [
      "2507it [00:39, 44.74it/s]"
     ]
    },
    {
     "name": "stdout",
     "output_type": "stream",
     "text": [
      "money: him, them, it, able, ability, addition, way, even, work, taken\n",
      "lion: win, accepted, piece, writing, released, scene, size, brought, africa, followed\n",
      "africa: europe, china, india, america, north, east, end, germany, south, addition\n",
      "musician: actor, writer, singer, actress, author, addition, nine, born, painter, poet\n",
      "dance: music, rock, country, style, traditional, culture, beginning, actor, democratic, formed\n",
      "\n",
      "\n"
     ]
    },
    {
     "name": "stderr",
     "output_type": "stream",
     "text": [
      "2998it [00:46, 68.08it/s]"
     ]
    },
    {
     "name": "stdout",
     "output_type": "stream",
     "text": [
      "| epoch   4 |  3000/32580 batches | loss    1.332 \n"
     ]
    },
    {
     "name": "stderr",
     "output_type": "stream",
     "text": [
      "3012it [00:46, 46.38it/s]"
     ]
    },
    {
     "name": "stdout",
     "output_type": "stream",
     "text": [
      "money: him, them, it, able, ability, addition, way, even, work, taken\n",
      "lion: win, accepted, piece, writing, released, scene, size, brought, africa, followed\n",
      "africa: europe, china, india, america, north, east, end, germany, south, addition\n",
      "musician: actor, writer, singer, actress, author, addition, nine, born, painter, poet\n",
      "dance: music, rock, country, style, traditional, culture, beginning, actor, democratic, formed\n",
      "\n",
      "\n"
     ]
    },
    {
     "name": "stderr",
     "output_type": "stream",
     "text": [
      "3495it [00:53, 68.34it/s]"
     ]
    },
    {
     "name": "stdout",
     "output_type": "stream",
     "text": [
      "| epoch   4 |  3500/32580 batches | loss    1.333 \n"
     ]
    },
    {
     "name": "stderr",
     "output_type": "stream",
     "text": [
      "3508it [00:54, 45.26it/s]"
     ]
    },
    {
     "name": "stdout",
     "output_type": "stream",
     "text": [
      "money: him, them, it, able, ability, addition, way, even, work, taken\n",
      "lion: win, accepted, piece, writing, released, scene, size, brought, africa, followed\n",
      "africa: europe, china, india, america, north, east, end, germany, south, addition\n",
      "musician: actor, writer, singer, actress, author, addition, nine, born, painter, poet\n",
      "dance: music, rock, country, style, traditional, culture, beginning, actor, democratic, formed\n",
      "\n",
      "\n"
     ]
    },
    {
     "name": "stderr",
     "output_type": "stream",
     "text": [
      "3998it [01:01, 68.06it/s]"
     ]
    },
    {
     "name": "stdout",
     "output_type": "stream",
     "text": [
      "| epoch   4 |  4000/32580 batches | loss    1.329 \n"
     ]
    },
    {
     "name": "stderr",
     "output_type": "stream",
     "text": [
      "4012it [01:01, 46.18it/s]"
     ]
    },
    {
     "name": "stdout",
     "output_type": "stream",
     "text": [
      "money: him, them, it, able, ability, addition, way, even, work, taken\n",
      "lion: win, accepted, piece, writing, released, scene, size, brought, africa, followed\n",
      "africa: europe, china, india, america, north, east, end, germany, south, addition\n",
      "musician: actor, writer, singer, actress, author, addition, nine, born, painter, poet\n",
      "dance: music, rock, country, style, traditional, culture, beginning, actor, democratic, formed\n",
      "\n",
      "\n"
     ]
    },
    {
     "name": "stderr",
     "output_type": "stream",
     "text": [
      "4495it [01:11, 67.41it/s]"
     ]
    },
    {
     "name": "stdout",
     "output_type": "stream",
     "text": [
      "| epoch   4 |  4500/32580 batches | loss    1.331 \n"
     ]
    },
    {
     "name": "stderr",
     "output_type": "stream",
     "text": [
      "4508it [01:12, 44.61it/s]"
     ]
    },
    {
     "name": "stdout",
     "output_type": "stream",
     "text": [
      "money: him, them, it, able, ability, addition, way, even, work, taken\n",
      "lion: win, accepted, piece, writing, released, scene, size, brought, africa, followed\n",
      "africa: europe, china, india, america, north, east, end, germany, south, addition\n",
      "musician: actor, writer, singer, actress, author, addition, nine, born, painter, poet\n",
      "dance: music, rock, country, style, traditional, culture, beginning, actor, democratic, formed\n",
      "\n",
      "\n"
     ]
    },
    {
     "name": "stderr",
     "output_type": "stream",
     "text": [
      "4998it [01:19, 68.93it/s]"
     ]
    },
    {
     "name": "stdout",
     "output_type": "stream",
     "text": [
      "| epoch   4 |  5000/32580 batches | loss    1.332 \n"
     ]
    },
    {
     "name": "stderr",
     "output_type": "stream",
     "text": [
      "5012it [01:19, 46.40it/s]"
     ]
    },
    {
     "name": "stdout",
     "output_type": "stream",
     "text": [
      "money: him, them, it, able, ability, addition, way, even, work, taken\n",
      "lion: win, accepted, piece, writing, released, scene, size, brought, africa, followed\n",
      "africa: europe, china, india, america, north, east, end, germany, south, addition\n",
      "musician: actor, writer, singer, actress, author, addition, nine, born, painter, poet\n",
      "dance: music, rock, country, style, traditional, culture, beginning, actor, democratic, formed\n",
      "\n",
      "\n"
     ]
    },
    {
     "name": "stderr",
     "output_type": "stream",
     "text": [
      "5495it [01:26, 68.09it/s]"
     ]
    },
    {
     "name": "stdout",
     "output_type": "stream",
     "text": [
      "| epoch   4 |  5500/32580 batches | loss    1.332 \n"
     ]
    },
    {
     "name": "stderr",
     "output_type": "stream",
     "text": [
      "5508it [01:27, 44.50it/s]"
     ]
    },
    {
     "name": "stdout",
     "output_type": "stream",
     "text": [
      "money: him, them, it, able, ability, addition, way, even, work, taken\n",
      "lion: win, accepted, piece, writing, released, scene, size, brought, africa, followed\n",
      "africa: europe, china, india, america, north, east, end, germany, south, addition\n",
      "musician: actor, writer, singer, actress, author, addition, nine, born, painter, poet\n",
      "dance: music, rock, country, style, traditional, culture, beginning, actor, democratic, formed\n",
      "\n",
      "\n"
     ]
    },
    {
     "name": "stderr",
     "output_type": "stream",
     "text": [
      "6000it [01:34, 68.77it/s]"
     ]
    },
    {
     "name": "stdout",
     "output_type": "stream",
     "text": [
      "| epoch   4 |  6000/32580 batches | loss    1.330 \n"
     ]
    },
    {
     "name": "stderr",
     "output_type": "stream",
     "text": [
      "\r",
      "6007it [01:34, 40.72it/s]"
     ]
    },
    {
     "name": "stdout",
     "output_type": "stream",
     "text": [
      "money: him, them, it, able, ability, addition, way, even, work, taken\n",
      "lion: win, accepted, piece, writing, released, scene, size, brought, africa, followed\n",
      "africa: europe, china, india, america, north, east, end, germany, south, addition\n",
      "musician: actor, writer, singer, actress, author, addition, nine, born, painter, poet\n",
      "dance: music, rock, country, style, traditional, culture, beginning, actor, democratic, formed\n",
      "\n",
      "\n"
     ]
    },
    {
     "name": "stderr",
     "output_type": "stream",
     "text": [
      "6497it [01:41, 68.47it/s]"
     ]
    },
    {
     "name": "stdout",
     "output_type": "stream",
     "text": [
      "| epoch   4 |  6500/32580 batches | loss    1.331 \n"
     ]
    },
    {
     "name": "stderr",
     "output_type": "stream",
     "text": [
      "6511it [01:42, 46.07it/s]"
     ]
    },
    {
     "name": "stdout",
     "output_type": "stream",
     "text": [
      "money: him, them, it, able, ability, addition, way, even, work, taken\n",
      "lion: win, accepted, piece, writing, released, scene, size, brought, africa, followed\n",
      "africa: europe, china, india, america, north, east, end, germany, south, addition\n",
      "musician: actor, writer, singer, actress, author, addition, nine, born, painter, poet\n",
      "dance: music, rock, country, style, traditional, culture, beginning, actor, democratic, formed\n",
      "\n",
      "\n"
     ]
    },
    {
     "name": "stderr",
     "output_type": "stream",
     "text": [
      "6994it [01:49, 67.62it/s]"
     ]
    },
    {
     "name": "stdout",
     "output_type": "stream",
     "text": [
      "| epoch   4 |  7000/32580 batches | loss    1.330 \n"
     ]
    },
    {
     "name": "stderr",
     "output_type": "stream",
     "text": [
      "7007it [01:49, 44.21it/s]"
     ]
    },
    {
     "name": "stdout",
     "output_type": "stream",
     "text": [
      "money: him, them, it, able, ability, addition, way, even, work, taken\n",
      "lion: win, accepted, piece, writing, released, scene, size, brought, africa, followed\n",
      "africa: europe, china, india, america, north, east, end, germany, south, addition\n",
      "musician: actor, writer, singer, actress, author, addition, nine, born, painter, poet\n",
      "dance: music, rock, country, style, traditional, culture, beginning, actor, democratic, formed\n",
      "\n",
      "\n"
     ]
    },
    {
     "name": "stderr",
     "output_type": "stream",
     "text": [
      "7497it [01:57, 69.11it/s]"
     ]
    },
    {
     "name": "stdout",
     "output_type": "stream",
     "text": [
      "| epoch   4 |  7500/32580 batches | loss    1.327 \n"
     ]
    },
    {
     "name": "stderr",
     "output_type": "stream",
     "text": [
      "7511it [01:57, 46.04it/s]"
     ]
    },
    {
     "name": "stdout",
     "output_type": "stream",
     "text": [
      "money: him, them, it, able, ability, addition, way, even, work, taken\n",
      "lion: win, accepted, piece, writing, released, scene, size, brought, africa, followed\n",
      "africa: europe, china, india, america, north, east, end, germany, south, addition\n",
      "musician: actor, writer, singer, actress, author, addition, nine, born, painter, poet\n",
      "dance: music, rock, country, style, traditional, culture, beginning, actor, democratic, formed\n",
      "\n",
      "\n"
     ]
    },
    {
     "name": "stderr",
     "output_type": "stream",
     "text": [
      "7994it [02:04, 67.34it/s]"
     ]
    },
    {
     "name": "stdout",
     "output_type": "stream",
     "text": [
      "| epoch   4 |  8000/32580 batches | loss    1.330 \n"
     ]
    },
    {
     "name": "stderr",
     "output_type": "stream",
     "text": [
      "8007it [02:05, 44.32it/s]"
     ]
    },
    {
     "name": "stdout",
     "output_type": "stream",
     "text": [
      "money: him, them, it, able, ability, addition, way, even, work, taken\n",
      "lion: win, accepted, piece, writing, released, scene, size, brought, africa, followed\n",
      "africa: europe, china, india, america, north, east, end, germany, south, addition\n",
      "musician: actor, writer, singer, actress, author, addition, nine, born, painter, poet\n",
      "dance: music, rock, country, style, traditional, culture, beginning, actor, democratic, formed\n",
      "\n",
      "\n"
     ]
    },
    {
     "name": "stderr",
     "output_type": "stream",
     "text": [
      "8497it [02:12, 69.25it/s]"
     ]
    },
    {
     "name": "stdout",
     "output_type": "stream",
     "text": [
      "| epoch   4 |  8500/32580 batches | loss    1.331 \n"
     ]
    },
    {
     "name": "stderr",
     "output_type": "stream",
     "text": [
      "8511it [02:12, 46.17it/s]"
     ]
    },
    {
     "name": "stdout",
     "output_type": "stream",
     "text": [
      "money: him, them, it, able, ability, addition, way, even, work, taken\n",
      "lion: win, accepted, piece, writing, released, scene, size, brought, africa, followed\n",
      "africa: europe, china, india, america, north, east, end, germany, south, addition\n",
      "musician: actor, writer, singer, actress, author, addition, nine, born, painter, poet\n",
      "dance: music, rock, country, style, traditional, culture, beginning, actor, democratic, formed\n",
      "\n",
      "\n"
     ]
    },
    {
     "name": "stderr",
     "output_type": "stream",
     "text": [
      "8994it [02:19, 69.20it/s]"
     ]
    },
    {
     "name": "stdout",
     "output_type": "stream",
     "text": [
      "| epoch   4 |  9000/32580 batches | loss    1.330 \n"
     ]
    },
    {
     "name": "stderr",
     "output_type": "stream",
     "text": [
      "9007it [02:20, 45.30it/s]"
     ]
    },
    {
     "name": "stdout",
     "output_type": "stream",
     "text": [
      "money: him, them, it, able, ability, addition, way, even, work, taken\n",
      "lion: win, accepted, piece, writing, released, scene, size, brought, africa, followed\n",
      "africa: europe, china, india, america, north, east, end, germany, south, addition\n",
      "musician: actor, writer, singer, actress, author, addition, nine, born, painter, poet\n",
      "dance: music, rock, country, style, traditional, culture, beginning, actor, democratic, formed\n",
      "\n",
      "\n"
     ]
    },
    {
     "name": "stderr",
     "output_type": "stream",
     "text": [
      "9497it [02:27, 68.98it/s]"
     ]
    },
    {
     "name": "stdout",
     "output_type": "stream",
     "text": [
      "| epoch   4 |  9500/32580 batches | loss    1.332 \n"
     ]
    },
    {
     "name": "stderr",
     "output_type": "stream",
     "text": [
      "9511it [02:27, 46.55it/s]"
     ]
    },
    {
     "name": "stdout",
     "output_type": "stream",
     "text": [
      "money: him, them, it, able, ability, addition, way, even, work, taken\n",
      "lion: win, accepted, piece, writing, released, scene, size, brought, africa, followed\n",
      "africa: europe, china, india, america, north, east, end, germany, south, addition\n",
      "musician: actor, writer, singer, actress, author, addition, nine, born, painter, poet\n",
      "dance: music, rock, country, style, traditional, culture, beginning, actor, democratic, formed\n",
      "\n",
      "\n"
     ]
    },
    {
     "name": "stderr",
     "output_type": "stream",
     "text": [
      "9995it [02:34, 68.72it/s]"
     ]
    },
    {
     "name": "stdout",
     "output_type": "stream",
     "text": [
      "| epoch   4 | 10000/32580 batches | loss    1.335 \n"
     ]
    },
    {
     "name": "stderr",
     "output_type": "stream",
     "text": [
      "10008it [02:35, 45.09it/s]"
     ]
    },
    {
     "name": "stdout",
     "output_type": "stream",
     "text": [
      "money: him, them, it, able, ability, addition, way, even, work, taken\n",
      "lion: win, accepted, piece, writing, released, scene, size, brought, africa, followed\n",
      "africa: europe, china, india, america, north, east, end, germany, south, addition\n",
      "musician: actor, writer, singer, actress, author, addition, nine, born, painter, poet\n",
      "dance: music, rock, country, style, traditional, culture, beginning, actor, democratic, formed\n",
      "\n",
      "\n"
     ]
    },
    {
     "name": "stderr",
     "output_type": "stream",
     "text": [
      "10498it [02:42, 68.67it/s]"
     ]
    },
    {
     "name": "stdout",
     "output_type": "stream",
     "text": [
      "| epoch   4 | 10500/32580 batches | loss    1.329 \n"
     ]
    },
    {
     "name": "stderr",
     "output_type": "stream",
     "text": [
      "10512it [02:42, 45.80it/s]"
     ]
    },
    {
     "name": "stdout",
     "output_type": "stream",
     "text": [
      "money: him, them, it, able, ability, addition, way, even, work, taken\n",
      "lion: win, accepted, piece, writing, released, scene, size, brought, africa, followed\n",
      "africa: europe, china, india, america, north, east, end, germany, south, addition\n",
      "musician: actor, writer, singer, actress, author, addition, nine, born, painter, poet\n",
      "dance: music, rock, country, style, traditional, culture, beginning, actor, democratic, formed\n",
      "\n",
      "\n"
     ]
    },
    {
     "name": "stderr",
     "output_type": "stream",
     "text": [
      "10995it [02:50, 67.50it/s]"
     ]
    },
    {
     "name": "stdout",
     "output_type": "stream",
     "text": [
      "| epoch   4 | 11000/32580 batches | loss    1.333 \n"
     ]
    },
    {
     "name": "stderr",
     "output_type": "stream",
     "text": [
      "11008it [02:50, 45.07it/s]"
     ]
    },
    {
     "name": "stdout",
     "output_type": "stream",
     "text": [
      "money: him, them, it, able, ability, addition, way, even, work, taken\n",
      "lion: win, accepted, piece, writing, released, scene, size, brought, africa, followed\n",
      "africa: europe, china, india, america, north, east, end, germany, south, addition\n",
      "musician: actor, writer, singer, actress, author, addition, nine, born, painter, poet\n",
      "dance: music, rock, country, style, traditional, culture, beginning, actor, democratic, formed\n",
      "\n",
      "\n"
     ]
    },
    {
     "name": "stderr",
     "output_type": "stream",
     "text": [
      "11498it [02:57, 69.28it/s]"
     ]
    },
    {
     "name": "stdout",
     "output_type": "stream",
     "text": [
      "| epoch   4 | 11500/32580 batches | loss    1.332 \n"
     ]
    },
    {
     "name": "stderr",
     "output_type": "stream",
     "text": [
      "\r",
      "11505it [02:57, 40.71it/s]"
     ]
    },
    {
     "name": "stdout",
     "output_type": "stream",
     "text": [
      "money: him, them, it, able, ability, addition, way, even, work, taken\n",
      "lion: win, accepted, piece, writing, released, scene, size, brought, africa, followed\n",
      "africa: europe, china, india, america, north, east, end, germany, south, addition\n",
      "musician: actor, writer, singer, actress, author, addition, nine, born, painter, poet\n",
      "dance: music, rock, country, style, traditional, culture, beginning, actor, democratic, formed\n",
      "\n",
      "\n"
     ]
    },
    {
     "name": "stderr",
     "output_type": "stream",
     "text": [
      "11995it [03:05, 68.55it/s]"
     ]
    },
    {
     "name": "stdout",
     "output_type": "stream",
     "text": [
      "| epoch   4 | 12000/32580 batches | loss    1.332 \n"
     ]
    },
    {
     "name": "stderr",
     "output_type": "stream",
     "text": [
      "12008it [03:05, 45.11it/s]"
     ]
    },
    {
     "name": "stdout",
     "output_type": "stream",
     "text": [
      "money: him, them, it, able, ability, addition, way, even, work, taken\n",
      "lion: win, accepted, piece, writing, released, scene, size, brought, africa, followed\n",
      "africa: europe, china, india, america, north, east, end, germany, south, addition\n",
      "musician: actor, writer, singer, actress, author, addition, nine, born, painter, poet\n",
      "dance: music, rock, country, style, traditional, culture, beginning, actor, democratic, formed\n",
      "\n",
      "\n"
     ]
    },
    {
     "name": "stderr",
     "output_type": "stream",
     "text": [
      "12498it [03:12, 68.40it/s]"
     ]
    },
    {
     "name": "stdout",
     "output_type": "stream",
     "text": [
      "| epoch   4 | 12500/32580 batches | loss    1.332 \n"
     ]
    },
    {
     "name": "stderr",
     "output_type": "stream",
     "text": [
      "\r",
      "12505it [03:13, 39.27it/s]"
     ]
    },
    {
     "name": "stdout",
     "output_type": "stream",
     "text": [
      "money: him, them, it, able, ability, addition, way, even, work, taken\n",
      "lion: win, accepted, piece, writing, released, scene, size, brought, africa, followed\n",
      "africa: europe, china, india, america, north, east, end, germany, south, addition\n",
      "musician: actor, writer, singer, actress, author, addition, nine, born, painter, poet\n",
      "dance: music, rock, country, style, traditional, culture, beginning, actor, democratic, formed\n",
      "\n",
      "\n"
     ]
    },
    {
     "name": "stderr",
     "output_type": "stream",
     "text": [
      "12996it [03:20, 68.50it/s]"
     ]
    },
    {
     "name": "stdout",
     "output_type": "stream",
     "text": [
      "| epoch   4 | 13000/32580 batches | loss    1.328 \n"
     ]
    },
    {
     "name": "stderr",
     "output_type": "stream",
     "text": [
      "13010it [03:20, 45.92it/s]"
     ]
    },
    {
     "name": "stdout",
     "output_type": "stream",
     "text": [
      "money: him, them, it, able, ability, addition, way, even, work, taken\n",
      "lion: win, accepted, piece, writing, released, scene, size, brought, africa, followed\n",
      "africa: europe, china, india, america, north, east, end, germany, south, addition\n",
      "musician: actor, writer, singer, actress, author, addition, nine, born, painter, poet\n",
      "dance: music, rock, country, style, traditional, culture, beginning, actor, democratic, formed\n",
      "\n",
      "\n"
     ]
    },
    {
     "name": "stderr",
     "output_type": "stream",
     "text": [
      "13500it [03:27, 68.68it/s]"
     ]
    },
    {
     "name": "stdout",
     "output_type": "stream",
     "text": [
      "| epoch   4 | 13500/32580 batches | loss    1.330 \n"
     ]
    },
    {
     "name": "stderr",
     "output_type": "stream",
     "text": [
      "\r",
      "13507it [03:28, 40.73it/s]"
     ]
    },
    {
     "name": "stdout",
     "output_type": "stream",
     "text": [
      "money: him, them, it, able, ability, addition, way, even, work, taken\n",
      "lion: win, accepted, piece, writing, released, scene, size, brought, africa, followed\n",
      "africa: europe, china, india, america, north, east, end, germany, south, addition\n",
      "musician: actor, writer, singer, actress, author, addition, nine, born, painter, poet\n",
      "dance: music, rock, country, style, traditional, culture, beginning, actor, democratic, formed\n",
      "\n",
      "\n"
     ]
    },
    {
     "name": "stderr",
     "output_type": "stream",
     "text": [
      "13997it [03:35, 68.08it/s]"
     ]
    },
    {
     "name": "stdout",
     "output_type": "stream",
     "text": [
      "| epoch   4 | 14000/32580 batches | loss    1.331 \n"
     ]
    },
    {
     "name": "stderr",
     "output_type": "stream",
     "text": [
      "14011it [03:35, 45.45it/s]"
     ]
    },
    {
     "name": "stdout",
     "output_type": "stream",
     "text": [
      "money: him, them, it, able, ability, addition, way, even, work, taken\n",
      "lion: win, accepted, piece, writing, released, scene, size, brought, africa, followed\n",
      "africa: europe, china, india, america, north, east, end, germany, south, addition\n",
      "musician: actor, writer, singer, actress, author, addition, nine, born, painter, poet\n",
      "dance: music, rock, country, style, traditional, culture, beginning, actor, democratic, formed\n",
      "\n",
      "\n"
     ]
    },
    {
     "name": "stderr",
     "output_type": "stream",
     "text": [
      "14494it [03:42, 67.96it/s]"
     ]
    },
    {
     "name": "stdout",
     "output_type": "stream",
     "text": [
      "| epoch   4 | 14500/32580 batches | loss    1.330 \n"
     ]
    },
    {
     "name": "stderr",
     "output_type": "stream",
     "text": [
      "14507it [03:43, 44.70it/s]"
     ]
    },
    {
     "name": "stdout",
     "output_type": "stream",
     "text": [
      "money: him, them, it, able, ability, addition, way, even, work, taken\n",
      "lion: win, accepted, piece, writing, released, scene, size, brought, africa, followed\n",
      "africa: europe, china, india, america, north, east, end, germany, south, addition\n",
      "musician: actor, writer, singer, actress, author, addition, nine, born, painter, poet\n",
      "dance: music, rock, country, style, traditional, culture, beginning, actor, democratic, formed\n",
      "\n",
      "\n"
     ]
    },
    {
     "name": "stderr",
     "output_type": "stream",
     "text": [
      "14997it [03:50, 69.18it/s]"
     ]
    },
    {
     "name": "stdout",
     "output_type": "stream",
     "text": [
      "| epoch   4 | 15000/32580 batches | loss    1.328 \n"
     ]
    },
    {
     "name": "stderr",
     "output_type": "stream",
     "text": [
      "15011it [03:50, 46.38it/s]"
     ]
    },
    {
     "name": "stdout",
     "output_type": "stream",
     "text": [
      "money: him, them, it, able, ability, addition, way, even, work, taken\n",
      "lion: win, accepted, piece, writing, released, scene, size, brought, africa, followed\n",
      "africa: europe, china, india, america, north, east, end, germany, south, addition\n",
      "musician: actor, writer, singer, actress, author, addition, nine, born, painter, poet\n",
      "dance: music, rock, country, style, traditional, culture, beginning, actor, democratic, formed\n",
      "\n",
      "\n"
     ]
    },
    {
     "name": "stderr",
     "output_type": "stream",
     "text": [
      "15494it [03:58, 69.08it/s]"
     ]
    },
    {
     "name": "stdout",
     "output_type": "stream",
     "text": [
      "| epoch   4 | 15500/32580 batches | loss    1.333 \n"
     ]
    },
    {
     "name": "stderr",
     "output_type": "stream",
     "text": [
      "15507it [03:58, 45.18it/s]"
     ]
    },
    {
     "name": "stdout",
     "output_type": "stream",
     "text": [
      "money: him, them, it, able, ability, addition, way, even, work, taken\n",
      "lion: win, accepted, piece, writing, released, scene, size, brought, africa, followed\n",
      "africa: europe, china, india, america, north, east, end, germany, south, addition\n",
      "musician: actor, writer, singer, actress, author, addition, nine, born, painter, poet\n",
      "dance: music, rock, country, style, traditional, culture, beginning, actor, democratic, formed\n",
      "\n",
      "\n"
     ]
    },
    {
     "name": "stderr",
     "output_type": "stream",
     "text": [
      "15998it [04:05, 69.21it/s]"
     ]
    },
    {
     "name": "stdout",
     "output_type": "stream",
     "text": [
      "| epoch   4 | 16000/32580 batches | loss    1.331 \n"
     ]
    },
    {
     "name": "stderr",
     "output_type": "stream",
     "text": [
      "16012it [04:06, 46.82it/s]"
     ]
    },
    {
     "name": "stdout",
     "output_type": "stream",
     "text": [
      "money: him, them, it, able, ability, addition, way, even, work, taken\n",
      "lion: win, accepted, piece, writing, released, scene, size, brought, africa, followed\n",
      "africa: europe, china, india, america, north, east, end, germany, south, addition\n",
      "musician: actor, writer, singer, actress, author, addition, nine, born, painter, poet\n",
      "dance: music, rock, country, style, traditional, culture, beginning, actor, democratic, formed\n",
      "\n",
      "\n"
     ]
    },
    {
     "name": "stderr",
     "output_type": "stream",
     "text": [
      "16496it [04:16, 65.28it/s]"
     ]
    },
    {
     "name": "stdout",
     "output_type": "stream",
     "text": [
      "| epoch   4 | 16500/32580 batches | loss    1.331 \n"
     ]
    },
    {
     "name": "stderr",
     "output_type": "stream",
     "text": [
      "16510it [04:16, 45.07it/s]"
     ]
    },
    {
     "name": "stdout",
     "output_type": "stream",
     "text": [
      "money: him, them, it, able, ability, addition, way, even, work, taken\n",
      "lion: win, accepted, piece, writing, released, scene, size, brought, africa, followed\n",
      "africa: europe, china, india, america, north, east, end, germany, south, addition\n",
      "musician: actor, writer, singer, actress, author, addition, nine, born, painter, poet\n",
      "dance: music, rock, country, style, traditional, culture, beginning, actor, democratic, formed\n",
      "\n",
      "\n"
     ]
    },
    {
     "name": "stderr",
     "output_type": "stream",
     "text": [
      "17000it [04:23, 68.28it/s]"
     ]
    },
    {
     "name": "stdout",
     "output_type": "stream",
     "text": [
      "| epoch   4 | 17000/32580 batches | loss    1.329 \n"
     ]
    },
    {
     "name": "stderr",
     "output_type": "stream",
     "text": [
      "\r",
      "17007it [04:24, 40.38it/s]"
     ]
    },
    {
     "name": "stdout",
     "output_type": "stream",
     "text": [
      "money: him, them, it, able, ability, addition, way, even, work, taken\n",
      "lion: win, accepted, piece, writing, released, scene, size, brought, africa, followed\n",
      "africa: europe, china, india, america, north, east, end, germany, south, addition\n",
      "musician: actor, writer, singer, actress, author, addition, nine, born, painter, poet\n",
      "dance: music, rock, country, style, traditional, culture, beginning, actor, democratic, formed\n",
      "\n",
      "\n"
     ]
    },
    {
     "name": "stderr",
     "output_type": "stream",
     "text": [
      "17497it [04:31, 68.93it/s]"
     ]
    },
    {
     "name": "stdout",
     "output_type": "stream",
     "text": [
      "| epoch   4 | 17500/32580 batches | loss    1.331 \n"
     ]
    },
    {
     "name": "stderr",
     "output_type": "stream",
     "text": [
      "17511it [04:31, 45.88it/s]"
     ]
    },
    {
     "name": "stdout",
     "output_type": "stream",
     "text": [
      "money: him, them, it, able, ability, addition, way, even, work, taken\n",
      "lion: win, accepted, piece, writing, released, scene, size, brought, africa, followed\n",
      "africa: europe, china, india, america, north, east, end, germany, south, addition\n",
      "musician: actor, writer, singer, actress, author, addition, nine, born, painter, poet\n",
      "dance: music, rock, country, style, traditional, culture, beginning, actor, democratic, formed\n",
      "\n",
      "\n"
     ]
    },
    {
     "name": "stderr",
     "output_type": "stream",
     "text": [
      "17994it [04:38, 68.83it/s]"
     ]
    },
    {
     "name": "stdout",
     "output_type": "stream",
     "text": [
      "| epoch   4 | 18000/32580 batches | loss    1.329 \n"
     ]
    },
    {
     "name": "stderr",
     "output_type": "stream",
     "text": [
      "18007it [04:39, 44.16it/s]"
     ]
    },
    {
     "name": "stdout",
     "output_type": "stream",
     "text": [
      "money: him, them, it, able, ability, addition, way, even, work, taken\n",
      "lion: win, accepted, piece, writing, released, scene, size, brought, africa, followed\n",
      "africa: europe, china, india, america, north, east, end, germany, south, addition\n",
      "musician: actor, writer, singer, actress, author, addition, nine, born, painter, poet\n",
      "dance: music, rock, country, style, traditional, culture, beginning, actor, democratic, formed\n",
      "\n",
      "\n"
     ]
    },
    {
     "name": "stderr",
     "output_type": "stream",
     "text": [
      "18498it [04:46, 67.84it/s]"
     ]
    },
    {
     "name": "stdout",
     "output_type": "stream",
     "text": [
      "| epoch   4 | 18500/32580 batches | loss    1.327 \n"
     ]
    },
    {
     "name": "stderr",
     "output_type": "stream",
     "text": [
      "18511it [04:46, 43.84it/s]"
     ]
    },
    {
     "name": "stdout",
     "output_type": "stream",
     "text": [
      "money: him, them, it, able, ability, addition, way, even, work, taken\n",
      "lion: win, accepted, piece, writing, released, scene, size, brought, africa, followed\n",
      "africa: europe, china, india, america, north, east, end, germany, south, addition\n",
      "musician: actor, writer, singer, actress, author, addition, nine, born, painter, poet\n",
      "dance: music, rock, country, style, traditional, culture, beginning, actor, democratic, formed\n",
      "\n",
      "\n"
     ]
    },
    {
     "name": "stderr",
     "output_type": "stream",
     "text": [
      "18994it [04:53, 68.03it/s]"
     ]
    },
    {
     "name": "stdout",
     "output_type": "stream",
     "text": [
      "| epoch   4 | 19000/32580 batches | loss    1.335 \n"
     ]
    },
    {
     "name": "stderr",
     "output_type": "stream",
     "text": [
      "19007it [04:54, 44.82it/s]"
     ]
    },
    {
     "name": "stdout",
     "output_type": "stream",
     "text": [
      "money: him, them, it, able, ability, addition, way, even, work, taken\n",
      "lion: win, accepted, piece, writing, released, scene, size, brought, africa, followed\n",
      "africa: europe, china, india, america, north, east, end, germany, south, addition\n",
      "musician: actor, writer, singer, actress, author, addition, nine, born, painter, poet\n",
      "dance: music, rock, country, style, traditional, culture, beginning, actor, democratic, formed\n",
      "\n",
      "\n"
     ]
    },
    {
     "name": "stderr",
     "output_type": "stream",
     "text": [
      "19498it [05:01, 68.79it/s]"
     ]
    },
    {
     "name": "stdout",
     "output_type": "stream",
     "text": [
      "| epoch   4 | 19500/32580 batches | loss    1.329 \n"
     ]
    },
    {
     "name": "stderr",
     "output_type": "stream",
     "text": [
      "19512it [05:02, 46.44it/s]"
     ]
    },
    {
     "name": "stdout",
     "output_type": "stream",
     "text": [
      "money: him, them, it, able, ability, addition, way, even, work, taken\n",
      "lion: win, accepted, piece, writing, released, scene, size, brought, africa, followed\n",
      "africa: europe, china, india, america, north, east, end, germany, south, addition\n",
      "musician: actor, writer, singer, actress, author, addition, nine, born, painter, poet\n",
      "dance: music, rock, country, style, traditional, culture, beginning, actor, democratic, formed\n",
      "\n",
      "\n"
     ]
    },
    {
     "name": "stderr",
     "output_type": "stream",
     "text": [
      "19994it [05:09, 67.52it/s]"
     ]
    },
    {
     "name": "stdout",
     "output_type": "stream",
     "text": [
      "| epoch   4 | 20000/32580 batches | loss    1.334 \n"
     ]
    },
    {
     "name": "stderr",
     "output_type": "stream",
     "text": [
      "20007it [05:09, 45.01it/s]"
     ]
    },
    {
     "name": "stdout",
     "output_type": "stream",
     "text": [
      "money: him, them, it, able, ability, addition, way, even, work, taken\n",
      "lion: win, accepted, piece, writing, released, scene, size, brought, africa, followed\n",
      "africa: europe, china, india, america, north, east, end, germany, south, addition\n",
      "musician: actor, writer, singer, actress, author, addition, nine, born, painter, poet\n",
      "dance: music, rock, country, style, traditional, culture, beginning, actor, democratic, formed\n",
      "\n",
      "\n"
     ]
    },
    {
     "name": "stderr",
     "output_type": "stream",
     "text": [
      "20498it [05:16, 69.95it/s]"
     ]
    },
    {
     "name": "stdout",
     "output_type": "stream",
     "text": [
      "| epoch   4 | 20500/32580 batches | loss    1.331 \n"
     ]
    },
    {
     "name": "stderr",
     "output_type": "stream",
     "text": [
      "20512it [05:17, 47.65it/s]"
     ]
    },
    {
     "name": "stdout",
     "output_type": "stream",
     "text": [
      "money: him, them, it, able, ability, addition, way, even, work, taken\n",
      "lion: win, accepted, piece, writing, released, scene, size, brought, africa, followed\n",
      "africa: europe, china, india, america, north, east, end, germany, south, addition\n",
      "musician: actor, writer, singer, actress, author, addition, nine, born, painter, poet\n",
      "dance: music, rock, country, style, traditional, culture, beginning, actor, democratic, formed\n",
      "\n",
      "\n"
     ]
    },
    {
     "name": "stderr",
     "output_type": "stream",
     "text": [
      "20995it [05:24, 67.49it/s]"
     ]
    },
    {
     "name": "stdout",
     "output_type": "stream",
     "text": [
      "| epoch   4 | 21000/32580 batches | loss    1.332 \n"
     ]
    },
    {
     "name": "stderr",
     "output_type": "stream",
     "text": [
      "21008it [05:24, 44.58it/s]"
     ]
    },
    {
     "name": "stdout",
     "output_type": "stream",
     "text": [
      "money: him, them, it, able, ability, addition, way, even, work, taken\n",
      "lion: win, accepted, piece, writing, released, scene, size, brought, africa, followed\n",
      "africa: europe, china, india, america, north, east, end, germany, south, addition\n",
      "musician: actor, writer, singer, actress, author, addition, nine, born, painter, poet\n",
      "dance: music, rock, country, style, traditional, culture, beginning, actor, democratic, formed\n",
      "\n",
      "\n"
     ]
    },
    {
     "name": "stderr",
     "output_type": "stream",
     "text": [
      "21494it [05:31, 67.62it/s]"
     ]
    },
    {
     "name": "stdout",
     "output_type": "stream",
     "text": [
      "| epoch   4 | 21500/32580 batches | loss    1.328 \n"
     ]
    },
    {
     "name": "stderr",
     "output_type": "stream",
     "text": [
      "21507it [05:32, 45.09it/s]"
     ]
    },
    {
     "name": "stdout",
     "output_type": "stream",
     "text": [
      "money: him, them, it, able, ability, addition, way, even, work, taken\n",
      "lion: win, accepted, piece, writing, released, scene, size, brought, africa, followed\n",
      "africa: europe, china, india, america, north, east, end, germany, south, addition\n",
      "musician: actor, writer, singer, actress, author, addition, nine, born, painter, poet\n",
      "dance: music, rock, country, style, traditional, culture, beginning, actor, democratic, formed\n",
      "\n",
      "\n"
     ]
    },
    {
     "name": "stderr",
     "output_type": "stream",
     "text": [
      "21999it [05:39, 67.48it/s]"
     ]
    },
    {
     "name": "stdout",
     "output_type": "stream",
     "text": [
      "| epoch   4 | 22000/32580 batches | loss    1.327 \n"
     ]
    },
    {
     "name": "stderr",
     "output_type": "stream",
     "text": [
      "22013it [05:39, 46.42it/s]"
     ]
    },
    {
     "name": "stdout",
     "output_type": "stream",
     "text": [
      "money: him, them, it, able, ability, addition, way, even, work, taken\n",
      "lion: win, accepted, piece, writing, released, scene, size, brought, africa, followed\n",
      "africa: europe, china, india, america, north, east, end, germany, south, addition\n",
      "musician: actor, writer, singer, actress, author, addition, nine, born, painter, poet\n",
      "dance: music, rock, country, style, traditional, culture, beginning, actor, democratic, formed\n",
      "\n",
      "\n"
     ]
    },
    {
     "name": "stderr",
     "output_type": "stream",
     "text": [
      "22497it [05:46, 68.66it/s]"
     ]
    },
    {
     "name": "stdout",
     "output_type": "stream",
     "text": [
      "| epoch   4 | 22500/32580 batches | loss    1.331 \n"
     ]
    },
    {
     "name": "stderr",
     "output_type": "stream",
     "text": [
      "22511it [05:47, 46.08it/s]"
     ]
    },
    {
     "name": "stdout",
     "output_type": "stream",
     "text": [
      "money: him, them, it, able, ability, addition, way, even, work, taken\n",
      "lion: win, accepted, piece, writing, released, scene, size, brought, africa, followed\n",
      "africa: europe, china, india, america, north, east, end, germany, south, addition\n",
      "musician: actor, writer, singer, actress, author, addition, nine, born, painter, poet\n",
      "dance: music, rock, country, style, traditional, culture, beginning, actor, democratic, formed\n",
      "\n",
      "\n"
     ]
    },
    {
     "name": "stderr",
     "output_type": "stream",
     "text": [
      "22994it [05:54, 68.23it/s]"
     ]
    },
    {
     "name": "stdout",
     "output_type": "stream",
     "text": [
      "| epoch   4 | 23000/32580 batches | loss    1.335 \n"
     ]
    },
    {
     "name": "stderr",
     "output_type": "stream",
     "text": [
      "23007it [05:54, 45.26it/s]"
     ]
    },
    {
     "name": "stdout",
     "output_type": "stream",
     "text": [
      "money: him, them, it, able, ability, addition, way, even, work, taken\n",
      "lion: win, accepted, piece, writing, released, scene, size, brought, africa, followed\n",
      "africa: europe, china, india, america, north, east, end, germany, south, addition\n",
      "musician: actor, writer, singer, actress, author, addition, nine, born, painter, poet\n",
      "dance: music, rock, country, style, traditional, culture, beginning, actor, democratic, formed\n",
      "\n",
      "\n"
     ]
    },
    {
     "name": "stderr",
     "output_type": "stream",
     "text": [
      "23498it [06:01, 68.96it/s]"
     ]
    },
    {
     "name": "stdout",
     "output_type": "stream",
     "text": [
      "| epoch   4 | 23500/32580 batches | loss    1.331 \n"
     ]
    },
    {
     "name": "stderr",
     "output_type": "stream",
     "text": [
      "23512it [06:02, 46.09it/s]"
     ]
    },
    {
     "name": "stdout",
     "output_type": "stream",
     "text": [
      "money: him, them, it, able, ability, addition, way, even, work, taken\n",
      "lion: win, accepted, piece, writing, released, scene, size, brought, africa, followed\n",
      "africa: europe, china, india, america, north, east, end, germany, south, addition\n",
      "musician: actor, writer, singer, actress, author, addition, nine, born, painter, poet\n",
      "dance: music, rock, country, style, traditional, culture, beginning, actor, democratic, formed\n",
      "\n",
      "\n"
     ]
    },
    {
     "name": "stderr",
     "output_type": "stream",
     "text": [
      "23997it [06:09, 68.63it/s]"
     ]
    },
    {
     "name": "stdout",
     "output_type": "stream",
     "text": [
      "| epoch   4 | 24000/32580 batches | loss    1.328 \n"
     ]
    },
    {
     "name": "stderr",
     "output_type": "stream",
     "text": [
      "24011it [06:09, 46.24it/s]"
     ]
    },
    {
     "name": "stdout",
     "output_type": "stream",
     "text": [
      "money: him, them, it, able, ability, addition, way, even, work, taken\n",
      "lion: win, accepted, piece, writing, released, scene, size, brought, africa, followed\n",
      "africa: europe, china, india, america, north, east, end, germany, south, addition\n",
      "musician: actor, writer, singer, actress, author, addition, nine, born, painter, poet\n",
      "dance: music, rock, country, style, traditional, culture, beginning, actor, democratic, formed\n",
      "\n",
      "\n"
     ]
    },
    {
     "name": "stderr",
     "output_type": "stream",
     "text": [
      "24499it [06:16, 69.93it/s]"
     ]
    },
    {
     "name": "stdout",
     "output_type": "stream",
     "text": [
      "| epoch   4 | 24500/32580 batches | loss    1.332 \n"
     ]
    },
    {
     "name": "stderr",
     "output_type": "stream",
     "text": [
      "24513it [06:17, 47.24it/s]"
     ]
    },
    {
     "name": "stdout",
     "output_type": "stream",
     "text": [
      "money: him, them, it, able, ability, addition, way, even, work, taken\n",
      "lion: win, accepted, piece, writing, released, scene, size, brought, africa, followed\n",
      "africa: europe, china, india, america, north, east, end, germany, south, addition\n",
      "musician: actor, writer, singer, actress, author, addition, nine, born, painter, poet\n",
      "dance: music, rock, country, style, traditional, culture, beginning, actor, democratic, formed\n",
      "\n",
      "\n"
     ]
    },
    {
     "name": "stderr",
     "output_type": "stream",
     "text": [
      "24997it [06:24, 68.45it/s]"
     ]
    },
    {
     "name": "stdout",
     "output_type": "stream",
     "text": [
      "| epoch   4 | 25000/32580 batches | loss    1.335 \n"
     ]
    },
    {
     "name": "stderr",
     "output_type": "stream",
     "text": [
      "25011it [06:24, 46.01it/s]"
     ]
    },
    {
     "name": "stdout",
     "output_type": "stream",
     "text": [
      "money: him, them, it, able, ability, addition, way, even, work, taken\n",
      "lion: win, accepted, piece, writing, released, scene, size, brought, africa, followed\n",
      "africa: europe, china, india, america, north, east, end, germany, south, addition\n",
      "musician: actor, writer, singer, actress, author, addition, nine, born, painter, poet\n",
      "dance: music, rock, country, style, traditional, culture, beginning, actor, democratic, formed\n",
      "\n",
      "\n"
     ]
    },
    {
     "name": "stderr",
     "output_type": "stream",
     "text": [
      "25496it [06:31, 70.30it/s]"
     ]
    },
    {
     "name": "stdout",
     "output_type": "stream",
     "text": [
      "| epoch   4 | 25500/32580 batches | loss    1.331 \n"
     ]
    },
    {
     "name": "stderr",
     "output_type": "stream",
     "text": [
      "25511it [06:32, 47.71it/s]"
     ]
    },
    {
     "name": "stdout",
     "output_type": "stream",
     "text": [
      "money: him, them, it, able, ability, addition, way, even, work, taken\n",
      "lion: win, accepted, piece, writing, released, scene, size, brought, africa, followed\n",
      "africa: europe, china, india, america, north, east, end, germany, south, addition\n",
      "musician: actor, writer, singer, actress, author, addition, nine, born, painter, poet\n",
      "dance: music, rock, country, style, traditional, culture, beginning, actor, democratic, formed\n",
      "\n",
      "\n"
     ]
    },
    {
     "name": "stderr",
     "output_type": "stream",
     "text": [
      "25999it [06:39, 68.86it/s]"
     ]
    },
    {
     "name": "stdout",
     "output_type": "stream",
     "text": [
      "| epoch   4 | 26000/32580 batches | loss    1.329 \n"
     ]
    },
    {
     "name": "stderr",
     "output_type": "stream",
     "text": [
      "\r",
      "26006it [06:39, 40.21it/s]"
     ]
    },
    {
     "name": "stdout",
     "output_type": "stream",
     "text": [
      "money: him, them, it, able, ability, addition, way, even, work, taken\n",
      "lion: win, accepted, piece, writing, released, scene, size, brought, africa, followed\n",
      "africa: europe, china, india, america, north, east, end, germany, south, addition\n",
      "musician: actor, writer, singer, actress, author, addition, nine, born, painter, poet\n",
      "dance: music, rock, country, style, traditional, culture, beginning, actor, democratic, formed\n",
      "\n",
      "\n"
     ]
    },
    {
     "name": "stderr",
     "output_type": "stream",
     "text": [
      "26496it [06:46, 67.07it/s]"
     ]
    },
    {
     "name": "stdout",
     "output_type": "stream",
     "text": [
      "| epoch   4 | 26500/32580 batches | loss    1.332 \n"
     ]
    },
    {
     "name": "stderr",
     "output_type": "stream",
     "text": [
      "26510it [06:47, 45.69it/s]"
     ]
    },
    {
     "name": "stdout",
     "output_type": "stream",
     "text": [
      "money: him, them, it, able, ability, addition, way, even, work, taken\n",
      "lion: win, accepted, piece, writing, released, scene, size, brought, africa, followed\n",
      "africa: europe, china, india, america, north, east, end, germany, south, addition\n",
      "musician: actor, writer, singer, actress, author, addition, nine, born, painter, poet\n",
      "dance: music, rock, country, style, traditional, culture, beginning, actor, democratic, formed\n",
      "\n",
      "\n"
     ]
    },
    {
     "name": "stderr",
     "output_type": "stream",
     "text": [
      "26996it [06:54, 68.65it/s]"
     ]
    },
    {
     "name": "stdout",
     "output_type": "stream",
     "text": [
      "| epoch   4 | 27000/32580 batches | loss    1.332 \n"
     ]
    },
    {
     "name": "stderr",
     "output_type": "stream",
     "text": [
      "27010it [06:54, 45.95it/s]"
     ]
    },
    {
     "name": "stdout",
     "output_type": "stream",
     "text": [
      "money: him, them, it, able, ability, addition, way, even, work, taken\n",
      "lion: win, accepted, piece, writing, released, scene, size, brought, africa, followed\n",
      "africa: europe, china, india, america, north, east, end, germany, south, addition\n",
      "musician: actor, writer, singer, actress, author, addition, nine, born, painter, poet\n",
      "dance: music, rock, country, style, traditional, culture, beginning, actor, democratic, formed\n",
      "\n",
      "\n"
     ]
    },
    {
     "name": "stderr",
     "output_type": "stream",
     "text": [
      "27496it [07:01, 68.41it/s]"
     ]
    },
    {
     "name": "stdout",
     "output_type": "stream",
     "text": [
      "| epoch   4 | 27500/32580 batches | loss    1.331 \n"
     ]
    },
    {
     "name": "stderr",
     "output_type": "stream",
     "text": [
      "27510it [07:02, 46.07it/s]"
     ]
    },
    {
     "name": "stdout",
     "output_type": "stream",
     "text": [
      "money: him, them, it, able, ability, addition, way, even, work, taken\n",
      "lion: win, accepted, piece, writing, released, scene, size, brought, africa, followed\n",
      "africa: europe, china, india, america, north, east, end, germany, south, addition\n",
      "musician: actor, writer, singer, actress, author, addition, nine, born, painter, poet\n",
      "dance: music, rock, country, style, traditional, culture, beginning, actor, democratic, formed\n",
      "\n",
      "\n"
     ]
    },
    {
     "name": "stderr",
     "output_type": "stream",
     "text": [
      "28000it [07:09, 68.38it/s]"
     ]
    },
    {
     "name": "stdout",
     "output_type": "stream",
     "text": [
      "| epoch   4 | 28000/32580 batches | loss    1.328 \n"
     ]
    },
    {
     "name": "stderr",
     "output_type": "stream",
     "text": [
      "\r",
      "28007it [07:09, 40.52it/s]"
     ]
    },
    {
     "name": "stdout",
     "output_type": "stream",
     "text": [
      "money: him, them, it, able, ability, addition, way, even, work, taken\n",
      "lion: win, accepted, piece, writing, released, scene, size, brought, africa, followed\n",
      "africa: europe, china, india, america, north, east, end, germany, south, addition\n",
      "musician: actor, writer, singer, actress, author, addition, nine, born, painter, poet\n",
      "dance: music, rock, country, style, traditional, culture, beginning, actor, democratic, formed\n",
      "\n",
      "\n"
     ]
    },
    {
     "name": "stderr",
     "output_type": "stream",
     "text": [
      "28497it [07:16, 67.88it/s]"
     ]
    },
    {
     "name": "stdout",
     "output_type": "stream",
     "text": [
      "| epoch   4 | 28500/32580 batches | loss    1.332 \n"
     ]
    },
    {
     "name": "stderr",
     "output_type": "stream",
     "text": [
      "28510it [07:17, 44.47it/s]"
     ]
    },
    {
     "name": "stdout",
     "output_type": "stream",
     "text": [
      "money: him, them, it, able, ability, addition, way, even, work, taken\n",
      "lion: win, accepted, piece, writing, released, scene, size, brought, africa, followed\n",
      "africa: europe, china, india, america, north, east, end, germany, south, addition\n",
      "musician: actor, writer, singer, actress, author, addition, nine, born, painter, poet\n",
      "dance: music, rock, country, style, traditional, culture, beginning, actor, democratic, formed\n",
      "\n",
      "\n"
     ]
    },
    {
     "name": "stderr",
     "output_type": "stream",
     "text": [
      "29000it [07:24, 68.74it/s]"
     ]
    },
    {
     "name": "stdout",
     "output_type": "stream",
     "text": [
      "| epoch   4 | 29000/32580 batches | loss    1.334 \n"
     ]
    },
    {
     "name": "stderr",
     "output_type": "stream",
     "text": [
      "\r",
      "29007it [07:24, 40.68it/s]"
     ]
    },
    {
     "name": "stdout",
     "output_type": "stream",
     "text": [
      "money: him, them, it, able, ability, addition, way, even, work, taken\n",
      "lion: win, accepted, piece, writing, released, scene, size, brought, africa, followed\n",
      "africa: europe, china, india, america, north, east, end, germany, south, addition\n",
      "musician: actor, writer, singer, actress, author, addition, nine, born, painter, poet\n",
      "dance: music, rock, country, style, traditional, culture, beginning, actor, democratic, formed\n",
      "\n",
      "\n"
     ]
    },
    {
     "name": "stderr",
     "output_type": "stream",
     "text": [
      "29497it [07:32, 68.32it/s]"
     ]
    },
    {
     "name": "stdout",
     "output_type": "stream",
     "text": [
      "| epoch   4 | 29500/32580 batches | loss    1.332 \n"
     ]
    },
    {
     "name": "stderr",
     "output_type": "stream",
     "text": [
      "29511it [07:32, 45.86it/s]"
     ]
    },
    {
     "name": "stdout",
     "output_type": "stream",
     "text": [
      "money: him, them, it, able, ability, addition, way, even, work, taken\n",
      "lion: win, accepted, piece, writing, released, scene, size, brought, africa, followed\n",
      "africa: europe, china, india, america, north, east, end, germany, south, addition\n",
      "musician: actor, writer, singer, actress, author, addition, nine, born, painter, poet\n",
      "dance: music, rock, country, style, traditional, culture, beginning, actor, democratic, formed\n",
      "\n",
      "\n"
     ]
    },
    {
     "name": "stderr",
     "output_type": "stream",
     "text": [
      "29996it [07:39, 68.17it/s]"
     ]
    },
    {
     "name": "stdout",
     "output_type": "stream",
     "text": [
      "| epoch   4 | 30000/32580 batches | loss    1.329 \n"
     ]
    },
    {
     "name": "stderr",
     "output_type": "stream",
     "text": [
      "30010it [07:40, 46.25it/s]"
     ]
    },
    {
     "name": "stdout",
     "output_type": "stream",
     "text": [
      "money: him, them, it, able, ability, addition, way, even, work, taken\n",
      "lion: win, accepted, piece, writing, released, scene, size, brought, africa, followed\n",
      "africa: europe, china, india, america, north, east, end, germany, south, addition\n",
      "musician: actor, writer, singer, actress, author, addition, nine, born, painter, poet\n",
      "dance: music, rock, country, style, traditional, culture, beginning, actor, democratic, formed\n",
      "\n",
      "\n"
     ]
    },
    {
     "name": "stderr",
     "output_type": "stream",
     "text": [
      "30500it [07:47, 69.28it/s]"
     ]
    },
    {
     "name": "stdout",
     "output_type": "stream",
     "text": [
      "| epoch   4 | 30500/32580 batches | loss    1.335 \n",
      "money: him, them, it, able, ability, addition, way, even, work, taken\n",
      "lion: win, accepted, piece, writing, released, scene, size, brought, africa, followed\n",
      "africa: europe, china, india, america, north, east, end, germany, south, addition\n",
      "musician: actor, writer, singer, actress, author, addition, nine, born, painter, poet\n",
      "dance: music, rock, country, style, traditional, culture, beginning, actor, democratic, formed\n"
     ]
    },
    {
     "name": "stderr",
     "output_type": "stream",
     "text": [
      "\r",
      "30507it [07:47, 41.07it/s]"
     ]
    },
    {
     "name": "stdout",
     "output_type": "stream",
     "text": [
      "\n",
      "\n"
     ]
    },
    {
     "name": "stderr",
     "output_type": "stream",
     "text": [
      "30994it [07:54, 68.76it/s]"
     ]
    },
    {
     "name": "stdout",
     "output_type": "stream",
     "text": [
      "| epoch   4 | 31000/32580 batches | loss    1.330 \n"
     ]
    },
    {
     "name": "stderr",
     "output_type": "stream",
     "text": [
      "31007it [07:55, 44.56it/s]"
     ]
    },
    {
     "name": "stdout",
     "output_type": "stream",
     "text": [
      "money: him, them, it, able, ability, addition, way, even, work, taken\n",
      "lion: win, accepted, piece, writing, released, scene, size, brought, africa, followed\n",
      "africa: europe, china, india, america, north, east, end, germany, south, addition\n",
      "musician: actor, writer, singer, actress, author, addition, nine, born, painter, poet\n",
      "dance: music, rock, country, style, traditional, culture, beginning, actor, democratic, formed\n",
      "\n",
      "\n"
     ]
    },
    {
     "name": "stderr",
     "output_type": "stream",
     "text": [
      "31497it [08:02, 67.36it/s]"
     ]
    },
    {
     "name": "stdout",
     "output_type": "stream",
     "text": [
      "| epoch   4 | 31500/32580 batches | loss    1.333 \n"
     ]
    },
    {
     "name": "stderr",
     "output_type": "stream",
     "text": [
      "31511it [08:02, 45.66it/s]"
     ]
    },
    {
     "name": "stdout",
     "output_type": "stream",
     "text": [
      "money: him, them, it, able, ability, addition, way, even, work, taken\n",
      "lion: win, accepted, piece, writing, released, scene, size, brought, africa, followed\n",
      "africa: europe, china, india, america, north, east, end, germany, south, addition\n",
      "musician: actor, writer, singer, actress, author, addition, nine, born, painter, poet\n",
      "dance: music, rock, country, style, traditional, culture, beginning, actor, democratic, formed\n",
      "\n",
      "\n"
     ]
    },
    {
     "name": "stderr",
     "output_type": "stream",
     "text": [
      "31997it [08:09, 69.04it/s]"
     ]
    },
    {
     "name": "stdout",
     "output_type": "stream",
     "text": [
      "| epoch   4 | 32000/32580 batches | loss    1.331 \n"
     ]
    },
    {
     "name": "stderr",
     "output_type": "stream",
     "text": [
      "32011it [08:10, 46.08it/s]"
     ]
    },
    {
     "name": "stdout",
     "output_type": "stream",
     "text": [
      "money: him, them, it, able, ability, addition, way, even, work, taken\n",
      "lion: win, accepted, piece, writing, released, scene, size, brought, africa, followed\n",
      "africa: europe, china, india, america, north, east, end, germany, south, addition\n",
      "musician: actor, writer, singer, actress, author, addition, nine, born, painter, poet\n",
      "dance: music, rock, country, style, traditional, culture, beginning, actor, democratic, formed\n",
      "\n",
      "\n"
     ]
    },
    {
     "name": "stderr",
     "output_type": "stream",
     "text": [
      "32495it [08:17, 68.32it/s]"
     ]
    },
    {
     "name": "stdout",
     "output_type": "stream",
     "text": [
      "| epoch   4 | 32500/32580 batches | loss    1.332 \n"
     ]
    },
    {
     "name": "stderr",
     "output_type": "stream",
     "text": [
      "32508it [08:17, 44.99it/s]"
     ]
    },
    {
     "name": "stdout",
     "output_type": "stream",
     "text": [
      "money: him, them, it, able, ability, addition, way, even, work, taken\n",
      "lion: win, accepted, piece, writing, released, scene, size, brought, africa, followed\n",
      "africa: europe, china, india, america, north, east, end, germany, south, addition\n",
      "musician: actor, writer, singer, actress, author, addition, nine, born, painter, poet\n",
      "dance: music, rock, country, style, traditional, culture, beginning, actor, democratic, formed\n",
      "\n",
      "\n"
     ]
    },
    {
     "name": "stderr",
     "output_type": "stream",
     "text": [
      "32580it [08:19, 65.19it/s]\n",
      "0it [00:00, ?it/s]"
     ]
    },
    {
     "name": "stdout",
     "output_type": "stream",
     "text": [
      "| epoch   5 |     0/32580 batches | loss    1.225 \n"
     ]
    },
    {
     "name": "stderr",
     "output_type": "stream",
     "text": [
      "7it [00:01,  6.86it/s]"
     ]
    },
    {
     "name": "stdout",
     "output_type": "stream",
     "text": [
      "money: him, them, it, able, ability, addition, way, even, work, taken\n",
      "lion: win, accepted, piece, writing, released, scene, size, brought, africa, followed\n",
      "africa: europe, china, india, america, north, east, end, germany, south, addition\n",
      "musician: actor, writer, singer, actress, author, addition, nine, born, painter, poet\n",
      "dance: music, rock, country, style, traditional, culture, beginning, actor, democratic, formed\n",
      "\n",
      "\n"
     ]
    },
    {
     "name": "stderr",
     "output_type": "stream",
     "text": [
      "499it [00:08, 69.36it/s]"
     ]
    },
    {
     "name": "stdout",
     "output_type": "stream",
     "text": [
      "| epoch   5 |   500/32580 batches | loss    1.330 \n"
     ]
    },
    {
     "name": "stderr",
     "output_type": "stream",
     "text": [
      "513it [00:08, 47.10it/s]"
     ]
    },
    {
     "name": "stdout",
     "output_type": "stream",
     "text": [
      "money: him, them, it, able, ability, addition, way, even, work, taken\n",
      "lion: win, accepted, piece, writing, released, scene, size, brought, africa, followed\n",
      "africa: europe, china, india, america, north, east, end, germany, south, addition\n",
      "musician: actor, writer, singer, actress, author, addition, nine, born, painter, poet\n",
      "dance: music, rock, country, style, traditional, culture, beginning, actor, democratic, formed\n",
      "\n",
      "\n"
     ]
    },
    {
     "name": "stderr",
     "output_type": "stream",
     "text": [
      "996it [00:16, 68.46it/s]"
     ]
    },
    {
     "name": "stdout",
     "output_type": "stream",
     "text": [
      "| epoch   5 |  1000/32580 batches | loss    1.330 \n"
     ]
    },
    {
     "name": "stderr",
     "output_type": "stream",
     "text": [
      "1010it [00:16, 45.81it/s]"
     ]
    },
    {
     "name": "stdout",
     "output_type": "stream",
     "text": [
      "money: him, them, it, able, ability, addition, way, even, work, taken\n",
      "lion: win, accepted, piece, writing, released, scene, size, brought, africa, followed\n",
      "africa: europe, china, india, america, north, east, end, germany, south, addition\n",
      "musician: actor, writer, singer, actress, author, addition, nine, born, painter, poet\n",
      "dance: music, rock, country, style, traditional, culture, beginning, actor, democratic, formed\n",
      "\n",
      "\n"
     ]
    },
    {
     "name": "stderr",
     "output_type": "stream",
     "text": [
      "1500it [00:23, 67.54it/s]"
     ]
    },
    {
     "name": "stdout",
     "output_type": "stream",
     "text": [
      "| epoch   5 |  1500/32580 batches | loss    1.326 \n"
     ]
    },
    {
     "name": "stderr",
     "output_type": "stream",
     "text": [
      "\r",
      "1507it [00:23, 40.47it/s]"
     ]
    },
    {
     "name": "stdout",
     "output_type": "stream",
     "text": [
      "money: him, them, it, able, ability, addition, way, even, work, taken\n",
      "lion: win, accepted, piece, writing, released, scene, size, brought, africa, followed\n",
      "africa: europe, china, india, america, north, east, end, germany, south, addition\n",
      "musician: actor, writer, singer, actress, author, addition, nine, born, painter, poet\n",
      "dance: music, rock, country, style, traditional, culture, beginning, actor, democratic, formed\n",
      "\n",
      "\n"
     ]
    },
    {
     "name": "stderr",
     "output_type": "stream",
     "text": [
      "2000it [00:31, 69.89it/s]"
     ]
    },
    {
     "name": "stdout",
     "output_type": "stream",
     "text": [
      "| epoch   5 |  2000/32580 batches | loss    1.333 \n"
     ]
    },
    {
     "name": "stderr",
     "output_type": "stream",
     "text": [
      "\r",
      "2007it [00:31, 41.64it/s]"
     ]
    },
    {
     "name": "stdout",
     "output_type": "stream",
     "text": [
      "money: him, them, it, able, ability, addition, way, even, work, taken\n",
      "lion: win, accepted, piece, writing, released, scene, size, brought, africa, followed\n",
      "africa: europe, china, india, america, north, east, end, germany, south, addition\n",
      "musician: actor, writer, singer, actress, author, addition, nine, born, painter, poet\n",
      "dance: music, rock, country, style, traditional, culture, beginning, actor, democratic, formed\n",
      "\n",
      "\n"
     ]
    },
    {
     "name": "stderr",
     "output_type": "stream",
     "text": [
      "2497it [00:38, 67.44it/s]"
     ]
    },
    {
     "name": "stdout",
     "output_type": "stream",
     "text": [
      "| epoch   5 |  2500/32580 batches | loss    1.331 \n"
     ]
    },
    {
     "name": "stderr",
     "output_type": "stream",
     "text": [
      "2511it [00:39, 45.50it/s]"
     ]
    },
    {
     "name": "stdout",
     "output_type": "stream",
     "text": [
      "money: him, them, it, able, ability, addition, way, even, work, taken\n",
      "lion: win, accepted, piece, writing, released, scene, size, brought, africa, followed\n",
      "africa: europe, china, india, america, north, east, end, germany, south, addition\n",
      "musician: actor, writer, singer, actress, author, addition, nine, born, painter, poet\n",
      "dance: music, rock, country, style, traditional, culture, beginning, actor, democratic, formed\n",
      "\n",
      "\n"
     ]
    },
    {
     "name": "stderr",
     "output_type": "stream",
     "text": [
      "2995it [00:46, 67.97it/s]"
     ]
    },
    {
     "name": "stdout",
     "output_type": "stream",
     "text": [
      "| epoch   5 |  3000/32580 batches | loss    1.334 \n"
     ]
    },
    {
     "name": "stderr",
     "output_type": "stream",
     "text": [
      "3008it [00:46, 44.16it/s]"
     ]
    },
    {
     "name": "stdout",
     "output_type": "stream",
     "text": [
      "money: him, them, it, able, ability, addition, way, even, work, taken\n",
      "lion: win, accepted, piece, writing, released, scene, size, brought, africa, followed\n",
      "africa: europe, china, india, america, north, east, end, germany, south, addition\n",
      "musician: actor, writer, singer, actress, author, addition, nine, born, painter, poet\n",
      "dance: music, rock, country, style, traditional, culture, beginning, actor, democratic, formed\n",
      "\n",
      "\n"
     ]
    },
    {
     "name": "stderr",
     "output_type": "stream",
     "text": [
      "3500it [00:53, 68.29it/s]"
     ]
    },
    {
     "name": "stdout",
     "output_type": "stream",
     "text": [
      "| epoch   5 |  3500/32580 batches | loss    1.331 \n"
     ]
    },
    {
     "name": "stderr",
     "output_type": "stream",
     "text": [
      "\r",
      "3507it [00:54, 40.09it/s]"
     ]
    },
    {
     "name": "stdout",
     "output_type": "stream",
     "text": [
      "money: him, them, it, able, ability, addition, way, even, work, taken\n",
      "lion: win, accepted, piece, writing, released, scene, size, brought, africa, followed\n",
      "africa: europe, china, india, america, north, east, end, germany, south, addition\n",
      "musician: actor, writer, singer, actress, author, addition, nine, born, painter, poet\n",
      "dance: music, rock, country, style, traditional, culture, beginning, actor, democratic, formed\n",
      "\n",
      "\n"
     ]
    },
    {
     "name": "stderr",
     "output_type": "stream",
     "text": [
      "3997it [01:01, 67.72it/s]"
     ]
    },
    {
     "name": "stdout",
     "output_type": "stream",
     "text": [
      "| epoch   5 |  4000/32580 batches | loss    1.330 \n"
     ]
    },
    {
     "name": "stderr",
     "output_type": "stream",
     "text": [
      "4011it [01:01, 46.26it/s]"
     ]
    },
    {
     "name": "stdout",
     "output_type": "stream",
     "text": [
      "money: him, them, it, able, ability, addition, way, even, work, taken\n",
      "lion: win, accepted, piece, writing, released, scene, size, brought, africa, followed\n",
      "africa: europe, china, india, america, north, east, end, germany, south, addition\n",
      "musician: actor, writer, singer, actress, author, addition, nine, born, painter, poet\n",
      "dance: music, rock, country, style, traditional, culture, beginning, actor, democratic, formed\n",
      "\n",
      "\n"
     ]
    },
    {
     "name": "stderr",
     "output_type": "stream",
     "text": [
      "4497it [01:09, 67.87it/s]"
     ]
    },
    {
     "name": "stdout",
     "output_type": "stream",
     "text": [
      "| epoch   5 |  4500/32580 batches | loss    1.331 \n"
     ]
    },
    {
     "name": "stderr",
     "output_type": "stream",
     "text": [
      "\r",
      "4504it [01:09, 39.15it/s]"
     ]
    },
    {
     "name": "stdout",
     "output_type": "stream",
     "text": [
      "money: him, them, it, able, ability, addition, way, even, work, taken\n",
      "lion: win, accepted, piece, writing, released, scene, size, brought, africa, followed\n",
      "africa: europe, china, india, america, north, east, end, germany, south, addition\n",
      "musician: actor, writer, singer, actress, author, addition, nine, born, painter, poet\n",
      "dance: music, rock, country, style, traditional, culture, beginning, actor, democratic, formed\n",
      "\n",
      "\n"
     ]
    },
    {
     "name": "stderr",
     "output_type": "stream",
     "text": [
      "4994it [01:16, 68.10it/s]"
     ]
    },
    {
     "name": "stdout",
     "output_type": "stream",
     "text": [
      "| epoch   5 |  5000/32580 batches | loss    1.330 \n"
     ]
    },
    {
     "name": "stderr",
     "output_type": "stream",
     "text": [
      "5007it [01:17, 44.99it/s]"
     ]
    },
    {
     "name": "stdout",
     "output_type": "stream",
     "text": [
      "money: him, them, it, able, ability, addition, way, even, work, taken\n",
      "lion: win, accepted, piece, writing, released, scene, size, brought, africa, followed\n",
      "africa: europe, china, india, america, north, east, end, germany, south, addition\n",
      "musician: actor, writer, singer, actress, author, addition, nine, born, painter, poet\n",
      "dance: music, rock, country, style, traditional, culture, beginning, actor, democratic, formed\n",
      "\n",
      "\n"
     ]
    },
    {
     "name": "stderr",
     "output_type": "stream",
     "text": [
      "5500it [01:24, 69.25it/s]"
     ]
    },
    {
     "name": "stdout",
     "output_type": "stream",
     "text": [
      "| epoch   5 |  5500/32580 batches | loss    1.326 \n"
     ]
    },
    {
     "name": "stderr",
     "output_type": "stream",
     "text": [
      "\r",
      "5507it [01:24, 40.89it/s]"
     ]
    },
    {
     "name": "stdout",
     "output_type": "stream",
     "text": [
      "money: him, them, it, able, ability, addition, way, even, work, taken\n",
      "lion: win, accepted, piece, writing, released, scene, size, brought, africa, followed\n",
      "africa: europe, china, india, america, north, east, end, germany, south, addition\n",
      "musician: actor, writer, singer, actress, author, addition, nine, born, painter, poet\n",
      "dance: music, rock, country, style, traditional, culture, beginning, actor, democratic, formed\n",
      "\n",
      "\n"
     ]
    },
    {
     "name": "stderr",
     "output_type": "stream",
     "text": [
      "5997it [01:31, 68.49it/s]"
     ]
    },
    {
     "name": "stdout",
     "output_type": "stream",
     "text": [
      "| epoch   5 |  6000/32580 batches | loss    1.332 \n"
     ]
    },
    {
     "name": "stderr",
     "output_type": "stream",
     "text": [
      "6011it [01:32, 46.16it/s]"
     ]
    },
    {
     "name": "stdout",
     "output_type": "stream",
     "text": [
      "money: him, them, it, able, ability, addition, way, even, work, taken\n",
      "lion: win, accepted, piece, writing, released, scene, size, brought, africa, followed\n",
      "africa: europe, china, india, america, north, east, end, germany, south, addition\n",
      "musician: actor, writer, singer, actress, author, addition, nine, born, painter, poet\n",
      "dance: music, rock, country, style, traditional, culture, beginning, actor, democratic, formed\n",
      "\n",
      "\n"
     ]
    },
    {
     "name": "stderr",
     "output_type": "stream",
     "text": [
      "6494it [01:39, 68.00it/s]"
     ]
    },
    {
     "name": "stdout",
     "output_type": "stream",
     "text": [
      "| epoch   5 |  6500/32580 batches | loss    1.330 \n"
     ]
    },
    {
     "name": "stderr",
     "output_type": "stream",
     "text": [
      "6507it [01:39, 45.02it/s]"
     ]
    },
    {
     "name": "stdout",
     "output_type": "stream",
     "text": [
      "money: him, them, it, able, ability, addition, way, even, work, taken\n",
      "lion: win, accepted, piece, writing, released, scene, size, brought, africa, followed\n",
      "africa: europe, china, india, america, north, east, end, germany, south, addition\n",
      "musician: actor, writer, singer, actress, author, addition, nine, born, painter, poet\n",
      "dance: music, rock, country, style, traditional, culture, beginning, actor, democratic, formed\n",
      "\n",
      "\n"
     ]
    },
    {
     "name": "stderr",
     "output_type": "stream",
     "text": [
      "6997it [01:46, 69.02it/s]"
     ]
    },
    {
     "name": "stdout",
     "output_type": "stream",
     "text": [
      "| epoch   5 |  7000/32580 batches | loss    1.334 \n"
     ]
    },
    {
     "name": "stderr",
     "output_type": "stream",
     "text": [
      "7011it [01:47, 46.50it/s]"
     ]
    },
    {
     "name": "stdout",
     "output_type": "stream",
     "text": [
      "money: him, them, it, able, ability, addition, way, even, work, taken\n",
      "lion: win, accepted, piece, writing, released, scene, size, brought, africa, followed\n",
      "africa: europe, china, india, america, north, east, end, germany, south, addition\n",
      "musician: actor, writer, singer, actress, author, addition, nine, born, painter, poet\n",
      "dance: music, rock, country, style, traditional, culture, beginning, actor, democratic, formed\n",
      "\n",
      "\n"
     ]
    },
    {
     "name": "stderr",
     "output_type": "stream",
     "text": [
      "7495it [01:57, 67.98it/s]"
     ]
    },
    {
     "name": "stdout",
     "output_type": "stream",
     "text": [
      "| epoch   5 |  7500/32580 batches | loss    1.334 \n"
     ]
    },
    {
     "name": "stderr",
     "output_type": "stream",
     "text": [
      "7508it [01:57, 44.14it/s]"
     ]
    },
    {
     "name": "stdout",
     "output_type": "stream",
     "text": [
      "money: him, them, it, able, ability, addition, way, even, work, taken\n",
      "lion: win, accepted, piece, writing, released, scene, size, brought, africa, followed\n",
      "africa: europe, china, india, america, north, east, end, germany, south, addition\n",
      "musician: actor, writer, singer, actress, author, addition, nine, born, painter, poet\n",
      "dance: music, rock, country, style, traditional, culture, beginning, actor, democratic, formed\n",
      "\n",
      "\n"
     ]
    },
    {
     "name": "stderr",
     "output_type": "stream",
     "text": [
      "8000it [02:04, 68.77it/s]"
     ]
    },
    {
     "name": "stdout",
     "output_type": "stream",
     "text": [
      "| epoch   5 |  8000/32580 batches | loss    1.326 \n"
     ]
    },
    {
     "name": "stderr",
     "output_type": "stream",
     "text": [
      "\r",
      "8007it [02:05, 40.76it/s]"
     ]
    },
    {
     "name": "stdout",
     "output_type": "stream",
     "text": [
      "money: him, them, it, able, ability, addition, way, even, work, taken\n",
      "lion: win, accepted, piece, writing, released, scene, size, brought, africa, followed\n",
      "africa: europe, china, india, america, north, east, end, germany, south, addition\n",
      "musician: actor, writer, singer, actress, author, addition, nine, born, painter, poet\n",
      "dance: music, rock, country, style, traditional, culture, beginning, actor, democratic, formed\n",
      "\n",
      "\n"
     ]
    },
    {
     "name": "stderr",
     "output_type": "stream",
     "text": [
      "8498it [02:12, 68.10it/s]"
     ]
    },
    {
     "name": "stdout",
     "output_type": "stream",
     "text": [
      "| epoch   5 |  8500/32580 batches | loss    1.332 \n"
     ]
    },
    {
     "name": "stderr",
     "output_type": "stream",
     "text": [
      "8512it [02:12, 45.98it/s]"
     ]
    },
    {
     "name": "stdout",
     "output_type": "stream",
     "text": [
      "money: him, them, it, able, ability, addition, way, even, work, taken\n",
      "lion: win, accepted, piece, writing, released, scene, size, brought, africa, followed\n",
      "africa: europe, china, india, america, north, east, end, germany, south, addition\n",
      "musician: actor, writer, singer, actress, author, addition, nine, born, painter, poet\n",
      "dance: music, rock, country, style, traditional, culture, beginning, actor, democratic, formed\n",
      "\n",
      "\n"
     ]
    },
    {
     "name": "stderr",
     "output_type": "stream",
     "text": [
      "8995it [02:19, 67.72it/s]"
     ]
    },
    {
     "name": "stdout",
     "output_type": "stream",
     "text": [
      "| epoch   5 |  9000/32580 batches | loss    1.330 \n"
     ]
    },
    {
     "name": "stderr",
     "output_type": "stream",
     "text": [
      "9008it [02:20, 44.43it/s]"
     ]
    },
    {
     "name": "stdout",
     "output_type": "stream",
     "text": [
      "money: him, them, it, able, ability, addition, way, even, work, taken\n",
      "lion: win, accepted, piece, writing, released, scene, size, brought, africa, followed\n",
      "africa: europe, china, india, america, north, east, end, germany, south, addition\n",
      "musician: actor, writer, singer, actress, author, addition, nine, born, painter, poet\n",
      "dance: music, rock, country, style, traditional, culture, beginning, actor, democratic, formed\n",
      "\n",
      "\n"
     ]
    },
    {
     "name": "stderr",
     "output_type": "stream",
     "text": [
      "9500it [02:27, 68.34it/s]"
     ]
    },
    {
     "name": "stdout",
     "output_type": "stream",
     "text": [
      "| epoch   5 |  9500/32580 batches | loss    1.334 \n"
     ]
    },
    {
     "name": "stderr",
     "output_type": "stream",
     "text": [
      "\r",
      "9507it [02:27, 40.55it/s]"
     ]
    },
    {
     "name": "stdout",
     "output_type": "stream",
     "text": [
      "money: him, them, it, able, ability, addition, way, even, work, taken\n",
      "lion: win, accepted, piece, writing, released, scene, size, brought, africa, followed\n",
      "africa: europe, china, india, america, north, east, end, germany, south, addition\n",
      "musician: actor, writer, singer, actress, author, addition, nine, born, painter, poet\n",
      "dance: music, rock, country, style, traditional, culture, beginning, actor, democratic, formed\n",
      "\n",
      "\n"
     ]
    },
    {
     "name": "stderr",
     "output_type": "stream",
     "text": [
      "9997it [02:34, 69.35it/s]"
     ]
    },
    {
     "name": "stdout",
     "output_type": "stream",
     "text": [
      "| epoch   5 | 10000/32580 batches | loss    1.329 \n"
     ]
    },
    {
     "name": "stderr",
     "output_type": "stream",
     "text": [
      "10010it [02:35, 43.94it/s]"
     ]
    },
    {
     "name": "stdout",
     "output_type": "stream",
     "text": [
      "money: him, them, it, able, ability, addition, way, even, work, taken\n",
      "lion: win, accepted, piece, writing, released, scene, size, brought, africa, followed\n",
      "africa: europe, china, india, america, north, east, end, germany, south, addition\n",
      "musician: actor, writer, singer, actress, author, addition, nine, born, painter, poet\n",
      "dance: music, rock, country, style, traditional, culture, beginning, actor, democratic, formed\n",
      "\n",
      "\n"
     ]
    },
    {
     "name": "stderr",
     "output_type": "stream",
     "text": [
      "10494it [02:42, 69.13it/s]"
     ]
    },
    {
     "name": "stdout",
     "output_type": "stream",
     "text": [
      "| epoch   5 | 10500/32580 batches | loss    1.332 \n"
     ]
    },
    {
     "name": "stderr",
     "output_type": "stream",
     "text": [
      "10507it [02:42, 45.25it/s]"
     ]
    },
    {
     "name": "stdout",
     "output_type": "stream",
     "text": [
      "money: him, them, it, able, ability, addition, way, even, work, taken\n",
      "lion: win, accepted, piece, writing, released, scene, size, brought, africa, followed\n",
      "africa: europe, china, india, america, north, east, end, germany, south, addition\n",
      "musician: actor, writer, singer, actress, author, addition, nine, born, painter, poet\n",
      "dance: music, rock, country, style, traditional, culture, beginning, actor, democratic, formed\n",
      "\n",
      "\n"
     ]
    },
    {
     "name": "stderr",
     "output_type": "stream",
     "text": [
      "10998it [02:50, 67.98it/s]"
     ]
    },
    {
     "name": "stdout",
     "output_type": "stream",
     "text": [
      "| epoch   5 | 11000/32580 batches | loss    1.334 \n"
     ]
    },
    {
     "name": "stderr",
     "output_type": "stream",
     "text": [
      "11012it [02:50, 45.99it/s]"
     ]
    },
    {
     "name": "stdout",
     "output_type": "stream",
     "text": [
      "money: him, them, it, able, ability, addition, way, even, work, taken\n",
      "lion: win, accepted, piece, writing, released, scene, size, brought, africa, followed\n",
      "africa: europe, china, india, america, north, east, end, germany, south, addition\n",
      "musician: actor, writer, singer, actress, author, addition, nine, born, painter, poet\n",
      "dance: music, rock, country, style, traditional, culture, beginning, actor, democratic, formed\n",
      "\n",
      "\n"
     ]
    },
    {
     "name": "stderr",
     "output_type": "stream",
     "text": [
      "11495it [02:57, 68.93it/s]"
     ]
    },
    {
     "name": "stdout",
     "output_type": "stream",
     "text": [
      "| epoch   5 | 11500/32580 batches | loss    1.330 \n"
     ]
    },
    {
     "name": "stderr",
     "output_type": "stream",
     "text": [
      "11508it [02:57, 45.13it/s]"
     ]
    },
    {
     "name": "stdout",
     "output_type": "stream",
     "text": [
      "money: him, them, it, able, ability, addition, way, even, work, taken\n",
      "lion: win, accepted, piece, writing, released, scene, size, brought, africa, followed\n",
      "africa: europe, china, india, america, north, east, end, germany, south, addition\n",
      "musician: actor, writer, singer, actress, author, addition, nine, born, painter, poet\n",
      "dance: music, rock, country, style, traditional, culture, beginning, actor, democratic, formed\n",
      "\n",
      "\n"
     ]
    },
    {
     "name": "stderr",
     "output_type": "stream",
     "text": [
      "12000it [03:05, 66.31it/s]"
     ]
    },
    {
     "name": "stdout",
     "output_type": "stream",
     "text": [
      "| epoch   5 | 12000/32580 batches | loss    1.333 \n"
     ]
    },
    {
     "name": "stderr",
     "output_type": "stream",
     "text": [
      "\r",
      "12007it [03:05, 40.17it/s]"
     ]
    },
    {
     "name": "stdout",
     "output_type": "stream",
     "text": [
      "money: him, them, it, able, ability, addition, way, even, work, taken\n",
      "lion: win, accepted, piece, writing, released, scene, size, brought, africa, followed\n",
      "africa: europe, china, india, america, north, east, end, germany, south, addition\n",
      "musician: actor, writer, singer, actress, author, addition, nine, born, painter, poet\n",
      "dance: music, rock, country, style, traditional, culture, beginning, actor, democratic, formed\n",
      "\n",
      "\n"
     ]
    },
    {
     "name": "stderr",
     "output_type": "stream",
     "text": [
      "12497it [03:12, 68.55it/s]"
     ]
    },
    {
     "name": "stdout",
     "output_type": "stream",
     "text": [
      "| epoch   5 | 12500/32580 batches | loss    1.327 \n"
     ]
    },
    {
     "name": "stderr",
     "output_type": "stream",
     "text": [
      "12511it [03:13, 46.08it/s]"
     ]
    },
    {
     "name": "stdout",
     "output_type": "stream",
     "text": [
      "money: him, them, it, able, ability, addition, way, even, work, taken\n",
      "lion: win, accepted, piece, writing, released, scene, size, brought, africa, followed\n",
      "africa: europe, china, india, america, north, east, end, germany, south, addition\n",
      "musician: actor, writer, singer, actress, author, addition, nine, born, painter, poet\n",
      "dance: music, rock, country, style, traditional, culture, beginning, actor, democratic, formed\n",
      "\n",
      "\n"
     ]
    },
    {
     "name": "stderr",
     "output_type": "stream",
     "text": [
      "12998it [03:20, 68.61it/s]"
     ]
    },
    {
     "name": "stdout",
     "output_type": "stream",
     "text": [
      "| epoch   5 | 13000/32580 batches | loss    1.334 \n"
     ]
    },
    {
     "name": "stderr",
     "output_type": "stream",
     "text": [
      "13012it [03:20, 46.13it/s]"
     ]
    },
    {
     "name": "stdout",
     "output_type": "stream",
     "text": [
      "money: him, them, it, able, ability, addition, way, even, work, taken\n",
      "lion: win, accepted, piece, writing, released, scene, size, brought, africa, followed\n",
      "africa: europe, china, india, america, north, east, end, germany, south, addition\n",
      "musician: actor, writer, singer, actress, author, addition, nine, born, painter, poet\n",
      "dance: music, rock, country, style, traditional, culture, beginning, actor, democratic, formed\n",
      "\n",
      "\n"
     ]
    },
    {
     "name": "stderr",
     "output_type": "stream",
     "text": [
      "13495it [03:27, 67.64it/s]"
     ]
    },
    {
     "name": "stdout",
     "output_type": "stream",
     "text": [
      "| epoch   5 | 13500/32580 batches | loss    1.330 \n"
     ]
    },
    {
     "name": "stderr",
     "output_type": "stream",
     "text": [
      "13508it [03:28, 44.96it/s]"
     ]
    },
    {
     "name": "stdout",
     "output_type": "stream",
     "text": [
      "money: him, them, it, able, ability, addition, way, even, work, taken\n",
      "lion: win, accepted, piece, writing, released, scene, size, brought, africa, followed\n",
      "africa: europe, china, india, america, north, east, end, germany, south, addition\n",
      "musician: actor, writer, singer, actress, author, addition, nine, born, painter, poet\n",
      "dance: music, rock, country, style, traditional, culture, beginning, actor, democratic, formed\n",
      "\n",
      "\n"
     ]
    },
    {
     "name": "stderr",
     "output_type": "stream",
     "text": [
      "13998it [03:35, 68.62it/s]"
     ]
    },
    {
     "name": "stdout",
     "output_type": "stream",
     "text": [
      "| epoch   5 | 14000/32580 batches | loss    1.329 \n"
     ]
    },
    {
     "name": "stderr",
     "output_type": "stream",
     "text": [
      "14012it [03:35, 46.61it/s]"
     ]
    },
    {
     "name": "stdout",
     "output_type": "stream",
     "text": [
      "money: him, them, it, able, ability, addition, way, even, work, taken\n",
      "lion: win, accepted, piece, writing, released, scene, size, brought, africa, followed\n",
      "africa: europe, china, india, america, north, east, end, germany, south, addition\n",
      "musician: actor, writer, singer, actress, author, addition, nine, born, painter, poet\n",
      "dance: music, rock, country, style, traditional, culture, beginning, actor, democratic, formed\n",
      "\n",
      "\n"
     ]
    },
    {
     "name": "stderr",
     "output_type": "stream",
     "text": [
      "14496it [03:42, 67.95it/s]"
     ]
    },
    {
     "name": "stdout",
     "output_type": "stream",
     "text": [
      "| epoch   5 | 14500/32580 batches | loss    1.328 \n"
     ]
    },
    {
     "name": "stderr",
     "output_type": "stream",
     "text": [
      "14509it [03:43, 43.09it/s]"
     ]
    },
    {
     "name": "stdout",
     "output_type": "stream",
     "text": [
      "money: him, them, it, able, ability, addition, way, even, work, taken\n",
      "lion: win, accepted, piece, writing, released, scene, size, brought, africa, followed\n",
      "africa: europe, china, india, america, north, east, end, germany, south, addition\n",
      "musician: actor, writer, singer, actress, author, addition, nine, born, painter, poet\n",
      "dance: music, rock, country, style, traditional, culture, beginning, actor, democratic, formed\n",
      "\n",
      "\n"
     ]
    },
    {
     "name": "stderr",
     "output_type": "stream",
     "text": [
      "14999it [03:50, 69.05it/s]"
     ]
    },
    {
     "name": "stdout",
     "output_type": "stream",
     "text": [
      "| epoch   5 | 15000/32580 batches | loss    1.332 \n"
     ]
    },
    {
     "name": "stderr",
     "output_type": "stream",
     "text": [
      "15013it [03:50, 46.59it/s]"
     ]
    },
    {
     "name": "stdout",
     "output_type": "stream",
     "text": [
      "money: him, them, it, able, ability, addition, way, even, work, taken\n",
      "lion: win, accepted, piece, writing, released, scene, size, brought, africa, followed\n",
      "africa: europe, china, india, america, north, east, end, germany, south, addition\n",
      "musician: actor, writer, singer, actress, author, addition, nine, born, painter, poet\n",
      "dance: music, rock, country, style, traditional, culture, beginning, actor, democratic, formed\n",
      "\n",
      "\n"
     ]
    },
    {
     "name": "stderr",
     "output_type": "stream",
     "text": [
      "15498it [03:57, 68.87it/s]"
     ]
    },
    {
     "name": "stdout",
     "output_type": "stream",
     "text": [
      "| epoch   5 | 15500/32580 batches | loss    1.330 \n"
     ]
    },
    {
     "name": "stderr",
     "output_type": "stream",
     "text": [
      "15512it [03:58, 46.67it/s]"
     ]
    },
    {
     "name": "stdout",
     "output_type": "stream",
     "text": [
      "money: him, them, it, able, ability, addition, way, even, work, taken\n",
      "lion: win, accepted, piece, writing, released, scene, size, brought, africa, followed\n",
      "africa: europe, china, india, america, north, east, end, germany, south, addition\n",
      "musician: actor, writer, singer, actress, author, addition, nine, born, painter, poet\n",
      "dance: music, rock, country, style, traditional, culture, beginning, actor, democratic, formed\n",
      "\n",
      "\n"
     ]
    },
    {
     "name": "stderr",
     "output_type": "stream",
     "text": [
      "15995it [04:05, 67.20it/s]"
     ]
    },
    {
     "name": "stdout",
     "output_type": "stream",
     "text": [
      "| epoch   5 | 16000/32580 batches | loss    1.329 \n"
     ]
    },
    {
     "name": "stderr",
     "output_type": "stream",
     "text": [
      "16008it [04:05, 44.16it/s]"
     ]
    },
    {
     "name": "stdout",
     "output_type": "stream",
     "text": [
      "money: him, them, it, able, ability, addition, way, even, work, taken\n",
      "lion: win, accepted, piece, writing, released, scene, size, brought, africa, followed\n",
      "africa: europe, china, india, america, north, east, end, germany, south, addition\n",
      "musician: actor, writer, singer, actress, author, addition, nine, born, painter, poet\n",
      "dance: music, rock, country, style, traditional, culture, beginning, actor, democratic, formed\n",
      "\n",
      "\n"
     ]
    },
    {
     "name": "stderr",
     "output_type": "stream",
     "text": [
      "16498it [04:13, 69.58it/s]"
     ]
    },
    {
     "name": "stdout",
     "output_type": "stream",
     "text": [
      "| epoch   5 | 16500/32580 batches | loss    1.332 \n"
     ]
    },
    {
     "name": "stderr",
     "output_type": "stream",
     "text": [
      "16512it [04:13, 46.31it/s]"
     ]
    },
    {
     "name": "stdout",
     "output_type": "stream",
     "text": [
      "money: him, them, it, able, ability, addition, way, even, work, taken\n",
      "lion: win, accepted, piece, writing, released, scene, size, brought, africa, followed\n",
      "africa: europe, china, india, america, north, east, end, germany, south, addition\n",
      "musician: actor, writer, singer, actress, author, addition, nine, born, painter, poet\n",
      "dance: music, rock, country, style, traditional, culture, beginning, actor, democratic, formed\n",
      "\n",
      "\n"
     ]
    },
    {
     "name": "stderr",
     "output_type": "stream",
     "text": [
      "16995it [04:20, 66.71it/s]"
     ]
    },
    {
     "name": "stdout",
     "output_type": "stream",
     "text": [
      "| epoch   5 | 17000/32580 batches | loss    1.333 \n"
     ]
    },
    {
     "name": "stderr",
     "output_type": "stream",
     "text": [
      "17008it [04:21, 44.93it/s]"
     ]
    },
    {
     "name": "stdout",
     "output_type": "stream",
     "text": [
      "money: him, them, it, able, ability, addition, way, even, work, taken\n",
      "lion: win, accepted, piece, writing, released, scene, size, brought, africa, followed\n",
      "africa: europe, china, india, america, north, east, end, germany, south, addition\n",
      "musician: actor, writer, singer, actress, author, addition, nine, born, painter, poet\n",
      "dance: music, rock, country, style, traditional, culture, beginning, actor, democratic, formed\n",
      "\n",
      "\n"
     ]
    },
    {
     "name": "stderr",
     "output_type": "stream",
     "text": [
      "17499it [04:28, 66.96it/s]"
     ]
    },
    {
     "name": "stdout",
     "output_type": "stream",
     "text": [
      "| epoch   5 | 17500/32580 batches | loss    1.331 \n"
     ]
    },
    {
     "name": "stderr",
     "output_type": "stream",
     "text": [
      "17513it [04:28, 46.24it/s]"
     ]
    },
    {
     "name": "stdout",
     "output_type": "stream",
     "text": [
      "money: him, them, it, able, ability, addition, way, even, work, taken\n",
      "lion: win, accepted, piece, writing, released, scene, size, brought, africa, followed\n",
      "africa: europe, china, india, america, north, east, end, germany, south, addition\n",
      "musician: actor, writer, singer, actress, author, addition, nine, born, painter, poet\n",
      "dance: music, rock, country, style, traditional, culture, beginning, actor, democratic, formed\n",
      "\n",
      "\n"
     ]
    },
    {
     "name": "stderr",
     "output_type": "stream",
     "text": [
      "17997it [04:35, 68.60it/s]"
     ]
    },
    {
     "name": "stdout",
     "output_type": "stream",
     "text": [
      "| epoch   5 | 18000/32580 batches | loss    1.330 \n"
     ]
    },
    {
     "name": "stderr",
     "output_type": "stream",
     "text": [
      "18011it [04:36, 46.11it/s]"
     ]
    },
    {
     "name": "stdout",
     "output_type": "stream",
     "text": [
      "money: him, them, it, able, ability, addition, way, even, work, taken\n",
      "lion: win, accepted, piece, writing, released, scene, size, brought, africa, followed\n",
      "africa: europe, china, india, america, north, east, end, germany, south, addition\n",
      "musician: actor, writer, singer, actress, author, addition, nine, born, painter, poet\n",
      "dance: music, rock, country, style, traditional, culture, beginning, actor, democratic, formed\n",
      "\n",
      "\n"
     ]
    },
    {
     "name": "stderr",
     "output_type": "stream",
     "text": [
      "18494it [04:43, 67.72it/s]"
     ]
    },
    {
     "name": "stdout",
     "output_type": "stream",
     "text": [
      "| epoch   5 | 18500/32580 batches | loss    1.325 \n"
     ]
    },
    {
     "name": "stderr",
     "output_type": "stream",
     "text": [
      "18507it [04:43, 44.05it/s]"
     ]
    },
    {
     "name": "stdout",
     "output_type": "stream",
     "text": [
      "money: him, them, it, able, ability, addition, way, even, work, taken\n",
      "lion: win, accepted, piece, writing, released, scene, size, brought, africa, followed\n",
      "africa: europe, china, india, america, north, east, end, germany, south, addition\n",
      "musician: actor, writer, singer, actress, author, addition, nine, born, painter, poet\n",
      "dance: music, rock, country, style, traditional, culture, beginning, actor, democratic, formed\n",
      "\n",
      "\n"
     ]
    },
    {
     "name": "stderr",
     "output_type": "stream",
     "text": [
      "18998it [04:50, 67.81it/s]"
     ]
    },
    {
     "name": "stdout",
     "output_type": "stream",
     "text": [
      "| epoch   5 | 19000/32580 batches | loss    1.328 \n"
     ]
    },
    {
     "name": "stderr",
     "output_type": "stream",
     "text": [
      "19012it [04:51, 45.92it/s]"
     ]
    },
    {
     "name": "stdout",
     "output_type": "stream",
     "text": [
      "money: him, them, it, able, ability, addition, way, even, work, taken\n",
      "lion: win, accepted, piece, writing, released, scene, size, brought, africa, followed\n",
      "africa: europe, china, india, america, north, east, end, germany, south, addition\n",
      "musician: actor, writer, singer, actress, author, addition, nine, born, painter, poet\n",
      "dance: music, rock, country, style, traditional, culture, beginning, actor, democratic, formed\n",
      "\n",
      "\n"
     ]
    },
    {
     "name": "stderr",
     "output_type": "stream",
     "text": [
      "19495it [04:58, 68.49it/s]"
     ]
    },
    {
     "name": "stdout",
     "output_type": "stream",
     "text": [
      "| epoch   5 | 19500/32580 batches | loss    1.334 \n"
     ]
    },
    {
     "name": "stderr",
     "output_type": "stream",
     "text": [
      "19508it [04:58, 44.80it/s]"
     ]
    },
    {
     "name": "stdout",
     "output_type": "stream",
     "text": [
      "money: him, them, it, able, ability, addition, way, even, work, taken\n",
      "lion: win, accepted, piece, writing, released, scene, size, brought, africa, followed\n",
      "africa: europe, china, india, america, north, east, end, germany, south, addition\n",
      "musician: actor, writer, singer, actress, author, addition, nine, born, painter, poet\n",
      "dance: music, rock, country, style, traditional, culture, beginning, actor, democratic, formed\n",
      "\n",
      "\n"
     ]
    },
    {
     "name": "stderr",
     "output_type": "stream",
     "text": [
      "19998it [05:06, 68.18it/s]"
     ]
    },
    {
     "name": "stdout",
     "output_type": "stream",
     "text": [
      "| epoch   5 | 20000/32580 batches | loss    1.330 \n"
     ]
    },
    {
     "name": "stderr",
     "output_type": "stream",
     "text": [
      "20012it [05:06, 46.29it/s]"
     ]
    },
    {
     "name": "stdout",
     "output_type": "stream",
     "text": [
      "money: him, them, it, able, ability, addition, way, even, work, taken\n",
      "lion: win, accepted, piece, writing, released, scene, size, brought, africa, followed\n",
      "africa: europe, china, india, america, north, east, end, germany, south, addition\n",
      "musician: actor, writer, singer, actress, author, addition, nine, born, painter, poet\n",
      "dance: music, rock, country, style, traditional, culture, beginning, actor, democratic, formed\n",
      "\n",
      "\n"
     ]
    },
    {
     "name": "stderr",
     "output_type": "stream",
     "text": [
      "20495it [05:13, 67.63it/s]"
     ]
    },
    {
     "name": "stdout",
     "output_type": "stream",
     "text": [
      "| epoch   5 | 20500/32580 batches | loss    1.332 \n"
     ]
    },
    {
     "name": "stderr",
     "output_type": "stream",
     "text": [
      "20508it [05:13, 45.13it/s]"
     ]
    },
    {
     "name": "stdout",
     "output_type": "stream",
     "text": [
      "money: him, them, it, able, ability, addition, way, even, work, taken\n",
      "lion: win, accepted, piece, writing, released, scene, size, brought, africa, followed\n",
      "africa: europe, china, india, america, north, east, end, germany, south, addition\n",
      "musician: actor, writer, singer, actress, author, addition, nine, born, painter, poet\n",
      "dance: music, rock, country, style, traditional, culture, beginning, actor, democratic, formed\n",
      "\n",
      "\n"
     ]
    },
    {
     "name": "stderr",
     "output_type": "stream",
     "text": [
      "20998it [05:21, 68.54it/s]"
     ]
    },
    {
     "name": "stdout",
     "output_type": "stream",
     "text": [
      "| epoch   5 | 21000/32580 batches | loss    1.332 \n"
     ]
    },
    {
     "name": "stderr",
     "output_type": "stream",
     "text": [
      "21012it [05:21, 46.29it/s]"
     ]
    },
    {
     "name": "stdout",
     "output_type": "stream",
     "text": [
      "money: him, them, it, able, ability, addition, way, even, work, taken\n",
      "lion: win, accepted, piece, writing, released, scene, size, brought, africa, followed\n",
      "africa: europe, china, india, america, north, east, end, germany, south, addition\n",
      "musician: actor, writer, singer, actress, author, addition, nine, born, painter, poet\n",
      "dance: music, rock, country, style, traditional, culture, beginning, actor, democratic, formed\n",
      "\n",
      "\n"
     ]
    },
    {
     "name": "stderr",
     "output_type": "stream",
     "text": [
      "21495it [05:28, 68.62it/s]"
     ]
    },
    {
     "name": "stdout",
     "output_type": "stream",
     "text": [
      "| epoch   5 | 21500/32580 batches | loss    1.332 \n"
     ]
    },
    {
     "name": "stderr",
     "output_type": "stream",
     "text": [
      "21508it [05:29, 44.61it/s]"
     ]
    },
    {
     "name": "stdout",
     "output_type": "stream",
     "text": [
      "money: him, them, it, able, ability, addition, way, even, work, taken\n",
      "lion: win, accepted, piece, writing, released, scene, size, brought, africa, followed\n",
      "africa: europe, china, india, america, north, east, end, germany, south, addition\n",
      "musician: actor, writer, singer, actress, author, addition, nine, born, painter, poet\n",
      "dance: music, rock, country, style, traditional, culture, beginning, actor, democratic, formed\n",
      "\n",
      "\n"
     ]
    },
    {
     "name": "stderr",
     "output_type": "stream",
     "text": [
      "21998it [05:36, 68.33it/s]"
     ]
    },
    {
     "name": "stdout",
     "output_type": "stream",
     "text": [
      "| epoch   5 | 22000/32580 batches | loss    1.332 \n"
     ]
    },
    {
     "name": "stderr",
     "output_type": "stream",
     "text": [
      "22012it [05:36, 45.90it/s]"
     ]
    },
    {
     "name": "stdout",
     "output_type": "stream",
     "text": [
      "money: him, them, it, able, ability, addition, way, even, work, taken\n",
      "lion: win, accepted, piece, writing, released, scene, size, brought, africa, followed\n",
      "africa: europe, china, india, america, north, east, end, germany, south, addition\n",
      "musician: actor, writer, singer, actress, author, addition, nine, born, painter, poet\n",
      "dance: music, rock, country, style, traditional, culture, beginning, actor, democratic, formed\n",
      "\n",
      "\n"
     ]
    },
    {
     "name": "stderr",
     "output_type": "stream",
     "text": [
      "22495it [05:43, 68.71it/s]"
     ]
    },
    {
     "name": "stdout",
     "output_type": "stream",
     "text": [
      "| epoch   5 | 22500/32580 batches | loss    1.333 \n"
     ]
    },
    {
     "name": "stderr",
     "output_type": "stream",
     "text": [
      "22508it [05:44, 45.26it/s]"
     ]
    },
    {
     "name": "stdout",
     "output_type": "stream",
     "text": [
      "money: him, them, it, able, ability, addition, way, even, work, taken\n",
      "lion: win, accepted, piece, writing, released, scene, size, brought, africa, followed\n",
      "africa: europe, china, india, america, north, east, end, germany, south, addition\n",
      "musician: actor, writer, singer, actress, author, addition, nine, born, painter, poet\n",
      "dance: music, rock, country, style, traditional, culture, beginning, actor, democratic, formed\n",
      "\n",
      "\n"
     ]
    },
    {
     "name": "stderr",
     "output_type": "stream",
     "text": [
      "22998it [05:51, 67.99it/s]"
     ]
    },
    {
     "name": "stdout",
     "output_type": "stream",
     "text": [
      "| epoch   5 | 23000/32580 batches | loss    1.335 \n"
     ]
    },
    {
     "name": "stderr",
     "output_type": "stream",
     "text": [
      "23011it [05:51, 44.06it/s]"
     ]
    },
    {
     "name": "stdout",
     "output_type": "stream",
     "text": [
      "money: him, them, it, able, ability, addition, way, even, work, taken\n",
      "lion: win, accepted, piece, writing, released, scene, size, brought, africa, followed\n",
      "africa: europe, china, india, america, north, east, end, germany, south, addition\n",
      "musician: actor, writer, singer, actress, author, addition, nine, born, painter, poet\n",
      "dance: music, rock, country, style, traditional, culture, beginning, actor, democratic, formed\n",
      "\n",
      "\n"
     ]
    },
    {
     "name": "stderr",
     "output_type": "stream",
     "text": [
      "23494it [05:58, 68.99it/s]"
     ]
    },
    {
     "name": "stdout",
     "output_type": "stream",
     "text": [
      "| epoch   5 | 23500/32580 batches | loss    1.332 \n"
     ]
    },
    {
     "name": "stderr",
     "output_type": "stream",
     "text": [
      "23507it [05:59, 45.24it/s]"
     ]
    },
    {
     "name": "stdout",
     "output_type": "stream",
     "text": [
      "money: him, them, it, able, ability, addition, way, even, work, taken\n",
      "lion: win, accepted, piece, writing, released, scene, size, brought, africa, followed\n",
      "africa: europe, china, india, america, north, east, end, germany, south, addition\n",
      "musician: actor, writer, singer, actress, author, addition, nine, born, painter, poet\n",
      "dance: music, rock, country, style, traditional, culture, beginning, actor, democratic, formed\n",
      "\n",
      "\n"
     ]
    },
    {
     "name": "stderr",
     "output_type": "stream",
     "text": [
      "23997it [06:06, 68.79it/s]"
     ]
    },
    {
     "name": "stdout",
     "output_type": "stream",
     "text": [
      "| epoch   5 | 24000/32580 batches | loss    1.333 \n"
     ]
    },
    {
     "name": "stderr",
     "output_type": "stream",
     "text": [
      "24011it [06:06, 46.44it/s]"
     ]
    },
    {
     "name": "stdout",
     "output_type": "stream",
     "text": [
      "money: him, them, it, able, ability, addition, way, even, work, taken\n",
      "lion: win, accepted, piece, writing, released, scene, size, brought, africa, followed\n",
      "africa: europe, china, india, america, north, east, end, germany, south, addition\n",
      "musician: actor, writer, singer, actress, author, addition, nine, born, painter, poet\n",
      "dance: music, rock, country, style, traditional, culture, beginning, actor, democratic, formed\n",
      "\n",
      "\n"
     ]
    },
    {
     "name": "stderr",
     "output_type": "stream",
     "text": [
      "24494it [06:14, 67.85it/s]"
     ]
    },
    {
     "name": "stdout",
     "output_type": "stream",
     "text": [
      "| epoch   5 | 24500/32580 batches | loss    1.331 \n"
     ]
    },
    {
     "name": "stderr",
     "output_type": "stream",
     "text": [
      "24507it [06:14, 44.71it/s]"
     ]
    },
    {
     "name": "stdout",
     "output_type": "stream",
     "text": [
      "money: him, them, it, able, ability, addition, way, even, work, taken\n",
      "lion: win, accepted, piece, writing, released, scene, size, brought, africa, followed\n",
      "africa: europe, china, india, america, north, east, end, germany, south, addition\n",
      "musician: actor, writer, singer, actress, author, addition, nine, born, painter, poet\n",
      "dance: music, rock, country, style, traditional, culture, beginning, actor, democratic, formed\n",
      "\n",
      "\n"
     ]
    },
    {
     "name": "stderr",
     "output_type": "stream",
     "text": [
      "24997it [06:21, 66.58it/s]"
     ]
    },
    {
     "name": "stdout",
     "output_type": "stream",
     "text": [
      "| epoch   5 | 25000/32580 batches | loss    1.329 \n"
     ]
    },
    {
     "name": "stderr",
     "output_type": "stream",
     "text": [
      "25011it [06:22, 45.84it/s]"
     ]
    },
    {
     "name": "stdout",
     "output_type": "stream",
     "text": [
      "money: him, them, it, able, ability, addition, way, even, work, taken\n",
      "lion: win, accepted, piece, writing, released, scene, size, brought, africa, followed\n",
      "africa: europe, china, india, america, north, east, end, germany, south, addition\n",
      "musician: actor, writer, singer, actress, author, addition, nine, born, painter, poet\n",
      "dance: music, rock, country, style, traditional, culture, beginning, actor, democratic, formed\n",
      "\n",
      "\n"
     ]
    },
    {
     "name": "stderr",
     "output_type": "stream",
     "text": [
      "25494it [06:29, 67.41it/s]"
     ]
    },
    {
     "name": "stdout",
     "output_type": "stream",
     "text": [
      "| epoch   5 | 25500/32580 batches | loss    1.330 \n"
     ]
    },
    {
     "name": "stderr",
     "output_type": "stream",
     "text": [
      "25507it [06:29, 44.43it/s]"
     ]
    },
    {
     "name": "stdout",
     "output_type": "stream",
     "text": [
      "money: him, them, it, able, ability, addition, way, even, work, taken\n",
      "lion: win, accepted, piece, writing, released, scene, size, brought, africa, followed\n",
      "africa: europe, china, india, america, north, east, end, germany, south, addition\n",
      "musician: actor, writer, singer, actress, author, addition, nine, born, painter, poet\n",
      "dance: music, rock, country, style, traditional, culture, beginning, actor, democratic, formed\n",
      "\n",
      "\n"
     ]
    },
    {
     "name": "stderr",
     "output_type": "stream",
     "text": [
      "25998it [06:36, 68.78it/s]"
     ]
    },
    {
     "name": "stdout",
     "output_type": "stream",
     "text": [
      "| epoch   5 | 26000/32580 batches | loss    1.328 \n"
     ]
    },
    {
     "name": "stderr",
     "output_type": "stream",
     "text": [
      "26012it [06:37, 46.09it/s]"
     ]
    },
    {
     "name": "stdout",
     "output_type": "stream",
     "text": [
      "money: him, them, it, able, ability, addition, way, even, work, taken\n",
      "lion: win, accepted, piece, writing, released, scene, size, brought, africa, followed\n",
      "africa: europe, china, india, america, north, east, end, germany, south, addition\n",
      "musician: actor, writer, singer, actress, author, addition, nine, born, painter, poet\n",
      "dance: music, rock, country, style, traditional, culture, beginning, actor, democratic, formed\n",
      "\n",
      "\n"
     ]
    },
    {
     "name": "stderr",
     "output_type": "stream",
     "text": [
      "26494it [06:44, 68.11it/s]"
     ]
    },
    {
     "name": "stdout",
     "output_type": "stream",
     "text": [
      "| epoch   5 | 26500/32580 batches | loss    1.335 \n"
     ]
    },
    {
     "name": "stderr",
     "output_type": "stream",
     "text": [
      "26507it [06:44, 45.15it/s]"
     ]
    },
    {
     "name": "stdout",
     "output_type": "stream",
     "text": [
      "money: him, them, it, able, ability, addition, way, even, work, taken\n",
      "lion: win, accepted, piece, writing, released, scene, size, brought, africa, followed\n",
      "africa: europe, china, india, america, north, east, end, germany, south, addition\n",
      "musician: actor, writer, singer, actress, author, addition, nine, born, painter, poet\n",
      "dance: music, rock, country, style, traditional, culture, beginning, actor, democratic, formed\n",
      "\n",
      "\n"
     ]
    },
    {
     "name": "stderr",
     "output_type": "stream",
     "text": [
      "26998it [06:51, 67.44it/s]"
     ]
    },
    {
     "name": "stdout",
     "output_type": "stream",
     "text": [
      "| epoch   5 | 27000/32580 batches | loss    1.329 \n"
     ]
    },
    {
     "name": "stderr",
     "output_type": "stream",
     "text": [
      "27012it [06:52, 45.29it/s]"
     ]
    },
    {
     "name": "stdout",
     "output_type": "stream",
     "text": [
      "money: him, them, it, able, ability, addition, way, even, work, taken\n",
      "lion: win, accepted, piece, writing, released, scene, size, brought, africa, followed\n",
      "africa: europe, china, india, america, north, east, end, germany, south, addition\n",
      "musician: actor, writer, singer, actress, author, addition, nine, born, painter, poet\n",
      "dance: music, rock, country, style, traditional, culture, beginning, actor, democratic, formed\n",
      "\n",
      "\n"
     ]
    },
    {
     "name": "stderr",
     "output_type": "stream",
     "text": [
      "27494it [06:59, 65.30it/s]"
     ]
    },
    {
     "name": "stdout",
     "output_type": "stream",
     "text": [
      "| epoch   5 | 27500/32580 batches | loss    1.334 \n"
     ]
    },
    {
     "name": "stderr",
     "output_type": "stream",
     "text": [
      "27507it [06:59, 44.53it/s]"
     ]
    },
    {
     "name": "stdout",
     "output_type": "stream",
     "text": [
      "money: him, them, it, able, ability, addition, way, even, work, taken\n",
      "lion: win, accepted, piece, writing, released, scene, size, brought, africa, followed\n",
      "africa: europe, china, india, america, north, east, end, germany, south, addition\n",
      "musician: actor, writer, singer, actress, author, addition, nine, born, painter, poet\n",
      "dance: music, rock, country, style, traditional, culture, beginning, actor, democratic, formed\n",
      "\n",
      "\n"
     ]
    },
    {
     "name": "stderr",
     "output_type": "stream",
     "text": [
      "27997it [07:07, 68.05it/s]"
     ]
    },
    {
     "name": "stdout",
     "output_type": "stream",
     "text": [
      "| epoch   5 | 28000/32580 batches | loss    1.331 \n"
     ]
    },
    {
     "name": "stderr",
     "output_type": "stream",
     "text": [
      "28011it [07:07, 45.86it/s]"
     ]
    },
    {
     "name": "stdout",
     "output_type": "stream",
     "text": [
      "money: him, them, it, able, ability, addition, way, even, work, taken\n",
      "lion: win, accepted, piece, writing, released, scene, size, brought, africa, followed\n",
      "africa: europe, china, india, america, north, east, end, germany, south, addition\n",
      "musician: actor, writer, singer, actress, author, addition, nine, born, painter, poet\n",
      "dance: music, rock, country, style, traditional, culture, beginning, actor, democratic, formed\n",
      "\n",
      "\n"
     ]
    },
    {
     "name": "stderr",
     "output_type": "stream",
     "text": [
      "28494it [07:14, 67.42it/s]"
     ]
    },
    {
     "name": "stdout",
     "output_type": "stream",
     "text": [
      "| epoch   5 | 28500/32580 batches | loss    1.331 \n"
     ]
    },
    {
     "name": "stderr",
     "output_type": "stream",
     "text": [
      "28507it [07:15, 42.59it/s]"
     ]
    },
    {
     "name": "stdout",
     "output_type": "stream",
     "text": [
      "money: him, them, it, able, ability, addition, way, even, work, taken\n",
      "lion: win, accepted, piece, writing, released, scene, size, brought, africa, followed\n",
      "africa: europe, china, india, america, north, east, end, germany, south, addition\n",
      "musician: actor, writer, singer, actress, author, addition, nine, born, painter, poet\n",
      "dance: music, rock, country, style, traditional, culture, beginning, actor, democratic, formed\n",
      "\n",
      "\n"
     ]
    },
    {
     "name": "stderr",
     "output_type": "stream",
     "text": [
      "28998it [07:22, 69.63it/s]"
     ]
    },
    {
     "name": "stdout",
     "output_type": "stream",
     "text": [
      "| epoch   5 | 29000/32580 batches | loss    1.329 \n"
     ]
    },
    {
     "name": "stderr",
     "output_type": "stream",
     "text": [
      "29012it [07:22, 46.02it/s]"
     ]
    },
    {
     "name": "stdout",
     "output_type": "stream",
     "text": [
      "money: him, them, it, able, ability, addition, way, even, work, taken\n",
      "lion: win, accepted, piece, writing, released, scene, size, brought, africa, followed\n",
      "africa: europe, china, india, america, north, east, end, germany, south, addition\n",
      "musician: actor, writer, singer, actress, author, addition, nine, born, painter, poet\n",
      "dance: music, rock, country, style, traditional, culture, beginning, actor, democratic, formed\n",
      "\n",
      "\n"
     ]
    },
    {
     "name": "stderr",
     "output_type": "stream",
     "text": [
      "29498it [07:29, 68.68it/s]"
     ]
    },
    {
     "name": "stdout",
     "output_type": "stream",
     "text": [
      "| epoch   5 | 29500/32580 batches | loss    1.335 \n"
     ]
    },
    {
     "name": "stderr",
     "output_type": "stream",
     "text": [
      "29512it [07:30, 46.10it/s]"
     ]
    },
    {
     "name": "stdout",
     "output_type": "stream",
     "text": [
      "money: him, them, it, able, ability, addition, way, even, work, taken\n",
      "lion: win, accepted, piece, writing, released, scene, size, brought, africa, followed\n",
      "africa: europe, china, india, america, north, east, end, germany, south, addition\n",
      "musician: actor, writer, singer, actress, author, addition, nine, born, painter, poet\n",
      "dance: music, rock, country, style, traditional, culture, beginning, actor, democratic, formed\n",
      "\n",
      "\n"
     ]
    },
    {
     "name": "stderr",
     "output_type": "stream",
     "text": [
      "29994it [07:37, 69.35it/s]"
     ]
    },
    {
     "name": "stdout",
     "output_type": "stream",
     "text": [
      "| epoch   5 | 30000/32580 batches | loss    1.334 \n"
     ]
    },
    {
     "name": "stderr",
     "output_type": "stream",
     "text": [
      "30007it [07:37, 44.97it/s]"
     ]
    },
    {
     "name": "stdout",
     "output_type": "stream",
     "text": [
      "money: him, them, it, able, ability, addition, way, even, work, taken\n",
      "lion: win, accepted, piece, writing, released, scene, size, brought, africa, followed\n",
      "africa: europe, china, india, america, north, east, end, germany, south, addition\n",
      "musician: actor, writer, singer, actress, author, addition, nine, born, painter, poet\n",
      "dance: music, rock, country, style, traditional, culture, beginning, actor, democratic, formed\n",
      "\n",
      "\n"
     ]
    },
    {
     "name": "stderr",
     "output_type": "stream",
     "text": [
      "30498it [07:44, 67.95it/s]"
     ]
    },
    {
     "name": "stdout",
     "output_type": "stream",
     "text": [
      "| epoch   5 | 30500/32580 batches | loss    1.331 \n"
     ]
    },
    {
     "name": "stderr",
     "output_type": "stream",
     "text": [
      "30512it [07:45, 46.07it/s]"
     ]
    },
    {
     "name": "stdout",
     "output_type": "stream",
     "text": [
      "money: him, them, it, able, ability, addition, way, even, work, taken\n",
      "lion: win, accepted, piece, writing, released, scene, size, brought, africa, followed\n",
      "africa: europe, china, india, america, north, east, end, germany, south, addition\n",
      "musician: actor, writer, singer, actress, author, addition, nine, born, painter, poet\n",
      "dance: music, rock, country, style, traditional, culture, beginning, actor, democratic, formed\n",
      "\n",
      "\n"
     ]
    },
    {
     "name": "stderr",
     "output_type": "stream",
     "text": [
      "30995it [07:55, 69.39it/s]"
     ]
    },
    {
     "name": "stdout",
     "output_type": "stream",
     "text": [
      "| epoch   5 | 31000/32580 batches | loss    1.327 \n"
     ]
    },
    {
     "name": "stderr",
     "output_type": "stream",
     "text": [
      "31008it [07:55, 45.36it/s]"
     ]
    },
    {
     "name": "stdout",
     "output_type": "stream",
     "text": [
      "money: him, them, it, able, ability, addition, way, even, work, taken\n",
      "lion: win, accepted, piece, writing, released, scene, size, brought, africa, followed\n",
      "africa: europe, china, india, america, north, east, end, germany, south, addition\n",
      "musician: actor, writer, singer, actress, author, addition, nine, born, painter, poet\n",
      "dance: music, rock, country, style, traditional, culture, beginning, actor, democratic, formed\n",
      "\n",
      "\n"
     ]
    },
    {
     "name": "stderr",
     "output_type": "stream",
     "text": [
      "31498it [08:02, 67.60it/s]"
     ]
    },
    {
     "name": "stdout",
     "output_type": "stream",
     "text": [
      "| epoch   5 | 31500/32580 batches | loss    1.327 \n"
     ]
    },
    {
     "name": "stderr",
     "output_type": "stream",
     "text": [
      "31512it [08:03, 45.56it/s]"
     ]
    },
    {
     "name": "stdout",
     "output_type": "stream",
     "text": [
      "money: him, them, it, able, ability, addition, way, even, work, taken\n",
      "lion: win, accepted, piece, writing, released, scene, size, brought, africa, followed\n",
      "africa: europe, china, india, america, north, east, end, germany, south, addition\n",
      "musician: actor, writer, singer, actress, author, addition, nine, born, painter, poet\n",
      "dance: music, rock, country, style, traditional, culture, beginning, actor, democratic, formed\n",
      "\n",
      "\n"
     ]
    },
    {
     "name": "stderr",
     "output_type": "stream",
     "text": [
      "31995it [08:10, 69.24it/s]"
     ]
    },
    {
     "name": "stdout",
     "output_type": "stream",
     "text": [
      "| epoch   5 | 32000/32580 batches | loss    1.331 \n"
     ]
    },
    {
     "name": "stderr",
     "output_type": "stream",
     "text": [
      "32008it [08:10, 45.09it/s]"
     ]
    },
    {
     "name": "stdout",
     "output_type": "stream",
     "text": [
      "money: him, them, it, able, ability, addition, way, even, work, taken\n",
      "lion: win, accepted, piece, writing, released, scene, size, brought, africa, followed\n",
      "africa: europe, china, india, america, north, east, end, germany, south, addition\n",
      "musician: actor, writer, singer, actress, author, addition, nine, born, painter, poet\n",
      "dance: music, rock, country, style, traditional, culture, beginning, actor, democratic, formed\n",
      "\n",
      "\n"
     ]
    },
    {
     "name": "stderr",
     "output_type": "stream",
     "text": [
      "32499it [08:17, 67.84it/s]"
     ]
    },
    {
     "name": "stdout",
     "output_type": "stream",
     "text": [
      "| epoch   5 | 32500/32580 batches | loss    1.326 \n"
     ]
    },
    {
     "name": "stderr",
     "output_type": "stream",
     "text": [
      "\r",
      "32506it [08:18, 40.57it/s]"
     ]
    },
    {
     "name": "stdout",
     "output_type": "stream",
     "text": [
      "money: him, them, it, able, ability, addition, way, even, work, taken\n",
      "lion: win, accepted, piece, writing, released, scene, size, brought, africa, followed\n",
      "africa: europe, china, india, america, north, east, end, germany, south, addition\n",
      "musician: actor, writer, singer, actress, author, addition, nine, born, painter, poet\n",
      "dance: music, rock, country, style, traditional, culture, beginning, actor, democratic, formed\n",
      "\n",
      "\n"
     ]
    },
    {
     "name": "stderr",
     "output_type": "stream",
     "text": [
      "32580it [08:20, 65.14it/s]\n",
      "0it [00:00, ?it/s]"
     ]
    },
    {
     "name": "stdout",
     "output_type": "stream",
     "text": [
      "| epoch   6 |     0/32580 batches | loss    1.294 \n"
     ]
    },
    {
     "name": "stderr",
     "output_type": "stream",
     "text": [
      "7it [00:01,  6.84it/s]"
     ]
    },
    {
     "name": "stdout",
     "output_type": "stream",
     "text": [
      "money: him, them, it, able, ability, addition, way, even, work, taken\n",
      "lion: win, accepted, piece, writing, released, scene, size, brought, africa, followed\n",
      "africa: europe, china, india, america, north, east, end, germany, south, addition\n",
      "musician: actor, writer, singer, actress, author, addition, nine, born, painter, poet\n",
      "dance: music, rock, country, style, traditional, culture, beginning, actor, democratic, formed\n",
      "\n",
      "\n"
     ]
    },
    {
     "name": "stderr",
     "output_type": "stream",
     "text": [
      "497it [00:08, 68.43it/s]"
     ]
    },
    {
     "name": "stdout",
     "output_type": "stream",
     "text": [
      "| epoch   6 |   500/32580 batches | loss    1.330 \n"
     ]
    },
    {
     "name": "stderr",
     "output_type": "stream",
     "text": [
      "511it [00:08, 46.37it/s]"
     ]
    },
    {
     "name": "stdout",
     "output_type": "stream",
     "text": [
      "money: him, them, it, able, ability, addition, way, even, work, taken\n",
      "lion: win, accepted, piece, writing, released, scene, size, brought, africa, followed\n",
      "africa: europe, china, india, america, north, east, end, germany, south, addition\n",
      "musician: actor, writer, singer, actress, author, addition, nine, born, painter, poet\n",
      "dance: music, rock, country, style, traditional, culture, beginning, actor, democratic, formed\n",
      "\n",
      "\n"
     ]
    },
    {
     "name": "stderr",
     "output_type": "stream",
     "text": [
      "995it [00:16, 67.43it/s]"
     ]
    },
    {
     "name": "stdout",
     "output_type": "stream",
     "text": [
      "| epoch   6 |  1000/32580 batches | loss    1.330 \n"
     ]
    },
    {
     "name": "stderr",
     "output_type": "stream",
     "text": [
      "1008it [00:16, 44.36it/s]"
     ]
    },
    {
     "name": "stdout",
     "output_type": "stream",
     "text": [
      "money: him, them, it, able, ability, addition, way, even, work, taken\n",
      "lion: win, accepted, piece, writing, released, scene, size, brought, africa, followed\n",
      "africa: europe, china, india, america, north, east, end, germany, south, addition\n",
      "musician: actor, writer, singer, actress, author, addition, nine, born, painter, poet\n",
      "dance: music, rock, country, style, traditional, culture, beginning, actor, democratic, formed\n",
      "\n",
      "\n"
     ]
    },
    {
     "name": "stderr",
     "output_type": "stream",
     "text": [
      "1498it [00:23, 68.74it/s]"
     ]
    },
    {
     "name": "stdout",
     "output_type": "stream",
     "text": [
      "| epoch   6 |  1500/32580 batches | loss    1.332 \n"
     ]
    },
    {
     "name": "stderr",
     "output_type": "stream",
     "text": [
      "1512it [00:24, 46.36it/s]"
     ]
    },
    {
     "name": "stdout",
     "output_type": "stream",
     "text": [
      "money: him, them, it, able, ability, addition, way, even, work, taken\n",
      "lion: win, accepted, piece, writing, released, scene, size, brought, africa, followed\n",
      "africa: europe, china, india, america, north, east, end, germany, south, addition\n",
      "musician: actor, writer, singer, actress, author, addition, nine, born, painter, poet\n",
      "dance: music, rock, country, style, traditional, culture, beginning, actor, democratic, formed\n",
      "\n",
      "\n"
     ]
    },
    {
     "name": "stderr",
     "output_type": "stream",
     "text": [
      "1995it [00:31, 67.76it/s]"
     ]
    },
    {
     "name": "stdout",
     "output_type": "stream",
     "text": [
      "| epoch   6 |  2000/32580 batches | loss    1.327 \n"
     ]
    },
    {
     "name": "stderr",
     "output_type": "stream",
     "text": [
      "2008it [00:31, 44.84it/s]"
     ]
    },
    {
     "name": "stdout",
     "output_type": "stream",
     "text": [
      "money: him, them, it, able, ability, addition, way, even, work, taken\n",
      "lion: win, accepted, piece, writing, released, scene, size, brought, africa, followed\n",
      "africa: europe, china, india, america, north, east, end, germany, south, addition\n",
      "musician: actor, writer, singer, actress, author, addition, nine, born, painter, poet\n",
      "dance: music, rock, country, style, traditional, culture, beginning, actor, democratic, formed\n",
      "\n",
      "\n"
     ]
    },
    {
     "name": "stderr",
     "output_type": "stream",
     "text": [
      "2498it [00:38, 68.89it/s]"
     ]
    },
    {
     "name": "stdout",
     "output_type": "stream",
     "text": [
      "| epoch   6 |  2500/32580 batches | loss    1.332 \n"
     ]
    },
    {
     "name": "stderr",
     "output_type": "stream",
     "text": [
      "2512it [00:39, 46.34it/s]"
     ]
    },
    {
     "name": "stdout",
     "output_type": "stream",
     "text": [
      "money: him, them, it, able, ability, addition, way, even, work, taken\n",
      "lion: win, accepted, piece, writing, released, scene, size, brought, africa, followed\n",
      "africa: europe, china, india, america, north, east, end, germany, south, addition\n",
      "musician: actor, writer, singer, actress, author, addition, nine, born, painter, poet\n",
      "dance: music, rock, country, style, traditional, culture, beginning, actor, democratic, formed\n",
      "\n",
      "\n"
     ]
    },
    {
     "name": "stderr",
     "output_type": "stream",
     "text": [
      "2995it [00:46, 68.67it/s]"
     ]
    },
    {
     "name": "stdout",
     "output_type": "stream",
     "text": [
      "| epoch   6 |  3000/32580 batches | loss    1.334 \n"
     ]
    },
    {
     "name": "stderr",
     "output_type": "stream",
     "text": [
      "3008it [00:46, 45.44it/s]"
     ]
    },
    {
     "name": "stdout",
     "output_type": "stream",
     "text": [
      "money: him, them, it, able, ability, addition, way, even, work, taken\n",
      "lion: win, accepted, piece, writing, released, scene, size, brought, africa, followed\n",
      "africa: europe, china, india, america, north, east, end, germany, south, addition\n",
      "musician: actor, writer, singer, actress, author, addition, nine, born, painter, poet\n",
      "dance: music, rock, country, style, traditional, culture, beginning, actor, democratic, formed\n",
      "\n",
      "\n"
     ]
    },
    {
     "name": "stderr",
     "output_type": "stream",
     "text": [
      "3498it [00:54, 68.11it/s]"
     ]
    },
    {
     "name": "stdout",
     "output_type": "stream",
     "text": [
      "| epoch   6 |  3500/32580 batches | loss    1.329 \n"
     ]
    },
    {
     "name": "stderr",
     "output_type": "stream",
     "text": [
      "3512it [00:54, 46.23it/s]"
     ]
    },
    {
     "name": "stdout",
     "output_type": "stream",
     "text": [
      "money: him, them, it, able, ability, addition, way, even, work, taken\n",
      "lion: win, accepted, piece, writing, released, scene, size, brought, africa, followed\n",
      "africa: europe, china, india, america, north, east, end, germany, south, addition\n",
      "musician: actor, writer, singer, actress, author, addition, nine, born, painter, poet\n",
      "dance: music, rock, country, style, traditional, culture, beginning, actor, democratic, formed\n",
      "\n",
      "\n"
     ]
    },
    {
     "name": "stderr",
     "output_type": "stream",
     "text": [
      "3997it [01:01, 68.37it/s]"
     ]
    },
    {
     "name": "stdout",
     "output_type": "stream",
     "text": [
      "| epoch   6 |  4000/32580 batches | loss    1.328 \n"
     ]
    },
    {
     "name": "stderr",
     "output_type": "stream",
     "text": [
      "4011it [01:01, 45.50it/s]"
     ]
    },
    {
     "name": "stdout",
     "output_type": "stream",
     "text": [
      "money: him, them, it, able, ability, addition, way, even, work, taken\n",
      "lion: win, accepted, piece, writing, released, scene, size, brought, africa, followed\n",
      "africa: europe, china, india, america, north, east, end, germany, south, addition\n",
      "musician: actor, writer, singer, actress, author, addition, nine, born, painter, poet\n",
      "dance: music, rock, country, style, traditional, culture, beginning, actor, democratic, formed\n",
      "\n",
      "\n"
     ]
    },
    {
     "name": "stderr",
     "output_type": "stream",
     "text": [
      "4494it [01:09, 68.95it/s]"
     ]
    },
    {
     "name": "stdout",
     "output_type": "stream",
     "text": [
      "| epoch   6 |  4500/32580 batches | loss    1.332 \n"
     ]
    },
    {
     "name": "stderr",
     "output_type": "stream",
     "text": [
      "4507it [01:09, 45.23it/s]"
     ]
    },
    {
     "name": "stdout",
     "output_type": "stream",
     "text": [
      "money: him, them, it, able, ability, addition, way, even, work, taken\n",
      "lion: win, accepted, piece, writing, released, scene, size, brought, africa, followed\n",
      "africa: europe, china, india, america, north, east, end, germany, south, addition\n",
      "musician: actor, writer, singer, actress, author, addition, nine, born, painter, poet\n",
      "dance: music, rock, country, style, traditional, culture, beginning, actor, democratic, formed\n",
      "\n",
      "\n"
     ]
    },
    {
     "name": "stderr",
     "output_type": "stream",
     "text": [
      "4997it [01:16, 67.55it/s]"
     ]
    },
    {
     "name": "stdout",
     "output_type": "stream",
     "text": [
      "| epoch   6 |  5000/32580 batches | loss    1.331 \n"
     ]
    },
    {
     "name": "stderr",
     "output_type": "stream",
     "text": [
      "5011it [01:17, 45.66it/s]"
     ]
    },
    {
     "name": "stdout",
     "output_type": "stream",
     "text": [
      "money: him, them, it, able, ability, addition, way, even, work, taken\n",
      "lion: win, accepted, piece, writing, released, scene, size, brought, africa, followed\n",
      "africa: europe, china, india, america, north, east, end, germany, south, addition\n",
      "musician: actor, writer, singer, actress, author, addition, nine, born, painter, poet\n",
      "dance: music, rock, country, style, traditional, culture, beginning, actor, democratic, formed\n",
      "\n",
      "\n"
     ]
    },
    {
     "name": "stderr",
     "output_type": "stream",
     "text": [
      "5495it [01:24, 67.88it/s]"
     ]
    },
    {
     "name": "stdout",
     "output_type": "stream",
     "text": [
      "| epoch   6 |  5500/32580 batches | loss    1.332 \n"
     ]
    },
    {
     "name": "stderr",
     "output_type": "stream",
     "text": [
      "5508it [01:24, 44.87it/s]"
     ]
    },
    {
     "name": "stdout",
     "output_type": "stream",
     "text": [
      "money: him, them, it, able, ability, addition, way, even, work, taken\n",
      "lion: win, accepted, piece, writing, released, scene, size, brought, africa, followed\n",
      "africa: europe, china, india, america, north, east, end, germany, south, addition\n",
      "musician: actor, writer, singer, actress, author, addition, nine, born, painter, poet\n",
      "dance: music, rock, country, style, traditional, culture, beginning, actor, democratic, formed\n",
      "\n",
      "\n"
     ]
    },
    {
     "name": "stderr",
     "output_type": "stream",
     "text": [
      "5998it [01:32, 69.20it/s]"
     ]
    },
    {
     "name": "stdout",
     "output_type": "stream",
     "text": [
      "| epoch   6 |  6000/32580 batches | loss    1.332 \n"
     ]
    },
    {
     "name": "stderr",
     "output_type": "stream",
     "text": [
      "6012it [01:32, 46.64it/s]"
     ]
    },
    {
     "name": "stdout",
     "output_type": "stream",
     "text": [
      "money: him, them, it, able, ability, addition, way, even, work, taken\n",
      "lion: win, accepted, piece, writing, released, scene, size, brought, africa, followed\n",
      "africa: europe, china, india, america, north, east, end, germany, south, addition\n",
      "musician: actor, writer, singer, actress, author, addition, nine, born, painter, poet\n",
      "dance: music, rock, country, style, traditional, culture, beginning, actor, democratic, formed\n",
      "\n",
      "\n"
     ]
    },
    {
     "name": "stderr",
     "output_type": "stream",
     "text": [
      "6495it [01:39, 67.87it/s]"
     ]
    },
    {
     "name": "stdout",
     "output_type": "stream",
     "text": [
      "| epoch   6 |  6500/32580 batches | loss    1.335 \n"
     ]
    },
    {
     "name": "stderr",
     "output_type": "stream",
     "text": [
      "6508it [01:39, 44.14it/s]"
     ]
    },
    {
     "name": "stdout",
     "output_type": "stream",
     "text": [
      "money: him, them, it, able, ability, addition, way, even, work, taken\n",
      "lion: win, accepted, piece, writing, released, scene, size, brought, africa, followed\n",
      "africa: europe, china, india, america, north, east, end, germany, south, addition\n",
      "musician: actor, writer, singer, actress, author, addition, nine, born, painter, poet\n",
      "dance: music, rock, country, style, traditional, culture, beginning, actor, democratic, formed\n",
      "\n",
      "\n"
     ]
    },
    {
     "name": "stderr",
     "output_type": "stream",
     "text": [
      "6999it [01:47, 68.00it/s]"
     ]
    },
    {
     "name": "stdout",
     "output_type": "stream",
     "text": [
      "| epoch   6 |  7000/32580 batches | loss    1.335 \n"
     ]
    },
    {
     "name": "stderr",
     "output_type": "stream",
     "text": [
      "\r",
      "7006it [01:47, 40.47it/s]"
     ]
    },
    {
     "name": "stdout",
     "output_type": "stream",
     "text": [
      "money: him, them, it, able, ability, addition, way, even, work, taken\n",
      "lion: win, accepted, piece, writing, released, scene, size, brought, africa, followed\n",
      "africa: europe, china, india, america, north, east, end, germany, south, addition\n",
      "musician: actor, writer, singer, actress, author, addition, nine, born, painter, poet\n",
      "dance: music, rock, country, style, traditional, culture, beginning, actor, democratic, formed\n",
      "\n",
      "\n"
     ]
    },
    {
     "name": "stderr",
     "output_type": "stream",
     "text": [
      "7496it [01:54, 68.45it/s]"
     ]
    },
    {
     "name": "stdout",
     "output_type": "stream",
     "text": [
      "| epoch   6 |  7500/32580 batches | loss    1.329 \n"
     ]
    },
    {
     "name": "stderr",
     "output_type": "stream",
     "text": [
      "7509it [01:55, 45.19it/s]"
     ]
    },
    {
     "name": "stdout",
     "output_type": "stream",
     "text": [
      "money: him, them, it, able, ability, addition, way, even, work, taken\n",
      "lion: win, accepted, piece, writing, released, scene, size, brought, africa, followed\n",
      "africa: europe, china, india, america, north, east, end, germany, south, addition\n",
      "musician: actor, writer, singer, actress, author, addition, nine, born, painter, poet\n",
      "dance: music, rock, country, style, traditional, culture, beginning, actor, democratic, formed\n",
      "\n",
      "\n"
     ]
    },
    {
     "name": "stderr",
     "output_type": "stream",
     "text": [
      "7999it [02:02, 67.68it/s]"
     ]
    },
    {
     "name": "stdout",
     "output_type": "stream",
     "text": [
      "| epoch   6 |  8000/32580 batches | loss    1.332 \n"
     ]
    },
    {
     "name": "stderr",
     "output_type": "stream",
     "text": [
      "\r",
      "8006it [02:02, 39.68it/s]"
     ]
    },
    {
     "name": "stdout",
     "output_type": "stream",
     "text": [
      "money: him, them, it, able, ability, addition, way, even, work, taken\n",
      "lion: win, accepted, piece, writing, released, scene, size, brought, africa, followed\n",
      "africa: europe, china, india, america, north, east, end, germany, south, addition\n",
      "musician: actor, writer, singer, actress, author, addition, nine, born, painter, poet\n",
      "dance: music, rock, country, style, traditional, culture, beginning, actor, democratic, formed\n",
      "\n",
      "\n"
     ]
    },
    {
     "name": "stderr",
     "output_type": "stream",
     "text": [
      "8496it [02:09, 68.94it/s]"
     ]
    },
    {
     "name": "stdout",
     "output_type": "stream",
     "text": [
      "| epoch   6 |  8500/32580 batches | loss    1.331 \n"
     ]
    },
    {
     "name": "stderr",
     "output_type": "stream",
     "text": [
      "8509it [02:10, 44.48it/s]"
     ]
    },
    {
     "name": "stdout",
     "output_type": "stream",
     "text": [
      "money: him, them, it, able, ability, addition, way, even, work, taken\n",
      "lion: win, accepted, piece, writing, released, scene, size, brought, africa, followed\n",
      "africa: europe, china, india, america, north, east, end, germany, south, addition\n",
      "musician: actor, writer, singer, actress, author, addition, nine, born, painter, poet\n",
      "dance: music, rock, country, style, traditional, culture, beginning, actor, democratic, formed\n",
      "\n",
      "\n"
     ]
    },
    {
     "name": "stderr",
     "output_type": "stream",
     "text": [
      "8999it [02:17, 66.93it/s]"
     ]
    },
    {
     "name": "stdout",
     "output_type": "stream",
     "text": [
      "| epoch   6 |  9000/32580 batches | loss    1.333 \n"
     ]
    },
    {
     "name": "stderr",
     "output_type": "stream",
     "text": [
      "\r",
      "9006it [02:17, 39.85it/s]"
     ]
    },
    {
     "name": "stdout",
     "output_type": "stream",
     "text": [
      "money: him, them, it, able, ability, addition, way, even, work, taken\n",
      "lion: win, accepted, piece, writing, released, scene, size, brought, africa, followed\n",
      "africa: europe, china, india, america, north, east, end, germany, south, addition\n",
      "musician: actor, writer, singer, actress, author, addition, nine, born, painter, poet\n",
      "dance: music, rock, country, style, traditional, culture, beginning, actor, democratic, formed\n",
      "\n",
      "\n"
     ]
    },
    {
     "name": "stderr",
     "output_type": "stream",
     "text": [
      "9499it [02:25, 68.57it/s]"
     ]
    },
    {
     "name": "stdout",
     "output_type": "stream",
     "text": [
      "| epoch   6 |  9500/32580 batches | loss    1.330 \n"
     ]
    },
    {
     "name": "stderr",
     "output_type": "stream",
     "text": [
      "\r",
      "9506it [02:25, 40.68it/s]"
     ]
    },
    {
     "name": "stdout",
     "output_type": "stream",
     "text": [
      "money: him, them, it, able, ability, addition, way, even, work, taken\n",
      "lion: win, accepted, piece, writing, released, scene, size, brought, africa, followed\n",
      "africa: europe, china, india, america, north, east, end, germany, south, addition\n",
      "musician: actor, writer, singer, actress, author, addition, nine, born, painter, poet\n",
      "dance: music, rock, country, style, traditional, culture, beginning, actor, democratic, formed\n",
      "\n",
      "\n"
     ]
    },
    {
     "name": "stderr",
     "output_type": "stream",
     "text": [
      "9996it [02:32, 68.88it/s]"
     ]
    },
    {
     "name": "stdout",
     "output_type": "stream",
     "text": [
      "| epoch   6 | 10000/32580 batches | loss    1.331 \n"
     ]
    },
    {
     "name": "stderr",
     "output_type": "stream",
     "text": [
      "10009it [02:32, 45.35it/s]"
     ]
    },
    {
     "name": "stdout",
     "output_type": "stream",
     "text": [
      "money: him, them, it, able, ability, addition, way, even, work, taken\n",
      "lion: win, accepted, piece, writing, released, scene, size, brought, africa, followed\n",
      "africa: europe, china, india, america, north, east, end, germany, south, addition\n",
      "musician: actor, writer, singer, actress, author, addition, nine, born, painter, poet\n",
      "dance: music, rock, country, style, traditional, culture, beginning, actor, democratic, formed\n",
      "\n",
      "\n"
     ]
    },
    {
     "name": "stderr",
     "output_type": "stream",
     "text": [
      "10499it [02:42, 67.22it/s]"
     ]
    },
    {
     "name": "stdout",
     "output_type": "stream",
     "text": [
      "| epoch   6 | 10500/32580 batches | loss    1.334 \n"
     ]
    },
    {
     "name": "stderr",
     "output_type": "stream",
     "text": [
      "\r",
      "10506it [02:43, 39.54it/s]"
     ]
    },
    {
     "name": "stdout",
     "output_type": "stream",
     "text": [
      "money: him, them, it, able, ability, addition, way, even, work, taken\n",
      "lion: win, accepted, piece, writing, released, scene, size, brought, africa, followed\n",
      "africa: europe, china, india, america, north, east, end, germany, south, addition\n",
      "musician: actor, writer, singer, actress, author, addition, nine, born, painter, poet\n",
      "dance: music, rock, country, style, traditional, culture, beginning, actor, democratic, formed\n",
      "\n",
      "\n"
     ]
    },
    {
     "name": "stderr",
     "output_type": "stream",
     "text": [
      "10996it [02:50, 68.43it/s]"
     ]
    },
    {
     "name": "stdout",
     "output_type": "stream",
     "text": [
      "| epoch   6 | 11000/32580 batches | loss    1.333 \n"
     ]
    },
    {
     "name": "stderr",
     "output_type": "stream",
     "text": [
      "11009it [02:50, 44.88it/s]"
     ]
    },
    {
     "name": "stdout",
     "output_type": "stream",
     "text": [
      "money: him, them, it, able, ability, addition, way, even, work, taken\n",
      "lion: win, accepted, piece, writing, released, scene, size, brought, africa, followed\n",
      "africa: europe, china, india, america, north, east, end, germany, south, addition\n",
      "musician: actor, writer, singer, actress, author, addition, nine, born, painter, poet\n",
      "dance: music, rock, country, style, traditional, culture, beginning, actor, democratic, formed\n",
      "\n",
      "\n"
     ]
    },
    {
     "name": "stderr",
     "output_type": "stream",
     "text": [
      "11500it [02:58, 69.53it/s]"
     ]
    },
    {
     "name": "stdout",
     "output_type": "stream",
     "text": [
      "| epoch   6 | 11500/32580 batches | loss    1.328 \n"
     ]
    },
    {
     "name": "stderr",
     "output_type": "stream",
     "text": [
      "\r",
      "11507it [02:58, 41.13it/s]"
     ]
    },
    {
     "name": "stdout",
     "output_type": "stream",
     "text": [
      "money: him, them, it, able, ability, addition, way, even, work, taken\n",
      "lion: win, accepted, piece, writing, released, scene, size, brought, africa, followed\n",
      "africa: europe, china, india, america, north, east, end, germany, south, addition\n",
      "musician: actor, writer, singer, actress, author, addition, nine, born, painter, poet\n",
      "dance: music, rock, country, style, traditional, culture, beginning, actor, democratic, formed\n",
      "\n",
      "\n"
     ]
    },
    {
     "name": "stderr",
     "output_type": "stream",
     "text": [
      "11998it [03:05, 68.25it/s]"
     ]
    },
    {
     "name": "stdout",
     "output_type": "stream",
     "text": [
      "| epoch   6 | 12000/32580 batches | loss    1.333 \n"
     ]
    },
    {
     "name": "stderr",
     "output_type": "stream",
     "text": [
      "12012it [03:06, 46.47it/s]"
     ]
    },
    {
     "name": "stdout",
     "output_type": "stream",
     "text": [
      "money: him, them, it, able, ability, addition, way, even, work, taken\n",
      "lion: win, accepted, piece, writing, released, scene, size, brought, africa, followed\n",
      "africa: europe, china, india, america, north, east, end, germany, south, addition\n",
      "musician: actor, writer, singer, actress, author, addition, nine, born, painter, poet\n",
      "dance: music, rock, country, style, traditional, culture, beginning, actor, democratic, formed\n",
      "\n",
      "\n"
     ]
    },
    {
     "name": "stderr",
     "output_type": "stream",
     "text": [
      "12495it [03:13, 66.88it/s]"
     ]
    },
    {
     "name": "stdout",
     "output_type": "stream",
     "text": [
      "| epoch   6 | 12500/32580 batches | loss    1.330 \n"
     ]
    },
    {
     "name": "stderr",
     "output_type": "stream",
     "text": [
      "12508it [03:13, 44.43it/s]"
     ]
    },
    {
     "name": "stdout",
     "output_type": "stream",
     "text": [
      "money: him, them, it, able, ability, addition, way, even, work, taken\n",
      "lion: win, accepted, piece, writing, released, scene, size, brought, africa, followed\n",
      "africa: europe, china, india, america, north, east, end, germany, south, addition\n",
      "musician: actor, writer, singer, actress, author, addition, nine, born, painter, poet\n",
      "dance: music, rock, country, style, traditional, culture, beginning, actor, democratic, formed\n",
      "\n",
      "\n"
     ]
    },
    {
     "name": "stderr",
     "output_type": "stream",
     "text": [
      "12998it [03:20, 69.34it/s]"
     ]
    },
    {
     "name": "stdout",
     "output_type": "stream",
     "text": [
      "| epoch   6 | 13000/32580 batches | loss    1.332 \n"
     ]
    },
    {
     "name": "stderr",
     "output_type": "stream",
     "text": [
      "13012it [03:21, 46.42it/s]"
     ]
    },
    {
     "name": "stdout",
     "output_type": "stream",
     "text": [
      "money: him, them, it, able, ability, addition, way, even, work, taken\n",
      "lion: win, accepted, piece, writing, released, scene, size, brought, africa, followed\n",
      "africa: europe, china, india, america, north, east, end, germany, south, addition\n",
      "musician: actor, writer, singer, actress, author, addition, nine, born, painter, poet\n",
      "dance: music, rock, country, style, traditional, culture, beginning, actor, democratic, formed\n",
      "\n",
      "\n"
     ]
    },
    {
     "name": "stderr",
     "output_type": "stream",
     "text": [
      "13495it [03:28, 68.62it/s]"
     ]
    },
    {
     "name": "stdout",
     "output_type": "stream",
     "text": [
      "| epoch   6 | 13500/32580 batches | loss    1.330 \n"
     ]
    },
    {
     "name": "stderr",
     "output_type": "stream",
     "text": [
      "13508it [03:28, 44.66it/s]"
     ]
    },
    {
     "name": "stdout",
     "output_type": "stream",
     "text": [
      "money: him, them, it, able, ability, addition, way, even, work, taken\n",
      "lion: win, accepted, piece, writing, released, scene, size, brought, africa, followed\n",
      "africa: europe, china, india, america, north, east, end, germany, south, addition\n",
      "musician: actor, writer, singer, actress, author, addition, nine, born, painter, poet\n",
      "dance: music, rock, country, style, traditional, culture, beginning, actor, democratic, formed\n",
      "\n",
      "\n"
     ]
    },
    {
     "name": "stderr",
     "output_type": "stream",
     "text": [
      "13999it [03:36, 66.84it/s]"
     ]
    },
    {
     "name": "stdout",
     "output_type": "stream",
     "text": [
      "| epoch   6 | 14000/32580 batches | loss    1.328 \n"
     ]
    },
    {
     "name": "stderr",
     "output_type": "stream",
     "text": [
      "14013it [03:36, 46.14it/s]"
     ]
    },
    {
     "name": "stdout",
     "output_type": "stream",
     "text": [
      "money: him, them, it, able, ability, addition, way, even, work, taken\n",
      "lion: win, accepted, piece, writing, released, scene, size, brought, africa, followed\n",
      "africa: europe, china, india, america, north, east, end, germany, south, addition\n",
      "musician: actor, writer, singer, actress, author, addition, nine, born, painter, poet\n",
      "dance: music, rock, country, style, traditional, culture, beginning, actor, democratic, formed\n",
      "\n",
      "\n"
     ]
    },
    {
     "name": "stderr",
     "output_type": "stream",
     "text": [
      "14496it [03:43, 68.31it/s]"
     ]
    },
    {
     "name": "stdout",
     "output_type": "stream",
     "text": [
      "| epoch   6 | 14500/32580 batches | loss    1.329 \n"
     ]
    },
    {
     "name": "stderr",
     "output_type": "stream",
     "text": [
      "14510it [03:44, 46.22it/s]"
     ]
    },
    {
     "name": "stdout",
     "output_type": "stream",
     "text": [
      "money: him, them, it, able, ability, addition, way, even, work, taken\n",
      "lion: win, accepted, piece, writing, released, scene, size, brought, africa, followed\n",
      "africa: europe, china, india, america, north, east, end, germany, south, addition\n",
      "musician: actor, writer, singer, actress, author, addition, nine, born, painter, poet\n",
      "dance: music, rock, country, style, traditional, culture, beginning, actor, democratic, formed\n",
      "\n",
      "\n"
     ]
    },
    {
     "name": "stderr",
     "output_type": "stream",
     "text": [
      "14994it [03:51, 68.62it/s]"
     ]
    },
    {
     "name": "stdout",
     "output_type": "stream",
     "text": [
      "| epoch   6 | 15000/32580 batches | loss    1.326 \n"
     ]
    },
    {
     "name": "stderr",
     "output_type": "stream",
     "text": [
      "15007it [03:51, 45.33it/s]"
     ]
    },
    {
     "name": "stdout",
     "output_type": "stream",
     "text": [
      "money: him, them, it, able, ability, addition, way, even, work, taken\n",
      "lion: win, accepted, piece, writing, released, scene, size, brought, africa, followed\n",
      "africa: europe, china, india, america, north, east, end, germany, south, addition\n",
      "musician: actor, writer, singer, actress, author, addition, nine, born, painter, poet\n",
      "dance: music, rock, country, style, traditional, culture, beginning, actor, democratic, formed\n",
      "\n",
      "\n"
     ]
    },
    {
     "name": "stderr",
     "output_type": "stream",
     "text": [
      "15497it [03:58, 68.65it/s]"
     ]
    },
    {
     "name": "stdout",
     "output_type": "stream",
     "text": [
      "| epoch   6 | 15500/32580 batches | loss    1.330 \n"
     ]
    },
    {
     "name": "stderr",
     "output_type": "stream",
     "text": [
      "15511it [03:59, 46.04it/s]"
     ]
    },
    {
     "name": "stdout",
     "output_type": "stream",
     "text": [
      "money: him, them, it, able, ability, addition, way, even, work, taken\n",
      "lion: win, accepted, piece, writing, released, scene, size, brought, africa, followed\n",
      "africa: europe, china, india, america, north, east, end, germany, south, addition\n",
      "musician: actor, writer, singer, actress, author, addition, nine, born, painter, poet\n",
      "dance: music, rock, country, style, traditional, culture, beginning, actor, democratic, formed\n",
      "\n",
      "\n"
     ]
    },
    {
     "name": "stderr",
     "output_type": "stream",
     "text": [
      "15995it [04:06, 68.67it/s]"
     ]
    },
    {
     "name": "stdout",
     "output_type": "stream",
     "text": [
      "| epoch   6 | 16000/32580 batches | loss    1.330 \n"
     ]
    },
    {
     "name": "stderr",
     "output_type": "stream",
     "text": [
      "16008it [04:06, 45.16it/s]"
     ]
    },
    {
     "name": "stdout",
     "output_type": "stream",
     "text": [
      "money: him, them, it, able, ability, addition, way, even, work, taken\n",
      "lion: win, accepted, piece, writing, released, scene, size, brought, africa, followed\n",
      "africa: europe, china, india, america, north, east, end, germany, south, addition\n",
      "musician: actor, writer, singer, actress, author, addition, nine, born, painter, poet\n",
      "dance: music, rock, country, style, traditional, culture, beginning, actor, democratic, formed\n",
      "\n",
      "\n"
     ]
    },
    {
     "name": "stderr",
     "output_type": "stream",
     "text": [
      "16498it [04:13, 68.37it/s]"
     ]
    },
    {
     "name": "stdout",
     "output_type": "stream",
     "text": [
      "| epoch   6 | 16500/32580 batches | loss    1.335 \n"
     ]
    },
    {
     "name": "stderr",
     "output_type": "stream",
     "text": [
      "16512it [04:14, 46.61it/s]"
     ]
    },
    {
     "name": "stdout",
     "output_type": "stream",
     "text": [
      "money: him, them, it, able, ability, addition, way, even, work, taken\n",
      "lion: win, accepted, piece, writing, released, scene, size, brought, africa, followed\n",
      "africa: europe, china, india, america, north, east, end, germany, south, addition\n",
      "musician: actor, writer, singer, actress, author, addition, nine, born, painter, poet\n",
      "dance: music, rock, country, style, traditional, culture, beginning, actor, democratic, formed\n",
      "\n",
      "\n"
     ]
    },
    {
     "name": "stderr",
     "output_type": "stream",
     "text": [
      "16997it [04:21, 68.32it/s]"
     ]
    },
    {
     "name": "stdout",
     "output_type": "stream",
     "text": [
      "| epoch   6 | 17000/32580 batches | loss    1.330 \n"
     ]
    },
    {
     "name": "stderr",
     "output_type": "stream",
     "text": [
      "17011it [04:21, 45.77it/s]"
     ]
    },
    {
     "name": "stdout",
     "output_type": "stream",
     "text": [
      "money: him, them, it, able, ability, addition, way, even, work, taken\n",
      "lion: win, accepted, piece, writing, released, scene, size, brought, africa, followed\n",
      "africa: europe, china, india, america, north, east, end, germany, south, addition\n",
      "musician: actor, writer, singer, actress, author, addition, nine, born, painter, poet\n",
      "dance: music, rock, country, style, traditional, culture, beginning, actor, democratic, formed\n",
      "\n",
      "\n"
     ]
    },
    {
     "name": "stderr",
     "output_type": "stream",
     "text": [
      "17494it [04:28, 68.92it/s]"
     ]
    },
    {
     "name": "stdout",
     "output_type": "stream",
     "text": [
      "| epoch   6 | 17500/32580 batches | loss    1.331 \n"
     ]
    },
    {
     "name": "stderr",
     "output_type": "stream",
     "text": [
      "17507it [04:29, 45.01it/s]"
     ]
    },
    {
     "name": "stdout",
     "output_type": "stream",
     "text": [
      "money: him, them, it, able, ability, addition, way, even, work, taken\n",
      "lion: win, accepted, piece, writing, released, scene, size, brought, africa, followed\n",
      "africa: europe, china, india, america, north, east, end, germany, south, addition\n",
      "musician: actor, writer, singer, actress, author, addition, nine, born, painter, poet\n",
      "dance: music, rock, country, style, traditional, culture, beginning, actor, democratic, formed\n",
      "\n",
      "\n"
     ]
    },
    {
     "name": "stderr",
     "output_type": "stream",
     "text": [
      "17997it [04:36, 68.19it/s]"
     ]
    },
    {
     "name": "stdout",
     "output_type": "stream",
     "text": [
      "| epoch   6 | 18000/32580 batches | loss    1.333 \n"
     ]
    },
    {
     "name": "stderr",
     "output_type": "stream",
     "text": [
      "18011it [04:36, 46.14it/s]"
     ]
    },
    {
     "name": "stdout",
     "output_type": "stream",
     "text": [
      "money: him, them, it, able, ability, addition, way, even, work, taken\n",
      "lion: win, accepted, piece, writing, released, scene, size, brought, africa, followed\n",
      "africa: europe, china, india, america, north, east, end, germany, south, addition\n",
      "musician: actor, writer, singer, actress, author, addition, nine, born, painter, poet\n",
      "dance: music, rock, country, style, traditional, culture, beginning, actor, democratic, formed\n",
      "\n",
      "\n"
     ]
    },
    {
     "name": "stderr",
     "output_type": "stream",
     "text": [
      "18496it [04:44, 67.53it/s]"
     ]
    },
    {
     "name": "stdout",
     "output_type": "stream",
     "text": [
      "| epoch   6 | 18500/32580 batches | loss    1.334 \n"
     ]
    },
    {
     "name": "stderr",
     "output_type": "stream",
     "text": [
      "18510it [04:44, 45.70it/s]"
     ]
    },
    {
     "name": "stdout",
     "output_type": "stream",
     "text": [
      "money: him, them, it, able, ability, addition, way, even, work, taken\n",
      "lion: win, accepted, piece, writing, released, scene, size, brought, africa, followed\n",
      "africa: europe, china, india, america, north, east, end, germany, south, addition\n",
      "musician: actor, writer, singer, actress, author, addition, nine, born, painter, poet\n",
      "dance: music, rock, country, style, traditional, culture, beginning, actor, democratic, formed\n",
      "\n",
      "\n"
     ]
    },
    {
     "name": "stderr",
     "output_type": "stream",
     "text": [
      "18997it [04:51, 68.22it/s]"
     ]
    },
    {
     "name": "stdout",
     "output_type": "stream",
     "text": [
      "| epoch   6 | 19000/32580 batches | loss    1.327 \n",
      "money: him, them, it, able, ability, addition, way, even, work, taken\n",
      "lion: win, accepted, piece, writing, released, scene, size, brought, africa, followed\n",
      "africa: europe, china, india, america, north, east, end, germany, south, addition\n",
      "musician: actor, writer, singer, actress, author, addition, nine, born, painter, poet\n",
      "dance: music, rock, country, style, traditional, culture, beginning, actor, democratic, formed\n"
     ]
    },
    {
     "name": "stderr",
     "output_type": "stream",
     "text": [
      "19011it [04:52, 46.56it/s]"
     ]
    },
    {
     "name": "stdout",
     "output_type": "stream",
     "text": [
      "\n",
      "\n"
     ]
    },
    {
     "name": "stderr",
     "output_type": "stream",
     "text": [
      "19495it [04:59, 66.17it/s]"
     ]
    },
    {
     "name": "stdout",
     "output_type": "stream",
     "text": [
      "| epoch   6 | 19500/32580 batches | loss    1.334 \n"
     ]
    },
    {
     "name": "stderr",
     "output_type": "stream",
     "text": [
      "19508it [04:59, 44.88it/s]"
     ]
    },
    {
     "name": "stdout",
     "output_type": "stream",
     "text": [
      "money: him, them, it, able, ability, addition, way, even, work, taken\n",
      "lion: win, accepted, piece, writing, released, scene, size, brought, africa, followed\n",
      "africa: europe, china, india, america, north, east, end, germany, south, addition\n",
      "musician: actor, writer, singer, actress, author, addition, nine, born, painter, poet\n",
      "dance: music, rock, country, style, traditional, culture, beginning, actor, democratic, formed\n",
      "\n",
      "\n"
     ]
    },
    {
     "name": "stderr",
     "output_type": "stream",
     "text": [
      "20000it [05:06, 68.25it/s]"
     ]
    },
    {
     "name": "stdout",
     "output_type": "stream",
     "text": [
      "| epoch   6 | 20000/32580 batches | loss    1.332 \n"
     ]
    },
    {
     "name": "stderr",
     "output_type": "stream",
     "text": [
      "\r",
      "20007it [05:07, 40.67it/s]"
     ]
    },
    {
     "name": "stdout",
     "output_type": "stream",
     "text": [
      "money: him, them, it, able, ability, addition, way, even, work, taken\n",
      "lion: win, accepted, piece, writing, released, scene, size, brought, africa, followed\n",
      "africa: europe, china, india, america, north, east, end, germany, south, addition\n",
      "musician: actor, writer, singer, actress, author, addition, nine, born, painter, poet\n",
      "dance: music, rock, country, style, traditional, culture, beginning, actor, democratic, formed\n",
      "\n",
      "\n"
     ]
    },
    {
     "name": "stderr",
     "output_type": "stream",
     "text": [
      "20499it [05:14, 66.82it/s]"
     ]
    },
    {
     "name": "stdout",
     "output_type": "stream",
     "text": [
      "| epoch   6 | 20500/32580 batches | loss    1.332 \n"
     ]
    },
    {
     "name": "stderr",
     "output_type": "stream",
     "text": [
      "\r",
      "20506it [05:14, 40.37it/s]"
     ]
    },
    {
     "name": "stdout",
     "output_type": "stream",
     "text": [
      "money: him, them, it, able, ability, addition, way, even, work, taken\n",
      "lion: win, accepted, piece, writing, released, scene, size, brought, africa, followed\n",
      "africa: europe, china, india, america, north, east, end, germany, south, addition\n",
      "musician: actor, writer, singer, actress, author, addition, nine, born, painter, poet\n",
      "dance: music, rock, country, style, traditional, culture, beginning, actor, democratic, formed\n",
      "\n",
      "\n"
     ]
    },
    {
     "name": "stderr",
     "output_type": "stream",
     "text": [
      "20996it [05:21, 67.81it/s]"
     ]
    },
    {
     "name": "stdout",
     "output_type": "stream",
     "text": [
      "| epoch   6 | 21000/32580 batches | loss    1.331 \n"
     ]
    },
    {
     "name": "stderr",
     "output_type": "stream",
     "text": [
      "21009it [05:22, 43.98it/s]"
     ]
    },
    {
     "name": "stdout",
     "output_type": "stream",
     "text": [
      "money: him, them, it, able, ability, addition, way, even, work, taken\n",
      "lion: win, accepted, piece, writing, released, scene, size, brought, africa, followed\n",
      "africa: europe, china, india, america, north, east, end, germany, south, addition\n",
      "musician: actor, writer, singer, actress, author, addition, nine, born, painter, poet\n",
      "dance: music, rock, country, style, traditional, culture, beginning, actor, democratic, formed\n",
      "\n",
      "\n"
     ]
    },
    {
     "name": "stderr",
     "output_type": "stream",
     "text": [
      "21499it [05:29, 68.13it/s]"
     ]
    },
    {
     "name": "stdout",
     "output_type": "stream",
     "text": [
      "| epoch   6 | 21500/32580 batches | loss    1.330 \n"
     ]
    },
    {
     "name": "stderr",
     "output_type": "stream",
     "text": [
      "\r",
      "21506it [05:29, 40.01it/s]"
     ]
    },
    {
     "name": "stdout",
     "output_type": "stream",
     "text": [
      "money: him, them, it, able, ability, addition, way, even, work, taken\n",
      "lion: win, accepted, piece, writing, released, scene, size, brought, africa, followed\n",
      "africa: europe, china, india, america, north, east, end, germany, south, addition\n",
      "musician: actor, writer, singer, actress, author, addition, nine, born, painter, poet\n",
      "dance: music, rock, country, style, traditional, culture, beginning, actor, democratic, formed\n",
      "\n",
      "\n"
     ]
    },
    {
     "name": "stderr",
     "output_type": "stream",
     "text": [
      "21996it [05:37, 68.05it/s]"
     ]
    },
    {
     "name": "stdout",
     "output_type": "stream",
     "text": [
      "| epoch   6 | 22000/32580 batches | loss    1.332 \n"
     ]
    },
    {
     "name": "stderr",
     "output_type": "stream",
     "text": [
      "22010it [05:37, 45.94it/s]"
     ]
    },
    {
     "name": "stdout",
     "output_type": "stream",
     "text": [
      "money: him, them, it, able, ability, addition, way, even, work, taken\n",
      "lion: win, accepted, piece, writing, released, scene, size, brought, africa, followed\n",
      "africa: europe, china, india, america, north, east, end, germany, south, addition\n",
      "musician: actor, writer, singer, actress, author, addition, nine, born, painter, poet\n",
      "dance: music, rock, country, style, traditional, culture, beginning, actor, democratic, formed\n",
      "\n",
      "\n"
     ]
    },
    {
     "name": "stderr",
     "output_type": "stream",
     "text": [
      "22500it [05:44, 67.99it/s]"
     ]
    },
    {
     "name": "stdout",
     "output_type": "stream",
     "text": [
      "| epoch   6 | 22500/32580 batches | loss    1.328 \n"
     ]
    },
    {
     "name": "stderr",
     "output_type": "stream",
     "text": [
      "\r",
      "22507it [05:45, 40.58it/s]"
     ]
    },
    {
     "name": "stdout",
     "output_type": "stream",
     "text": [
      "money: him, them, it, able, ability, addition, way, even, work, taken\n",
      "lion: win, accepted, piece, writing, released, scene, size, brought, africa, followed\n",
      "africa: europe, china, india, america, north, east, end, germany, south, addition\n",
      "musician: actor, writer, singer, actress, author, addition, nine, born, painter, poet\n",
      "dance: music, rock, country, style, traditional, culture, beginning, actor, democratic, formed\n",
      "\n",
      "\n"
     ]
    },
    {
     "name": "stderr",
     "output_type": "stream",
     "text": [
      "22997it [05:52, 67.66it/s]"
     ]
    },
    {
     "name": "stdout",
     "output_type": "stream",
     "text": [
      "| epoch   6 | 23000/32580 batches | loss    1.330 \n"
     ]
    },
    {
     "name": "stderr",
     "output_type": "stream",
     "text": [
      "23011it [05:52, 46.03it/s]"
     ]
    },
    {
     "name": "stdout",
     "output_type": "stream",
     "text": [
      "money: him, them, it, able, ability, addition, way, even, work, taken\n",
      "lion: win, accepted, piece, writing, released, scene, size, brought, africa, followed\n",
      "africa: europe, china, india, america, north, east, end, germany, south, addition\n",
      "musician: actor, writer, singer, actress, author, addition, nine, born, painter, poet\n",
      "dance: music, rock, country, style, traditional, culture, beginning, actor, democratic, formed\n",
      "\n",
      "\n"
     ]
    },
    {
     "name": "stderr",
     "output_type": "stream",
     "text": [
      "23494it [05:59, 68.03it/s]"
     ]
    },
    {
     "name": "stdout",
     "output_type": "stream",
     "text": [
      "| epoch   6 | 23500/32580 batches | loss    1.329 \n"
     ]
    },
    {
     "name": "stderr",
     "output_type": "stream",
     "text": [
      "23507it [06:00, 44.62it/s]"
     ]
    },
    {
     "name": "stdout",
     "output_type": "stream",
     "text": [
      "money: him, them, it, able, ability, addition, way, even, work, taken\n",
      "lion: win, accepted, piece, writing, released, scene, size, brought, africa, followed\n",
      "africa: europe, china, india, america, north, east, end, germany, south, addition\n",
      "musician: actor, writer, singer, actress, author, addition, nine, born, painter, poet\n",
      "dance: music, rock, country, style, traditional, culture, beginning, actor, democratic, formed\n",
      "\n",
      "\n"
     ]
    },
    {
     "name": "stderr",
     "output_type": "stream",
     "text": [
      "23995it [06:07, 67.08it/s]"
     ]
    },
    {
     "name": "stdout",
     "output_type": "stream",
     "text": [
      "| epoch   6 | 24000/32580 batches | loss    1.331 \n"
     ]
    },
    {
     "name": "stderr",
     "output_type": "stream",
     "text": [
      "24008it [06:07, 44.81it/s]"
     ]
    },
    {
     "name": "stdout",
     "output_type": "stream",
     "text": [
      "money: him, them, it, able, ability, addition, way, even, work, taken\n",
      "lion: win, accepted, piece, writing, released, scene, size, brought, africa, followed\n",
      "africa: europe, china, india, america, north, east, end, germany, south, addition\n",
      "musician: actor, writer, singer, actress, author, addition, nine, born, painter, poet\n",
      "dance: music, rock, country, style, traditional, culture, beginning, actor, democratic, formed\n",
      "\n",
      "\n"
     ]
    },
    {
     "name": "stderr",
     "output_type": "stream",
     "text": [
      "24494it [06:14, 69.06it/s]"
     ]
    },
    {
     "name": "stdout",
     "output_type": "stream",
     "text": [
      "| epoch   6 | 24500/32580 batches | loss    1.328 \n"
     ]
    },
    {
     "name": "stderr",
     "output_type": "stream",
     "text": [
      "24507it [06:15, 45.06it/s]"
     ]
    },
    {
     "name": "stdout",
     "output_type": "stream",
     "text": [
      "money: him, them, it, able, ability, addition, way, even, work, taken\n",
      "lion: win, accepted, piece, writing, released, scene, size, brought, africa, followed\n",
      "africa: europe, china, india, america, north, east, end, germany, south, addition\n",
      "musician: actor, writer, singer, actress, author, addition, nine, born, painter, poet\n",
      "dance: music, rock, country, style, traditional, culture, beginning, actor, democratic, formed\n",
      "\n",
      "\n"
     ]
    },
    {
     "name": "stderr",
     "output_type": "stream",
     "text": [
      "25000it [06:22, 67.42it/s]"
     ]
    },
    {
     "name": "stdout",
     "output_type": "stream",
     "text": [
      "| epoch   6 | 25000/32580 batches | loss    1.330 \n"
     ]
    },
    {
     "name": "stderr",
     "output_type": "stream",
     "text": [
      "\r",
      "25007it [06:22, 40.61it/s]"
     ]
    },
    {
     "name": "stdout",
     "output_type": "stream",
     "text": [
      "money: him, them, it, able, ability, addition, way, even, work, taken\n",
      "lion: win, accepted, piece, writing, released, scene, size, brought, africa, followed\n",
      "africa: europe, china, india, america, north, east, end, germany, south, addition\n",
      "musician: actor, writer, singer, actress, author, addition, nine, born, painter, poet\n",
      "dance: music, rock, country, style, traditional, culture, beginning, actor, democratic, formed\n",
      "\n",
      "\n"
     ]
    },
    {
     "name": "stderr",
     "output_type": "stream",
     "text": [
      "25499it [06:30, 66.09it/s]"
     ]
    },
    {
     "name": "stdout",
     "output_type": "stream",
     "text": [
      "| epoch   6 | 25500/32580 batches | loss    1.329 \n"
     ]
    },
    {
     "name": "stderr",
     "output_type": "stream",
     "text": [
      "\r",
      "25506it [06:30, 39.18it/s]"
     ]
    },
    {
     "name": "stdout",
     "output_type": "stream",
     "text": [
      "money: him, them, it, able, ability, addition, way, even, work, taken\n",
      "lion: win, accepted, piece, writing, released, scene, size, brought, africa, followed\n",
      "africa: europe, china, india, america, north, east, end, germany, south, addition\n",
      "musician: actor, writer, singer, actress, author, addition, nine, born, painter, poet\n",
      "dance: music, rock, country, style, traditional, culture, beginning, actor, democratic, formed\n",
      "\n",
      "\n"
     ]
    },
    {
     "name": "stderr",
     "output_type": "stream",
     "text": [
      "25996it [06:37, 67.90it/s]"
     ]
    },
    {
     "name": "stdout",
     "output_type": "stream",
     "text": [
      "| epoch   6 | 26000/32580 batches | loss    1.328 \n"
     ]
    },
    {
     "name": "stderr",
     "output_type": "stream",
     "text": [
      "26010it [06:38, 45.99it/s]"
     ]
    },
    {
     "name": "stdout",
     "output_type": "stream",
     "text": [
      "money: him, them, it, able, ability, addition, way, even, work, taken\n",
      "lion: win, accepted, piece, writing, released, scene, size, brought, africa, followed\n",
      "africa: europe, china, india, america, north, east, end, germany, south, addition\n",
      "musician: actor, writer, singer, actress, author, addition, nine, born, painter, poet\n",
      "dance: music, rock, country, style, traditional, culture, beginning, actor, democratic, formed\n",
      "\n",
      "\n"
     ]
    },
    {
     "name": "stderr",
     "output_type": "stream",
     "text": [
      "26500it [06:45, 68.55it/s]"
     ]
    },
    {
     "name": "stdout",
     "output_type": "stream",
     "text": [
      "| epoch   6 | 26500/32580 batches | loss    1.330 \n"
     ]
    },
    {
     "name": "stderr",
     "output_type": "stream",
     "text": [
      "\r",
      "26507it [06:45, 37.43it/s]"
     ]
    },
    {
     "name": "stdout",
     "output_type": "stream",
     "text": [
      "money: him, them, it, able, ability, addition, way, even, work, taken\n",
      "lion: win, accepted, piece, writing, released, scene, size, brought, africa, followed\n",
      "africa: europe, china, india, america, north, east, end, germany, south, addition\n",
      "musician: actor, writer, singer, actress, author, addition, nine, born, painter, poet\n",
      "dance: music, rock, country, style, traditional, culture, beginning, actor, democratic, formed\n",
      "\n",
      "\n"
     ]
    },
    {
     "name": "stderr",
     "output_type": "stream",
     "text": [
      "26999it [06:52, 67.65it/s]"
     ]
    },
    {
     "name": "stdout",
     "output_type": "stream",
     "text": [
      "| epoch   6 | 27000/32580 batches | loss    1.328 \n"
     ]
    },
    {
     "name": "stderr",
     "output_type": "stream",
     "text": [
      "\r",
      "27006it [06:53, 40.34it/s]"
     ]
    },
    {
     "name": "stdout",
     "output_type": "stream",
     "text": [
      "money: him, them, it, able, ability, addition, way, even, work, taken\n",
      "lion: win, accepted, piece, writing, released, scene, size, brought, africa, followed\n",
      "africa: europe, china, india, america, north, east, end, germany, south, addition\n",
      "musician: actor, writer, singer, actress, author, addition, nine, born, painter, poet\n",
      "dance: music, rock, country, style, traditional, culture, beginning, actor, democratic, formed\n",
      "\n",
      "\n"
     ]
    },
    {
     "name": "stderr",
     "output_type": "stream",
     "text": [
      "27497it [07:00, 68.24it/s]"
     ]
    },
    {
     "name": "stdout",
     "output_type": "stream",
     "text": [
      "| epoch   6 | 27500/32580 batches | loss    1.332 \n"
     ]
    },
    {
     "name": "stderr",
     "output_type": "stream",
     "text": [
      "27511it [07:00, 46.19it/s]"
     ]
    },
    {
     "name": "stdout",
     "output_type": "stream",
     "text": [
      "money: him, them, it, able, ability, addition, way, even, work, taken\n",
      "lion: win, accepted, piece, writing, released, scene, size, brought, africa, followed\n",
      "africa: europe, china, india, america, north, east, end, germany, south, addition\n",
      "musician: actor, writer, singer, actress, author, addition, nine, born, painter, poet\n",
      "dance: music, rock, country, style, traditional, culture, beginning, actor, democratic, formed\n",
      "\n",
      "\n"
     ]
    },
    {
     "name": "stderr",
     "output_type": "stream",
     "text": [
      "27995it [07:07, 69.42it/s]"
     ]
    },
    {
     "name": "stdout",
     "output_type": "stream",
     "text": [
      "| epoch   6 | 28000/32580 batches | loss    1.331 \n"
     ]
    },
    {
     "name": "stderr",
     "output_type": "stream",
     "text": [
      "28008it [07:08, 45.09it/s]"
     ]
    },
    {
     "name": "stdout",
     "output_type": "stream",
     "text": [
      "money: him, them, it, able, ability, addition, way, even, work, taken\n",
      "lion: win, accepted, piece, writing, released, scene, size, brought, africa, followed\n",
      "africa: europe, china, india, america, north, east, end, germany, south, addition\n",
      "musician: actor, writer, singer, actress, author, addition, nine, born, painter, poet\n",
      "dance: music, rock, country, style, traditional, culture, beginning, actor, democratic, formed\n",
      "\n",
      "\n"
     ]
    },
    {
     "name": "stderr",
     "output_type": "stream",
     "text": [
      "28495it [07:15, 69.68it/s]"
     ]
    },
    {
     "name": "stdout",
     "output_type": "stream",
     "text": [
      "| epoch   6 | 28500/32580 batches | loss    1.331 \n"
     ]
    },
    {
     "name": "stderr",
     "output_type": "stream",
     "text": [
      "28508it [07:15, 45.70it/s]"
     ]
    },
    {
     "name": "stdout",
     "output_type": "stream",
     "text": [
      "money: him, them, it, able, ability, addition, way, even, work, taken\n",
      "lion: win, accepted, piece, writing, released, scene, size, brought, africa, followed\n",
      "africa: europe, china, india, america, north, east, end, germany, south, addition\n",
      "musician: actor, writer, singer, actress, author, addition, nine, born, painter, poet\n",
      "dance: music, rock, country, style, traditional, culture, beginning, actor, democratic, formed\n",
      "\n",
      "\n"
     ]
    },
    {
     "name": "stderr",
     "output_type": "stream",
     "text": [
      "28994it [07:22, 69.72it/s]"
     ]
    },
    {
     "name": "stdout",
     "output_type": "stream",
     "text": [
      "| epoch   6 | 29000/32580 batches | loss    1.333 \n"
     ]
    },
    {
     "name": "stderr",
     "output_type": "stream",
     "text": [
      "29007it [07:23, 45.60it/s]"
     ]
    },
    {
     "name": "stdout",
     "output_type": "stream",
     "text": [
      "money: him, them, it, able, ability, addition, way, even, work, taken\n",
      "lion: win, accepted, piece, writing, released, scene, size, brought, africa, followed\n",
      "africa: europe, china, india, america, north, east, end, germany, south, addition\n",
      "musician: actor, writer, singer, actress, author, addition, nine, born, painter, poet\n",
      "dance: music, rock, country, style, traditional, culture, beginning, actor, democratic, formed\n",
      "\n",
      "\n"
     ]
    },
    {
     "name": "stderr",
     "output_type": "stream",
     "text": [
      "29499it [07:30, 67.56it/s]"
     ]
    },
    {
     "name": "stdout",
     "output_type": "stream",
     "text": [
      "| epoch   6 | 29500/32580 batches | loss    1.332 \n"
     ]
    },
    {
     "name": "stderr",
     "output_type": "stream",
     "text": [
      "29513it [07:30, 46.37it/s]"
     ]
    },
    {
     "name": "stdout",
     "output_type": "stream",
     "text": [
      "money: him, them, it, able, ability, addition, way, even, work, taken\n",
      "lion: win, accepted, piece, writing, released, scene, size, brought, africa, followed\n",
      "africa: europe, china, india, america, north, east, end, germany, south, addition\n",
      "musician: actor, writer, singer, actress, author, addition, nine, born, painter, poet\n",
      "dance: music, rock, country, style, traditional, culture, beginning, actor, democratic, formed\n",
      "\n",
      "\n"
     ]
    },
    {
     "name": "stderr",
     "output_type": "stream",
     "text": [
      "29996it [07:37, 69.20it/s]"
     ]
    },
    {
     "name": "stdout",
     "output_type": "stream",
     "text": [
      "| epoch   6 | 30000/32580 batches | loss    1.326 \n"
     ]
    },
    {
     "name": "stderr",
     "output_type": "stream",
     "text": [
      "30009it [07:38, 44.79it/s]"
     ]
    },
    {
     "name": "stdout",
     "output_type": "stream",
     "text": [
      "money: him, them, it, able, ability, addition, way, even, work, taken\n",
      "lion: win, accepted, piece, writing, released, scene, size, brought, africa, followed\n",
      "africa: europe, china, india, america, north, east, end, germany, south, addition\n",
      "musician: actor, writer, singer, actress, author, addition, nine, born, painter, poet\n",
      "dance: music, rock, country, style, traditional, culture, beginning, actor, democratic, formed\n",
      "\n",
      "\n"
     ]
    },
    {
     "name": "stderr",
     "output_type": "stream",
     "text": [
      "30495it [07:45, 68.41it/s]"
     ]
    },
    {
     "name": "stdout",
     "output_type": "stream",
     "text": [
      "| epoch   6 | 30500/32580 batches | loss    1.333 \n",
      "money: him, them, it, able, ability, addition, way, even, work, taken\n",
      "lion: win, accepted, piece, writing, released, scene, size, brought, africa, followed\n",
      "africa: europe, china, india, america, north, east, end, germany, south, addition\n",
      "musician: actor, writer, singer, actress, author, addition, nine, born, painter, poet\n",
      "dance: music, rock, country, style, traditional, culture, beginning, actor, democratic, formed\n"
     ]
    },
    {
     "name": "stderr",
     "output_type": "stream",
     "text": [
      "30508it [07:45, 45.63it/s]"
     ]
    },
    {
     "name": "stdout",
     "output_type": "stream",
     "text": [
      "\n",
      "\n"
     ]
    },
    {
     "name": "stderr",
     "output_type": "stream",
     "text": [
      "30994it [07:52, 68.67it/s]"
     ]
    },
    {
     "name": "stdout",
     "output_type": "stream",
     "text": [
      "| epoch   6 | 31000/32580 batches | loss    1.328 \n"
     ]
    },
    {
     "name": "stderr",
     "output_type": "stream",
     "text": [
      "31007it [07:53, 45.06it/s]"
     ]
    },
    {
     "name": "stdout",
     "output_type": "stream",
     "text": [
      "money: him, them, it, able, ability, addition, way, even, work, taken\n",
      "lion: win, accepted, piece, writing, released, scene, size, brought, africa, followed\n",
      "africa: europe, china, india, america, north, east, end, germany, south, addition\n",
      "musician: actor, writer, singer, actress, author, addition, nine, born, painter, poet\n",
      "dance: music, rock, country, style, traditional, culture, beginning, actor, democratic, formed\n",
      "\n",
      "\n"
     ]
    },
    {
     "name": "stderr",
     "output_type": "stream",
     "text": [
      "31497it [08:00, 65.90it/s]"
     ]
    },
    {
     "name": "stdout",
     "output_type": "stream",
     "text": [
      "| epoch   6 | 31500/32580 batches | loss    1.330 \n"
     ]
    },
    {
     "name": "stderr",
     "output_type": "stream",
     "text": [
      "31511it [08:00, 45.70it/s]"
     ]
    },
    {
     "name": "stdout",
     "output_type": "stream",
     "text": [
      "money: him, them, it, able, ability, addition, way, even, work, taken\n",
      "lion: win, accepted, piece, writing, released, scene, size, brought, africa, followed\n",
      "africa: europe, china, india, america, north, east, end, germany, south, addition\n",
      "musician: actor, writer, singer, actress, author, addition, nine, born, painter, poet\n",
      "dance: music, rock, country, style, traditional, culture, beginning, actor, democratic, formed\n",
      "\n",
      "\n"
     ]
    },
    {
     "name": "stderr",
     "output_type": "stream",
     "text": [
      "31995it [08:07, 66.26it/s]"
     ]
    },
    {
     "name": "stdout",
     "output_type": "stream",
     "text": [
      "| epoch   6 | 32000/32580 batches | loss    1.332 \n"
     ]
    },
    {
     "name": "stderr",
     "output_type": "stream",
     "text": [
      "32008it [08:08, 44.41it/s]"
     ]
    },
    {
     "name": "stdout",
     "output_type": "stream",
     "text": [
      "money: him, them, it, able, ability, addition, way, even, work, taken\n",
      "lion: win, accepted, piece, writing, released, scene, size, brought, africa, followed\n",
      "africa: europe, china, india, america, north, east, end, germany, south, addition\n",
      "musician: actor, writer, singer, actress, author, addition, nine, born, painter, poet\n",
      "dance: music, rock, country, style, traditional, culture, beginning, actor, democratic, formed\n",
      "\n",
      "\n"
     ]
    },
    {
     "name": "stderr",
     "output_type": "stream",
     "text": [
      "32496it [08:15, 67.95it/s]"
     ]
    },
    {
     "name": "stdout",
     "output_type": "stream",
     "text": [
      "| epoch   6 | 32500/32580 batches | loss    1.330 \n",
      "money: him, them, it, able, ability, addition, way, even, work, taken\n",
      "lion: win, accepted, piece, writing, released, scene, size, brought, africa, followed\n",
      "africa: europe, china, india, america, north, east, end, germany, south, addition\n",
      "musician: actor, writer, singer, actress, author, addition, nine, born, painter, poet\n",
      "dance: music, rock, country, style, traditional, culture, beginning, actor, democratic, formed\n"
     ]
    },
    {
     "name": "stderr",
     "output_type": "stream",
     "text": [
      "32510it [08:15, 46.27it/s]"
     ]
    },
    {
     "name": "stdout",
     "output_type": "stream",
     "text": [
      "\n",
      "\n"
     ]
    },
    {
     "name": "stderr",
     "output_type": "stream",
     "text": [
      "32580it [08:17, 65.45it/s]\n",
      "0it [00:00, ?it/s]"
     ]
    },
    {
     "name": "stdout",
     "output_type": "stream",
     "text": [
      "| epoch   7 |     0/32580 batches | loss    1.363 \n"
     ]
    },
    {
     "name": "stderr",
     "output_type": "stream",
     "text": [
      "6it [00:01,  6.11it/s]"
     ]
    },
    {
     "name": "stdout",
     "output_type": "stream",
     "text": [
      "money: him, them, it, able, ability, addition, way, even, work, taken\n",
      "lion: win, accepted, piece, writing, released, scene, size, brought, africa, followed\n",
      "africa: europe, china, india, america, north, east, end, germany, south, addition\n",
      "musician: actor, writer, singer, actress, author, addition, nine, born, painter, poet\n",
      "dance: music, rock, country, style, traditional, culture, beginning, actor, democratic, formed\n",
      "\n",
      "\n"
     ]
    },
    {
     "name": "stderr",
     "output_type": "stream",
     "text": [
      "496it [00:08, 67.14it/s]"
     ]
    },
    {
     "name": "stdout",
     "output_type": "stream",
     "text": [
      "| epoch   7 |   500/32580 batches | loss    1.331 \n"
     ]
    },
    {
     "name": "stderr",
     "output_type": "stream",
     "text": [
      "510it [00:08, 45.68it/s]"
     ]
    },
    {
     "name": "stdout",
     "output_type": "stream",
     "text": [
      "money: him, them, it, able, ability, addition, way, even, work, taken\n",
      "lion: win, accepted, piece, writing, released, scene, size, brought, africa, followed\n",
      "africa: europe, china, india, america, north, east, end, germany, south, addition\n",
      "musician: actor, writer, singer, actress, author, addition, nine, born, painter, poet\n",
      "dance: music, rock, country, style, traditional, culture, beginning, actor, democratic, formed\n",
      "\n",
      "\n"
     ]
    },
    {
     "name": "stderr",
     "output_type": "stream",
     "text": [
      "995it [00:16, 69.56it/s]"
     ]
    },
    {
     "name": "stdout",
     "output_type": "stream",
     "text": [
      "| epoch   7 |  1000/32580 batches | loss    1.327 \n"
     ]
    },
    {
     "name": "stderr",
     "output_type": "stream",
     "text": [
      "1008it [00:16, 46.03it/s]"
     ]
    },
    {
     "name": "stdout",
     "output_type": "stream",
     "text": [
      "money: him, them, it, able, ability, addition, way, even, work, taken\n",
      "lion: win, accepted, piece, writing, released, scene, size, brought, africa, followed\n",
      "africa: europe, china, india, america, north, east, end, germany, south, addition\n",
      "musician: actor, writer, singer, actress, author, addition, nine, born, painter, poet\n",
      "dance: music, rock, country, style, traditional, culture, beginning, actor, democratic, formed\n",
      "\n",
      "\n"
     ]
    },
    {
     "name": "stderr",
     "output_type": "stream",
     "text": [
      "1496it [00:26, 68.52it/s]"
     ]
    },
    {
     "name": "stdout",
     "output_type": "stream",
     "text": [
      "| epoch   7 |  1500/32580 batches | loss    1.329 \n"
     ]
    },
    {
     "name": "stderr",
     "output_type": "stream",
     "text": [
      "1509it [00:26, 44.55it/s]"
     ]
    },
    {
     "name": "stdout",
     "output_type": "stream",
     "text": [
      "money: him, them, it, able, ability, addition, way, even, work, taken\n",
      "lion: win, accepted, piece, writing, released, scene, size, brought, africa, followed\n",
      "africa: europe, china, india, america, north, east, end, germany, south, addition\n",
      "musician: actor, writer, singer, actress, author, addition, nine, born, painter, poet\n",
      "dance: music, rock, country, style, traditional, culture, beginning, actor, democratic, formed\n",
      "\n",
      "\n"
     ]
    },
    {
     "name": "stderr",
     "output_type": "stream",
     "text": [
      "1999it [00:33, 68.38it/s]"
     ]
    },
    {
     "name": "stdout",
     "output_type": "stream",
     "text": [
      "| epoch   7 |  2000/32580 batches | loss    1.329 \n"
     ]
    },
    {
     "name": "stderr",
     "output_type": "stream",
     "text": [
      "\r",
      "2006it [00:34, 40.69it/s]"
     ]
    },
    {
     "name": "stdout",
     "output_type": "stream",
     "text": [
      "money: him, them, it, able, ability, addition, way, even, work, taken\n",
      "lion: win, accepted, piece, writing, released, scene, size, brought, africa, followed\n",
      "africa: europe, china, india, america, north, east, end, germany, south, addition\n",
      "musician: actor, writer, singer, actress, author, addition, nine, born, painter, poet\n",
      "dance: music, rock, country, style, traditional, culture, beginning, actor, democratic, formed\n",
      "\n",
      "\n"
     ]
    },
    {
     "name": "stderr",
     "output_type": "stream",
     "text": [
      "2499it [00:41, 68.29it/s]"
     ]
    },
    {
     "name": "stdout",
     "output_type": "stream",
     "text": [
      "| epoch   7 |  2500/32580 batches | loss    1.327 \n"
     ]
    },
    {
     "name": "stderr",
     "output_type": "stream",
     "text": [
      "2513it [00:41, 46.52it/s]"
     ]
    },
    {
     "name": "stdout",
     "output_type": "stream",
     "text": [
      "money: him, them, it, able, ability, addition, way, even, work, taken\n",
      "lion: win, accepted, piece, writing, released, scene, size, brought, africa, followed\n",
      "africa: europe, china, india, america, north, east, end, germany, south, addition\n",
      "musician: actor, writer, singer, actress, author, addition, nine, born, painter, poet\n",
      "dance: music, rock, country, style, traditional, culture, beginning, actor, democratic, formed\n",
      "\n",
      "\n"
     ]
    },
    {
     "name": "stderr",
     "output_type": "stream",
     "text": [
      "2999it [00:48, 68.15it/s]"
     ]
    },
    {
     "name": "stdout",
     "output_type": "stream",
     "text": [
      "| epoch   7 |  3000/32580 batches | loss    1.331 \n"
     ]
    },
    {
     "name": "stderr",
     "output_type": "stream",
     "text": [
      "\r",
      "3006it [00:49, 39.33it/s]"
     ]
    },
    {
     "name": "stdout",
     "output_type": "stream",
     "text": [
      "money: him, them, it, able, ability, addition, way, even, work, taken\n",
      "lion: win, accepted, piece, writing, released, scene, size, brought, africa, followed\n",
      "africa: europe, china, india, america, north, east, end, germany, south, addition\n",
      "musician: actor, writer, singer, actress, author, addition, nine, born, painter, poet\n",
      "dance: music, rock, country, style, traditional, culture, beginning, actor, democratic, formed\n",
      "\n",
      "\n"
     ]
    },
    {
     "name": "stderr",
     "output_type": "stream",
     "text": [
      "3496it [00:56, 68.36it/s]"
     ]
    },
    {
     "name": "stdout",
     "output_type": "stream",
     "text": [
      "| epoch   7 |  3500/32580 batches | loss    1.329 \n"
     ]
    },
    {
     "name": "stderr",
     "output_type": "stream",
     "text": [
      "3510it [00:56, 45.97it/s]"
     ]
    },
    {
     "name": "stdout",
     "output_type": "stream",
     "text": [
      "money: him, them, it, able, ability, addition, way, even, work, taken\n",
      "lion: win, accepted, piece, writing, released, scene, size, brought, africa, followed\n",
      "africa: europe, china, india, america, north, east, end, germany, south, addition\n",
      "musician: actor, writer, singer, actress, author, addition, nine, born, painter, poet\n",
      "dance: music, rock, country, style, traditional, culture, beginning, actor, democratic, formed\n",
      "\n",
      "\n"
     ]
    },
    {
     "name": "stderr",
     "output_type": "stream",
     "text": [
      "4000it [01:04, 69.03it/s]"
     ]
    },
    {
     "name": "stdout",
     "output_type": "stream",
     "text": [
      "| epoch   7 |  4000/32580 batches | loss    1.331 \n"
     ]
    },
    {
     "name": "stderr",
     "output_type": "stream",
     "text": [
      "\r",
      "4007it [01:04, 40.22it/s]"
     ]
    },
    {
     "name": "stdout",
     "output_type": "stream",
     "text": [
      "money: him, them, it, able, ability, addition, way, even, work, taken\n",
      "lion: win, accepted, piece, writing, released, scene, size, brought, africa, followed\n",
      "africa: europe, china, india, america, north, east, end, germany, south, addition\n",
      "musician: actor, writer, singer, actress, author, addition, nine, born, painter, poet\n",
      "dance: music, rock, country, style, traditional, culture, beginning, actor, democratic, formed\n",
      "\n",
      "\n"
     ]
    },
    {
     "name": "stderr",
     "output_type": "stream",
     "text": [
      "4498it [01:11, 68.55it/s]"
     ]
    },
    {
     "name": "stdout",
     "output_type": "stream",
     "text": [
      "| epoch   7 |  4500/32580 batches | loss    1.332 \n"
     ]
    },
    {
     "name": "stderr",
     "output_type": "stream",
     "text": [
      "4512it [01:12, 45.59it/s]"
     ]
    },
    {
     "name": "stdout",
     "output_type": "stream",
     "text": [
      "money: him, them, it, able, ability, addition, way, even, work, taken\n",
      "lion: win, accepted, piece, writing, released, scene, size, brought, africa, followed\n",
      "africa: europe, china, india, america, north, east, end, germany, south, addition\n",
      "musician: actor, writer, singer, actress, author, addition, nine, born, painter, poet\n",
      "dance: music, rock, country, style, traditional, culture, beginning, actor, democratic, formed\n",
      "\n",
      "\n"
     ]
    },
    {
     "name": "stderr",
     "output_type": "stream",
     "text": [
      "5000it [01:19, 68.30it/s]"
     ]
    },
    {
     "name": "stdout",
     "output_type": "stream",
     "text": [
      "| epoch   7 |  5000/32580 batches | loss    1.329 \n"
     ]
    },
    {
     "name": "stderr",
     "output_type": "stream",
     "text": [
      "\r",
      "5007it [01:19, 41.10it/s]"
     ]
    },
    {
     "name": "stdout",
     "output_type": "stream",
     "text": [
      "money: him, them, it, able, ability, addition, way, even, work, taken\n",
      "lion: win, accepted, piece, writing, released, scene, size, brought, africa, followed\n",
      "africa: europe, china, india, america, north, east, end, germany, south, addition\n",
      "musician: actor, writer, singer, actress, author, addition, nine, born, painter, poet\n",
      "dance: music, rock, country, style, traditional, culture, beginning, actor, democratic, formed\n",
      "\n",
      "\n"
     ]
    },
    {
     "name": "stderr",
     "output_type": "stream",
     "text": [
      "5498it [01:26, 68.72it/s]"
     ]
    },
    {
     "name": "stdout",
     "output_type": "stream",
     "text": [
      "| epoch   7 |  5500/32580 batches | loss    1.333 \n"
     ]
    },
    {
     "name": "stderr",
     "output_type": "stream",
     "text": [
      "5512it [01:27, 46.15it/s]"
     ]
    },
    {
     "name": "stdout",
     "output_type": "stream",
     "text": [
      "money: him, them, it, able, ability, addition, way, even, work, taken\n",
      "lion: win, accepted, piece, writing, released, scene, size, brought, africa, followed\n",
      "africa: europe, china, india, america, north, east, end, germany, south, addition\n",
      "musician: actor, writer, singer, actress, author, addition, nine, born, painter, poet\n",
      "dance: music, rock, country, style, traditional, culture, beginning, actor, democratic, formed\n",
      "\n",
      "\n"
     ]
    },
    {
     "name": "stderr",
     "output_type": "stream",
     "text": [
      "5996it [01:34, 69.29it/s]"
     ]
    },
    {
     "name": "stdout",
     "output_type": "stream",
     "text": [
      "| epoch   7 |  6000/32580 batches | loss    1.327 \n"
     ]
    },
    {
     "name": "stderr",
     "output_type": "stream",
     "text": [
      "6010it [01:34, 46.09it/s]"
     ]
    },
    {
     "name": "stdout",
     "output_type": "stream",
     "text": [
      "money: him, them, it, able, ability, addition, way, even, work, taken\n",
      "lion: win, accepted, piece, writing, released, scene, size, brought, africa, followed\n",
      "africa: europe, china, india, america, north, east, end, germany, south, addition\n",
      "musician: actor, writer, singer, actress, author, addition, nine, born, painter, poet\n",
      "dance: music, rock, country, style, traditional, culture, beginning, actor, democratic, formed\n",
      "\n",
      "\n"
     ]
    },
    {
     "name": "stderr",
     "output_type": "stream",
     "text": [
      "6498it [01:41, 69.54it/s]"
     ]
    },
    {
     "name": "stdout",
     "output_type": "stream",
     "text": [
      "| epoch   7 |  6500/32580 batches | loss    1.328 \n"
     ]
    },
    {
     "name": "stderr",
     "output_type": "stream",
     "text": [
      "6512it [01:42, 46.71it/s]"
     ]
    },
    {
     "name": "stdout",
     "output_type": "stream",
     "text": [
      "money: him, them, it, able, ability, addition, way, even, work, taken\n",
      "lion: win, accepted, piece, writing, released, scene, size, brought, africa, followed\n",
      "africa: europe, china, india, america, north, east, end, germany, south, addition\n",
      "musician: actor, writer, singer, actress, author, addition, nine, born, painter, poet\n",
      "dance: music, rock, country, style, traditional, culture, beginning, actor, democratic, formed\n",
      "\n",
      "\n"
     ]
    },
    {
     "name": "stderr",
     "output_type": "stream",
     "text": [
      "6996it [01:49, 68.87it/s]"
     ]
    },
    {
     "name": "stdout",
     "output_type": "stream",
     "text": [
      "| epoch   7 |  7000/32580 batches | loss    1.328 \n"
     ]
    },
    {
     "name": "stderr",
     "output_type": "stream",
     "text": [
      "7009it [01:49, 44.71it/s]"
     ]
    },
    {
     "name": "stdout",
     "output_type": "stream",
     "text": [
      "money: him, them, it, able, ability, addition, way, even, work, taken\n",
      "lion: win, accepted, piece, writing, released, scene, size, brought, africa, followed\n",
      "africa: europe, china, india, america, north, east, end, germany, south, addition\n",
      "musician: actor, writer, singer, actress, author, addition, nine, born, painter, poet\n",
      "dance: music, rock, country, style, traditional, culture, beginning, actor, democratic, formed\n",
      "\n",
      "\n"
     ]
    },
    {
     "name": "stderr",
     "output_type": "stream",
     "text": [
      "7494it [01:56, 69.35it/s]"
     ]
    },
    {
     "name": "stdout",
     "output_type": "stream",
     "text": [
      "| epoch   7 |  7500/32580 batches | loss    1.330 \n"
     ]
    },
    {
     "name": "stderr",
     "output_type": "stream",
     "text": [
      "7507it [01:57, 44.99it/s]"
     ]
    },
    {
     "name": "stdout",
     "output_type": "stream",
     "text": [
      "money: him, them, it, able, ability, addition, way, even, work, taken\n",
      "lion: win, accepted, piece, writing, released, scene, size, brought, africa, followed\n",
      "africa: europe, china, india, america, north, east, end, germany, south, addition\n",
      "musician: actor, writer, singer, actress, author, addition, nine, born, painter, poet\n",
      "dance: music, rock, country, style, traditional, culture, beginning, actor, democratic, formed\n",
      "\n",
      "\n"
     ]
    },
    {
     "name": "stderr",
     "output_type": "stream",
     "text": [
      "7999it [02:04, 67.94it/s]"
     ]
    },
    {
     "name": "stdout",
     "output_type": "stream",
     "text": [
      "| epoch   7 |  8000/32580 batches | loss    1.332 \n"
     ]
    },
    {
     "name": "stderr",
     "output_type": "stream",
     "text": [
      "8013it [02:04, 46.50it/s]"
     ]
    },
    {
     "name": "stdout",
     "output_type": "stream",
     "text": [
      "money: him, them, it, able, ability, addition, way, even, work, taken\n",
      "lion: win, accepted, piece, writing, released, scene, size, brought, africa, followed\n",
      "africa: europe, china, india, america, north, east, end, germany, south, addition\n",
      "musician: actor, writer, singer, actress, author, addition, nine, born, painter, poet\n",
      "dance: music, rock, country, style, traditional, culture, beginning, actor, democratic, formed\n",
      "\n",
      "\n"
     ]
    },
    {
     "name": "stderr",
     "output_type": "stream",
     "text": [
      "8499it [02:11, 66.95it/s]"
     ]
    },
    {
     "name": "stdout",
     "output_type": "stream",
     "text": [
      "| epoch   7 |  8500/32580 batches | loss    1.333 \n"
     ]
    },
    {
     "name": "stderr",
     "output_type": "stream",
     "text": [
      "\r",
      "8506it [02:12, 40.07it/s]"
     ]
    },
    {
     "name": "stdout",
     "output_type": "stream",
     "text": [
      "money: him, them, it, able, ability, addition, way, even, work, taken\n",
      "lion: win, accepted, piece, writing, released, scene, size, brought, africa, followed\n",
      "africa: europe, china, india, america, north, east, end, germany, south, addition\n",
      "musician: actor, writer, singer, actress, author, addition, nine, born, painter, poet\n",
      "dance: music, rock, country, style, traditional, culture, beginning, actor, democratic, formed\n",
      "\n",
      "\n"
     ]
    },
    {
     "name": "stderr",
     "output_type": "stream",
     "text": [
      "8999it [02:19, 68.61it/s]"
     ]
    },
    {
     "name": "stdout",
     "output_type": "stream",
     "text": [
      "| epoch   7 |  9000/32580 batches | loss    1.329 \n"
     ]
    },
    {
     "name": "stderr",
     "output_type": "stream",
     "text": [
      "\r",
      "9006it [02:19, 41.46it/s]"
     ]
    },
    {
     "name": "stdout",
     "output_type": "stream",
     "text": [
      "money: him, them, it, able, ability, addition, way, even, work, taken\n",
      "lion: win, accepted, piece, writing, released, scene, size, brought, africa, followed\n",
      "africa: europe, china, india, america, north, east, end, germany, south, addition\n",
      "musician: actor, writer, singer, actress, author, addition, nine, born, painter, poet\n",
      "dance: music, rock, country, style, traditional, culture, beginning, actor, democratic, formed\n",
      "\n",
      "\n"
     ]
    },
    {
     "name": "stderr",
     "output_type": "stream",
     "text": [
      "9496it [02:26, 67.52it/s]"
     ]
    },
    {
     "name": "stdout",
     "output_type": "stream",
     "text": [
      "| epoch   7 |  9500/32580 batches | loss    1.334 \n"
     ]
    },
    {
     "name": "stderr",
     "output_type": "stream",
     "text": [
      "9510it [02:27, 45.33it/s]"
     ]
    },
    {
     "name": "stdout",
     "output_type": "stream",
     "text": [
      "money: him, them, it, able, ability, addition, way, even, work, taken\n",
      "lion: win, accepted, piece, writing, released, scene, size, brought, africa, followed\n",
      "africa: europe, china, india, america, north, east, end, germany, south, addition\n",
      "musician: actor, writer, singer, actress, author, addition, nine, born, painter, poet\n",
      "dance: music, rock, country, style, traditional, culture, beginning, actor, democratic, formed\n",
      "\n",
      "\n"
     ]
    },
    {
     "name": "stderr",
     "output_type": "stream",
     "text": [
      "10000it [02:34, 68.03it/s]"
     ]
    },
    {
     "name": "stdout",
     "output_type": "stream",
     "text": [
      "| epoch   7 | 10000/32580 batches | loss    1.332 \n"
     ]
    },
    {
     "name": "stderr",
     "output_type": "stream",
     "text": [
      "\r",
      "10007it [02:34, 40.62it/s]"
     ]
    },
    {
     "name": "stdout",
     "output_type": "stream",
     "text": [
      "money: him, them, it, able, ability, addition, way, even, work, taken\n",
      "lion: win, accepted, piece, writing, released, scene, size, brought, africa, followed\n",
      "africa: europe, china, india, america, north, east, end, germany, south, addition\n",
      "musician: actor, writer, singer, actress, author, addition, nine, born, painter, poet\n",
      "dance: music, rock, country, style, traditional, culture, beginning, actor, democratic, formed\n",
      "\n",
      "\n"
     ]
    },
    {
     "name": "stderr",
     "output_type": "stream",
     "text": [
      "10498it [02:42, 68.18it/s]"
     ]
    },
    {
     "name": "stdout",
     "output_type": "stream",
     "text": [
      "| epoch   7 | 10500/32580 batches | loss    1.334 \n"
     ]
    },
    {
     "name": "stderr",
     "output_type": "stream",
     "text": [
      "10512it [02:42, 46.35it/s]"
     ]
    },
    {
     "name": "stdout",
     "output_type": "stream",
     "text": [
      "money: him, them, it, able, ability, addition, way, even, work, taken\n",
      "lion: win, accepted, piece, writing, released, scene, size, brought, africa, followed\n",
      "africa: europe, china, india, america, north, east, end, germany, south, addition\n",
      "musician: actor, writer, singer, actress, author, addition, nine, born, painter, poet\n",
      "dance: music, rock, country, style, traditional, culture, beginning, actor, democratic, formed\n",
      "\n",
      "\n"
     ]
    },
    {
     "name": "stderr",
     "output_type": "stream",
     "text": [
      "10996it [02:49, 68.86it/s]"
     ]
    },
    {
     "name": "stdout",
     "output_type": "stream",
     "text": [
      "| epoch   7 | 11000/32580 batches | loss    1.329 \n"
     ]
    },
    {
     "name": "stderr",
     "output_type": "stream",
     "text": [
      "11010it [02:50, 46.07it/s]"
     ]
    },
    {
     "name": "stdout",
     "output_type": "stream",
     "text": [
      "money: him, them, it, able, ability, addition, way, even, work, taken\n",
      "lion: win, accepted, piece, writing, released, scene, size, brought, africa, followed\n",
      "africa: europe, china, india, america, north, east, end, germany, south, addition\n",
      "musician: actor, writer, singer, actress, author, addition, nine, born, painter, poet\n",
      "dance: music, rock, country, style, traditional, culture, beginning, actor, democratic, formed\n",
      "\n",
      "\n"
     ]
    },
    {
     "name": "stderr",
     "output_type": "stream",
     "text": [
      "11499it [02:57, 69.35it/s]"
     ]
    },
    {
     "name": "stdout",
     "output_type": "stream",
     "text": [
      "| epoch   7 | 11500/32580 batches | loss    1.330 \n"
     ]
    },
    {
     "name": "stderr",
     "output_type": "stream",
     "text": [
      "\r",
      "11506it [02:57, 40.73it/s]"
     ]
    },
    {
     "name": "stdout",
     "output_type": "stream",
     "text": [
      "money: him, them, it, able, ability, addition, way, even, work, taken\n",
      "lion: win, accepted, piece, writing, released, scene, size, brought, africa, followed\n",
      "africa: europe, china, india, america, north, east, end, germany, south, addition\n",
      "musician: actor, writer, singer, actress, author, addition, nine, born, painter, poet\n",
      "dance: music, rock, country, style, traditional, culture, beginning, actor, democratic, formed\n",
      "\n",
      "\n"
     ]
    },
    {
     "name": "stderr",
     "output_type": "stream",
     "text": [
      "11999it [03:04, 68.43it/s]"
     ]
    },
    {
     "name": "stdout",
     "output_type": "stream",
     "text": [
      "| epoch   7 | 12000/32580 batches | loss    1.332 \n"
     ]
    },
    {
     "name": "stderr",
     "output_type": "stream",
     "text": [
      "\r",
      "12006it [03:05, 40.79it/s]"
     ]
    },
    {
     "name": "stdout",
     "output_type": "stream",
     "text": [
      "money: him, them, it, able, ability, addition, way, even, work, taken\n",
      "lion: win, accepted, piece, writing, released, scene, size, brought, africa, followed\n",
      "africa: europe, china, india, america, north, east, end, germany, south, addition\n",
      "musician: actor, writer, singer, actress, author, addition, nine, born, painter, poet\n",
      "dance: music, rock, country, style, traditional, culture, beginning, actor, democratic, formed\n",
      "\n",
      "\n"
     ]
    },
    {
     "name": "stderr",
     "output_type": "stream",
     "text": [
      "12495it [03:12, 69.48it/s]"
     ]
    },
    {
     "name": "stdout",
     "output_type": "stream",
     "text": [
      "| epoch   7 | 12500/32580 batches | loss    1.331 \n"
     ]
    },
    {
     "name": "stderr",
     "output_type": "stream",
     "text": [
      "12508it [03:12, 44.91it/s]"
     ]
    },
    {
     "name": "stdout",
     "output_type": "stream",
     "text": [
      "money: him, them, it, able, ability, addition, way, even, work, taken\n",
      "lion: win, accepted, piece, writing, released, scene, size, brought, africa, followed\n",
      "africa: europe, china, india, america, north, east, end, germany, south, addition\n",
      "musician: actor, writer, singer, actress, author, addition, nine, born, painter, poet\n",
      "dance: music, rock, country, style, traditional, culture, beginning, actor, democratic, formed\n",
      "\n",
      "\n"
     ]
    },
    {
     "name": "stderr",
     "output_type": "stream",
     "text": [
      "13000it [03:19, 68.75it/s]"
     ]
    },
    {
     "name": "stdout",
     "output_type": "stream",
     "text": [
      "| epoch   7 | 13000/32580 batches | loss    1.328 \n"
     ]
    },
    {
     "name": "stderr",
     "output_type": "stream",
     "text": [
      "\r",
      "13007it [03:20, 40.26it/s]"
     ]
    },
    {
     "name": "stdout",
     "output_type": "stream",
     "text": [
      "money: him, them, it, able, ability, addition, way, even, work, taken\n",
      "lion: win, accepted, piece, writing, released, scene, size, brought, africa, followed\n",
      "africa: europe, china, india, america, north, east, end, germany, south, addition\n",
      "musician: actor, writer, singer, actress, author, addition, nine, born, painter, poet\n",
      "dance: music, rock, country, style, traditional, culture, beginning, actor, democratic, formed\n",
      "\n",
      "\n"
     ]
    },
    {
     "name": "stderr",
     "output_type": "stream",
     "text": [
      "13497it [03:27, 67.33it/s]"
     ]
    },
    {
     "name": "stdout",
     "output_type": "stream",
     "text": [
      "| epoch   7 | 13500/32580 batches | loss    1.333 \n"
     ]
    },
    {
     "name": "stderr",
     "output_type": "stream",
     "text": [
      "13511it [03:27, 46.05it/s]"
     ]
    },
    {
     "name": "stdout",
     "output_type": "stream",
     "text": [
      "money: him, them, it, able, ability, addition, way, even, work, taken\n",
      "lion: win, accepted, piece, writing, released, scene, size, brought, africa, followed\n",
      "africa: europe, china, india, america, north, east, end, germany, south, addition\n",
      "musician: actor, writer, singer, actress, author, addition, nine, born, painter, poet\n",
      "dance: music, rock, country, style, traditional, culture, beginning, actor, democratic, formed\n",
      "\n",
      "\n"
     ]
    },
    {
     "name": "stderr",
     "output_type": "stream",
     "text": [
      "13997it [03:34, 68.79it/s]"
     ]
    },
    {
     "name": "stdout",
     "output_type": "stream",
     "text": [
      "| epoch   7 | 14000/32580 batches | loss    1.328 \n"
     ]
    },
    {
     "name": "stderr",
     "output_type": "stream",
     "text": [
      "14011it [03:35, 45.88it/s]"
     ]
    },
    {
     "name": "stdout",
     "output_type": "stream",
     "text": [
      "money: him, them, it, able, ability, addition, way, even, work, taken\n",
      "lion: win, accepted, piece, writing, released, scene, size, brought, africa, followed\n",
      "africa: europe, china, india, america, north, east, end, germany, south, addition\n",
      "musician: actor, writer, singer, actress, author, addition, nine, born, painter, poet\n",
      "dance: music, rock, country, style, traditional, culture, beginning, actor, democratic, formed\n",
      "\n",
      "\n"
     ]
    },
    {
     "name": "stderr",
     "output_type": "stream",
     "text": [
      "14495it [03:42, 68.34it/s]"
     ]
    },
    {
     "name": "stdout",
     "output_type": "stream",
     "text": [
      "| epoch   7 | 14500/32580 batches | loss    1.330 \n"
     ]
    },
    {
     "name": "stderr",
     "output_type": "stream",
     "text": [
      "14508it [03:42, 45.19it/s]"
     ]
    },
    {
     "name": "stdout",
     "output_type": "stream",
     "text": [
      "money: him, them, it, able, ability, addition, way, even, work, taken\n",
      "lion: win, accepted, piece, writing, released, scene, size, brought, africa, followed\n",
      "africa: europe, china, india, america, north, east, end, germany, south, addition\n",
      "musician: actor, writer, singer, actress, author, addition, nine, born, painter, poet\n",
      "dance: music, rock, country, style, traditional, culture, beginning, actor, democratic, formed\n",
      "\n",
      "\n"
     ]
    },
    {
     "name": "stderr",
     "output_type": "stream",
     "text": [
      "14999it [03:50, 69.77it/s]"
     ]
    },
    {
     "name": "stdout",
     "output_type": "stream",
     "text": [
      "| epoch   7 | 15000/32580 batches | loss    1.328 \n"
     ]
    },
    {
     "name": "stderr",
     "output_type": "stream",
     "text": [
      "\r",
      "15006it [03:50, 40.65it/s]"
     ]
    },
    {
     "name": "stdout",
     "output_type": "stream",
     "text": [
      "money: him, them, it, able, ability, addition, way, even, work, taken\n",
      "lion: win, accepted, piece, writing, released, scene, size, brought, africa, followed\n",
      "africa: europe, china, india, america, north, east, end, germany, south, addition\n",
      "musician: actor, writer, singer, actress, author, addition, nine, born, painter, poet\n",
      "dance: music, rock, country, style, traditional, culture, beginning, actor, democratic, formed\n",
      "\n",
      "\n"
     ]
    },
    {
     "name": "stderr",
     "output_type": "stream",
     "text": [
      "15498it [03:57, 67.55it/s]"
     ]
    },
    {
     "name": "stdout",
     "output_type": "stream",
     "text": [
      "| epoch   7 | 15500/32580 batches | loss    1.332 \n"
     ]
    },
    {
     "name": "stderr",
     "output_type": "stream",
     "text": [
      "15512it [03:58, 45.97it/s]"
     ]
    },
    {
     "name": "stdout",
     "output_type": "stream",
     "text": [
      "money: him, them, it, able, ability, addition, way, even, work, taken\n",
      "lion: win, accepted, piece, writing, released, scene, size, brought, africa, followed\n",
      "africa: europe, china, india, america, north, east, end, germany, south, addition\n",
      "musician: actor, writer, singer, actress, author, addition, nine, born, painter, poet\n",
      "dance: music, rock, country, style, traditional, culture, beginning, actor, democratic, formed\n",
      "\n",
      "\n"
     ]
    },
    {
     "name": "stderr",
     "output_type": "stream",
     "text": [
      "16000it [04:05, 69.59it/s]"
     ]
    },
    {
     "name": "stdout",
     "output_type": "stream",
     "text": [
      "| epoch   7 | 16000/32580 batches | loss    1.331 \n"
     ]
    },
    {
     "name": "stderr",
     "output_type": "stream",
     "text": [
      "\r",
      "16007it [04:05, 40.43it/s]"
     ]
    },
    {
     "name": "stdout",
     "output_type": "stream",
     "text": [
      "money: him, them, it, able, ability, addition, way, even, work, taken\n",
      "lion: win, accepted, piece, writing, released, scene, size, brought, africa, followed\n",
      "africa: europe, china, india, america, north, east, end, germany, south, addition\n",
      "musician: actor, writer, singer, actress, author, addition, nine, born, painter, poet\n",
      "dance: music, rock, country, style, traditional, culture, beginning, actor, democratic, formed\n",
      "\n",
      "\n"
     ]
    },
    {
     "name": "stderr",
     "output_type": "stream",
     "text": [
      "16497it [04:12, 66.70it/s]"
     ]
    },
    {
     "name": "stdout",
     "output_type": "stream",
     "text": [
      "| epoch   7 | 16500/32580 batches | loss    1.329 \n"
     ]
    },
    {
     "name": "stderr",
     "output_type": "stream",
     "text": [
      "16511it [04:13, 45.38it/s]"
     ]
    },
    {
     "name": "stdout",
     "output_type": "stream",
     "text": [
      "money: him, them, it, able, ability, addition, way, even, work, taken\n",
      "lion: win, accepted, piece, writing, released, scene, size, brought, africa, followed\n",
      "africa: europe, china, india, america, north, east, end, germany, south, addition\n",
      "musician: actor, writer, singer, actress, author, addition, nine, born, painter, poet\n",
      "dance: music, rock, country, style, traditional, culture, beginning, actor, democratic, formed\n",
      "\n",
      "\n"
     ]
    },
    {
     "name": "stderr",
     "output_type": "stream",
     "text": [
      "16995it [04:20, 68.76it/s]"
     ]
    },
    {
     "name": "stdout",
     "output_type": "stream",
     "text": [
      "| epoch   7 | 17000/32580 batches | loss    1.335 \n"
     ]
    },
    {
     "name": "stderr",
     "output_type": "stream",
     "text": [
      "17008it [04:20, 44.82it/s]"
     ]
    },
    {
     "name": "stdout",
     "output_type": "stream",
     "text": [
      "money: him, them, it, able, ability, addition, way, even, work, taken\n",
      "lion: win, accepted, piece, writing, released, scene, size, brought, africa, followed\n",
      "africa: europe, china, india, america, north, east, end, germany, south, addition\n",
      "musician: actor, writer, singer, actress, author, addition, nine, born, painter, poet\n",
      "dance: music, rock, country, style, traditional, culture, beginning, actor, democratic, formed\n",
      "\n",
      "\n"
     ]
    },
    {
     "name": "stderr",
     "output_type": "stream",
     "text": [
      "17498it [04:27, 68.23it/s]"
     ]
    },
    {
     "name": "stdout",
     "output_type": "stream",
     "text": [
      "| epoch   7 | 17500/32580 batches | loss    1.331 \n"
     ]
    },
    {
     "name": "stderr",
     "output_type": "stream",
     "text": [
      "17512it [04:28, 46.85it/s]"
     ]
    },
    {
     "name": "stdout",
     "output_type": "stream",
     "text": [
      "money: him, them, it, able, ability, addition, way, even, work, taken\n",
      "lion: win, accepted, piece, writing, released, scene, size, brought, africa, followed\n",
      "africa: europe, china, india, america, north, east, end, germany, south, addition\n",
      "musician: actor, writer, singer, actress, author, addition, nine, born, painter, poet\n",
      "dance: music, rock, country, style, traditional, culture, beginning, actor, democratic, formed\n",
      "\n",
      "\n"
     ]
    },
    {
     "name": "stderr",
     "output_type": "stream",
     "text": [
      "17998it [04:35, 62.78it/s]"
     ]
    },
    {
     "name": "stdout",
     "output_type": "stream",
     "text": [
      "| epoch   7 | 18000/32580 batches | loss    1.331 \n"
     ]
    },
    {
     "name": "stderr",
     "output_type": "stream",
     "text": [
      "\r",
      "18005it [04:35, 38.25it/s]"
     ]
    },
    {
     "name": "stdout",
     "output_type": "stream",
     "text": [
      "money: him, them, it, able, ability, addition, way, even, work, taken\n",
      "lion: win, accepted, piece, writing, released, scene, size, brought, africa, followed\n",
      "africa: europe, china, india, america, north, east, end, germany, south, addition\n",
      "musician: actor, writer, singer, actress, author, addition, nine, born, painter, poet\n",
      "dance: music, rock, country, style, traditional, culture, beginning, actor, democratic, formed\n",
      "\n",
      "\n"
     ]
    },
    {
     "name": "stderr",
     "output_type": "stream",
     "text": [
      "18496it [04:42, 69.05it/s]"
     ]
    },
    {
     "name": "stdout",
     "output_type": "stream",
     "text": [
      "| epoch   7 | 18500/32580 batches | loss    1.327 \n"
     ]
    },
    {
     "name": "stderr",
     "output_type": "stream",
     "text": [
      "18510it [04:43, 46.70it/s]"
     ]
    },
    {
     "name": "stdout",
     "output_type": "stream",
     "text": [
      "money: him, them, it, able, ability, addition, way, even, work, taken\n",
      "lion: win, accepted, piece, writing, released, scene, size, brought, africa, followed\n",
      "africa: europe, china, india, america, north, east, end, germany, south, addition\n",
      "musician: actor, writer, singer, actress, author, addition, nine, born, painter, poet\n",
      "dance: music, rock, country, style, traditional, culture, beginning, actor, democratic, formed\n",
      "\n",
      "\n"
     ]
    },
    {
     "name": "stderr",
     "output_type": "stream",
     "text": [
      "18994it [04:50, 69.21it/s]"
     ]
    },
    {
     "name": "stdout",
     "output_type": "stream",
     "text": [
      "| epoch   7 | 19000/32580 batches | loss    1.335 \n"
     ]
    },
    {
     "name": "stderr",
     "output_type": "stream",
     "text": [
      "19007it [04:50, 44.84it/s]"
     ]
    },
    {
     "name": "stdout",
     "output_type": "stream",
     "text": [
      "money: him, them, it, able, ability, addition, way, even, work, taken\n",
      "lion: win, accepted, piece, writing, released, scene, size, brought, africa, followed\n",
      "africa: europe, china, india, america, north, east, end, germany, south, addition\n",
      "musician: actor, writer, singer, actress, author, addition, nine, born, painter, poet\n",
      "dance: music, rock, country, style, traditional, culture, beginning, actor, democratic, formed\n",
      "\n",
      "\n"
     ]
    },
    {
     "name": "stderr",
     "output_type": "stream",
     "text": [
      "19498it [04:57, 68.38it/s]"
     ]
    },
    {
     "name": "stdout",
     "output_type": "stream",
     "text": [
      "| epoch   7 | 19500/32580 batches | loss    1.331 \n"
     ]
    },
    {
     "name": "stderr",
     "output_type": "stream",
     "text": [
      "19512it [04:58, 46.46it/s]"
     ]
    },
    {
     "name": "stdout",
     "output_type": "stream",
     "text": [
      "money: him, them, it, able, ability, addition, way, even, work, taken\n",
      "lion: win, accepted, piece, writing, released, scene, size, brought, africa, followed\n",
      "africa: europe, china, india, america, north, east, end, germany, south, addition\n",
      "musician: actor, writer, singer, actress, author, addition, nine, born, painter, poet\n",
      "dance: music, rock, country, style, traditional, culture, beginning, actor, democratic, formed\n",
      "\n",
      "\n"
     ]
    },
    {
     "name": "stderr",
     "output_type": "stream",
     "text": [
      "19996it [05:05, 67.16it/s]"
     ]
    },
    {
     "name": "stdout",
     "output_type": "stream",
     "text": [
      "| epoch   7 | 20000/32580 batches | loss    1.327 \n"
     ]
    },
    {
     "name": "stderr",
     "output_type": "stream",
     "text": [
      "20010it [05:05, 45.67it/s]"
     ]
    },
    {
     "name": "stdout",
     "output_type": "stream",
     "text": [
      "money: him, them, it, able, ability, addition, way, even, work, taken\n",
      "lion: win, accepted, piece, writing, released, scene, size, brought, africa, followed\n",
      "africa: europe, china, india, america, north, east, end, germany, south, addition\n",
      "musician: actor, writer, singer, actress, author, addition, nine, born, painter, poet\n",
      "dance: music, rock, country, style, traditional, culture, beginning, actor, democratic, formed\n",
      "\n",
      "\n"
     ]
    },
    {
     "name": "stderr",
     "output_type": "stream",
     "text": [
      "20495it [05:12, 68.87it/s]"
     ]
    },
    {
     "name": "stdout",
     "output_type": "stream",
     "text": [
      "| epoch   7 | 20500/32580 batches | loss    1.333 \n"
     ]
    },
    {
     "name": "stderr",
     "output_type": "stream",
     "text": [
      "20508it [05:13, 44.98it/s]"
     ]
    },
    {
     "name": "stdout",
     "output_type": "stream",
     "text": [
      "money: him, them, it, able, ability, addition, way, even, work, taken\n",
      "lion: win, accepted, piece, writing, released, scene, size, brought, africa, followed\n",
      "africa: europe, china, india, america, north, east, end, germany, south, addition\n",
      "musician: actor, writer, singer, actress, author, addition, nine, born, painter, poet\n",
      "dance: music, rock, country, style, traditional, culture, beginning, actor, democratic, formed\n",
      "\n",
      "\n"
     ]
    },
    {
     "name": "stderr",
     "output_type": "stream",
     "text": [
      "20998it [05:20, 66.31it/s]"
     ]
    },
    {
     "name": "stdout",
     "output_type": "stream",
     "text": [
      "| epoch   7 | 21000/32580 batches | loss    1.330 \n"
     ]
    },
    {
     "name": "stderr",
     "output_type": "stream",
     "text": [
      "21012it [05:20, 46.04it/s]"
     ]
    },
    {
     "name": "stdout",
     "output_type": "stream",
     "text": [
      "money: him, them, it, able, ability, addition, way, even, work, taken\n",
      "lion: win, accepted, piece, writing, released, scene, size, brought, africa, followed\n",
      "africa: europe, china, india, america, north, east, end, germany, south, addition\n",
      "musician: actor, writer, singer, actress, author, addition, nine, born, painter, poet\n",
      "dance: music, rock, country, style, traditional, culture, beginning, actor, democratic, formed\n",
      "\n",
      "\n"
     ]
    },
    {
     "name": "stderr",
     "output_type": "stream",
     "text": [
      "21499it [05:27, 68.96it/s]"
     ]
    },
    {
     "name": "stdout",
     "output_type": "stream",
     "text": [
      "| epoch   7 | 21500/32580 batches | loss    1.335 \n"
     ]
    },
    {
     "name": "stderr",
     "output_type": "stream",
     "text": [
      "\r",
      "21506it [05:28, 41.15it/s]"
     ]
    },
    {
     "name": "stdout",
     "output_type": "stream",
     "text": [
      "money: him, them, it, able, ability, addition, way, even, work, taken\n",
      "lion: win, accepted, piece, writing, released, scene, size, brought, africa, followed\n",
      "africa: europe, china, india, america, north, east, end, germany, south, addition\n",
      "musician: actor, writer, singer, actress, author, addition, nine, born, painter, poet\n",
      "dance: music, rock, country, style, traditional, culture, beginning, actor, democratic, formed\n",
      "\n",
      "\n"
     ]
    },
    {
     "name": "stderr",
     "output_type": "stream",
     "text": [
      "21994it [05:35, 68.85it/s]"
     ]
    },
    {
     "name": "stdout",
     "output_type": "stream",
     "text": [
      "| epoch   7 | 22000/32580 batches | loss    1.331 \n"
     ]
    },
    {
     "name": "stderr",
     "output_type": "stream",
     "text": [
      "22007it [05:35, 45.56it/s]"
     ]
    },
    {
     "name": "stdout",
     "output_type": "stream",
     "text": [
      "money: him, them, it, able, ability, addition, way, even, work, taken\n",
      "lion: win, accepted, piece, writing, released, scene, size, brought, africa, followed\n",
      "africa: europe, china, india, america, north, east, end, germany, south, addition\n",
      "musician: actor, writer, singer, actress, author, addition, nine, born, painter, poet\n",
      "dance: music, rock, country, style, traditional, culture, beginning, actor, democratic, formed\n",
      "\n",
      "\n"
     ]
    },
    {
     "name": "stderr",
     "output_type": "stream",
     "text": [
      "22499it [05:43, 68.93it/s]"
     ]
    },
    {
     "name": "stdout",
     "output_type": "stream",
     "text": [
      "| epoch   7 | 22500/32580 batches | loss    1.333 \n"
     ]
    },
    {
     "name": "stderr",
     "output_type": "stream",
     "text": [
      "\r",
      "22506it [05:43, 40.43it/s]"
     ]
    },
    {
     "name": "stdout",
     "output_type": "stream",
     "text": [
      "money: him, them, it, able, ability, addition, way, even, work, taken\n",
      "lion: win, accepted, piece, writing, released, scene, size, brought, africa, followed\n",
      "africa: europe, china, india, america, north, east, end, germany, south, addition\n",
      "musician: actor, writer, singer, actress, author, addition, nine, born, painter, poet\n",
      "dance: music, rock, country, style, traditional, culture, beginning, actor, democratic, formed\n",
      "\n",
      "\n"
     ]
    },
    {
     "name": "stderr",
     "output_type": "stream",
     "text": [
      "22996it [05:50, 67.53it/s]"
     ]
    },
    {
     "name": "stdout",
     "output_type": "stream",
     "text": [
      "| epoch   7 | 23000/32580 batches | loss    1.330 \n"
     ]
    },
    {
     "name": "stderr",
     "output_type": "stream",
     "text": [
      "23010it [05:50, 46.47it/s]"
     ]
    },
    {
     "name": "stdout",
     "output_type": "stream",
     "text": [
      "money: him, them, it, able, ability, addition, way, even, work, taken\n",
      "lion: win, accepted, piece, writing, released, scene, size, brought, africa, followed\n",
      "africa: europe, china, india, america, north, east, end, germany, south, addition\n",
      "musician: actor, writer, singer, actress, author, addition, nine, born, painter, poet\n",
      "dance: music, rock, country, style, traditional, culture, beginning, actor, democratic, formed\n",
      "\n",
      "\n"
     ]
    },
    {
     "name": "stderr",
     "output_type": "stream",
     "text": [
      "23494it [05:58, 68.59it/s]"
     ]
    },
    {
     "name": "stdout",
     "output_type": "stream",
     "text": [
      "| epoch   7 | 23500/32580 batches | loss    1.333 \n"
     ]
    },
    {
     "name": "stderr",
     "output_type": "stream",
     "text": [
      "23507it [05:58, 44.56it/s]"
     ]
    },
    {
     "name": "stdout",
     "output_type": "stream",
     "text": [
      "money: him, them, it, able, ability, addition, way, even, work, taken\n",
      "lion: win, accepted, piece, writing, released, scene, size, brought, africa, followed\n",
      "africa: europe, china, india, america, north, east, end, germany, south, addition\n",
      "musician: actor, writer, singer, actress, author, addition, nine, born, painter, poet\n",
      "dance: music, rock, country, style, traditional, culture, beginning, actor, democratic, formed\n",
      "\n",
      "\n"
     ]
    },
    {
     "name": "stderr",
     "output_type": "stream",
     "text": [
      "23994it [06:05, 68.69it/s]"
     ]
    },
    {
     "name": "stdout",
     "output_type": "stream",
     "text": [
      "| epoch   7 | 24000/32580 batches | loss    1.332 \n"
     ]
    },
    {
     "name": "stderr",
     "output_type": "stream",
     "text": [
      "24007it [06:05, 44.11it/s]"
     ]
    },
    {
     "name": "stdout",
     "output_type": "stream",
     "text": [
      "money: him, them, it, able, ability, addition, way, even, work, taken\n",
      "lion: win, accepted, piece, writing, released, scene, size, brought, africa, followed\n",
      "africa: europe, china, india, america, north, east, end, germany, south, addition\n",
      "musician: actor, writer, singer, actress, author, addition, nine, born, painter, poet\n",
      "dance: music, rock, country, style, traditional, culture, beginning, actor, democratic, formed\n",
      "\n",
      "\n"
     ]
    },
    {
     "name": "stderr",
     "output_type": "stream",
     "text": [
      "24497it [06:13, 68.08it/s]"
     ]
    },
    {
     "name": "stdout",
     "output_type": "stream",
     "text": [
      "| epoch   7 | 24500/32580 batches | loss    1.331 \n"
     ]
    },
    {
     "name": "stderr",
     "output_type": "stream",
     "text": [
      "24511it [06:13, 46.08it/s]"
     ]
    },
    {
     "name": "stdout",
     "output_type": "stream",
     "text": [
      "money: him, them, it, able, ability, addition, way, even, work, taken\n",
      "lion: win, accepted, piece, writing, released, scene, size, brought, africa, followed\n",
      "africa: europe, china, india, america, north, east, end, germany, south, addition\n",
      "musician: actor, writer, singer, actress, author, addition, nine, born, painter, poet\n",
      "dance: music, rock, country, style, traditional, culture, beginning, actor, democratic, formed\n",
      "\n",
      "\n"
     ]
    },
    {
     "name": "stderr",
     "output_type": "stream",
     "text": [
      "24997it [06:23, 17.83it/s]"
     ]
    },
    {
     "name": "stdout",
     "output_type": "stream",
     "text": [
      "| epoch   7 | 25000/32580 batches | loss    1.333 \n"
     ]
    },
    {
     "name": "stderr",
     "output_type": "stream",
     "text": [
      "25011it [06:23, 23.76it/s]"
     ]
    },
    {
     "name": "stdout",
     "output_type": "stream",
     "text": [
      "money: him, them, it, able, ability, addition, way, even, work, taken\n",
      "lion: win, accepted, piece, writing, released, scene, size, brought, africa, followed\n",
      "africa: europe, china, india, america, north, east, end, germany, south, addition\n",
      "musician: actor, writer, singer, actress, author, addition, nine, born, painter, poet\n",
      "dance: music, rock, country, style, traditional, culture, beginning, actor, democratic, formed\n",
      "\n",
      "\n"
     ]
    },
    {
     "name": "stderr",
     "output_type": "stream",
     "text": [
      "25495it [06:30, 67.89it/s]"
     ]
    },
    {
     "name": "stdout",
     "output_type": "stream",
     "text": [
      "| epoch   7 | 25500/32580 batches | loss    1.331 \n"
     ]
    },
    {
     "name": "stderr",
     "output_type": "stream",
     "text": [
      "25508it [06:31, 44.61it/s]"
     ]
    },
    {
     "name": "stdout",
     "output_type": "stream",
     "text": [
      "money: him, them, it, able, ability, addition, way, even, work, taken\n",
      "lion: win, accepted, piece, writing, released, scene, size, brought, africa, followed\n",
      "africa: europe, china, india, america, north, east, end, germany, south, addition\n",
      "musician: actor, writer, singer, actress, author, addition, nine, born, painter, poet\n",
      "dance: music, rock, country, style, traditional, culture, beginning, actor, democratic, formed\n",
      "\n",
      "\n"
     ]
    },
    {
     "name": "stderr",
     "output_type": "stream",
     "text": [
      "26000it [06:38, 67.39it/s]"
     ]
    },
    {
     "name": "stdout",
     "output_type": "stream",
     "text": [
      "| epoch   7 | 26000/32580 batches | loss    1.331 \n"
     ]
    },
    {
     "name": "stderr",
     "output_type": "stream",
     "text": [
      "\r",
      "26007it [06:38, 40.44it/s]"
     ]
    },
    {
     "name": "stdout",
     "output_type": "stream",
     "text": [
      "money: him, them, it, able, ability, addition, way, even, work, taken\n",
      "lion: win, accepted, piece, writing, released, scene, size, brought, africa, followed\n",
      "africa: europe, china, india, america, north, east, end, germany, south, addition\n",
      "musician: actor, writer, singer, actress, author, addition, nine, born, painter, poet\n",
      "dance: music, rock, country, style, traditional, culture, beginning, actor, democratic, formed\n",
      "\n",
      "\n"
     ]
    },
    {
     "name": "stderr",
     "output_type": "stream",
     "text": [
      "26498it [06:46, 66.57it/s]"
     ]
    },
    {
     "name": "stdout",
     "output_type": "stream",
     "text": [
      "| epoch   7 | 26500/32580 batches | loss    1.327 \n"
     ]
    },
    {
     "name": "stderr",
     "output_type": "stream",
     "text": [
      "26512it [06:46, 45.88it/s]"
     ]
    },
    {
     "name": "stdout",
     "output_type": "stream",
     "text": [
      "money: him, them, it, able, ability, addition, way, even, work, taken\n",
      "lion: win, accepted, piece, writing, released, scene, size, brought, africa, followed\n",
      "africa: europe, china, india, america, north, east, end, germany, south, addition\n",
      "musician: actor, writer, singer, actress, author, addition, nine, born, painter, poet\n",
      "dance: music, rock, country, style, traditional, culture, beginning, actor, democratic, formed\n",
      "\n",
      "\n"
     ]
    },
    {
     "name": "stderr",
     "output_type": "stream",
     "text": [
      "26996it [06:53, 69.13it/s]"
     ]
    },
    {
     "name": "stdout",
     "output_type": "stream",
     "text": [
      "| epoch   7 | 27000/32580 batches | loss    1.325 \n"
     ]
    },
    {
     "name": "stderr",
     "output_type": "stream",
     "text": [
      "27010it [06:54, 45.99it/s]"
     ]
    },
    {
     "name": "stdout",
     "output_type": "stream",
     "text": [
      "money: him, them, it, able, ability, addition, way, even, work, taken\n",
      "lion: win, accepted, piece, writing, released, scene, size, brought, africa, followed\n",
      "africa: europe, china, india, america, north, east, end, germany, south, addition\n",
      "musician: actor, writer, singer, actress, author, addition, nine, born, painter, poet\n",
      "dance: music, rock, country, style, traditional, culture, beginning, actor, democratic, formed\n",
      "\n",
      "\n"
     ]
    },
    {
     "name": "stderr",
     "output_type": "stream",
     "text": [
      "27500it [07:01, 67.82it/s]"
     ]
    },
    {
     "name": "stdout",
     "output_type": "stream",
     "text": [
      "| epoch   7 | 27500/32580 batches | loss    1.329 \n"
     ]
    },
    {
     "name": "stderr",
     "output_type": "stream",
     "text": [
      "\r",
      "27507it [07:01, 40.44it/s]"
     ]
    },
    {
     "name": "stdout",
     "output_type": "stream",
     "text": [
      "money: him, them, it, able, ability, addition, way, even, work, taken\n",
      "lion: win, accepted, piece, writing, released, scene, size, brought, africa, followed\n",
      "africa: europe, china, india, america, north, east, end, germany, south, addition\n",
      "musician: actor, writer, singer, actress, author, addition, nine, born, painter, poet\n",
      "dance: music, rock, country, style, traditional, culture, beginning, actor, democratic, formed\n",
      "\n",
      "\n"
     ]
    },
    {
     "name": "stderr",
     "output_type": "stream",
     "text": [
      "27997it [07:08, 69.11it/s]"
     ]
    },
    {
     "name": "stdout",
     "output_type": "stream",
     "text": [
      "| epoch   7 | 28000/32580 batches | loss    1.332 \n"
     ]
    },
    {
     "name": "stderr",
     "output_type": "stream",
     "text": [
      "28010it [07:09, 45.14it/s]"
     ]
    },
    {
     "name": "stdout",
     "output_type": "stream",
     "text": [
      "money: him, them, it, able, ability, addition, way, even, work, taken\n",
      "lion: win, accepted, piece, writing, released, scene, size, brought, africa, followed\n",
      "africa: europe, china, india, america, north, east, end, germany, south, addition\n",
      "musician: actor, writer, singer, actress, author, addition, nine, born, painter, poet\n",
      "dance: music, rock, country, style, traditional, culture, beginning, actor, democratic, formed\n",
      "\n",
      "\n"
     ]
    },
    {
     "name": "stderr",
     "output_type": "stream",
     "text": [
      "28497it [07:16, 67.54it/s]"
     ]
    },
    {
     "name": "stdout",
     "output_type": "stream",
     "text": [
      "| epoch   7 | 28500/32580 batches | loss    1.331 \n"
     ]
    },
    {
     "name": "stderr",
     "output_type": "stream",
     "text": [
      "28511it [07:16, 45.75it/s]"
     ]
    },
    {
     "name": "stdout",
     "output_type": "stream",
     "text": [
      "money: him, them, it, able, ability, addition, way, even, work, taken\n",
      "lion: win, accepted, piece, writing, released, scene, size, brought, africa, followed\n",
      "africa: europe, china, india, america, north, east, end, germany, south, addition\n",
      "musician: actor, writer, singer, actress, author, addition, nine, born, painter, poet\n",
      "dance: music, rock, country, style, traditional, culture, beginning, actor, democratic, formed\n",
      "\n",
      "\n"
     ]
    },
    {
     "name": "stderr",
     "output_type": "stream",
     "text": [
      "28995it [07:23, 69.07it/s]"
     ]
    },
    {
     "name": "stdout",
     "output_type": "stream",
     "text": [
      "| epoch   7 | 29000/32580 batches | loss    1.334 \n"
     ]
    },
    {
     "name": "stderr",
     "output_type": "stream",
     "text": [
      "29008it [07:24, 44.86it/s]"
     ]
    },
    {
     "name": "stdout",
     "output_type": "stream",
     "text": [
      "money: him, them, it, able, ability, addition, way, even, work, taken\n",
      "lion: win, accepted, piece, writing, released, scene, size, brought, africa, followed\n",
      "africa: europe, china, india, america, north, east, end, germany, south, addition\n",
      "musician: actor, writer, singer, actress, author, addition, nine, born, painter, poet\n",
      "dance: music, rock, country, style, traditional, culture, beginning, actor, democratic, formed\n",
      "\n",
      "\n"
     ]
    },
    {
     "name": "stderr",
     "output_type": "stream",
     "text": [
      "29500it [07:31, 69.20it/s]"
     ]
    },
    {
     "name": "stdout",
     "output_type": "stream",
     "text": [
      "| epoch   7 | 29500/32580 batches | loss    1.331 \n"
     ]
    },
    {
     "name": "stderr",
     "output_type": "stream",
     "text": [
      "\r",
      "29507it [07:31, 41.00it/s]"
     ]
    },
    {
     "name": "stdout",
     "output_type": "stream",
     "text": [
      "money: him, them, it, able, ability, addition, way, even, work, taken\n",
      "lion: win, accepted, piece, writing, released, scene, size, brought, africa, followed\n",
      "africa: europe, china, india, america, north, east, end, germany, south, addition\n",
      "musician: actor, writer, singer, actress, author, addition, nine, born, painter, poet\n",
      "dance: music, rock, country, style, traditional, culture, beginning, actor, democratic, formed\n",
      "\n",
      "\n"
     ]
    },
    {
     "name": "stderr",
     "output_type": "stream",
     "text": [
      "30000it [07:39, 68.87it/s]"
     ]
    },
    {
     "name": "stdout",
     "output_type": "stream",
     "text": [
      "| epoch   7 | 30000/32580 batches | loss    1.331 \n"
     ]
    },
    {
     "name": "stderr",
     "output_type": "stream",
     "text": [
      "\r",
      "30007it [07:39, 40.71it/s]"
     ]
    },
    {
     "name": "stdout",
     "output_type": "stream",
     "text": [
      "money: him, them, it, able, ability, addition, way, even, work, taken\n",
      "lion: win, accepted, piece, writing, released, scene, size, brought, africa, followed\n",
      "africa: europe, china, india, america, north, east, end, germany, south, addition\n",
      "musician: actor, writer, singer, actress, author, addition, nine, born, painter, poet\n",
      "dance: music, rock, country, style, traditional, culture, beginning, actor, democratic, formed\n",
      "\n",
      "\n"
     ]
    },
    {
     "name": "stderr",
     "output_type": "stream",
     "text": [
      "30497it [07:46, 68.24it/s]"
     ]
    },
    {
     "name": "stdout",
     "output_type": "stream",
     "text": [
      "| epoch   7 | 30500/32580 batches | loss    1.334 \n"
     ]
    },
    {
     "name": "stderr",
     "output_type": "stream",
     "text": [
      "30511it [07:47, 46.00it/s]"
     ]
    },
    {
     "name": "stdout",
     "output_type": "stream",
     "text": [
      "money: him, them, it, able, ability, addition, way, even, work, taken\n",
      "lion: win, accepted, piece, writing, released, scene, size, brought, africa, followed\n",
      "africa: europe, china, india, america, north, east, end, germany, south, addition\n",
      "musician: actor, writer, singer, actress, author, addition, nine, born, painter, poet\n",
      "dance: music, rock, country, style, traditional, culture, beginning, actor, democratic, formed\n",
      "\n",
      "\n"
     ]
    },
    {
     "name": "stderr",
     "output_type": "stream",
     "text": [
      "30997it [07:54, 68.39it/s]"
     ]
    },
    {
     "name": "stdout",
     "output_type": "stream",
     "text": [
      "| epoch   7 | 31000/32580 batches | loss    1.333 \n"
     ]
    },
    {
     "name": "stderr",
     "output_type": "stream",
     "text": [
      "31011it [07:54, 46.07it/s]"
     ]
    },
    {
     "name": "stdout",
     "output_type": "stream",
     "text": [
      "money: him, them, it, able, ability, addition, way, even, work, taken\n",
      "lion: win, accepted, piece, writing, released, scene, size, brought, africa, followed\n",
      "africa: europe, china, india, america, north, east, end, germany, south, addition\n",
      "musician: actor, writer, singer, actress, author, addition, nine, born, painter, poet\n",
      "dance: music, rock, country, style, traditional, culture, beginning, actor, democratic, formed\n",
      "\n",
      "\n"
     ]
    },
    {
     "name": "stderr",
     "output_type": "stream",
     "text": [
      "31498it [08:01, 67.44it/s]"
     ]
    },
    {
     "name": "stdout",
     "output_type": "stream",
     "text": [
      "| epoch   7 | 31500/32580 batches | loss    1.330 \n"
     ]
    },
    {
     "name": "stderr",
     "output_type": "stream",
     "text": [
      "31512it [08:02, 46.14it/s]"
     ]
    },
    {
     "name": "stdout",
     "output_type": "stream",
     "text": [
      "money: him, them, it, able, ability, addition, way, even, work, taken\n",
      "lion: win, accepted, piece, writing, released, scene, size, brought, africa, followed\n",
      "africa: europe, china, india, america, north, east, end, germany, south, addition\n",
      "musician: actor, writer, singer, actress, author, addition, nine, born, painter, poet\n",
      "dance: music, rock, country, style, traditional, culture, beginning, actor, democratic, formed\n",
      "\n",
      "\n"
     ]
    },
    {
     "name": "stderr",
     "output_type": "stream",
     "text": [
      "31995it [08:09, 67.98it/s]"
     ]
    },
    {
     "name": "stdout",
     "output_type": "stream",
     "text": [
      "| epoch   7 | 32000/32580 batches | loss    1.329 \n"
     ]
    },
    {
     "name": "stderr",
     "output_type": "stream",
     "text": [
      "32008it [08:09, 44.88it/s]"
     ]
    },
    {
     "name": "stdout",
     "output_type": "stream",
     "text": [
      "money: him, them, it, able, ability, addition, way, even, work, taken\n",
      "lion: win, accepted, piece, writing, released, scene, size, brought, africa, followed\n",
      "africa: europe, china, india, america, north, east, end, germany, south, addition\n",
      "musician: actor, writer, singer, actress, author, addition, nine, born, painter, poet\n",
      "dance: music, rock, country, style, traditional, culture, beginning, actor, democratic, formed\n",
      "\n",
      "\n"
     ]
    },
    {
     "name": "stderr",
     "output_type": "stream",
     "text": [
      "32500it [08:16, 67.84it/s]"
     ]
    },
    {
     "name": "stdout",
     "output_type": "stream",
     "text": [
      "| epoch   7 | 32500/32580 batches | loss    1.331 \n"
     ]
    },
    {
     "name": "stderr",
     "output_type": "stream",
     "text": [
      "\r",
      "32507it [08:17, 40.21it/s]"
     ]
    },
    {
     "name": "stdout",
     "output_type": "stream",
     "text": [
      "money: him, them, it, able, ability, addition, way, even, work, taken\n",
      "lion: win, accepted, piece, writing, released, scene, size, brought, africa, followed\n",
      "africa: europe, china, india, america, north, east, end, germany, south, addition\n",
      "musician: actor, writer, singer, actress, author, addition, nine, born, painter, poet\n",
      "dance: music, rock, country, style, traditional, culture, beginning, actor, democratic, formed\n",
      "\n",
      "\n"
     ]
    },
    {
     "name": "stderr",
     "output_type": "stream",
     "text": [
      "32580it [08:19, 65.25it/s]\n",
      "0it [00:00, ?it/s]"
     ]
    },
    {
     "name": "stdout",
     "output_type": "stream",
     "text": [
      "| epoch   8 |     0/32580 batches | loss    1.266 \n"
     ]
    },
    {
     "name": "stderr",
     "output_type": "stream",
     "text": [
      "7it [00:01,  7.01it/s]"
     ]
    },
    {
     "name": "stdout",
     "output_type": "stream",
     "text": [
      "money: him, them, it, able, ability, addition, way, even, work, taken\n",
      "lion: win, accepted, piece, writing, released, scene, size, brought, africa, followed\n",
      "africa: europe, china, india, america, north, east, end, germany, south, addition\n",
      "musician: actor, writer, singer, actress, author, addition, nine, born, painter, poet\n",
      "dance: music, rock, country, style, traditional, culture, beginning, actor, democratic, formed\n",
      "\n",
      "\n"
     ]
    },
    {
     "name": "stderr",
     "output_type": "stream",
     "text": [
      "497it [00:08, 68.21it/s]"
     ]
    },
    {
     "name": "stdout",
     "output_type": "stream",
     "text": [
      "| epoch   8 |   500/32580 batches | loss    1.331 \n"
     ]
    },
    {
     "name": "stderr",
     "output_type": "stream",
     "text": [
      "511it [00:08, 45.86it/s]"
     ]
    },
    {
     "name": "stdout",
     "output_type": "stream",
     "text": [
      "money: him, them, it, able, ability, addition, way, even, work, taken\n",
      "lion: win, accepted, piece, writing, released, scene, size, brought, africa, followed\n",
      "africa: europe, china, india, america, north, east, end, germany, south, addition\n",
      "musician: actor, writer, singer, actress, author, addition, nine, born, painter, poet\n",
      "dance: music, rock, country, style, traditional, culture, beginning, actor, democratic, formed\n",
      "\n",
      "\n"
     ]
    },
    {
     "name": "stderr",
     "output_type": "stream",
     "text": [
      "998it [00:16, 68.12it/s]"
     ]
    },
    {
     "name": "stdout",
     "output_type": "stream",
     "text": [
      "| epoch   8 |  1000/32580 batches | loss    1.331 \n"
     ]
    },
    {
     "name": "stderr",
     "output_type": "stream",
     "text": [
      "1012it [00:16, 46.29it/s]"
     ]
    },
    {
     "name": "stdout",
     "output_type": "stream",
     "text": [
      "money: him, them, it, able, ability, addition, way, even, work, taken\n",
      "lion: win, accepted, piece, writing, released, scene, size, brought, africa, followed\n",
      "africa: europe, china, india, america, north, east, end, germany, south, addition\n",
      "musician: actor, writer, singer, actress, author, addition, nine, born, painter, poet\n",
      "dance: music, rock, country, style, traditional, culture, beginning, actor, democratic, formed\n",
      "\n",
      "\n"
     ]
    },
    {
     "name": "stderr",
     "output_type": "stream",
     "text": [
      "1495it [00:23, 69.17it/s]"
     ]
    },
    {
     "name": "stdout",
     "output_type": "stream",
     "text": [
      "| epoch   8 |  1500/32580 batches | loss    1.331 \n"
     ]
    },
    {
     "name": "stderr",
     "output_type": "stream",
     "text": [
      "1508it [00:23, 45.80it/s]"
     ]
    },
    {
     "name": "stdout",
     "output_type": "stream",
     "text": [
      "money: him, them, it, able, ability, addition, way, even, work, taken\n",
      "lion: win, accepted, piece, writing, released, scene, size, brought, africa, followed\n",
      "africa: europe, china, india, america, north, east, end, germany, south, addition\n",
      "musician: actor, writer, singer, actress, author, addition, nine, born, painter, poet\n",
      "dance: music, rock, country, style, traditional, culture, beginning, actor, democratic, formed\n",
      "\n",
      "\n"
     ]
    },
    {
     "name": "stderr",
     "output_type": "stream",
     "text": [
      "2000it [00:31, 68.41it/s]"
     ]
    },
    {
     "name": "stdout",
     "output_type": "stream",
     "text": [
      "| epoch   8 |  2000/32580 batches | loss    1.334 \n"
     ]
    },
    {
     "name": "stderr",
     "output_type": "stream",
     "text": [
      "\r",
      "2007it [00:31, 38.75it/s]"
     ]
    },
    {
     "name": "stdout",
     "output_type": "stream",
     "text": [
      "money: him, them, it, able, ability, addition, way, even, work, taken\n",
      "lion: win, accepted, piece, writing, released, scene, size, brought, africa, followed\n",
      "africa: europe, china, india, america, north, east, end, germany, south, addition\n",
      "musician: actor, writer, singer, actress, author, addition, nine, born, painter, poet\n",
      "dance: music, rock, country, style, traditional, culture, beginning, actor, democratic, formed\n",
      "\n",
      "\n"
     ]
    },
    {
     "name": "stderr",
     "output_type": "stream",
     "text": [
      "2497it [00:38, 68.74it/s]"
     ]
    },
    {
     "name": "stdout",
     "output_type": "stream",
     "text": [
      "| epoch   8 |  2500/32580 batches | loss    1.332 \n"
     ]
    },
    {
     "name": "stderr",
     "output_type": "stream",
     "text": [
      "2511it [00:39, 46.23it/s]"
     ]
    },
    {
     "name": "stdout",
     "output_type": "stream",
     "text": [
      "money: him, them, it, able, ability, addition, way, even, work, taken\n",
      "lion: win, accepted, piece, writing, released, scene, size, brought, africa, followed\n",
      "africa: europe, china, india, america, north, east, end, germany, south, addition\n",
      "musician: actor, writer, singer, actress, author, addition, nine, born, painter, poet\n",
      "dance: music, rock, country, style, traditional, culture, beginning, actor, democratic, formed\n",
      "\n",
      "\n"
     ]
    },
    {
     "name": "stderr",
     "output_type": "stream",
     "text": [
      "2995it [00:46, 68.35it/s]"
     ]
    },
    {
     "name": "stdout",
     "output_type": "stream",
     "text": [
      "| epoch   8 |  3000/32580 batches | loss    1.331 \n"
     ]
    },
    {
     "name": "stderr",
     "output_type": "stream",
     "text": [
      "3008it [00:46, 44.79it/s]"
     ]
    },
    {
     "name": "stdout",
     "output_type": "stream",
     "text": [
      "money: him, them, it, able, ability, addition, way, even, work, taken\n",
      "lion: win, accepted, piece, writing, released, scene, size, brought, africa, followed\n",
      "africa: europe, china, india, america, north, east, end, germany, south, addition\n",
      "musician: actor, writer, singer, actress, author, addition, nine, born, painter, poet\n",
      "dance: music, rock, country, style, traditional, culture, beginning, actor, democratic, formed\n",
      "\n",
      "\n"
     ]
    },
    {
     "name": "stderr",
     "output_type": "stream",
     "text": [
      "3495it [00:53, 69.64it/s]"
     ]
    },
    {
     "name": "stdout",
     "output_type": "stream",
     "text": [
      "| epoch   8 |  3500/32580 batches | loss    1.335 \n"
     ]
    },
    {
     "name": "stderr",
     "output_type": "stream",
     "text": [
      "3508it [00:54, 44.10it/s]"
     ]
    },
    {
     "name": "stdout",
     "output_type": "stream",
     "text": [
      "money: him, them, it, able, ability, addition, way, even, work, taken\n",
      "lion: win, accepted, piece, writing, released, scene, size, brought, africa, followed\n",
      "africa: europe, china, india, america, north, east, end, germany, south, addition\n",
      "musician: actor, writer, singer, actress, author, addition, nine, born, painter, poet\n",
      "dance: music, rock, country, style, traditional, culture, beginning, actor, democratic, formed\n",
      "\n",
      "\n"
     ]
    },
    {
     "name": "stderr",
     "output_type": "stream",
     "text": [
      "3998it [01:01, 68.65it/s]"
     ]
    },
    {
     "name": "stdout",
     "output_type": "stream",
     "text": [
      "| epoch   8 |  4000/32580 batches | loss    1.336 \n"
     ]
    },
    {
     "name": "stderr",
     "output_type": "stream",
     "text": [
      "4012it [01:01, 46.62it/s]"
     ]
    },
    {
     "name": "stdout",
     "output_type": "stream",
     "text": [
      "money: him, them, it, able, ability, addition, way, even, work, taken\n",
      "lion: win, accepted, piece, writing, released, scene, size, brought, africa, followed\n",
      "africa: europe, china, india, america, north, east, end, germany, south, addition\n",
      "musician: actor, writer, singer, actress, author, addition, nine, born, painter, poet\n",
      "dance: music, rock, country, style, traditional, culture, beginning, actor, democratic, formed\n",
      "\n",
      "\n"
     ]
    },
    {
     "name": "stderr",
     "output_type": "stream",
     "text": [
      "4495it [01:11,  7.39it/s]"
     ]
    },
    {
     "name": "stdout",
     "output_type": "stream",
     "text": [
      "| epoch   8 |  4500/32580 batches | loss    1.327 \n"
     ]
    },
    {
     "name": "stderr",
     "output_type": "stream",
     "text": [
      "4507it [01:12, 11.60it/s]"
     ]
    },
    {
     "name": "stdout",
     "output_type": "stream",
     "text": [
      "money: him, them, it, able, ability, addition, way, even, work, taken\n",
      "lion: win, accepted, piece, writing, released, scene, size, brought, africa, followed\n",
      "africa: europe, china, india, america, north, east, end, germany, south, addition\n",
      "musician: actor, writer, singer, actress, author, addition, nine, born, painter, poet\n",
      "dance: music, rock, country, style, traditional, culture, beginning, actor, democratic, formed\n",
      "\n",
      "\n"
     ]
    },
    {
     "name": "stderr",
     "output_type": "stream",
     "text": [
      "4998it [01:19, 67.72it/s]"
     ]
    },
    {
     "name": "stdout",
     "output_type": "stream",
     "text": [
      "| epoch   8 |  5000/32580 batches | loss    1.330 \n"
     ]
    },
    {
     "name": "stderr",
     "output_type": "stream",
     "text": [
      "5012it [01:19, 45.53it/s]"
     ]
    },
    {
     "name": "stdout",
     "output_type": "stream",
     "text": [
      "money: him, them, it, able, ability, addition, way, even, work, taken\n",
      "lion: win, accepted, piece, writing, released, scene, size, brought, africa, followed\n",
      "africa: europe, china, india, america, north, east, end, germany, south, addition\n",
      "musician: actor, writer, singer, actress, author, addition, nine, born, painter, poet\n",
      "dance: music, rock, country, style, traditional, culture, beginning, actor, democratic, formed\n",
      "\n",
      "\n"
     ]
    },
    {
     "name": "stderr",
     "output_type": "stream",
     "text": [
      "5499it [01:26, 67.55it/s]"
     ]
    },
    {
     "name": "stdout",
     "output_type": "stream",
     "text": [
      "| epoch   8 |  5500/32580 batches | loss    1.330 \n"
     ]
    },
    {
     "name": "stderr",
     "output_type": "stream",
     "text": [
      "\r",
      "5506it [01:27, 40.40it/s]"
     ]
    },
    {
     "name": "stdout",
     "output_type": "stream",
     "text": [
      "money: him, them, it, able, ability, addition, way, even, work, taken\n",
      "lion: win, accepted, piece, writing, released, scene, size, brought, africa, followed\n",
      "africa: europe, china, india, america, north, east, end, germany, south, addition\n",
      "musician: actor, writer, singer, actress, author, addition, nine, born, painter, poet\n",
      "dance: music, rock, country, style, traditional, culture, beginning, actor, democratic, formed\n",
      "\n",
      "\n"
     ]
    },
    {
     "name": "stderr",
     "output_type": "stream",
     "text": [
      "5998it [01:34, 69.24it/s]"
     ]
    },
    {
     "name": "stdout",
     "output_type": "stream",
     "text": [
      "| epoch   8 |  6000/32580 batches | loss    1.332 \n"
     ]
    },
    {
     "name": "stderr",
     "output_type": "stream",
     "text": [
      "6012it [01:34, 46.72it/s]"
     ]
    },
    {
     "name": "stdout",
     "output_type": "stream",
     "text": [
      "money: him, them, it, able, ability, addition, way, even, work, taken\n",
      "lion: win, accepted, piece, writing, released, scene, size, brought, africa, followed\n",
      "africa: europe, china, india, america, north, east, end, germany, south, addition\n",
      "musician: actor, writer, singer, actress, author, addition, nine, born, painter, poet\n",
      "dance: music, rock, country, style, traditional, culture, beginning, actor, democratic, formed\n",
      "\n",
      "\n"
     ]
    },
    {
     "name": "stderr",
     "output_type": "stream",
     "text": [
      "6496it [01:41, 69.36it/s]"
     ]
    },
    {
     "name": "stdout",
     "output_type": "stream",
     "text": [
      "| epoch   8 |  6500/32580 batches | loss    1.329 \n"
     ]
    },
    {
     "name": "stderr",
     "output_type": "stream",
     "text": [
      "6510it [01:42, 44.99it/s]"
     ]
    },
    {
     "name": "stdout",
     "output_type": "stream",
     "text": [
      "money: him, them, it, able, ability, addition, way, even, work, taken\n",
      "lion: win, accepted, piece, writing, released, scene, size, brought, africa, followed\n",
      "africa: europe, china, india, america, north, east, end, germany, south, addition\n",
      "musician: actor, writer, singer, actress, author, addition, nine, born, painter, poet\n",
      "dance: music, rock, country, style, traditional, culture, beginning, actor, democratic, formed\n",
      "\n",
      "\n"
     ]
    },
    {
     "name": "stderr",
     "output_type": "stream",
     "text": [
      "6994it [01:49, 69.19it/s]"
     ]
    },
    {
     "name": "stdout",
     "output_type": "stream",
     "text": [
      "| epoch   8 |  7000/32580 batches | loss    1.329 \n"
     ]
    },
    {
     "name": "stderr",
     "output_type": "stream",
     "text": [
      "7007it [01:49, 44.85it/s]"
     ]
    },
    {
     "name": "stdout",
     "output_type": "stream",
     "text": [
      "money: him, them, it, able, ability, addition, way, even, work, taken\n",
      "lion: win, accepted, piece, writing, released, scene, size, brought, africa, followed\n",
      "africa: europe, china, india, america, north, east, end, germany, south, addition\n",
      "musician: actor, writer, singer, actress, author, addition, nine, born, painter, poet\n",
      "dance: music, rock, country, style, traditional, culture, beginning, actor, democratic, formed\n",
      "\n",
      "\n"
     ]
    },
    {
     "name": "stderr",
     "output_type": "stream",
     "text": [
      "7497it [01:57, 67.58it/s]"
     ]
    },
    {
     "name": "stdout",
     "output_type": "stream",
     "text": [
      "| epoch   8 |  7500/32580 batches | loss    1.331 \n"
     ]
    },
    {
     "name": "stderr",
     "output_type": "stream",
     "text": [
      "7511it [01:57, 45.43it/s]"
     ]
    },
    {
     "name": "stdout",
     "output_type": "stream",
     "text": [
      "money: him, them, it, able, ability, addition, way, even, work, taken\n",
      "lion: win, accepted, piece, writing, released, scene, size, brought, africa, followed\n",
      "africa: europe, china, india, america, north, east, end, germany, south, addition\n",
      "musician: actor, writer, singer, actress, author, addition, nine, born, painter, poet\n",
      "dance: music, rock, country, style, traditional, culture, beginning, actor, democratic, formed\n",
      "\n",
      "\n"
     ]
    },
    {
     "name": "stderr",
     "output_type": "stream",
     "text": [
      "7998it [02:04, 68.49it/s]"
     ]
    },
    {
     "name": "stdout",
     "output_type": "stream",
     "text": [
      "| epoch   8 |  8000/32580 batches | loss    1.331 \n"
     ]
    },
    {
     "name": "stderr",
     "output_type": "stream",
     "text": [
      "8012it [02:05, 46.21it/s]"
     ]
    },
    {
     "name": "stdout",
     "output_type": "stream",
     "text": [
      "money: him, them, it, able, ability, addition, way, even, work, taken\n",
      "lion: win, accepted, piece, writing, released, scene, size, brought, africa, followed\n",
      "africa: europe, china, india, america, north, east, end, germany, south, addition\n",
      "musician: actor, writer, singer, actress, author, addition, nine, born, painter, poet\n",
      "dance: music, rock, country, style, traditional, culture, beginning, actor, democratic, formed\n",
      "\n",
      "\n"
     ]
    },
    {
     "name": "stderr",
     "output_type": "stream",
     "text": [
      "8498it [02:12, 67.29it/s]"
     ]
    },
    {
     "name": "stdout",
     "output_type": "stream",
     "text": [
      "| epoch   8 |  8500/32580 batches | loss    1.333 \n"
     ]
    },
    {
     "name": "stderr",
     "output_type": "stream",
     "text": [
      "8512it [02:12, 46.33it/s]"
     ]
    },
    {
     "name": "stdout",
     "output_type": "stream",
     "text": [
      "money: him, them, it, able, ability, addition, way, even, work, taken\n",
      "lion: win, accepted, piece, writing, released, scene, size, brought, africa, followed\n",
      "africa: europe, china, india, america, north, east, end, germany, south, addition\n",
      "musician: actor, writer, singer, actress, author, addition, nine, born, painter, poet\n",
      "dance: music, rock, country, style, traditional, culture, beginning, actor, democratic, formed\n",
      "\n",
      "\n"
     ]
    },
    {
     "name": "stderr",
     "output_type": "stream",
     "text": [
      "8997it [02:19, 68.67it/s]"
     ]
    },
    {
     "name": "stdout",
     "output_type": "stream",
     "text": [
      "| epoch   8 |  9000/32580 batches | loss    1.329 \n"
     ]
    },
    {
     "name": "stderr",
     "output_type": "stream",
     "text": [
      "9011it [02:20, 46.31it/s]"
     ]
    },
    {
     "name": "stdout",
     "output_type": "stream",
     "text": [
      "money: him, them, it, able, ability, addition, way, even, work, taken\n",
      "lion: win, accepted, piece, writing, released, scene, size, brought, africa, followed\n",
      "africa: europe, china, india, america, north, east, end, germany, south, addition\n",
      "musician: actor, writer, singer, actress, author, addition, nine, born, painter, poet\n",
      "dance: music, rock, country, style, traditional, culture, beginning, actor, democratic, formed\n",
      "\n",
      "\n"
     ]
    },
    {
     "name": "stderr",
     "output_type": "stream",
     "text": [
      "9496it [02:27, 68.36it/s]"
     ]
    },
    {
     "name": "stdout",
     "output_type": "stream",
     "text": [
      "| epoch   8 |  9500/32580 batches | loss    1.328 \n"
     ]
    },
    {
     "name": "stderr",
     "output_type": "stream",
     "text": [
      "9509it [02:27, 44.66it/s]"
     ]
    },
    {
     "name": "stdout",
     "output_type": "stream",
     "text": [
      "money: him, them, it, able, ability, addition, way, even, work, taken\n",
      "lion: win, accepted, piece, writing, released, scene, size, brought, africa, followed\n",
      "africa: europe, china, india, america, north, east, end, germany, south, addition\n",
      "musician: actor, writer, singer, actress, author, addition, nine, born, painter, poet\n",
      "dance: music, rock, country, style, traditional, culture, beginning, actor, democratic, formed\n",
      "\n",
      "\n"
     ]
    },
    {
     "name": "stderr",
     "output_type": "stream",
     "text": [
      "9994it [02:34, 69.35it/s]"
     ]
    },
    {
     "name": "stdout",
     "output_type": "stream",
     "text": [
      "| epoch   8 | 10000/32580 batches | loss    1.332 \n"
     ]
    },
    {
     "name": "stderr",
     "output_type": "stream",
     "text": [
      "10007it [02:35, 45.76it/s]"
     ]
    },
    {
     "name": "stdout",
     "output_type": "stream",
     "text": [
      "money: him, them, it, able, ability, addition, way, even, work, taken\n",
      "lion: win, accepted, piece, writing, released, scene, size, brought, africa, followed\n",
      "africa: europe, china, india, america, north, east, end, germany, south, addition\n",
      "musician: actor, writer, singer, actress, author, addition, nine, born, painter, poet\n",
      "dance: music, rock, country, style, traditional, culture, beginning, actor, democratic, formed\n",
      "\n",
      "\n"
     ]
    },
    {
     "name": "stderr",
     "output_type": "stream",
     "text": [
      "10496it [02:42, 65.82it/s]"
     ]
    },
    {
     "name": "stdout",
     "output_type": "stream",
     "text": [
      "| epoch   8 | 10500/32580 batches | loss    1.330 \n"
     ]
    },
    {
     "name": "stderr",
     "output_type": "stream",
     "text": [
      "10509it [02:42, 44.47it/s]"
     ]
    },
    {
     "name": "stdout",
     "output_type": "stream",
     "text": [
      "money: him, them, it, able, ability, addition, way, even, work, taken\n",
      "lion: win, accepted, piece, writing, released, scene, size, brought, africa, followed\n",
      "africa: europe, china, india, america, north, east, end, germany, south, addition\n",
      "musician: actor, writer, singer, actress, author, addition, nine, born, painter, poet\n",
      "dance: music, rock, country, style, traditional, culture, beginning, actor, democratic, formed\n",
      "\n",
      "\n"
     ]
    },
    {
     "name": "stderr",
     "output_type": "stream",
     "text": [
      "10999it [02:50, 67.67it/s]"
     ]
    },
    {
     "name": "stdout",
     "output_type": "stream",
     "text": [
      "| epoch   8 | 11000/32580 batches | loss    1.330 \n"
     ]
    },
    {
     "name": "stderr",
     "output_type": "stream",
     "text": [
      "\r",
      "11006it [02:50, 40.25it/s]"
     ]
    },
    {
     "name": "stdout",
     "output_type": "stream",
     "text": [
      "money: him, them, it, able, ability, addition, way, even, work, taken\n",
      "lion: win, accepted, piece, writing, released, scene, size, brought, africa, followed\n",
      "africa: europe, china, india, america, north, east, end, germany, south, addition\n",
      "musician: actor, writer, singer, actress, author, addition, nine, born, painter, poet\n",
      "dance: music, rock, country, style, traditional, culture, beginning, actor, democratic, formed\n",
      "\n",
      "\n"
     ]
    },
    {
     "name": "stderr",
     "output_type": "stream",
     "text": [
      "11499it [02:57, 69.70it/s]"
     ]
    },
    {
     "name": "stdout",
     "output_type": "stream",
     "text": [
      "| epoch   8 | 11500/32580 batches | loss    1.328 \n"
     ]
    },
    {
     "name": "stderr",
     "output_type": "stream",
     "text": [
      "\r",
      "11506it [02:57, 41.12it/s]"
     ]
    },
    {
     "name": "stdout",
     "output_type": "stream",
     "text": [
      "money: him, them, it, able, ability, addition, way, even, work, taken\n",
      "lion: win, accepted, piece, writing, released, scene, size, brought, africa, followed\n",
      "africa: europe, china, india, america, north, east, end, germany, south, addition\n",
      "musician: actor, writer, singer, actress, author, addition, nine, born, painter, poet\n",
      "dance: music, rock, country, style, traditional, culture, beginning, actor, democratic, formed\n",
      "\n",
      "\n"
     ]
    },
    {
     "name": "stderr",
     "output_type": "stream",
     "text": [
      "11999it [03:05, 65.74it/s]"
     ]
    },
    {
     "name": "stdout",
     "output_type": "stream",
     "text": [
      "| epoch   8 | 12000/32580 batches | loss    1.328 \n"
     ]
    },
    {
     "name": "stderr",
     "output_type": "stream",
     "text": [
      "12013it [03:05, 45.71it/s]"
     ]
    },
    {
     "name": "stdout",
     "output_type": "stream",
     "text": [
      "money: him, them, it, able, ability, addition, way, even, work, taken\n",
      "lion: win, accepted, piece, writing, released, scene, size, brought, africa, followed\n",
      "africa: europe, china, india, america, north, east, end, germany, south, addition\n",
      "musician: actor, writer, singer, actress, author, addition, nine, born, painter, poet\n",
      "dance: music, rock, country, style, traditional, culture, beginning, actor, democratic, formed\n",
      "\n",
      "\n"
     ]
    },
    {
     "name": "stderr",
     "output_type": "stream",
     "text": [
      "12497it [03:12, 68.74it/s]"
     ]
    },
    {
     "name": "stdout",
     "output_type": "stream",
     "text": [
      "| epoch   8 | 12500/32580 batches | loss    1.332 \n"
     ]
    },
    {
     "name": "stderr",
     "output_type": "stream",
     "text": [
      "12511it [03:13, 46.42it/s]"
     ]
    },
    {
     "name": "stdout",
     "output_type": "stream",
     "text": [
      "money: him, them, it, able, ability, addition, way, even, work, taken\n",
      "lion: win, accepted, piece, writing, released, scene, size, brought, africa, followed\n",
      "africa: europe, china, india, america, north, east, end, germany, south, addition\n",
      "musician: actor, writer, singer, actress, author, addition, nine, born, painter, poet\n",
      "dance: music, rock, country, style, traditional, culture, beginning, actor, democratic, formed\n",
      "\n",
      "\n"
     ]
    },
    {
     "name": "stderr",
     "output_type": "stream",
     "text": [
      "12996it [03:20, 67.59it/s]"
     ]
    },
    {
     "name": "stdout",
     "output_type": "stream",
     "text": [
      "| epoch   8 | 13000/32580 batches | loss    1.333 \n"
     ]
    },
    {
     "name": "stderr",
     "output_type": "stream",
     "text": [
      "13009it [03:20, 44.23it/s]"
     ]
    },
    {
     "name": "stdout",
     "output_type": "stream",
     "text": [
      "money: him, them, it, able, ability, addition, way, even, work, taken\n",
      "lion: win, accepted, piece, writing, released, scene, size, brought, africa, followed\n",
      "africa: europe, china, india, america, north, east, end, germany, south, addition\n",
      "musician: actor, writer, singer, actress, author, addition, nine, born, painter, poet\n",
      "dance: music, rock, country, style, traditional, culture, beginning, actor, democratic, formed\n",
      "\n",
      "\n"
     ]
    },
    {
     "name": "stderr",
     "output_type": "stream",
     "text": [
      "13500it [03:27, 69.40it/s]"
     ]
    },
    {
     "name": "stdout",
     "output_type": "stream",
     "text": [
      "| epoch   8 | 13500/32580 batches | loss    1.328 \n"
     ]
    },
    {
     "name": "stderr",
     "output_type": "stream",
     "text": [
      "\r",
      "13507it [03:28, 39.41it/s]"
     ]
    },
    {
     "name": "stdout",
     "output_type": "stream",
     "text": [
      "money: him, them, it, able, ability, addition, way, even, work, taken\n",
      "lion: win, accepted, piece, writing, released, scene, size, brought, africa, followed\n",
      "africa: europe, china, india, america, north, east, end, germany, south, addition\n",
      "musician: actor, writer, singer, actress, author, addition, nine, born, painter, poet\n",
      "dance: music, rock, country, style, traditional, culture, beginning, actor, democratic, formed\n",
      "\n",
      "\n"
     ]
    },
    {
     "name": "stderr",
     "output_type": "stream",
     "text": [
      "13997it [03:35, 68.36it/s]"
     ]
    },
    {
     "name": "stdout",
     "output_type": "stream",
     "text": [
      "| epoch   8 | 14000/32580 batches | loss    1.335 \n"
     ]
    },
    {
     "name": "stderr",
     "output_type": "stream",
     "text": [
      "14011it [03:35, 45.67it/s]"
     ]
    },
    {
     "name": "stdout",
     "output_type": "stream",
     "text": [
      "money: him, them, it, able, ability, addition, way, even, work, taken\n",
      "lion: win, accepted, piece, writing, released, scene, size, brought, africa, followed\n",
      "africa: europe, china, india, america, north, east, end, germany, south, addition\n",
      "musician: actor, writer, singer, actress, author, addition, nine, born, painter, poet\n",
      "dance: music, rock, country, style, traditional, culture, beginning, actor, democratic, formed\n",
      "\n",
      "\n"
     ]
    },
    {
     "name": "stderr",
     "output_type": "stream",
     "text": [
      "14496it [03:42, 68.86it/s]"
     ]
    },
    {
     "name": "stdout",
     "output_type": "stream",
     "text": [
      "| epoch   8 | 14500/32580 batches | loss    1.334 \n"
     ]
    },
    {
     "name": "stderr",
     "output_type": "stream",
     "text": [
      "14510it [03:43, 46.05it/s]"
     ]
    },
    {
     "name": "stdout",
     "output_type": "stream",
     "text": [
      "money: him, them, it, able, ability, addition, way, even, work, taken\n",
      "lion: win, accepted, piece, writing, released, scene, size, brought, africa, followed\n",
      "africa: europe, china, india, america, north, east, end, germany, south, addition\n",
      "musician: actor, writer, singer, actress, author, addition, nine, born, painter, poet\n",
      "dance: music, rock, country, style, traditional, culture, beginning, actor, democratic, formed\n",
      "\n",
      "\n"
     ]
    },
    {
     "name": "stderr",
     "output_type": "stream",
     "text": [
      "14996it [03:50, 67.93it/s]"
     ]
    },
    {
     "name": "stdout",
     "output_type": "stream",
     "text": [
      "| epoch   8 | 15000/32580 batches | loss    1.331 \n"
     ]
    },
    {
     "name": "stderr",
     "output_type": "stream",
     "text": [
      "15010it [03:50, 45.83it/s]"
     ]
    },
    {
     "name": "stdout",
     "output_type": "stream",
     "text": [
      "money: him, them, it, able, ability, addition, way, even, work, taken\n",
      "lion: win, accepted, piece, writing, released, scene, size, brought, africa, followed\n",
      "africa: europe, china, india, america, north, east, end, germany, south, addition\n",
      "musician: actor, writer, singer, actress, author, addition, nine, born, painter, poet\n",
      "dance: music, rock, country, style, traditional, culture, beginning, actor, democratic, formed\n",
      "\n",
      "\n"
     ]
    },
    {
     "name": "stderr",
     "output_type": "stream",
     "text": [
      "15496it [03:57, 68.64it/s]"
     ]
    },
    {
     "name": "stdout",
     "output_type": "stream",
     "text": [
      "| epoch   8 | 15500/32580 batches | loss    1.326 \n"
     ]
    },
    {
     "name": "stderr",
     "output_type": "stream",
     "text": [
      "15510it [03:58, 45.97it/s]"
     ]
    },
    {
     "name": "stdout",
     "output_type": "stream",
     "text": [
      "money: him, them, it, able, ability, addition, way, even, work, taken\n",
      "lion: win, accepted, piece, writing, released, scene, size, brought, africa, followed\n",
      "africa: europe, china, india, america, north, east, end, germany, south, addition\n",
      "musician: actor, writer, singer, actress, author, addition, nine, born, painter, poet\n",
      "dance: music, rock, country, style, traditional, culture, beginning, actor, democratic, formed\n",
      "\n",
      "\n"
     ]
    },
    {
     "name": "stderr",
     "output_type": "stream",
     "text": [
      "15994it [04:05, 68.28it/s]"
     ]
    },
    {
     "name": "stdout",
     "output_type": "stream",
     "text": [
      "| epoch   8 | 16000/32580 batches | loss    1.328 \n"
     ]
    },
    {
     "name": "stderr",
     "output_type": "stream",
     "text": [
      "16007it [04:05, 43.61it/s]"
     ]
    },
    {
     "name": "stdout",
     "output_type": "stream",
     "text": [
      "money: him, them, it, able, ability, addition, way, even, work, taken\n",
      "lion: win, accepted, piece, writing, released, scene, size, brought, africa, followed\n",
      "africa: europe, china, india, america, north, east, end, germany, south, addition\n",
      "musician: actor, writer, singer, actress, author, addition, nine, born, painter, poet\n",
      "dance: music, rock, country, style, traditional, culture, beginning, actor, democratic, formed\n",
      "\n",
      "\n"
     ]
    },
    {
     "name": "stderr",
     "output_type": "stream",
     "text": [
      "16499it [04:12, 69.21it/s]"
     ]
    },
    {
     "name": "stdout",
     "output_type": "stream",
     "text": [
      "| epoch   8 | 16500/32580 batches | loss    1.331 \n"
     ]
    },
    {
     "name": "stderr",
     "output_type": "stream",
     "text": [
      "16513it [04:13, 46.70it/s]"
     ]
    },
    {
     "name": "stdout",
     "output_type": "stream",
     "text": [
      "money: him, them, it, able, ability, addition, way, even, work, taken\n",
      "lion: win, accepted, piece, writing, released, scene, size, brought, africa, followed\n",
      "africa: europe, china, india, america, north, east, end, germany, south, addition\n",
      "musician: actor, writer, singer, actress, author, addition, nine, born, painter, poet\n",
      "dance: music, rock, country, style, traditional, culture, beginning, actor, democratic, formed\n",
      "\n",
      "\n"
     ]
    },
    {
     "name": "stderr",
     "output_type": "stream",
     "text": [
      "16998it [04:20, 67.75it/s]"
     ]
    },
    {
     "name": "stdout",
     "output_type": "stream",
     "text": [
      "| epoch   8 | 17000/32580 batches | loss    1.329 \n"
     ]
    },
    {
     "name": "stderr",
     "output_type": "stream",
     "text": [
      "17012it [04:20, 45.65it/s]"
     ]
    },
    {
     "name": "stdout",
     "output_type": "stream",
     "text": [
      "money: him, them, it, able, ability, addition, way, even, work, taken\n",
      "lion: win, accepted, piece, writing, released, scene, size, brought, africa, followed\n",
      "africa: europe, china, india, america, north, east, end, germany, south, addition\n",
      "musician: actor, writer, singer, actress, author, addition, nine, born, painter, poet\n",
      "dance: music, rock, country, style, traditional, culture, beginning, actor, democratic, formed\n",
      "\n",
      "\n"
     ]
    },
    {
     "name": "stderr",
     "output_type": "stream",
     "text": [
      "17495it [04:28, 67.29it/s]"
     ]
    },
    {
     "name": "stdout",
     "output_type": "stream",
     "text": [
      "| epoch   8 | 17500/32580 batches | loss    1.334 \n"
     ]
    },
    {
     "name": "stderr",
     "output_type": "stream",
     "text": [
      "17508it [04:28, 44.28it/s]"
     ]
    },
    {
     "name": "stdout",
     "output_type": "stream",
     "text": [
      "money: him, them, it, able, ability, addition, way, even, work, taken\n",
      "lion: win, accepted, piece, writing, released, scene, size, brought, africa, followed\n",
      "africa: europe, china, india, america, north, east, end, germany, south, addition\n",
      "musician: actor, writer, singer, actress, author, addition, nine, born, painter, poet\n",
      "dance: music, rock, country, style, traditional, culture, beginning, actor, democratic, formed\n",
      "\n",
      "\n"
     ]
    },
    {
     "name": "stderr",
     "output_type": "stream",
     "text": [
      "17994it [04:35, 68.01it/s]"
     ]
    },
    {
     "name": "stdout",
     "output_type": "stream",
     "text": [
      "| epoch   8 | 18000/32580 batches | loss    1.329 \n"
     ]
    },
    {
     "name": "stderr",
     "output_type": "stream",
     "text": [
      "18007it [04:35, 44.36it/s]"
     ]
    },
    {
     "name": "stdout",
     "output_type": "stream",
     "text": [
      "money: him, them, it, able, ability, addition, way, even, work, taken\n",
      "lion: win, accepted, piece, writing, released, scene, size, brought, africa, followed\n",
      "africa: europe, china, india, america, north, east, end, germany, south, addition\n",
      "musician: actor, writer, singer, actress, author, addition, nine, born, painter, poet\n",
      "dance: music, rock, country, style, traditional, culture, beginning, actor, democratic, formed\n",
      "\n",
      "\n"
     ]
    },
    {
     "name": "stderr",
     "output_type": "stream",
     "text": [
      "18493it [04:43, 68.77it/s]"
     ]
    },
    {
     "name": "stdout",
     "output_type": "stream",
     "text": [
      "| epoch   8 | 18500/32580 batches | loss    1.335 \n"
     ]
    },
    {
     "name": "stderr",
     "output_type": "stream",
     "text": [
      "18507it [04:43, 44.81it/s]"
     ]
    },
    {
     "name": "stdout",
     "output_type": "stream",
     "text": [
      "money: him, them, it, able, ability, addition, way, even, work, taken\n",
      "lion: win, accepted, piece, writing, released, scene, size, brought, africa, followed\n",
      "africa: europe, china, india, america, north, east, end, germany, south, addition\n",
      "musician: actor, writer, singer, actress, author, addition, nine, born, painter, poet\n",
      "dance: music, rock, country, style, traditional, culture, beginning, actor, democratic, formed\n",
      "\n",
      "\n"
     ]
    },
    {
     "name": "stderr",
     "output_type": "stream",
     "text": [
      "18994it [04:50, 67.99it/s]"
     ]
    },
    {
     "name": "stdout",
     "output_type": "stream",
     "text": [
      "| epoch   8 | 19000/32580 batches | loss    1.329 \n"
     ]
    },
    {
     "name": "stderr",
     "output_type": "stream",
     "text": [
      "19007it [04:51, 43.28it/s]"
     ]
    },
    {
     "name": "stdout",
     "output_type": "stream",
     "text": [
      "money: him, them, it, able, ability, addition, way, even, work, taken\n",
      "lion: win, accepted, piece, writing, released, scene, size, brought, africa, followed\n",
      "africa: europe, china, india, america, north, east, end, germany, south, addition\n",
      "musician: actor, writer, singer, actress, author, addition, nine, born, painter, poet\n",
      "dance: music, rock, country, style, traditional, culture, beginning, actor, democratic, formed\n",
      "\n",
      "\n"
     ]
    },
    {
     "name": "stderr",
     "output_type": "stream",
     "text": [
      "19500it [04:58, 68.98it/s]"
     ]
    },
    {
     "name": "stdout",
     "output_type": "stream",
     "text": [
      "| epoch   8 | 19500/32580 batches | loss    1.330 \n"
     ]
    },
    {
     "name": "stderr",
     "output_type": "stream",
     "text": [
      "\r",
      "19507it [04:58, 40.64it/s]"
     ]
    },
    {
     "name": "stdout",
     "output_type": "stream",
     "text": [
      "money: him, them, it, able, ability, addition, way, even, work, taken\n",
      "lion: win, accepted, piece, writing, released, scene, size, brought, africa, followed\n",
      "africa: europe, china, india, america, north, east, end, germany, south, addition\n",
      "musician: actor, writer, singer, actress, author, addition, nine, born, painter, poet\n",
      "dance: music, rock, country, style, traditional, culture, beginning, actor, democratic, formed\n",
      "\n",
      "\n"
     ]
    },
    {
     "name": "stderr",
     "output_type": "stream",
     "text": [
      "19998it [05:05, 67.02it/s]"
     ]
    },
    {
     "name": "stdout",
     "output_type": "stream",
     "text": [
      "| epoch   8 | 20000/32580 batches | loss    1.326 \n"
     ]
    },
    {
     "name": "stderr",
     "output_type": "stream",
     "text": [
      "20012it [05:06, 45.55it/s]"
     ]
    },
    {
     "name": "stdout",
     "output_type": "stream",
     "text": [
      "money: him, them, it, able, ability, addition, way, even, work, taken\n",
      "lion: win, accepted, piece, writing, released, scene, size, brought, africa, followed\n",
      "africa: europe, china, india, america, north, east, end, germany, south, addition\n",
      "musician: actor, writer, singer, actress, author, addition, nine, born, painter, poet\n",
      "dance: music, rock, country, style, traditional, culture, beginning, actor, democratic, formed\n",
      "\n",
      "\n"
     ]
    },
    {
     "name": "stderr",
     "output_type": "stream",
     "text": [
      "20496it [05:13, 69.31it/s]"
     ]
    },
    {
     "name": "stdout",
     "output_type": "stream",
     "text": [
      "| epoch   8 | 20500/32580 batches | loss    1.331 \n"
     ]
    },
    {
     "name": "stderr",
     "output_type": "stream",
     "text": [
      "20509it [05:13, 44.09it/s]"
     ]
    },
    {
     "name": "stdout",
     "output_type": "stream",
     "text": [
      "money: him, them, it, able, ability, addition, way, even, work, taken\n",
      "lion: win, accepted, piece, writing, released, scene, size, brought, africa, followed\n",
      "africa: europe, china, india, america, north, east, end, germany, south, addition\n",
      "musician: actor, writer, singer, actress, author, addition, nine, born, painter, poet\n",
      "dance: music, rock, country, style, traditional, culture, beginning, actor, democratic, formed\n",
      "\n",
      "\n"
     ]
    },
    {
     "name": "stderr",
     "output_type": "stream",
     "text": [
      "20994it [05:20, 69.14it/s]"
     ]
    },
    {
     "name": "stdout",
     "output_type": "stream",
     "text": [
      "| epoch   8 | 21000/32580 batches | loss    1.330 \n"
     ]
    },
    {
     "name": "stderr",
     "output_type": "stream",
     "text": [
      "21007it [05:21, 45.68it/s]"
     ]
    },
    {
     "name": "stdout",
     "output_type": "stream",
     "text": [
      "money: him, them, it, able, ability, addition, way, even, work, taken\n",
      "lion: win, accepted, piece, writing, released, scene, size, brought, africa, followed\n",
      "africa: europe, china, india, america, north, east, end, germany, south, addition\n",
      "musician: actor, writer, singer, actress, author, addition, nine, born, painter, poet\n",
      "dance: music, rock, country, style, traditional, culture, beginning, actor, democratic, formed\n",
      "\n",
      "\n"
     ]
    },
    {
     "name": "stderr",
     "output_type": "stream",
     "text": [
      "21498it [05:28, 67.94it/s]"
     ]
    },
    {
     "name": "stdout",
     "output_type": "stream",
     "text": [
      "| epoch   8 | 21500/32580 batches | loss    1.330 \n"
     ]
    },
    {
     "name": "stderr",
     "output_type": "stream",
     "text": [
      "21512it [05:28, 45.96it/s]"
     ]
    },
    {
     "name": "stdout",
     "output_type": "stream",
     "text": [
      "money: him, them, it, able, ability, addition, way, even, work, taken\n",
      "lion: win, accepted, piece, writing, released, scene, size, brought, africa, followed\n",
      "africa: europe, china, india, america, north, east, end, germany, south, addition\n",
      "musician: actor, writer, singer, actress, author, addition, nine, born, painter, poet\n",
      "dance: music, rock, country, style, traditional, culture, beginning, actor, democratic, formed\n",
      "\n",
      "\n"
     ]
    },
    {
     "name": "stderr",
     "output_type": "stream",
     "text": [
      "21997it [05:35, 68.01it/s]"
     ]
    },
    {
     "name": "stdout",
     "output_type": "stream",
     "text": [
      "| epoch   8 | 22000/32580 batches | loss    1.333 \n"
     ]
    },
    {
     "name": "stderr",
     "output_type": "stream",
     "text": [
      "22011it [05:36, 46.17it/s]"
     ]
    },
    {
     "name": "stdout",
     "output_type": "stream",
     "text": [
      "money: him, them, it, able, ability, addition, way, even, work, taken\n",
      "lion: win, accepted, piece, writing, released, scene, size, brought, africa, followed\n",
      "africa: europe, china, india, america, north, east, end, germany, south, addition\n",
      "musician: actor, writer, singer, actress, author, addition, nine, born, painter, poet\n",
      "dance: music, rock, country, style, traditional, culture, beginning, actor, democratic, formed\n",
      "\n",
      "\n"
     ]
    },
    {
     "name": "stderr",
     "output_type": "stream",
     "text": [
      "22496it [05:43, 68.07it/s]"
     ]
    },
    {
     "name": "stdout",
     "output_type": "stream",
     "text": [
      "| epoch   8 | 22500/32580 batches | loss    1.334 \n"
     ]
    },
    {
     "name": "stderr",
     "output_type": "stream",
     "text": [
      "22509it [05:43, 44.58it/s]"
     ]
    },
    {
     "name": "stdout",
     "output_type": "stream",
     "text": [
      "money: him, them, it, able, ability, addition, way, even, work, taken\n",
      "lion: win, accepted, piece, writing, released, scene, size, brought, africa, followed\n",
      "africa: europe, china, india, america, north, east, end, germany, south, addition\n",
      "musician: actor, writer, singer, actress, author, addition, nine, born, painter, poet\n",
      "dance: music, rock, country, style, traditional, culture, beginning, actor, democratic, formed\n",
      "\n",
      "\n"
     ]
    },
    {
     "name": "stderr",
     "output_type": "stream",
     "text": [
      "22999it [05:51, 66.67it/s]"
     ]
    },
    {
     "name": "stdout",
     "output_type": "stream",
     "text": [
      "| epoch   8 | 23000/32580 batches | loss    1.327 \n"
     ]
    },
    {
     "name": "stderr",
     "output_type": "stream",
     "text": [
      "\r",
      "23006it [05:51, 40.13it/s]"
     ]
    },
    {
     "name": "stdout",
     "output_type": "stream",
     "text": [
      "money: him, them, it, able, ability, addition, way, even, work, taken\n",
      "lion: win, accepted, piece, writing, released, scene, size, brought, africa, followed\n",
      "africa: europe, china, india, america, north, east, end, germany, south, addition\n",
      "musician: actor, writer, singer, actress, author, addition, nine, born, painter, poet\n",
      "dance: music, rock, country, style, traditional, culture, beginning, actor, democratic, formed\n",
      "\n",
      "\n"
     ]
    },
    {
     "name": "stderr",
     "output_type": "stream",
     "text": [
      "23499it [05:58, 69.51it/s]"
     ]
    },
    {
     "name": "stdout",
     "output_type": "stream",
     "text": [
      "| epoch   8 | 23500/32580 batches | loss    1.335 \n"
     ]
    },
    {
     "name": "stderr",
     "output_type": "stream",
     "text": [
      "\r",
      "23506it [05:59, 40.66it/s]"
     ]
    },
    {
     "name": "stdout",
     "output_type": "stream",
     "text": [
      "money: him, them, it, able, ability, addition, way, even, work, taken\n",
      "lion: win, accepted, piece, writing, released, scene, size, brought, africa, followed\n",
      "africa: europe, china, india, america, north, east, end, germany, south, addition\n",
      "musician: actor, writer, singer, actress, author, addition, nine, born, painter, poet\n",
      "dance: music, rock, country, style, traditional, culture, beginning, actor, democratic, formed\n",
      "\n",
      "\n"
     ]
    },
    {
     "name": "stderr",
     "output_type": "stream",
     "text": [
      "24000it [06:06, 68.39it/s]"
     ]
    },
    {
     "name": "stdout",
     "output_type": "stream",
     "text": [
      "| epoch   8 | 24000/32580 batches | loss    1.334 \n"
     ]
    },
    {
     "name": "stderr",
     "output_type": "stream",
     "text": [
      "\r",
      "24007it [06:06, 40.82it/s]"
     ]
    },
    {
     "name": "stdout",
     "output_type": "stream",
     "text": [
      "money: him, them, it, able, ability, addition, way, even, work, taken\n",
      "lion: win, accepted, piece, writing, released, scene, size, brought, africa, followed\n",
      "africa: europe, china, india, america, north, east, end, germany, south, addition\n",
      "musician: actor, writer, singer, actress, author, addition, nine, born, painter, poet\n",
      "dance: music, rock, country, style, traditional, culture, beginning, actor, democratic, formed\n",
      "\n",
      "\n"
     ]
    },
    {
     "name": "stderr",
     "output_type": "stream",
     "text": [
      "24496it [06:13, 68.73it/s]"
     ]
    },
    {
     "name": "stdout",
     "output_type": "stream",
     "text": [
      "| epoch   8 | 24500/32580 batches | loss    1.332 \n"
     ]
    },
    {
     "name": "stderr",
     "output_type": "stream",
     "text": [
      "24509it [06:14, 45.15it/s]"
     ]
    },
    {
     "name": "stdout",
     "output_type": "stream",
     "text": [
      "money: him, them, it, able, ability, addition, way, even, work, taken\n",
      "lion: win, accepted, piece, writing, released, scene, size, brought, africa, followed\n",
      "africa: europe, china, india, america, north, east, end, germany, south, addition\n",
      "musician: actor, writer, singer, actress, author, addition, nine, born, painter, poet\n",
      "dance: music, rock, country, style, traditional, culture, beginning, actor, democratic, formed\n",
      "\n",
      "\n"
     ]
    },
    {
     "name": "stderr",
     "output_type": "stream",
     "text": [
      "24997it [06:21, 68.66it/s]"
     ]
    },
    {
     "name": "stdout",
     "output_type": "stream",
     "text": [
      "| epoch   8 | 25000/32580 batches | loss    1.330 \n"
     ]
    },
    {
     "name": "stderr",
     "output_type": "stream",
     "text": [
      "25011it [06:21, 46.00it/s]"
     ]
    },
    {
     "name": "stdout",
     "output_type": "stream",
     "text": [
      "money: him, them, it, able, ability, addition, way, even, work, taken\n",
      "lion: win, accepted, piece, writing, released, scene, size, brought, africa, followed\n",
      "africa: europe, china, india, america, north, east, end, germany, south, addition\n",
      "musician: actor, writer, singer, actress, author, addition, nine, born, painter, poet\n",
      "dance: music, rock, country, style, traditional, culture, beginning, actor, democratic, formed\n",
      "\n",
      "\n"
     ]
    },
    {
     "name": "stderr",
     "output_type": "stream",
     "text": [
      "25495it [06:28, 68.84it/s]"
     ]
    },
    {
     "name": "stdout",
     "output_type": "stream",
     "text": [
      "| epoch   8 | 25500/32580 batches | loss    1.327 \n"
     ]
    },
    {
     "name": "stderr",
     "output_type": "stream",
     "text": [
      "25508it [06:29, 44.68it/s]"
     ]
    },
    {
     "name": "stdout",
     "output_type": "stream",
     "text": [
      "money: him, them, it, able, ability, addition, way, even, work, taken\n",
      "lion: win, accepted, piece, writing, released, scene, size, brought, africa, followed\n",
      "africa: europe, china, india, america, north, east, end, germany, south, addition\n",
      "musician: actor, writer, singer, actress, author, addition, nine, born, painter, poet\n",
      "dance: music, rock, country, style, traditional, culture, beginning, actor, democratic, formed\n",
      "\n",
      "\n"
     ]
    },
    {
     "name": "stderr",
     "output_type": "stream",
     "text": [
      "25999it [06:36, 68.98it/s]"
     ]
    },
    {
     "name": "stdout",
     "output_type": "stream",
     "text": [
      "| epoch   8 | 26000/32580 batches | loss    1.329 \n"
     ]
    },
    {
     "name": "stderr",
     "output_type": "stream",
     "text": [
      "\r",
      "26006it [06:36, 40.05it/s]"
     ]
    },
    {
     "name": "stdout",
     "output_type": "stream",
     "text": [
      "money: him, them, it, able, ability, addition, way, even, work, taken\n",
      "lion: win, accepted, piece, writing, released, scene, size, brought, africa, followed\n",
      "africa: europe, china, india, america, north, east, end, germany, south, addition\n",
      "musician: actor, writer, singer, actress, author, addition, nine, born, painter, poet\n",
      "dance: music, rock, country, style, traditional, culture, beginning, actor, democratic, formed\n",
      "\n",
      "\n"
     ]
    },
    {
     "name": "stderr",
     "output_type": "stream",
     "text": [
      "26500it [06:43, 69.54it/s]"
     ]
    },
    {
     "name": "stdout",
     "output_type": "stream",
     "text": [
      "| epoch   8 | 26500/32580 batches | loss    1.325 \n"
     ]
    },
    {
     "name": "stderr",
     "output_type": "stream",
     "text": [
      "\r",
      "26507it [06:44, 40.57it/s]"
     ]
    },
    {
     "name": "stdout",
     "output_type": "stream",
     "text": [
      "money: him, them, it, able, ability, addition, way, even, work, taken\n",
      "lion: win, accepted, piece, writing, released, scene, size, brought, africa, followed\n",
      "africa: europe, china, india, america, north, east, end, germany, south, addition\n",
      "musician: actor, writer, singer, actress, author, addition, nine, born, painter, poet\n",
      "dance: music, rock, country, style, traditional, culture, beginning, actor, democratic, formed\n",
      "\n",
      "\n"
     ]
    },
    {
     "name": "stderr",
     "output_type": "stream",
     "text": [
      "26996it [06:51, 67.89it/s]"
     ]
    },
    {
     "name": "stdout",
     "output_type": "stream",
     "text": [
      "| epoch   8 | 27000/32580 batches | loss    1.331 \n"
     ]
    },
    {
     "name": "stderr",
     "output_type": "stream",
     "text": [
      "27009it [06:51, 44.89it/s]"
     ]
    },
    {
     "name": "stdout",
     "output_type": "stream",
     "text": [
      "money: him, them, it, able, ability, addition, way, even, work, taken\n",
      "lion: win, accepted, piece, writing, released, scene, size, brought, africa, followed\n",
      "africa: europe, china, india, america, north, east, end, germany, south, addition\n",
      "musician: actor, writer, singer, actress, author, addition, nine, born, painter, poet\n",
      "dance: music, rock, country, style, traditional, culture, beginning, actor, democratic, formed\n",
      "\n",
      "\n"
     ]
    },
    {
     "name": "stderr",
     "output_type": "stream",
     "text": [
      "27496it [06:58, 69.59it/s]"
     ]
    },
    {
     "name": "stdout",
     "output_type": "stream",
     "text": [
      "| epoch   8 | 27500/32580 batches | loss    1.330 \n"
     ]
    },
    {
     "name": "stderr",
     "output_type": "stream",
     "text": [
      "27509it [06:59, 44.81it/s]"
     ]
    },
    {
     "name": "stdout",
     "output_type": "stream",
     "text": [
      "money: him, them, it, able, ability, addition, way, even, work, taken\n",
      "lion: win, accepted, piece, writing, released, scene, size, brought, africa, followed\n",
      "africa: europe, china, india, america, north, east, end, germany, south, addition\n",
      "musician: actor, writer, singer, actress, author, addition, nine, born, painter, poet\n",
      "dance: music, rock, country, style, traditional, culture, beginning, actor, democratic, formed\n",
      "\n",
      "\n"
     ]
    },
    {
     "name": "stderr",
     "output_type": "stream",
     "text": [
      "28000it [07:06, 69.09it/s]"
     ]
    },
    {
     "name": "stdout",
     "output_type": "stream",
     "text": [
      "| epoch   8 | 28000/32580 batches | loss    1.328 \n"
     ]
    },
    {
     "name": "stderr",
     "output_type": "stream",
     "text": [
      "\r",
      "28007it [07:06, 40.38it/s]"
     ]
    },
    {
     "name": "stdout",
     "output_type": "stream",
     "text": [
      "money: him, them, it, able, ability, addition, way, even, work, taken\n",
      "lion: win, accepted, piece, writing, released, scene, size, brought, africa, followed\n",
      "africa: europe, china, india, america, north, east, end, germany, south, addition\n",
      "musician: actor, writer, singer, actress, author, addition, nine, born, painter, poet\n",
      "dance: music, rock, country, style, traditional, culture, beginning, actor, democratic, formed\n",
      "\n",
      "\n"
     ]
    },
    {
     "name": "stderr",
     "output_type": "stream",
     "text": [
      "28496it [07:16, 69.50it/s]"
     ]
    },
    {
     "name": "stdout",
     "output_type": "stream",
     "text": [
      "| epoch   8 | 28500/32580 batches | loss    1.329 \n"
     ]
    },
    {
     "name": "stderr",
     "output_type": "stream",
     "text": [
      "28510it [07:17, 46.82it/s]"
     ]
    },
    {
     "name": "stdout",
     "output_type": "stream",
     "text": [
      "money: him, them, it, able, ability, addition, way, even, work, taken\n",
      "lion: win, accepted, piece, writing, released, scene, size, brought, africa, followed\n",
      "africa: europe, china, india, america, north, east, end, germany, south, addition\n",
      "musician: actor, writer, singer, actress, author, addition, nine, born, painter, poet\n",
      "dance: music, rock, country, style, traditional, culture, beginning, actor, democratic, formed\n",
      "\n",
      "\n"
     ]
    },
    {
     "name": "stderr",
     "output_type": "stream",
     "text": [
      "28994it [07:24, 68.31it/s]"
     ]
    },
    {
     "name": "stdout",
     "output_type": "stream",
     "text": [
      "| epoch   8 | 29000/32580 batches | loss    1.328 \n"
     ]
    },
    {
     "name": "stderr",
     "output_type": "stream",
     "text": [
      "29007it [07:24, 42.72it/s]"
     ]
    },
    {
     "name": "stdout",
     "output_type": "stream",
     "text": [
      "money: him, them, it, able, ability, addition, way, even, work, taken\n",
      "lion: win, accepted, piece, writing, released, scene, size, brought, africa, followed\n",
      "africa: europe, china, india, america, north, east, end, germany, south, addition\n",
      "musician: actor, writer, singer, actress, author, addition, nine, born, painter, poet\n",
      "dance: music, rock, country, style, traditional, culture, beginning, actor, democratic, formed\n",
      "\n",
      "\n"
     ]
    },
    {
     "name": "stderr",
     "output_type": "stream",
     "text": [
      "29496it [07:31, 69.35it/s]"
     ]
    },
    {
     "name": "stdout",
     "output_type": "stream",
     "text": [
      "| epoch   8 | 29500/32580 batches | loss    1.334 \n"
     ]
    },
    {
     "name": "stderr",
     "output_type": "stream",
     "text": [
      "29510it [07:32, 45.91it/s]"
     ]
    },
    {
     "name": "stdout",
     "output_type": "stream",
     "text": [
      "money: him, them, it, able, ability, addition, way, even, work, taken\n",
      "lion: win, accepted, piece, writing, released, scene, size, brought, africa, followed\n",
      "africa: europe, china, india, america, north, east, end, germany, south, addition\n",
      "musician: actor, writer, singer, actress, author, addition, nine, born, painter, poet\n",
      "dance: music, rock, country, style, traditional, culture, beginning, actor, democratic, formed\n",
      "\n",
      "\n"
     ]
    },
    {
     "name": "stderr",
     "output_type": "stream",
     "text": [
      "29995it [07:39, 66.99it/s]"
     ]
    },
    {
     "name": "stdout",
     "output_type": "stream",
     "text": [
      "| epoch   8 | 30000/32580 batches | loss    1.331 \n"
     ]
    },
    {
     "name": "stderr",
     "output_type": "stream",
     "text": [
      "30008it [07:39, 43.84it/s]"
     ]
    },
    {
     "name": "stdout",
     "output_type": "stream",
     "text": [
      "money: him, them, it, able, ability, addition, way, even, work, taken\n",
      "lion: win, accepted, piece, writing, released, scene, size, brought, africa, followed\n",
      "africa: europe, china, india, america, north, east, end, germany, south, addition\n",
      "musician: actor, writer, singer, actress, author, addition, nine, born, painter, poet\n",
      "dance: music, rock, country, style, traditional, culture, beginning, actor, democratic, formed\n",
      "\n",
      "\n"
     ]
    },
    {
     "name": "stderr",
     "output_type": "stream",
     "text": [
      "30498it [07:47, 66.72it/s]"
     ]
    },
    {
     "name": "stdout",
     "output_type": "stream",
     "text": [
      "| epoch   8 | 30500/32580 batches | loss    1.332 \n"
     ]
    },
    {
     "name": "stderr",
     "output_type": "stream",
     "text": [
      "30512it [07:47, 45.36it/s]"
     ]
    },
    {
     "name": "stdout",
     "output_type": "stream",
     "text": [
      "money: him, them, it, able, ability, addition, way, even, work, taken\n",
      "lion: win, accepted, piece, writing, released, scene, size, brought, africa, followed\n",
      "africa: europe, china, india, america, north, east, end, germany, south, addition\n",
      "musician: actor, writer, singer, actress, author, addition, nine, born, painter, poet\n",
      "dance: music, rock, country, style, traditional, culture, beginning, actor, democratic, formed\n",
      "\n",
      "\n"
     ]
    },
    {
     "name": "stderr",
     "output_type": "stream",
     "text": [
      "30996it [07:54, 64.83it/s]"
     ]
    },
    {
     "name": "stdout",
     "output_type": "stream",
     "text": [
      "| epoch   8 | 31000/32580 batches | loss    1.334 \n"
     ]
    },
    {
     "name": "stderr",
     "output_type": "stream",
     "text": [
      "31009it [07:55, 44.28it/s]"
     ]
    },
    {
     "name": "stdout",
     "output_type": "stream",
     "text": [
      "money: him, them, it, able, ability, addition, way, even, work, taken\n",
      "lion: win, accepted, piece, writing, released, scene, size, brought, africa, followed\n",
      "africa: europe, china, india, america, north, east, end, germany, south, addition\n",
      "musician: actor, writer, singer, actress, author, addition, nine, born, painter, poet\n",
      "dance: music, rock, country, style, traditional, culture, beginning, actor, democratic, formed\n",
      "\n",
      "\n"
     ]
    },
    {
     "name": "stderr",
     "output_type": "stream",
     "text": [
      "31496it [08:02, 68.63it/s]"
     ]
    },
    {
     "name": "stdout",
     "output_type": "stream",
     "text": [
      "| epoch   8 | 31500/32580 batches | loss    1.330 \n"
     ]
    },
    {
     "name": "stderr",
     "output_type": "stream",
     "text": [
      "31510it [08:02, 46.31it/s]"
     ]
    },
    {
     "name": "stdout",
     "output_type": "stream",
     "text": [
      "money: him, them, it, able, ability, addition, way, even, work, taken\n",
      "lion: win, accepted, piece, writing, released, scene, size, brought, africa, followed\n",
      "africa: europe, china, india, america, north, east, end, germany, south, addition\n",
      "musician: actor, writer, singer, actress, author, addition, nine, born, painter, poet\n",
      "dance: music, rock, country, style, traditional, culture, beginning, actor, democratic, formed\n",
      "\n",
      "\n"
     ]
    },
    {
     "name": "stderr",
     "output_type": "stream",
     "text": [
      "31997it [08:09, 69.16it/s]"
     ]
    },
    {
     "name": "stdout",
     "output_type": "stream",
     "text": [
      "| epoch   8 | 32000/32580 batches | loss    1.330 \n"
     ]
    },
    {
     "name": "stderr",
     "output_type": "stream",
     "text": [
      "32011it [08:10, 45.27it/s]"
     ]
    },
    {
     "name": "stdout",
     "output_type": "stream",
     "text": [
      "money: him, them, it, able, ability, addition, way, even, work, taken\n",
      "lion: win, accepted, piece, writing, released, scene, size, brought, africa, followed\n",
      "africa: europe, china, india, america, north, east, end, germany, south, addition\n",
      "musician: actor, writer, singer, actress, author, addition, nine, born, painter, poet\n",
      "dance: music, rock, country, style, traditional, culture, beginning, actor, democratic, formed\n",
      "\n",
      "\n"
     ]
    },
    {
     "name": "stderr",
     "output_type": "stream",
     "text": [
      "32496it [08:17, 69.08it/s]"
     ]
    },
    {
     "name": "stdout",
     "output_type": "stream",
     "text": [
      "| epoch   8 | 32500/32580 batches | loss    1.332 \n"
     ]
    },
    {
     "name": "stderr",
     "output_type": "stream",
     "text": [
      "32510it [08:17, 46.42it/s]"
     ]
    },
    {
     "name": "stdout",
     "output_type": "stream",
     "text": [
      "money: him, them, it, able, ability, addition, way, even, work, taken\n",
      "lion: win, accepted, piece, writing, released, scene, size, brought, africa, followed\n",
      "africa: europe, china, india, america, north, east, end, germany, south, addition\n",
      "musician: actor, writer, singer, actress, author, addition, nine, born, painter, poet\n",
      "dance: music, rock, country, style, traditional, culture, beginning, actor, democratic, formed\n",
      "\n",
      "\n"
     ]
    },
    {
     "name": "stderr",
     "output_type": "stream",
     "text": [
      "32580it [08:19, 65.21it/s]\n",
      "0it [00:00, ?it/s]"
     ]
    },
    {
     "name": "stdout",
     "output_type": "stream",
     "text": [
      "| epoch   9 |     0/32580 batches | loss    1.373 \n"
     ]
    },
    {
     "name": "stderr",
     "output_type": "stream",
     "text": [
      "7it [00:01,  7.11it/s]"
     ]
    },
    {
     "name": "stdout",
     "output_type": "stream",
     "text": [
      "money: him, them, it, able, ability, addition, way, even, work, taken\n",
      "lion: win, accepted, piece, writing, released, scene, size, brought, africa, followed\n",
      "africa: europe, china, india, america, north, east, end, germany, south, addition\n",
      "musician: actor, writer, singer, actress, author, addition, nine, born, painter, poet\n",
      "dance: music, rock, country, style, traditional, culture, beginning, actor, democratic, formed\n",
      "\n",
      "\n"
     ]
    },
    {
     "name": "stderr",
     "output_type": "stream",
     "text": [
      "500it [00:08, 68.42it/s]"
     ]
    },
    {
     "name": "stdout",
     "output_type": "stream",
     "text": [
      "| epoch   9 |   500/32580 batches | loss    1.330 \n"
     ]
    },
    {
     "name": "stderr",
     "output_type": "stream",
     "text": [
      "\r",
      "507it [00:08, 40.87it/s]"
     ]
    },
    {
     "name": "stdout",
     "output_type": "stream",
     "text": [
      "money: him, them, it, able, ability, addition, way, even, work, taken\n",
      "lion: win, accepted, piece, writing, released, scene, size, brought, africa, followed\n",
      "africa: europe, china, india, america, north, east, end, germany, south, addition\n",
      "musician: actor, writer, singer, actress, author, addition, nine, born, painter, poet\n",
      "dance: music, rock, country, style, traditional, culture, beginning, actor, democratic, formed\n",
      "\n",
      "\n"
     ]
    },
    {
     "name": "stderr",
     "output_type": "stream",
     "text": [
      "998it [00:16, 68.39it/s]"
     ]
    },
    {
     "name": "stdout",
     "output_type": "stream",
     "text": [
      "| epoch   9 |  1000/32580 batches | loss    1.330 \n"
     ]
    },
    {
     "name": "stderr",
     "output_type": "stream",
     "text": [
      "1012it [00:16, 46.21it/s]"
     ]
    },
    {
     "name": "stdout",
     "output_type": "stream",
     "text": [
      "money: him, them, it, able, ability, addition, way, even, work, taken\n",
      "lion: win, accepted, piece, writing, released, scene, size, brought, africa, followed\n",
      "africa: europe, china, india, america, north, east, end, germany, south, addition\n",
      "musician: actor, writer, singer, actress, author, addition, nine, born, painter, poet\n",
      "dance: music, rock, country, style, traditional, culture, beginning, actor, democratic, formed\n",
      "\n",
      "\n"
     ]
    },
    {
     "name": "stderr",
     "output_type": "stream",
     "text": [
      "1494it [00:23, 67.95it/s]"
     ]
    },
    {
     "name": "stdout",
     "output_type": "stream",
     "text": [
      "| epoch   9 |  1500/32580 batches | loss    1.333 \n"
     ]
    },
    {
     "name": "stderr",
     "output_type": "stream",
     "text": [
      "1507it [00:23, 45.11it/s]"
     ]
    },
    {
     "name": "stdout",
     "output_type": "stream",
     "text": [
      "money: him, them, it, able, ability, addition, way, even, work, taken\n",
      "lion: win, accepted, piece, writing, released, scene, size, brought, africa, followed\n",
      "africa: europe, china, india, america, north, east, end, germany, south, addition\n",
      "musician: actor, writer, singer, actress, author, addition, nine, born, painter, poet\n",
      "dance: music, rock, country, style, traditional, culture, beginning, actor, democratic, formed\n",
      "\n",
      "\n"
     ]
    },
    {
     "name": "stderr",
     "output_type": "stream",
     "text": [
      "1994it [00:30, 68.86it/s]"
     ]
    },
    {
     "name": "stdout",
     "output_type": "stream",
     "text": [
      "| epoch   9 |  2000/32580 batches | loss    1.327 \n"
     ]
    },
    {
     "name": "stderr",
     "output_type": "stream",
     "text": [
      "2007it [00:31, 44.47it/s]"
     ]
    },
    {
     "name": "stdout",
     "output_type": "stream",
     "text": [
      "money: him, them, it, able, ability, addition, way, even, work, taken\n",
      "lion: win, accepted, piece, writing, released, scene, size, brought, africa, followed\n",
      "africa: europe, china, india, america, north, east, end, germany, south, addition\n",
      "musician: actor, writer, singer, actress, author, addition, nine, born, painter, poet\n",
      "dance: music, rock, country, style, traditional, culture, beginning, actor, democratic, formed\n",
      "\n",
      "\n"
     ]
    },
    {
     "name": "stderr",
     "output_type": "stream",
     "text": [
      "2500it [00:38, 67.83it/s]"
     ]
    },
    {
     "name": "stdout",
     "output_type": "stream",
     "text": [
      "| epoch   9 |  2500/32580 batches | loss    1.332 \n"
     ]
    },
    {
     "name": "stderr",
     "output_type": "stream",
     "text": [
      "\r",
      "2507it [00:38, 40.50it/s]"
     ]
    },
    {
     "name": "stdout",
     "output_type": "stream",
     "text": [
      "money: him, them, it, able, ability, addition, way, even, work, taken\n",
      "lion: win, accepted, piece, writing, released, scene, size, brought, africa, followed\n",
      "africa: europe, china, india, america, north, east, end, germany, south, addition\n",
      "musician: actor, writer, singer, actress, author, addition, nine, born, painter, poet\n",
      "dance: music, rock, country, style, traditional, culture, beginning, actor, democratic, formed\n",
      "\n",
      "\n"
     ]
    },
    {
     "name": "stderr",
     "output_type": "stream",
     "text": [
      "2998it [00:46, 68.33it/s]"
     ]
    },
    {
     "name": "stdout",
     "output_type": "stream",
     "text": [
      "| epoch   9 |  3000/32580 batches | loss    1.331 \n"
     ]
    },
    {
     "name": "stderr",
     "output_type": "stream",
     "text": [
      "3012it [00:46, 45.73it/s]"
     ]
    },
    {
     "name": "stdout",
     "output_type": "stream",
     "text": [
      "money: him, them, it, able, ability, addition, way, even, work, taken\n",
      "lion: win, accepted, piece, writing, released, scene, size, brought, africa, followed\n",
      "africa: europe, china, india, america, north, east, end, germany, south, addition\n",
      "musician: actor, writer, singer, actress, author, addition, nine, born, painter, poet\n",
      "dance: music, rock, country, style, traditional, culture, beginning, actor, democratic, formed\n",
      "\n",
      "\n"
     ]
    },
    {
     "name": "stderr",
     "output_type": "stream",
     "text": [
      "3498it [00:53, 68.11it/s]"
     ]
    },
    {
     "name": "stdout",
     "output_type": "stream",
     "text": [
      "| epoch   9 |  3500/32580 batches | loss    1.334 \n"
     ]
    },
    {
     "name": "stderr",
     "output_type": "stream",
     "text": [
      "3512it [00:54, 46.05it/s]"
     ]
    },
    {
     "name": "stdout",
     "output_type": "stream",
     "text": [
      "money: him, them, it, able, ability, addition, way, even, work, taken\n",
      "lion: win, accepted, piece, writing, released, scene, size, brought, africa, followed\n",
      "africa: europe, china, india, america, north, east, end, germany, south, addition\n",
      "musician: actor, writer, singer, actress, author, addition, nine, born, painter, poet\n",
      "dance: music, rock, country, style, traditional, culture, beginning, actor, democratic, formed\n",
      "\n",
      "\n"
     ]
    },
    {
     "name": "stderr",
     "output_type": "stream",
     "text": [
      "3995it [01:01, 67.61it/s]"
     ]
    },
    {
     "name": "stdout",
     "output_type": "stream",
     "text": [
      "| epoch   9 |  4000/32580 batches | loss    1.333 \n"
     ]
    },
    {
     "name": "stderr",
     "output_type": "stream",
     "text": [
      "4008it [01:01, 43.38it/s]"
     ]
    },
    {
     "name": "stdout",
     "output_type": "stream",
     "text": [
      "money: him, them, it, able, ability, addition, way, even, work, taken\n",
      "lion: win, accepted, piece, writing, released, scene, size, brought, africa, followed\n",
      "africa: europe, china, india, america, north, east, end, germany, south, addition\n",
      "musician: actor, writer, singer, actress, author, addition, nine, born, painter, poet\n",
      "dance: music, rock, country, style, traditional, culture, beginning, actor, democratic, formed\n",
      "\n",
      "\n"
     ]
    },
    {
     "name": "stderr",
     "output_type": "stream",
     "text": [
      "4495it [01:08, 69.41it/s]"
     ]
    },
    {
     "name": "stdout",
     "output_type": "stream",
     "text": [
      "| epoch   9 |  4500/32580 batches | loss    1.332 \n",
      "money: him, them, it, able, ability, addition, way, even, work, taken\n"
     ]
    },
    {
     "name": "stderr",
     "output_type": "stream",
     "text": [
      "4508it [01:09, 45.45it/s]"
     ]
    },
    {
     "name": "stdout",
     "output_type": "stream",
     "text": [
      "lion: win, accepted, piece, writing, released, scene, size, brought, africa, followed\n",
      "africa: europe, china, india, america, north, east, end, germany, south, addition\n",
      "musician: actor, writer, singer, actress, author, addition, nine, born, painter, poet\n",
      "dance: music, rock, country, style, traditional, culture, beginning, actor, democratic, formed\n",
      "\n",
      "\n"
     ]
    },
    {
     "name": "stderr",
     "output_type": "stream",
     "text": [
      "4995it [01:16, 69.08it/s]"
     ]
    },
    {
     "name": "stdout",
     "output_type": "stream",
     "text": [
      "| epoch   9 |  5000/32580 batches | loss    1.330 \n"
     ]
    },
    {
     "name": "stderr",
     "output_type": "stream",
     "text": [
      "5008it [01:16, 44.38it/s]"
     ]
    },
    {
     "name": "stdout",
     "output_type": "stream",
     "text": [
      "money: him, them, it, able, ability, addition, way, even, work, taken\n",
      "lion: win, accepted, piece, writing, released, scene, size, brought, africa, followed\n",
      "africa: europe, china, india, america, north, east, end, germany, south, addition\n",
      "musician: actor, writer, singer, actress, author, addition, nine, born, painter, poet\n",
      "dance: music, rock, country, style, traditional, culture, beginning, actor, democratic, formed\n",
      "\n",
      "\n"
     ]
    },
    {
     "name": "stderr",
     "output_type": "stream",
     "text": [
      "5496it [01:23, 67.85it/s]"
     ]
    },
    {
     "name": "stdout",
     "output_type": "stream",
     "text": [
      "| epoch   9 |  5500/32580 batches | loss    1.329 \n"
     ]
    },
    {
     "name": "stderr",
     "output_type": "stream",
     "text": [
      "5510it [01:24, 46.15it/s]"
     ]
    },
    {
     "name": "stdout",
     "output_type": "stream",
     "text": [
      "money: him, them, it, able, ability, addition, way, even, work, taken\n",
      "lion: win, accepted, piece, writing, released, scene, size, brought, africa, followed\n",
      "africa: europe, china, india, america, north, east, end, germany, south, addition\n",
      "musician: actor, writer, singer, actress, author, addition, nine, born, painter, poet\n",
      "dance: music, rock, country, style, traditional, culture, beginning, actor, democratic, formed\n",
      "\n",
      "\n"
     ]
    },
    {
     "name": "stderr",
     "output_type": "stream",
     "text": [
      "5995it [01:31, 68.66it/s]"
     ]
    },
    {
     "name": "stdout",
     "output_type": "stream",
     "text": [
      "| epoch   9 |  6000/32580 batches | loss    1.333 \n"
     ]
    },
    {
     "name": "stderr",
     "output_type": "stream",
     "text": [
      "6008it [01:31, 45.60it/s]"
     ]
    },
    {
     "name": "stdout",
     "output_type": "stream",
     "text": [
      "money: him, them, it, able, ability, addition, way, even, work, taken\n",
      "lion: win, accepted, piece, writing, released, scene, size, brought, africa, followed\n",
      "africa: europe, china, india, america, north, east, end, germany, south, addition\n",
      "musician: actor, writer, singer, actress, author, addition, nine, born, painter, poet\n",
      "dance: music, rock, country, style, traditional, culture, beginning, actor, democratic, formed\n",
      "\n",
      "\n"
     ]
    },
    {
     "name": "stderr",
     "output_type": "stream",
     "text": [
      "6498it [01:39, 68.55it/s]"
     ]
    },
    {
     "name": "stdout",
     "output_type": "stream",
     "text": [
      "| epoch   9 |  6500/32580 batches | loss    1.329 \n"
     ]
    },
    {
     "name": "stderr",
     "output_type": "stream",
     "text": [
      "6512it [01:39, 46.05it/s]"
     ]
    },
    {
     "name": "stdout",
     "output_type": "stream",
     "text": [
      "money: him, them, it, able, ability, addition, way, even, work, taken\n",
      "lion: win, accepted, piece, writing, released, scene, size, brought, africa, followed\n",
      "africa: europe, china, india, america, north, east, end, germany, south, addition\n",
      "musician: actor, writer, singer, actress, author, addition, nine, born, painter, poet\n",
      "dance: music, rock, country, style, traditional, culture, beginning, actor, democratic, formed\n",
      "\n",
      "\n"
     ]
    },
    {
     "name": "stderr",
     "output_type": "stream",
     "text": [
      "6996it [01:46, 69.10it/s]"
     ]
    },
    {
     "name": "stdout",
     "output_type": "stream",
     "text": [
      "| epoch   9 |  7000/32580 batches | loss    1.328 \n"
     ]
    },
    {
     "name": "stderr",
     "output_type": "stream",
     "text": [
      "7010it [01:47, 45.79it/s]"
     ]
    },
    {
     "name": "stdout",
     "output_type": "stream",
     "text": [
      "money: him, them, it, able, ability, addition, way, even, work, taken\n",
      "lion: win, accepted, piece, writing, released, scene, size, brought, africa, followed\n",
      "africa: europe, china, india, america, north, east, end, germany, south, addition\n",
      "musician: actor, writer, singer, actress, author, addition, nine, born, painter, poet\n",
      "dance: music, rock, country, style, traditional, culture, beginning, actor, democratic, formed\n",
      "\n",
      "\n"
     ]
    },
    {
     "name": "stderr",
     "output_type": "stream",
     "text": [
      "7500it [01:54, 67.39it/s]"
     ]
    },
    {
     "name": "stdout",
     "output_type": "stream",
     "text": [
      "| epoch   9 |  7500/32580 batches | loss    1.329 \n"
     ]
    },
    {
     "name": "stderr",
     "output_type": "stream",
     "text": [
      "\r",
      "7507it [01:54, 40.42it/s]"
     ]
    },
    {
     "name": "stdout",
     "output_type": "stream",
     "text": [
      "money: him, them, it, able, ability, addition, way, even, work, taken\n",
      "lion: win, accepted, piece, writing, released, scene, size, brought, africa, followed\n",
      "africa: europe, china, india, america, north, east, end, germany, south, addition\n",
      "musician: actor, writer, singer, actress, author, addition, nine, born, painter, poet\n",
      "dance: music, rock, country, style, traditional, culture, beginning, actor, democratic, formed\n",
      "\n",
      "\n"
     ]
    },
    {
     "name": "stderr",
     "output_type": "stream",
     "text": [
      "7998it [02:01, 68.06it/s]"
     ]
    },
    {
     "name": "stdout",
     "output_type": "stream",
     "text": [
      "| epoch   9 |  8000/32580 batches | loss    1.332 \n"
     ]
    },
    {
     "name": "stderr",
     "output_type": "stream",
     "text": [
      "8012it [02:02, 46.36it/s]"
     ]
    },
    {
     "name": "stdout",
     "output_type": "stream",
     "text": [
      "money: him, them, it, able, ability, addition, way, even, work, taken\n",
      "lion: win, accepted, piece, writing, released, scene, size, brought, africa, followed\n",
      "africa: europe, china, india, america, north, east, end, germany, south, addition\n",
      "musician: actor, writer, singer, actress, author, addition, nine, born, painter, poet\n",
      "dance: music, rock, country, style, traditional, culture, beginning, actor, democratic, formed\n",
      "\n",
      "\n"
     ]
    },
    {
     "name": "stderr",
     "output_type": "stream",
     "text": [
      "8499it [02:09, 69.88it/s]"
     ]
    },
    {
     "name": "stdout",
     "output_type": "stream",
     "text": [
      "| epoch   9 |  8500/32580 batches | loss    1.334 \n"
     ]
    },
    {
     "name": "stderr",
     "output_type": "stream",
     "text": [
      "\r",
      "8506it [02:09, 42.57it/s]"
     ]
    },
    {
     "name": "stdout",
     "output_type": "stream",
     "text": [
      "money: him, them, it, able, ability, addition, way, even, work, taken\n",
      "lion: win, accepted, piece, writing, released, scene, size, brought, africa, followed\n",
      "africa: europe, china, india, america, north, east, end, germany, south, addition\n",
      "musician: actor, writer, singer, actress, author, addition, nine, born, painter, poet\n",
      "dance: music, rock, country, style, traditional, culture, beginning, actor, democratic, formed\n",
      "\n",
      "\n"
     ]
    },
    {
     "name": "stderr",
     "output_type": "stream",
     "text": [
      "8998it [02:16, 68.01it/s]"
     ]
    },
    {
     "name": "stdout",
     "output_type": "stream",
     "text": [
      "| epoch   9 |  9000/32580 batches | loss    1.331 \n"
     ]
    },
    {
     "name": "stderr",
     "output_type": "stream",
     "text": [
      "9012it [02:17, 46.19it/s]"
     ]
    },
    {
     "name": "stdout",
     "output_type": "stream",
     "text": [
      "money: him, them, it, able, ability, addition, way, even, work, taken\n",
      "lion: win, accepted, piece, writing, released, scene, size, brought, africa, followed\n",
      "africa: europe, china, india, america, north, east, end, germany, south, addition\n",
      "musician: actor, writer, singer, actress, author, addition, nine, born, painter, poet\n",
      "dance: music, rock, country, style, traditional, culture, beginning, actor, democratic, formed\n",
      "\n",
      "\n"
     ]
    },
    {
     "name": "stderr",
     "output_type": "stream",
     "text": [
      "9498it [02:24, 67.08it/s]"
     ]
    },
    {
     "name": "stdout",
     "output_type": "stream",
     "text": [
      "| epoch   9 |  9500/32580 batches | loss    1.337 \n"
     ]
    },
    {
     "name": "stderr",
     "output_type": "stream",
     "text": [
      "9512it [02:24, 46.15it/s]"
     ]
    },
    {
     "name": "stdout",
     "output_type": "stream",
     "text": [
      "money: him, them, it, able, ability, addition, way, even, work, taken\n",
      "lion: win, accepted, piece, writing, released, scene, size, brought, africa, followed\n",
      "africa: europe, china, india, america, north, east, end, germany, south, addition\n",
      "musician: actor, writer, singer, actress, author, addition, nine, born, painter, poet\n",
      "dance: music, rock, country, style, traditional, culture, beginning, actor, democratic, formed\n",
      "\n",
      "\n"
     ]
    },
    {
     "name": "stderr",
     "output_type": "stream",
     "text": [
      "9999it [02:32, 69.60it/s]"
     ]
    },
    {
     "name": "stdout",
     "output_type": "stream",
     "text": [
      "| epoch   9 | 10000/32580 batches | loss    1.327 \n"
     ]
    },
    {
     "name": "stderr",
     "output_type": "stream",
     "text": [
      "\r",
      "10006it [02:32, 40.64it/s]"
     ]
    },
    {
     "name": "stdout",
     "output_type": "stream",
     "text": [
      "money: him, them, it, able, ability, addition, way, even, work, taken\n",
      "lion: win, accepted, piece, writing, released, scene, size, brought, africa, followed\n",
      "africa: europe, china, india, america, north, east, end, germany, south, addition\n",
      "musician: actor, writer, singer, actress, author, addition, nine, born, painter, poet\n",
      "dance: music, rock, country, style, traditional, culture, beginning, actor, democratic, formed\n",
      "\n",
      "\n"
     ]
    },
    {
     "name": "stderr",
     "output_type": "stream",
     "text": [
      "10499it [02:39, 67.89it/s]"
     ]
    },
    {
     "name": "stdout",
     "output_type": "stream",
     "text": [
      "| epoch   9 | 10500/32580 batches | loss    1.333 \n"
     ]
    },
    {
     "name": "stderr",
     "output_type": "stream",
     "text": [
      "\r",
      "10506it [02:39, 40.07it/s]"
     ]
    },
    {
     "name": "stdout",
     "output_type": "stream",
     "text": [
      "money: him, them, it, able, ability, addition, way, even, work, taken\n",
      "lion: win, accepted, piece, writing, released, scene, size, brought, africa, followed\n",
      "africa: europe, china, india, america, north, east, end, germany, south, addition\n",
      "musician: actor, writer, singer, actress, author, addition, nine, born, painter, poet\n",
      "dance: music, rock, country, style, traditional, culture, beginning, actor, democratic, formed\n",
      "\n",
      "\n"
     ]
    },
    {
     "name": "stderr",
     "output_type": "stream",
     "text": [
      "10997it [02:47, 68.19it/s]"
     ]
    },
    {
     "name": "stdout",
     "output_type": "stream",
     "text": [
      "| epoch   9 | 11000/32580 batches | loss    1.329 \n"
     ]
    },
    {
     "name": "stderr",
     "output_type": "stream",
     "text": [
      "11011it [02:47, 45.92it/s]"
     ]
    },
    {
     "name": "stdout",
     "output_type": "stream",
     "text": [
      "money: him, them, it, able, ability, addition, way, even, work, taken\n",
      "lion: win, accepted, piece, writing, released, scene, size, brought, africa, followed\n",
      "africa: europe, china, india, america, north, east, end, germany, south, addition\n",
      "musician: actor, writer, singer, actress, author, addition, nine, born, painter, poet\n",
      "dance: music, rock, country, style, traditional, culture, beginning, actor, democratic, formed\n",
      "\n",
      "\n"
     ]
    },
    {
     "name": "stderr",
     "output_type": "stream",
     "text": [
      "11499it [02:54, 68.45it/s]"
     ]
    },
    {
     "name": "stdout",
     "output_type": "stream",
     "text": [
      "| epoch   9 | 11500/32580 batches | loss    1.329 \n"
     ]
    },
    {
     "name": "stderr",
     "output_type": "stream",
     "text": [
      "\r",
      "11506it [02:55, 40.73it/s]"
     ]
    },
    {
     "name": "stdout",
     "output_type": "stream",
     "text": [
      "money: him, them, it, able, ability, addition, way, even, work, taken\n",
      "lion: win, accepted, piece, writing, released, scene, size, brought, africa, followed\n",
      "africa: europe, china, india, america, north, east, end, germany, south, addition\n",
      "musician: actor, writer, singer, actress, author, addition, nine, born, painter, poet\n",
      "dance: music, rock, country, style, traditional, culture, beginning, actor, democratic, formed\n",
      "\n",
      "\n"
     ]
    },
    {
     "name": "stderr",
     "output_type": "stream",
     "text": [
      "11997it [03:02, 69.96it/s]"
     ]
    },
    {
     "name": "stdout",
     "output_type": "stream",
     "text": [
      "| epoch   9 | 12000/32580 batches | loss    1.333 \n"
     ]
    },
    {
     "name": "stderr",
     "output_type": "stream",
     "text": [
      "12011it [03:02, 47.22it/s]"
     ]
    },
    {
     "name": "stdout",
     "output_type": "stream",
     "text": [
      "money: him, them, it, able, ability, addition, way, even, work, taken\n",
      "lion: win, accepted, piece, writing, released, scene, size, brought, africa, followed\n",
      "africa: europe, china, india, america, north, east, end, germany, south, addition\n",
      "musician: actor, writer, singer, actress, author, addition, nine, born, painter, poet\n",
      "dance: music, rock, country, style, traditional, culture, beginning, actor, democratic, formed\n",
      "\n",
      "\n"
     ]
    },
    {
     "name": "stderr",
     "output_type": "stream",
     "text": [
      "12498it [03:09, 68.91it/s]"
     ]
    },
    {
     "name": "stdout",
     "output_type": "stream",
     "text": [
      "| epoch   9 | 12500/32580 batches | loss    1.332 \n"
     ]
    },
    {
     "name": "stderr",
     "output_type": "stream",
     "text": [
      "12512it [03:10, 46.64it/s]"
     ]
    },
    {
     "name": "stdout",
     "output_type": "stream",
     "text": [
      "money: him, them, it, able, ability, addition, way, even, work, taken\n",
      "lion: win, accepted, piece, writing, released, scene, size, brought, africa, followed\n",
      "africa: europe, china, india, america, north, east, end, germany, south, addition\n",
      "musician: actor, writer, singer, actress, author, addition, nine, born, painter, poet\n",
      "dance: music, rock, country, style, traditional, culture, beginning, actor, democratic, formed\n",
      "\n",
      "\n"
     ]
    },
    {
     "name": "stderr",
     "output_type": "stream",
     "text": [
      "12996it [03:17, 68.54it/s]"
     ]
    },
    {
     "name": "stdout",
     "output_type": "stream",
     "text": [
      "| epoch   9 | 13000/32580 batches | loss    1.334 \n"
     ]
    },
    {
     "name": "stderr",
     "output_type": "stream",
     "text": [
      "13009it [03:17, 44.85it/s]"
     ]
    },
    {
     "name": "stdout",
     "output_type": "stream",
     "text": [
      "money: him, them, it, able, ability, addition, way, even, work, taken\n",
      "lion: win, accepted, piece, writing, released, scene, size, brought, africa, followed\n",
      "africa: europe, china, india, america, north, east, end, germany, south, addition\n",
      "musician: actor, writer, singer, actress, author, addition, nine, born, painter, poet\n",
      "dance: music, rock, country, style, traditional, culture, beginning, actor, democratic, formed\n",
      "\n",
      "\n"
     ]
    },
    {
     "name": "stderr",
     "output_type": "stream",
     "text": [
      "13499it [03:24, 68.33it/s]"
     ]
    },
    {
     "name": "stdout",
     "output_type": "stream",
     "text": [
      "| epoch   9 | 13500/32580 batches | loss    1.328 \n"
     ]
    },
    {
     "name": "stderr",
     "output_type": "stream",
     "text": [
      "13513it [03:25, 46.25it/s]"
     ]
    },
    {
     "name": "stdout",
     "output_type": "stream",
     "text": [
      "money: him, them, it, able, ability, addition, way, even, work, taken\n",
      "lion: win, accepted, piece, writing, released, scene, size, brought, africa, followed\n",
      "africa: europe, china, india, america, north, east, end, germany, south, addition\n",
      "musician: actor, writer, singer, actress, author, addition, nine, born, painter, poet\n",
      "dance: music, rock, country, style, traditional, culture, beginning, actor, democratic, formed\n",
      "\n",
      "\n"
     ]
    },
    {
     "name": "stderr",
     "output_type": "stream",
     "text": [
      "13994it [03:32, 68.19it/s]"
     ]
    },
    {
     "name": "stdout",
     "output_type": "stream",
     "text": [
      "| epoch   9 | 14000/32580 batches | loss    1.328 \n"
     ]
    },
    {
     "name": "stderr",
     "output_type": "stream",
     "text": [
      "14007it [03:32, 45.06it/s]"
     ]
    },
    {
     "name": "stdout",
     "output_type": "stream",
     "text": [
      "money: him, them, it, able, ability, addition, way, even, work, taken\n",
      "lion: win, accepted, piece, writing, released, scene, size, brought, africa, followed\n",
      "africa: europe, china, india, america, north, east, end, germany, south, addition\n",
      "musician: actor, writer, singer, actress, author, addition, nine, born, painter, poet\n",
      "dance: music, rock, country, style, traditional, culture, beginning, actor, democratic, formed\n",
      "\n",
      "\n"
     ]
    },
    {
     "name": "stderr",
     "output_type": "stream",
     "text": [
      "14499it [03:39, 67.07it/s]"
     ]
    },
    {
     "name": "stdout",
     "output_type": "stream",
     "text": [
      "| epoch   9 | 14500/32580 batches | loss    1.330 \n",
      "money: him, them, it, able, ability, addition, way, even, work, taken\n",
      "lion: win, accepted, piece, writing, released, scene, size, brought, africa, followed\n",
      "africa: europe, china, india, america, north, east, end, germany, south, addition\n",
      "musician: actor, writer, singer, actress, author, addition, nine, born, painter, poet\n",
      "dance: music, rock, country, style, traditional, culture, beginning, actor, democratic, formed\n"
     ]
    },
    {
     "name": "stderr",
     "output_type": "stream",
     "text": [
      "14513it [03:40, 46.64it/s]"
     ]
    },
    {
     "name": "stdout",
     "output_type": "stream",
     "text": [
      "\n",
      "\n"
     ]
    },
    {
     "name": "stderr",
     "output_type": "stream",
     "text": [
      "14998it [03:47, 67.81it/s]"
     ]
    },
    {
     "name": "stdout",
     "output_type": "stream",
     "text": [
      "| epoch   9 | 15000/32580 batches | loss    1.333 \n"
     ]
    },
    {
     "name": "stderr",
     "output_type": "stream",
     "text": [
      "15012it [03:47, 45.76it/s]"
     ]
    },
    {
     "name": "stdout",
     "output_type": "stream",
     "text": [
      "money: him, them, it, able, ability, addition, way, even, work, taken\n",
      "lion: win, accepted, piece, writing, released, scene, size, brought, africa, followed\n",
      "africa: europe, china, india, america, north, east, end, germany, south, addition\n",
      "musician: actor, writer, singer, actress, author, addition, nine, born, painter, poet\n",
      "dance: music, rock, country, style, traditional, culture, beginning, actor, democratic, formed\n",
      "\n",
      "\n"
     ]
    },
    {
     "name": "stderr",
     "output_type": "stream",
     "text": [
      "15496it [03:54, 68.37it/s]"
     ]
    },
    {
     "name": "stdout",
     "output_type": "stream",
     "text": [
      "| epoch   9 | 15500/32580 batches | loss    1.326 \n"
     ]
    },
    {
     "name": "stderr",
     "output_type": "stream",
     "text": [
      "15510it [03:55, 45.83it/s]"
     ]
    },
    {
     "name": "stdout",
     "output_type": "stream",
     "text": [
      "money: him, them, it, able, ability, addition, way, even, work, taken\n",
      "lion: win, accepted, piece, writing, released, scene, size, brought, africa, followed\n",
      "africa: europe, china, india, america, north, east, end, germany, south, addition\n",
      "musician: actor, writer, singer, actress, author, addition, nine, born, painter, poet\n",
      "dance: music, rock, country, style, traditional, culture, beginning, actor, democratic, formed\n",
      "\n",
      "\n"
     ]
    },
    {
     "name": "stderr",
     "output_type": "stream",
     "text": [
      "15997it [04:02, 65.22it/s]"
     ]
    },
    {
     "name": "stdout",
     "output_type": "stream",
     "text": [
      "| epoch   9 | 16000/32580 batches | loss    1.329 \n"
     ]
    },
    {
     "name": "stderr",
     "output_type": "stream",
     "text": [
      "16011it [04:02, 45.85it/s]"
     ]
    },
    {
     "name": "stdout",
     "output_type": "stream",
     "text": [
      "money: him, them, it, able, ability, addition, way, even, work, taken\n",
      "lion: win, accepted, piece, writing, released, scene, size, brought, africa, followed\n",
      "africa: europe, china, india, america, north, east, end, germany, south, addition\n",
      "musician: actor, writer, singer, actress, author, addition, nine, born, painter, poet\n",
      "dance: music, rock, country, style, traditional, culture, beginning, actor, democratic, formed\n",
      "\n",
      "\n"
     ]
    },
    {
     "name": "stderr",
     "output_type": "stream",
     "text": [
      "16494it [04:09, 68.82it/s]"
     ]
    },
    {
     "name": "stdout",
     "output_type": "stream",
     "text": [
      "| epoch   9 | 16500/32580 batches | loss    1.330 \n"
     ]
    },
    {
     "name": "stderr",
     "output_type": "stream",
     "text": [
      "16507it [04:10, 45.13it/s]"
     ]
    },
    {
     "name": "stdout",
     "output_type": "stream",
     "text": [
      "money: him, them, it, able, ability, addition, way, even, work, taken\n",
      "lion: win, accepted, piece, writing, released, scene, size, brought, africa, followed\n",
      "africa: europe, china, india, america, north, east, end, germany, south, addition\n",
      "musician: actor, writer, singer, actress, author, addition, nine, born, painter, poet\n",
      "dance: music, rock, country, style, traditional, culture, beginning, actor, democratic, formed\n",
      "\n",
      "\n"
     ]
    },
    {
     "name": "stderr",
     "output_type": "stream",
     "text": [
      "16998it [04:17, 68.75it/s]"
     ]
    },
    {
     "name": "stdout",
     "output_type": "stream",
     "text": [
      "| epoch   9 | 17000/32580 batches | loss    1.328 \n"
     ]
    },
    {
     "name": "stderr",
     "output_type": "stream",
     "text": [
      "17012it [04:17, 45.87it/s]"
     ]
    },
    {
     "name": "stdout",
     "output_type": "stream",
     "text": [
      "money: him, them, it, able, ability, addition, way, even, work, taken\n",
      "lion: win, accepted, piece, writing, released, scene, size, brought, africa, followed\n",
      "africa: europe, china, india, america, north, east, end, germany, south, addition\n",
      "musician: actor, writer, singer, actress, author, addition, nine, born, painter, poet\n",
      "dance: music, rock, country, style, traditional, culture, beginning, actor, democratic, formed\n",
      "\n",
      "\n"
     ]
    },
    {
     "name": "stderr",
     "output_type": "stream",
     "text": [
      "17498it [04:24, 69.46it/s]"
     ]
    },
    {
     "name": "stdout",
     "output_type": "stream",
     "text": [
      "| epoch   9 | 17500/32580 batches | loss    1.331 \n"
     ]
    },
    {
     "name": "stderr",
     "output_type": "stream",
     "text": [
      "17512it [04:25, 46.51it/s]"
     ]
    },
    {
     "name": "stdout",
     "output_type": "stream",
     "text": [
      "money: him, them, it, able, ability, addition, way, even, work, taken\n",
      "lion: win, accepted, piece, writing, released, scene, size, brought, africa, followed\n",
      "africa: europe, china, india, america, north, east, end, germany, south, addition\n",
      "musician: actor, writer, singer, actress, author, addition, nine, born, painter, poet\n",
      "dance: music, rock, country, style, traditional, culture, beginning, actor, democratic, formed\n",
      "\n",
      "\n"
     ]
    },
    {
     "name": "stderr",
     "output_type": "stream",
     "text": [
      "17998it [04:32, 68.71it/s]"
     ]
    },
    {
     "name": "stdout",
     "output_type": "stream",
     "text": [
      "| epoch   9 | 18000/32580 batches | loss    1.329 \n"
     ]
    },
    {
     "name": "stderr",
     "output_type": "stream",
     "text": [
      "18012it [04:32, 46.81it/s]"
     ]
    },
    {
     "name": "stdout",
     "output_type": "stream",
     "text": [
      "money: him, them, it, able, ability, addition, way, even, work, taken\n",
      "lion: win, accepted, piece, writing, released, scene, size, brought, africa, followed\n",
      "africa: europe, china, india, america, north, east, end, germany, south, addition\n",
      "musician: actor, writer, singer, actress, author, addition, nine, born, painter, poet\n",
      "dance: music, rock, country, style, traditional, culture, beginning, actor, democratic, formed\n",
      "\n",
      "\n"
     ]
    },
    {
     "name": "stderr",
     "output_type": "stream",
     "text": [
      "18495it [04:39, 69.46it/s]"
     ]
    },
    {
     "name": "stdout",
     "output_type": "stream",
     "text": [
      "| epoch   9 | 18500/32580 batches | loss    1.327 \n"
     ]
    },
    {
     "name": "stderr",
     "output_type": "stream",
     "text": [
      "18508it [04:40, 44.83it/s]"
     ]
    },
    {
     "name": "stdout",
     "output_type": "stream",
     "text": [
      "money: him, them, it, able, ability, addition, way, even, work, taken\n",
      "lion: win, accepted, piece, writing, released, scene, size, brought, africa, followed\n",
      "africa: europe, china, india, america, north, east, end, germany, south, addition\n",
      "musician: actor, writer, singer, actress, author, addition, nine, born, painter, poet\n",
      "dance: music, rock, country, style, traditional, culture, beginning, actor, democratic, formed\n",
      "\n",
      "\n"
     ]
    },
    {
     "name": "stderr",
     "output_type": "stream",
     "text": [
      "18998it [04:47, 67.51it/s]"
     ]
    },
    {
     "name": "stdout",
     "output_type": "stream",
     "text": [
      "| epoch   9 | 19000/32580 batches | loss    1.332 \n"
     ]
    },
    {
     "name": "stderr",
     "output_type": "stream",
     "text": [
      "19012it [04:47, 46.16it/s]"
     ]
    },
    {
     "name": "stdout",
     "output_type": "stream",
     "text": [
      "money: him, them, it, able, ability, addition, way, even, work, taken\n",
      "lion: win, accepted, piece, writing, released, scene, size, brought, africa, followed\n",
      "africa: europe, china, india, america, north, east, end, germany, south, addition\n",
      "musician: actor, writer, singer, actress, author, addition, nine, born, painter, poet\n",
      "dance: music, rock, country, style, traditional, culture, beginning, actor, democratic, formed\n",
      "\n",
      "\n"
     ]
    },
    {
     "name": "stderr",
     "output_type": "stream",
     "text": [
      "19497it [04:57, 64.50it/s]"
     ]
    },
    {
     "name": "stdout",
     "output_type": "stream",
     "text": [
      "| epoch   9 | 19500/32580 batches | loss    1.329 \n"
     ]
    },
    {
     "name": "stderr",
     "output_type": "stream",
     "text": [
      "19511it [04:58, 45.46it/s]"
     ]
    },
    {
     "name": "stdout",
     "output_type": "stream",
     "text": [
      "money: him, them, it, able, ability, addition, way, even, work, taken\n",
      "lion: win, accepted, piece, writing, released, scene, size, brought, africa, followed\n",
      "africa: europe, china, india, america, north, east, end, germany, south, addition\n",
      "musician: actor, writer, singer, actress, author, addition, nine, born, painter, poet\n",
      "dance: music, rock, country, style, traditional, culture, beginning, actor, democratic, formed\n",
      "\n",
      "\n"
     ]
    },
    {
     "name": "stderr",
     "output_type": "stream",
     "text": [
      "19996it [05:05, 69.13it/s]"
     ]
    },
    {
     "name": "stdout",
     "output_type": "stream",
     "text": [
      "| epoch   9 | 20000/32580 batches | loss    1.335 \n"
     ]
    },
    {
     "name": "stderr",
     "output_type": "stream",
     "text": [
      "20010it [05:05, 45.77it/s]"
     ]
    },
    {
     "name": "stdout",
     "output_type": "stream",
     "text": [
      "money: him, them, it, able, ability, addition, way, even, work, taken\n",
      "lion: win, accepted, piece, writing, released, scene, size, brought, africa, followed\n",
      "africa: europe, china, india, america, north, east, end, germany, south, addition\n",
      "musician: actor, writer, singer, actress, author, addition, nine, born, painter, poet\n",
      "dance: music, rock, country, style, traditional, culture, beginning, actor, democratic, formed\n",
      "\n",
      "\n"
     ]
    },
    {
     "name": "stderr",
     "output_type": "stream",
     "text": [
      "20495it [05:12, 68.53it/s]"
     ]
    },
    {
     "name": "stdout",
     "output_type": "stream",
     "text": [
      "| epoch   9 | 20500/32580 batches | loss    1.333 \n"
     ]
    },
    {
     "name": "stderr",
     "output_type": "stream",
     "text": [
      "20508it [05:13, 45.20it/s]"
     ]
    },
    {
     "name": "stdout",
     "output_type": "stream",
     "text": [
      "money: him, them, it, able, ability, addition, way, even, work, taken\n",
      "lion: win, accepted, piece, writing, released, scene, size, brought, africa, followed\n",
      "africa: europe, china, india, america, north, east, end, germany, south, addition\n",
      "musician: actor, writer, singer, actress, author, addition, nine, born, painter, poet\n",
      "dance: music, rock, country, style, traditional, culture, beginning, actor, democratic, formed\n",
      "\n",
      "\n"
     ]
    },
    {
     "name": "stderr",
     "output_type": "stream",
     "text": [
      "20994it [05:20, 69.03it/s]"
     ]
    },
    {
     "name": "stdout",
     "output_type": "stream",
     "text": [
      "| epoch   9 | 21000/32580 batches | loss    1.333 \n"
     ]
    },
    {
     "name": "stderr",
     "output_type": "stream",
     "text": [
      "21007it [05:20, 44.99it/s]"
     ]
    },
    {
     "name": "stdout",
     "output_type": "stream",
     "text": [
      "money: him, them, it, able, ability, addition, way, even, work, taken\n",
      "lion: win, accepted, piece, writing, released, scene, size, brought, africa, followed\n",
      "africa: europe, china, india, america, north, east, end, germany, south, addition\n",
      "musician: actor, writer, singer, actress, author, addition, nine, born, painter, poet\n",
      "dance: music, rock, country, style, traditional, culture, beginning, actor, democratic, formed\n",
      "\n",
      "\n"
     ]
    },
    {
     "name": "stderr",
     "output_type": "stream",
     "text": [
      "21499it [05:28, 68.28it/s]"
     ]
    },
    {
     "name": "stdout",
     "output_type": "stream",
     "text": [
      "| epoch   9 | 21500/32580 batches | loss    1.332 \n"
     ]
    },
    {
     "name": "stderr",
     "output_type": "stream",
     "text": [
      "\r",
      "21506it [05:28, 40.74it/s]"
     ]
    },
    {
     "name": "stdout",
     "output_type": "stream",
     "text": [
      "money: him, them, it, able, ability, addition, way, even, work, taken\n",
      "lion: win, accepted, piece, writing, released, scene, size, brought, africa, followed\n",
      "africa: europe, china, india, america, north, east, end, germany, south, addition\n",
      "musician: actor, writer, singer, actress, author, addition, nine, born, painter, poet\n",
      "dance: music, rock, country, style, traditional, culture, beginning, actor, democratic, formed\n",
      "\n",
      "\n"
     ]
    },
    {
     "name": "stderr",
     "output_type": "stream",
     "text": [
      "21996it [05:35, 68.35it/s]"
     ]
    },
    {
     "name": "stdout",
     "output_type": "stream",
     "text": [
      "| epoch   9 | 22000/32580 batches | loss    1.330 \n"
     ]
    },
    {
     "name": "stderr",
     "output_type": "stream",
     "text": [
      "22009it [05:36, 45.26it/s]"
     ]
    },
    {
     "name": "stdout",
     "output_type": "stream",
     "text": [
      "money: him, them, it, able, ability, addition, way, even, work, taken\n",
      "lion: win, accepted, piece, writing, released, scene, size, brought, africa, followed\n",
      "africa: europe, china, india, america, north, east, end, germany, south, addition\n",
      "musician: actor, writer, singer, actress, author, addition, nine, born, painter, poet\n",
      "dance: music, rock, country, style, traditional, culture, beginning, actor, democratic, formed\n",
      "\n",
      "\n"
     ]
    },
    {
     "name": "stderr",
     "output_type": "stream",
     "text": [
      "22499it [05:43, 69.45it/s]"
     ]
    },
    {
     "name": "stdout",
     "output_type": "stream",
     "text": [
      "| epoch   9 | 22500/32580 batches | loss    1.329 \n"
     ]
    },
    {
     "name": "stderr",
     "output_type": "stream",
     "text": [
      "\r",
      "22506it [05:43, 39.95it/s]"
     ]
    },
    {
     "name": "stdout",
     "output_type": "stream",
     "text": [
      "money: him, them, it, able, ability, addition, way, even, work, taken\n",
      "lion: win, accepted, piece, writing, released, scene, size, brought, africa, followed\n",
      "africa: europe, china, india, america, north, east, end, germany, south, addition\n",
      "musician: actor, writer, singer, actress, author, addition, nine, born, painter, poet\n",
      "dance: music, rock, country, style, traditional, culture, beginning, actor, democratic, formed\n",
      "\n",
      "\n"
     ]
    },
    {
     "name": "stderr",
     "output_type": "stream",
     "text": [
      "22998it [05:50, 67.35it/s]"
     ]
    },
    {
     "name": "stdout",
     "output_type": "stream",
     "text": [
      "| epoch   9 | 23000/32580 batches | loss    1.326 \n"
     ]
    },
    {
     "name": "stderr",
     "output_type": "stream",
     "text": [
      "23012it [05:51, 45.92it/s]"
     ]
    },
    {
     "name": "stdout",
     "output_type": "stream",
     "text": [
      "money: him, them, it, able, ability, addition, way, even, work, taken\n",
      "lion: win, accepted, piece, writing, released, scene, size, brought, africa, followed\n",
      "africa: europe, china, india, america, north, east, end, germany, south, addition\n",
      "musician: actor, writer, singer, actress, author, addition, nine, born, painter, poet\n",
      "dance: music, rock, country, style, traditional, culture, beginning, actor, democratic, formed\n",
      "\n",
      "\n"
     ]
    },
    {
     "name": "stderr",
     "output_type": "stream",
     "text": [
      "23496it [05:58, 68.62it/s]"
     ]
    },
    {
     "name": "stdout",
     "output_type": "stream",
     "text": [
      "| epoch   9 | 23500/32580 batches | loss    1.333 \n"
     ]
    },
    {
     "name": "stderr",
     "output_type": "stream",
     "text": [
      "23510it [05:58, 45.72it/s]"
     ]
    },
    {
     "name": "stdout",
     "output_type": "stream",
     "text": [
      "money: him, them, it, able, ability, addition, way, even, work, taken\n",
      "lion: win, accepted, piece, writing, released, scene, size, brought, africa, followed\n",
      "africa: europe, china, india, america, north, east, end, germany, south, addition\n",
      "musician: actor, writer, singer, actress, author, addition, nine, born, painter, poet\n",
      "dance: music, rock, country, style, traditional, culture, beginning, actor, democratic, formed\n",
      "\n",
      "\n"
     ]
    },
    {
     "name": "stderr",
     "output_type": "stream",
     "text": [
      "23996it [06:05, 67.04it/s]"
     ]
    },
    {
     "name": "stdout",
     "output_type": "stream",
     "text": [
      "| epoch   9 | 24000/32580 batches | loss    1.326 \n"
     ]
    },
    {
     "name": "stderr",
     "output_type": "stream",
     "text": [
      "24009it [06:06, 43.90it/s]"
     ]
    },
    {
     "name": "stdout",
     "output_type": "stream",
     "text": [
      "money: him, them, it, able, ability, addition, way, even, work, taken\n",
      "lion: win, accepted, piece, writing, released, scene, size, brought, africa, followed\n",
      "africa: europe, china, india, america, north, east, end, germany, south, addition\n",
      "musician: actor, writer, singer, actress, author, addition, nine, born, painter, poet\n",
      "dance: music, rock, country, style, traditional, culture, beginning, actor, democratic, formed\n",
      "\n",
      "\n"
     ]
    },
    {
     "name": "stderr",
     "output_type": "stream",
     "text": [
      "24499it [06:13, 69.22it/s]"
     ]
    },
    {
     "name": "stdout",
     "output_type": "stream",
     "text": [
      "| epoch   9 | 24500/32580 batches | loss    1.329 \n"
     ]
    },
    {
     "name": "stderr",
     "output_type": "stream",
     "text": [
      "\r",
      "24506it [06:13, 40.34it/s]"
     ]
    },
    {
     "name": "stdout",
     "output_type": "stream",
     "text": [
      "money: him, them, it, able, ability, addition, way, even, work, taken\n",
      "lion: win, accepted, piece, writing, released, scene, size, brought, africa, followed\n",
      "africa: europe, china, india, america, north, east, end, germany, south, addition\n",
      "musician: actor, writer, singer, actress, author, addition, nine, born, painter, poet\n",
      "dance: music, rock, country, style, traditional, culture, beginning, actor, democratic, formed\n",
      "\n",
      "\n"
     ]
    },
    {
     "name": "stderr",
     "output_type": "stream",
     "text": [
      "24996it [06:20, 65.64it/s]"
     ]
    },
    {
     "name": "stdout",
     "output_type": "stream",
     "text": [
      "| epoch   9 | 25000/32580 batches | loss    1.329 \n"
     ]
    },
    {
     "name": "stderr",
     "output_type": "stream",
     "text": [
      "25009it [06:21, 44.28it/s]"
     ]
    },
    {
     "name": "stdout",
     "output_type": "stream",
     "text": [
      "money: him, them, it, able, ability, addition, way, even, work, taken\n",
      "lion: win, accepted, piece, writing, released, scene, size, brought, africa, followed\n",
      "africa: europe, china, india, america, north, east, end, germany, south, addition\n",
      "musician: actor, writer, singer, actress, author, addition, nine, born, painter, poet\n",
      "dance: music, rock, country, style, traditional, culture, beginning, actor, democratic, formed\n",
      "\n",
      "\n"
     ]
    },
    {
     "name": "stderr",
     "output_type": "stream",
     "text": [
      "25495it [06:28, 67.00it/s]"
     ]
    },
    {
     "name": "stdout",
     "output_type": "stream",
     "text": [
      "| epoch   9 | 25500/32580 batches | loss    1.330 \n"
     ]
    },
    {
     "name": "stderr",
     "output_type": "stream",
     "text": [
      "25508it [06:28, 45.13it/s]"
     ]
    },
    {
     "name": "stdout",
     "output_type": "stream",
     "text": [
      "money: him, them, it, able, ability, addition, way, even, work, taken\n",
      "lion: win, accepted, piece, writing, released, scene, size, brought, africa, followed\n",
      "africa: europe, china, india, america, north, east, end, germany, south, addition\n",
      "musician: actor, writer, singer, actress, author, addition, nine, born, painter, poet\n",
      "dance: music, rock, country, style, traditional, culture, beginning, actor, democratic, formed\n",
      "\n",
      "\n"
     ]
    },
    {
     "name": "stderr",
     "output_type": "stream",
     "text": [
      "25997it [06:35, 68.51it/s]"
     ]
    },
    {
     "name": "stdout",
     "output_type": "stream",
     "text": [
      "| epoch   9 | 26000/32580 batches | loss    1.327 \n"
     ]
    },
    {
     "name": "stderr",
     "output_type": "stream",
     "text": [
      "26011it [06:36, 45.72it/s]"
     ]
    },
    {
     "name": "stdout",
     "output_type": "stream",
     "text": [
      "money: him, them, it, able, ability, addition, way, even, work, taken\n",
      "lion: win, accepted, piece, writing, released, scene, size, brought, africa, followed\n",
      "africa: europe, china, india, america, north, east, end, germany, south, addition\n",
      "musician: actor, writer, singer, actress, author, addition, nine, born, painter, poet\n",
      "dance: music, rock, country, style, traditional, culture, beginning, actor, democratic, formed\n",
      "\n",
      "\n"
     ]
    },
    {
     "name": "stderr",
     "output_type": "stream",
     "text": [
      "26500it [06:43, 68.30it/s]"
     ]
    },
    {
     "name": "stdout",
     "output_type": "stream",
     "text": [
      "| epoch   9 | 26500/32580 batches | loss    1.327 \n"
     ]
    },
    {
     "name": "stderr",
     "output_type": "stream",
     "text": [
      "\r",
      "26507it [06:43, 40.10it/s]"
     ]
    },
    {
     "name": "stdout",
     "output_type": "stream",
     "text": [
      "money: him, them, it, able, ability, addition, way, even, work, taken\n",
      "lion: win, accepted, piece, writing, released, scene, size, brought, africa, followed\n",
      "africa: europe, china, india, america, north, east, end, germany, south, addition\n",
      "musician: actor, writer, singer, actress, author, addition, nine, born, painter, poet\n",
      "dance: music, rock, country, style, traditional, culture, beginning, actor, democratic, formed\n",
      "\n",
      "\n"
     ]
    },
    {
     "name": "stderr",
     "output_type": "stream",
     "text": [
      "26994it [06:51, 69.14it/s]"
     ]
    },
    {
     "name": "stdout",
     "output_type": "stream",
     "text": [
      "| epoch   9 | 27000/32580 batches | loss    1.332 \n"
     ]
    },
    {
     "name": "stderr",
     "output_type": "stream",
     "text": [
      "27007it [06:51, 45.62it/s]"
     ]
    },
    {
     "name": "stdout",
     "output_type": "stream",
     "text": [
      "money: him, them, it, able, ability, addition, way, even, work, taken\n",
      "lion: win, accepted, piece, writing, released, scene, size, brought, africa, followed\n",
      "africa: europe, china, india, america, north, east, end, germany, south, addition\n",
      "musician: actor, writer, singer, actress, author, addition, nine, born, painter, poet\n",
      "dance: music, rock, country, style, traditional, culture, beginning, actor, democratic, formed\n",
      "\n",
      "\n"
     ]
    },
    {
     "name": "stderr",
     "output_type": "stream",
     "text": [
      "27494it [06:58, 68.76it/s]"
     ]
    },
    {
     "name": "stdout",
     "output_type": "stream",
     "text": [
      "| epoch   9 | 27500/32580 batches | loss    1.330 \n"
     ]
    },
    {
     "name": "stderr",
     "output_type": "stream",
     "text": [
      "27507it [06:59, 44.64it/s]"
     ]
    },
    {
     "name": "stdout",
     "output_type": "stream",
     "text": [
      "money: him, them, it, able, ability, addition, way, even, work, taken\n",
      "lion: win, accepted, piece, writing, released, scene, size, brought, africa, followed\n",
      "africa: europe, china, india, america, north, east, end, germany, south, addition\n",
      "musician: actor, writer, singer, actress, author, addition, nine, born, painter, poet\n",
      "dance: music, rock, country, style, traditional, culture, beginning, actor, democratic, formed\n",
      "\n",
      "\n"
     ]
    },
    {
     "name": "stderr",
     "output_type": "stream",
     "text": [
      "27999it [07:06, 67.98it/s]"
     ]
    },
    {
     "name": "stdout",
     "output_type": "stream",
     "text": [
      "| epoch   9 | 28000/32580 batches | loss    1.331 \n"
     ]
    },
    {
     "name": "stderr",
     "output_type": "stream",
     "text": [
      "\r",
      "28006it [07:06, 40.56it/s]"
     ]
    },
    {
     "name": "stdout",
     "output_type": "stream",
     "text": [
      "money: him, them, it, able, ability, addition, way, even, work, taken\n",
      "lion: win, accepted, piece, writing, released, scene, size, brought, africa, followed\n",
      "africa: europe, china, india, america, north, east, end, germany, south, addition\n",
      "musician: actor, writer, singer, actress, author, addition, nine, born, painter, poet\n",
      "dance: music, rock, country, style, traditional, culture, beginning, actor, democratic, formed\n",
      "\n",
      "\n"
     ]
    },
    {
     "name": "stderr",
     "output_type": "stream",
     "text": [
      "28498it [07:13, 68.68it/s]"
     ]
    },
    {
     "name": "stdout",
     "output_type": "stream",
     "text": [
      "| epoch   9 | 28500/32580 batches | loss    1.333 \n"
     ]
    },
    {
     "name": "stderr",
     "output_type": "stream",
     "text": [
      "28512it [07:14, 45.79it/s]"
     ]
    },
    {
     "name": "stdout",
     "output_type": "stream",
     "text": [
      "money: him, them, it, able, ability, addition, way, even, work, taken\n",
      "lion: win, accepted, piece, writing, released, scene, size, brought, africa, followed\n",
      "africa: europe, china, india, america, north, east, end, germany, south, addition\n",
      "musician: actor, writer, singer, actress, author, addition, nine, born, painter, poet\n",
      "dance: music, rock, country, style, traditional, culture, beginning, actor, democratic, formed\n",
      "\n",
      "\n"
     ]
    },
    {
     "name": "stderr",
     "output_type": "stream",
     "text": [
      "28996it [07:21, 68.70it/s]"
     ]
    },
    {
     "name": "stdout",
     "output_type": "stream",
     "text": [
      "| epoch   9 | 29000/32580 batches | loss    1.333 \n"
     ]
    },
    {
     "name": "stderr",
     "output_type": "stream",
     "text": [
      "29009it [07:21, 43.86it/s]"
     ]
    },
    {
     "name": "stdout",
     "output_type": "stream",
     "text": [
      "money: him, them, it, able, ability, addition, way, even, work, taken\n",
      "lion: win, accepted, piece, writing, released, scene, size, brought, africa, followed\n",
      "africa: europe, china, india, america, north, east, end, germany, south, addition\n",
      "musician: actor, writer, singer, actress, author, addition, nine, born, painter, poet\n",
      "dance: music, rock, country, style, traditional, culture, beginning, actor, democratic, formed\n",
      "\n",
      "\n"
     ]
    },
    {
     "name": "stderr",
     "output_type": "stream",
     "text": [
      "29494it [07:28, 68.44it/s]"
     ]
    },
    {
     "name": "stdout",
     "output_type": "stream",
     "text": [
      "| epoch   9 | 29500/32580 batches | loss    1.331 \n"
     ]
    },
    {
     "name": "stderr",
     "output_type": "stream",
     "text": [
      "29507it [07:29, 44.17it/s]"
     ]
    },
    {
     "name": "stdout",
     "output_type": "stream",
     "text": [
      "money: him, them, it, able, ability, addition, way, even, work, taken\n",
      "lion: win, accepted, piece, writing, released, scene, size, brought, africa, followed\n",
      "africa: europe, china, india, america, north, east, end, germany, south, addition\n",
      "musician: actor, writer, singer, actress, author, addition, nine, born, painter, poet\n",
      "dance: music, rock, country, style, traditional, culture, beginning, actor, democratic, formed\n",
      "\n",
      "\n"
     ]
    },
    {
     "name": "stderr",
     "output_type": "stream",
     "text": [
      "29997it [07:36, 62.89it/s]"
     ]
    },
    {
     "name": "stdout",
     "output_type": "stream",
     "text": [
      "| epoch   9 | 30000/32580 batches | loss    1.333 \n"
     ]
    },
    {
     "name": "stderr",
     "output_type": "stream",
     "text": [
      "30011it [07:37, 43.81it/s]"
     ]
    },
    {
     "name": "stdout",
     "output_type": "stream",
     "text": [
      "money: him, them, it, able, ability, addition, way, even, work, taken\n",
      "lion: win, accepted, piece, writing, released, scene, size, brought, africa, followed\n",
      "africa: europe, china, india, america, north, east, end, germany, south, addition\n",
      "musician: actor, writer, singer, actress, author, addition, nine, born, painter, poet\n",
      "dance: music, rock, country, style, traditional, culture, beginning, actor, democratic, formed\n",
      "\n",
      "\n"
     ]
    },
    {
     "name": "stderr",
     "output_type": "stream",
     "text": [
      "30494it [07:44, 62.88it/s]"
     ]
    },
    {
     "name": "stdout",
     "output_type": "stream",
     "text": [
      "| epoch   9 | 30500/32580 batches | loss    1.329 \n"
     ]
    },
    {
     "name": "stderr",
     "output_type": "stream",
     "text": [
      "30507it [07:45, 42.50it/s]"
     ]
    },
    {
     "name": "stdout",
     "output_type": "stream",
     "text": [
      "money: him, them, it, able, ability, addition, way, even, work, taken\n",
      "lion: win, accepted, piece, writing, released, scene, size, brought, africa, followed\n",
      "africa: europe, china, india, america, north, east, end, germany, south, addition\n",
      "musician: actor, writer, singer, actress, author, addition, nine, born, painter, poet\n",
      "dance: music, rock, country, style, traditional, culture, beginning, actor, democratic, formed\n",
      "\n",
      "\n"
     ]
    },
    {
     "name": "stderr",
     "output_type": "stream",
     "text": [
      "30996it [07:52, 68.09it/s]"
     ]
    },
    {
     "name": "stdout",
     "output_type": "stream",
     "text": [
      "| epoch   9 | 31000/32580 batches | loss    1.335 \n"
     ]
    },
    {
     "name": "stderr",
     "output_type": "stream",
     "text": [
      "31009it [07:53, 44.94it/s]"
     ]
    },
    {
     "name": "stdout",
     "output_type": "stream",
     "text": [
      "money: him, them, it, able, ability, addition, way, even, work, taken\n",
      "lion: win, accepted, piece, writing, released, scene, size, brought, africa, followed\n",
      "africa: europe, china, india, america, north, east, end, germany, south, addition\n",
      "musician: actor, writer, singer, actress, author, addition, nine, born, painter, poet\n",
      "dance: music, rock, country, style, traditional, culture, beginning, actor, democratic, formed\n",
      "\n",
      "\n"
     ]
    },
    {
     "name": "stderr",
     "output_type": "stream",
     "text": [
      "31499it [08:00, 68.80it/s]"
     ]
    },
    {
     "name": "stdout",
     "output_type": "stream",
     "text": [
      "| epoch   9 | 31500/32580 batches | loss    1.330 \n"
     ]
    },
    {
     "name": "stderr",
     "output_type": "stream",
     "text": [
      "31513it [08:00, 45.96it/s]"
     ]
    },
    {
     "name": "stdout",
     "output_type": "stream",
     "text": [
      "money: him, them, it, able, ability, addition, way, even, work, taken\n",
      "lion: win, accepted, piece, writing, released, scene, size, brought, africa, followed\n",
      "africa: europe, china, india, america, north, east, end, germany, south, addition\n",
      "musician: actor, writer, singer, actress, author, addition, nine, born, painter, poet\n",
      "dance: music, rock, country, style, traditional, culture, beginning, actor, democratic, formed\n",
      "\n",
      "\n"
     ]
    },
    {
     "name": "stderr",
     "output_type": "stream",
     "text": [
      "31999it [08:10, 67.43it/s]"
     ]
    },
    {
     "name": "stdout",
     "output_type": "stream",
     "text": [
      "| epoch   9 | 32000/32580 batches | loss    1.332 \n"
     ]
    },
    {
     "name": "stderr",
     "output_type": "stream",
     "text": [
      "\r",
      "32006it [08:11, 40.22it/s]"
     ]
    },
    {
     "name": "stdout",
     "output_type": "stream",
     "text": [
      "money: him, them, it, able, ability, addition, way, even, work, taken\n",
      "lion: win, accepted, piece, writing, released, scene, size, brought, africa, followed\n",
      "africa: europe, china, india, america, north, east, end, germany, south, addition\n",
      "musician: actor, writer, singer, actress, author, addition, nine, born, painter, poet\n",
      "dance: music, rock, country, style, traditional, culture, beginning, actor, democratic, formed\n",
      "\n",
      "\n"
     ]
    },
    {
     "name": "stderr",
     "output_type": "stream",
     "text": [
      "32496it [08:18, 65.24it/s]"
     ]
    },
    {
     "name": "stdout",
     "output_type": "stream",
     "text": [
      "| epoch   9 | 32500/32580 batches | loss    1.332 \n"
     ]
    },
    {
     "name": "stderr",
     "output_type": "stream",
     "text": [
      "32509it [08:18, 44.42it/s]"
     ]
    },
    {
     "name": "stdout",
     "output_type": "stream",
     "text": [
      "money: him, them, it, able, ability, addition, way, even, work, taken\n",
      "lion: win, accepted, piece, writing, released, scene, size, brought, africa, followed\n",
      "africa: europe, china, india, america, north, east, end, germany, south, addition\n",
      "musician: actor, writer, singer, actress, author, addition, nine, born, painter, poet\n",
      "dance: music, rock, country, style, traditional, culture, beginning, actor, democratic, formed\n",
      "\n",
      "\n"
     ]
    },
    {
     "name": "stderr",
     "output_type": "stream",
     "text": [
      "32580it [08:20, 65.06it/s]\n",
      "0it [00:00, ?it/s]"
     ]
    },
    {
     "name": "stdout",
     "output_type": "stream",
     "text": [
      "| epoch  10 |     0/32580 batches | loss    1.368 \n"
     ]
    },
    {
     "name": "stderr",
     "output_type": "stream",
     "text": [
      "6it [00:01,  5.98it/s]"
     ]
    },
    {
     "name": "stdout",
     "output_type": "stream",
     "text": [
      "money: him, them, it, able, ability, addition, way, even, work, taken\n",
      "lion: win, accepted, piece, writing, released, scene, size, brought, africa, followed\n",
      "africa: europe, china, india, america, north, east, end, germany, south, addition\n",
      "musician: actor, writer, singer, actress, author, addition, nine, born, painter, poet\n",
      "dance: music, rock, country, style, traditional, culture, beginning, actor, democratic, formed\n",
      "\n",
      "\n"
     ]
    },
    {
     "name": "stderr",
     "output_type": "stream",
     "text": [
      "494it [00:08, 68.65it/s]"
     ]
    },
    {
     "name": "stdout",
     "output_type": "stream",
     "text": [
      "| epoch  10 |   500/32580 batches | loss    1.333 \n"
     ]
    },
    {
     "name": "stderr",
     "output_type": "stream",
     "text": [
      "507it [00:08, 42.64it/s]"
     ]
    },
    {
     "name": "stdout",
     "output_type": "stream",
     "text": [
      "money: him, them, it, able, ability, addition, way, even, work, taken\n",
      "lion: win, accepted, piece, writing, released, scene, size, brought, africa, followed\n",
      "africa: europe, china, india, america, north, east, end, germany, south, addition\n",
      "musician: actor, writer, singer, actress, author, addition, nine, born, painter, poet\n",
      "dance: music, rock, country, style, traditional, culture, beginning, actor, democratic, formed\n",
      "\n",
      "\n"
     ]
    },
    {
     "name": "stderr",
     "output_type": "stream",
     "text": [
      "999it [00:16, 67.83it/s]"
     ]
    },
    {
     "name": "stdout",
     "output_type": "stream",
     "text": [
      "| epoch  10 |  1000/32580 batches | loss    1.329 \n"
     ]
    },
    {
     "name": "stderr",
     "output_type": "stream",
     "text": [
      "\r",
      "1006it [00:16, 39.85it/s]"
     ]
    },
    {
     "name": "stdout",
     "output_type": "stream",
     "text": [
      "money: him, them, it, able, ability, addition, way, even, work, taken\n",
      "lion: win, accepted, piece, writing, released, scene, size, brought, africa, followed\n",
      "africa: europe, china, india, america, north, east, end, germany, south, addition\n",
      "musician: actor, writer, singer, actress, author, addition, nine, born, painter, poet\n",
      "dance: music, rock, country, style, traditional, culture, beginning, actor, democratic, formed\n",
      "\n",
      "\n"
     ]
    },
    {
     "name": "stderr",
     "output_type": "stream",
     "text": [
      "1500it [00:23, 68.10it/s]"
     ]
    },
    {
     "name": "stdout",
     "output_type": "stream",
     "text": [
      "| epoch  10 |  1500/32580 batches | loss    1.328 \n"
     ]
    },
    {
     "name": "stderr",
     "output_type": "stream",
     "text": [
      "\r",
      "1507it [00:23, 40.17it/s]"
     ]
    },
    {
     "name": "stdout",
     "output_type": "stream",
     "text": [
      "money: him, them, it, able, ability, addition, way, even, work, taken\n",
      "lion: win, accepted, piece, writing, released, scene, size, brought, africa, followed\n",
      "africa: europe, china, india, america, north, east, end, germany, south, addition\n",
      "musician: actor, writer, singer, actress, author, addition, nine, born, painter, poet\n",
      "dance: music, rock, country, style, traditional, culture, beginning, actor, democratic, formed\n",
      "\n",
      "\n"
     ]
    },
    {
     "name": "stderr",
     "output_type": "stream",
     "text": [
      "1998it [00:31, 68.65it/s]"
     ]
    },
    {
     "name": "stdout",
     "output_type": "stream",
     "text": [
      "| epoch  10 |  2000/32580 batches | loss    1.333 \n"
     ]
    },
    {
     "name": "stderr",
     "output_type": "stream",
     "text": [
      "2012it [00:31, 46.35it/s]"
     ]
    },
    {
     "name": "stdout",
     "output_type": "stream",
     "text": [
      "money: him, them, it, able, ability, addition, way, even, work, taken\n",
      "lion: win, accepted, piece, writing, released, scene, size, brought, africa, followed\n",
      "africa: europe, china, india, america, north, east, end, germany, south, addition\n",
      "musician: actor, writer, singer, actress, author, addition, nine, born, painter, poet\n",
      "dance: music, rock, country, style, traditional, culture, beginning, actor, democratic, formed\n",
      "\n",
      "\n"
     ]
    },
    {
     "name": "stderr",
     "output_type": "stream",
     "text": [
      "2500it [00:38, 69.45it/s]"
     ]
    },
    {
     "name": "stdout",
     "output_type": "stream",
     "text": [
      "| epoch  10 |  2500/32580 batches | loss    1.332 \n"
     ]
    },
    {
     "name": "stderr",
     "output_type": "stream",
     "text": [
      "\r",
      "2507it [00:39, 40.97it/s]"
     ]
    },
    {
     "name": "stdout",
     "output_type": "stream",
     "text": [
      "money: him, them, it, able, ability, addition, way, even, work, taken\n",
      "lion: win, accepted, piece, writing, released, scene, size, brought, africa, followed\n",
      "africa: europe, china, india, america, north, east, end, germany, south, addition\n",
      "musician: actor, writer, singer, actress, author, addition, nine, born, painter, poet\n",
      "dance: music, rock, country, style, traditional, culture, beginning, actor, democratic, formed\n",
      "\n",
      "\n"
     ]
    },
    {
     "name": "stderr",
     "output_type": "stream",
     "text": [
      "2997it [00:46, 67.67it/s]"
     ]
    },
    {
     "name": "stdout",
     "output_type": "stream",
     "text": [
      "| epoch  10 |  3000/32580 batches | loss    1.332 \n"
     ]
    },
    {
     "name": "stderr",
     "output_type": "stream",
     "text": [
      "3011it [00:46, 45.90it/s]"
     ]
    },
    {
     "name": "stdout",
     "output_type": "stream",
     "text": [
      "money: him, them, it, able, ability, addition, way, even, work, taken\n",
      "lion: win, accepted, piece, writing, released, scene, size, brought, africa, followed\n",
      "africa: europe, china, india, america, north, east, end, germany, south, addition\n",
      "musician: actor, writer, singer, actress, author, addition, nine, born, painter, poet\n",
      "dance: music, rock, country, style, traditional, culture, beginning, actor, democratic, formed\n",
      "\n",
      "\n"
     ]
    },
    {
     "name": "stderr",
     "output_type": "stream",
     "text": [
      "3500it [00:53, 69.26it/s]"
     ]
    },
    {
     "name": "stdout",
     "output_type": "stream",
     "text": [
      "| epoch  10 |  3500/32580 batches | loss    1.334 \n"
     ]
    },
    {
     "name": "stderr",
     "output_type": "stream",
     "text": [
      "\r",
      "3507it [00:54, 40.69it/s]"
     ]
    },
    {
     "name": "stdout",
     "output_type": "stream",
     "text": [
      "money: him, them, it, able, ability, addition, way, even, work, taken\n",
      "lion: win, accepted, piece, writing, released, scene, size, brought, africa, followed\n",
      "africa: europe, china, india, america, north, east, end, germany, south, addition\n",
      "musician: actor, writer, singer, actress, author, addition, nine, born, painter, poet\n",
      "dance: music, rock, country, style, traditional, culture, beginning, actor, democratic, formed\n",
      "\n",
      "\n"
     ]
    },
    {
     "name": "stderr",
     "output_type": "stream",
     "text": [
      "3997it [01:01, 68.58it/s]"
     ]
    },
    {
     "name": "stdout",
     "output_type": "stream",
     "text": [
      "| epoch  10 |  4000/32580 batches | loss    1.334 \n"
     ]
    },
    {
     "name": "stderr",
     "output_type": "stream",
     "text": [
      "4011it [01:01, 45.98it/s]"
     ]
    },
    {
     "name": "stdout",
     "output_type": "stream",
     "text": [
      "money: him, them, it, able, ability, addition, way, even, work, taken\n",
      "lion: win, accepted, piece, writing, released, scene, size, brought, africa, followed\n",
      "africa: europe, china, india, america, north, east, end, germany, south, addition\n",
      "musician: actor, writer, singer, actress, author, addition, nine, born, painter, poet\n",
      "dance: music, rock, country, style, traditional, culture, beginning, actor, democratic, formed\n",
      "\n",
      "\n"
     ]
    },
    {
     "name": "stderr",
     "output_type": "stream",
     "text": [
      "4498it [01:08, 67.88it/s]"
     ]
    },
    {
     "name": "stdout",
     "output_type": "stream",
     "text": [
      "| epoch  10 |  4500/32580 batches | loss    1.335 \n"
     ]
    },
    {
     "name": "stderr",
     "output_type": "stream",
     "text": [
      "4512it [01:09, 45.30it/s]"
     ]
    },
    {
     "name": "stdout",
     "output_type": "stream",
     "text": [
      "money: him, them, it, able, ability, addition, way, even, work, taken\n",
      "lion: win, accepted, piece, writing, released, scene, size, brought, africa, followed\n",
      "africa: europe, china, india, america, north, east, end, germany, south, addition\n",
      "musician: actor, writer, singer, actress, author, addition, nine, born, painter, poet\n",
      "dance: music, rock, country, style, traditional, culture, beginning, actor, democratic, formed\n",
      "\n",
      "\n"
     ]
    },
    {
     "name": "stderr",
     "output_type": "stream",
     "text": [
      "4998it [01:16, 68.80it/s]"
     ]
    },
    {
     "name": "stdout",
     "output_type": "stream",
     "text": [
      "| epoch  10 |  5000/32580 batches | loss    1.332 \n"
     ]
    },
    {
     "name": "stderr",
     "output_type": "stream",
     "text": [
      "5012it [01:16, 46.20it/s]"
     ]
    },
    {
     "name": "stdout",
     "output_type": "stream",
     "text": [
      "money: him, them, it, able, ability, addition, way, even, work, taken\n",
      "lion: win, accepted, piece, writing, released, scene, size, brought, africa, followed\n",
      "africa: europe, china, india, america, north, east, end, germany, south, addition\n",
      "musician: actor, writer, singer, actress, author, addition, nine, born, painter, poet\n",
      "dance: music, rock, country, style, traditional, culture, beginning, actor, democratic, formed\n",
      "\n",
      "\n"
     ]
    },
    {
     "name": "stderr",
     "output_type": "stream",
     "text": [
      "5497it [01:23, 69.08it/s]"
     ]
    },
    {
     "name": "stdout",
     "output_type": "stream",
     "text": [
      "| epoch  10 |  5500/32580 batches | loss    1.331 \n"
     ]
    },
    {
     "name": "stderr",
     "output_type": "stream",
     "text": [
      "5511it [01:24, 45.26it/s]"
     ]
    },
    {
     "name": "stdout",
     "output_type": "stream",
     "text": [
      "money: him, them, it, able, ability, addition, way, even, work, taken\n",
      "lion: win, accepted, piece, writing, released, scene, size, brought, africa, followed\n",
      "africa: europe, china, india, america, north, east, end, germany, south, addition\n",
      "musician: actor, writer, singer, actress, author, addition, nine, born, painter, poet\n",
      "dance: music, rock, country, style, traditional, culture, beginning, actor, democratic, formed\n",
      "\n",
      "\n"
     ]
    },
    {
     "name": "stderr",
     "output_type": "stream",
     "text": [
      "5994it [01:31, 68.88it/s]"
     ]
    },
    {
     "name": "stdout",
     "output_type": "stream",
     "text": [
      "| epoch  10 |  6000/32580 batches | loss    1.331 \n"
     ]
    },
    {
     "name": "stderr",
     "output_type": "stream",
     "text": [
      "6007it [01:31, 44.31it/s]"
     ]
    },
    {
     "name": "stdout",
     "output_type": "stream",
     "text": [
      "money: him, them, it, able, ability, addition, way, even, work, taken\n",
      "lion: win, accepted, piece, writing, released, scene, size, brought, africa, followed\n",
      "africa: europe, china, india, america, north, east, end, germany, south, addition\n",
      "musician: actor, writer, singer, actress, author, addition, nine, born, painter, poet\n",
      "dance: music, rock, country, style, traditional, culture, beginning, actor, democratic, formed\n",
      "\n",
      "\n"
     ]
    },
    {
     "name": "stderr",
     "output_type": "stream",
     "text": [
      "6494it [01:38, 69.23it/s]"
     ]
    },
    {
     "name": "stdout",
     "output_type": "stream",
     "text": [
      "| epoch  10 |  6500/32580 batches | loss    1.332 \n"
     ]
    },
    {
     "name": "stderr",
     "output_type": "stream",
     "text": [
      "6507it [01:39, 45.25it/s]"
     ]
    },
    {
     "name": "stdout",
     "output_type": "stream",
     "text": [
      "money: him, them, it, able, ability, addition, way, even, work, taken\n",
      "lion: win, accepted, piece, writing, released, scene, size, brought, africa, followed\n",
      "africa: europe, china, india, america, north, east, end, germany, south, addition\n",
      "musician: actor, writer, singer, actress, author, addition, nine, born, painter, poet\n",
      "dance: music, rock, country, style, traditional, culture, beginning, actor, democratic, formed\n",
      "\n",
      "\n"
     ]
    },
    {
     "name": "stderr",
     "output_type": "stream",
     "text": [
      "6999it [01:46, 68.04it/s]"
     ]
    },
    {
     "name": "stdout",
     "output_type": "stream",
     "text": [
      "| epoch  10 |  7000/32580 batches | loss    1.331 \n"
     ]
    },
    {
     "name": "stderr",
     "output_type": "stream",
     "text": [
      "\r",
      "7006it [01:46, 40.63it/s]"
     ]
    },
    {
     "name": "stdout",
     "output_type": "stream",
     "text": [
      "money: him, them, it, able, ability, addition, way, even, work, taken\n",
      "lion: win, accepted, piece, writing, released, scene, size, brought, africa, followed\n",
      "africa: europe, china, india, america, north, east, end, germany, south, addition\n",
      "musician: actor, writer, singer, actress, author, addition, nine, born, painter, poet\n",
      "dance: music, rock, country, style, traditional, culture, beginning, actor, democratic, formed\n",
      "\n",
      "\n"
     ]
    },
    {
     "name": "stderr",
     "output_type": "stream",
     "text": [
      "7498it [01:54, 68.44it/s]"
     ]
    },
    {
     "name": "stdout",
     "output_type": "stream",
     "text": [
      "| epoch  10 |  7500/32580 batches | loss    1.331 \n"
     ]
    },
    {
     "name": "stderr",
     "output_type": "stream",
     "text": [
      "7512it [01:54, 45.67it/s]"
     ]
    },
    {
     "name": "stdout",
     "output_type": "stream",
     "text": [
      "money: him, them, it, able, ability, addition, way, even, work, taken\n",
      "lion: win, accepted, piece, writing, released, scene, size, brought, africa, followed\n",
      "africa: europe, china, india, america, north, east, end, germany, south, addition\n",
      "musician: actor, writer, singer, actress, author, addition, nine, born, painter, poet\n",
      "dance: music, rock, country, style, traditional, culture, beginning, actor, democratic, formed\n",
      "\n",
      "\n"
     ]
    },
    {
     "name": "stderr",
     "output_type": "stream",
     "text": [
      "7996it [02:01, 67.73it/s]"
     ]
    },
    {
     "name": "stdout",
     "output_type": "stream",
     "text": [
      "| epoch  10 |  8000/32580 batches | loss    1.332 \n"
     ]
    },
    {
     "name": "stderr",
     "output_type": "stream",
     "text": [
      "8009it [02:02, 44.36it/s]"
     ]
    },
    {
     "name": "stdout",
     "output_type": "stream",
     "text": [
      "money: him, them, it, able, ability, addition, way, even, work, taken\n",
      "lion: win, accepted, piece, writing, released, scene, size, brought, africa, followed\n",
      "africa: europe, china, india, america, north, east, end, germany, south, addition\n",
      "musician: actor, writer, singer, actress, author, addition, nine, born, painter, poet\n",
      "dance: music, rock, country, style, traditional, culture, beginning, actor, democratic, formed\n",
      "\n",
      "\n"
     ]
    },
    {
     "name": "stderr",
     "output_type": "stream",
     "text": [
      "8499it [02:09, 67.88it/s]"
     ]
    },
    {
     "name": "stdout",
     "output_type": "stream",
     "text": [
      "| epoch  10 |  8500/32580 batches | loss    1.332 \n"
     ]
    },
    {
     "name": "stderr",
     "output_type": "stream",
     "text": [
      "\r",
      "8506it [02:09, 40.22it/s]"
     ]
    },
    {
     "name": "stdout",
     "output_type": "stream",
     "text": [
      "money: him, them, it, able, ability, addition, way, even, work, taken\n",
      "lion: win, accepted, piece, writing, released, scene, size, brought, africa, followed\n",
      "africa: europe, china, india, america, north, east, end, germany, south, addition\n",
      "musician: actor, writer, singer, actress, author, addition, nine, born, painter, poet\n",
      "dance: music, rock, country, style, traditional, culture, beginning, actor, democratic, formed\n",
      "\n",
      "\n"
     ]
    },
    {
     "name": "stderr",
     "output_type": "stream",
     "text": [
      "8998it [02:16, 68.05it/s]"
     ]
    },
    {
     "name": "stdout",
     "output_type": "stream",
     "text": [
      "| epoch  10 |  9000/32580 batches | loss    1.329 \n"
     ]
    },
    {
     "name": "stderr",
     "output_type": "stream",
     "text": [
      "9012it [02:17, 46.45it/s]"
     ]
    },
    {
     "name": "stdout",
     "output_type": "stream",
     "text": [
      "money: him, them, it, able, ability, addition, way, even, work, taken\n",
      "lion: win, accepted, piece, writing, released, scene, size, brought, africa, followed\n",
      "africa: europe, china, india, america, north, east, end, germany, south, addition\n",
      "musician: actor, writer, singer, actress, author, addition, nine, born, painter, poet\n",
      "dance: music, rock, country, style, traditional, culture, beginning, actor, democratic, formed\n",
      "\n",
      "\n"
     ]
    },
    {
     "name": "stderr",
     "output_type": "stream",
     "text": [
      "9497it [02:24, 68.30it/s]"
     ]
    },
    {
     "name": "stdout",
     "output_type": "stream",
     "text": [
      "| epoch  10 |  9500/32580 batches | loss    1.328 \n"
     ]
    },
    {
     "name": "stderr",
     "output_type": "stream",
     "text": [
      "9511it [02:24, 45.97it/s]"
     ]
    },
    {
     "name": "stdout",
     "output_type": "stream",
     "text": [
      "money: him, them, it, able, ability, addition, way, even, work, taken\n",
      "lion: win, accepted, piece, writing, released, scene, size, brought, africa, followed\n",
      "africa: europe, china, india, america, north, east, end, germany, south, addition\n",
      "musician: actor, writer, singer, actress, author, addition, nine, born, painter, poet\n",
      "dance: music, rock, country, style, traditional, culture, beginning, actor, democratic, formed\n",
      "\n",
      "\n"
     ]
    },
    {
     "name": "stderr",
     "output_type": "stream",
     "text": [
      "9997it [02:32, 69.42it/s]"
     ]
    },
    {
     "name": "stdout",
     "output_type": "stream",
     "text": [
      "| epoch  10 | 10000/32580 batches | loss    1.328 \n"
     ]
    },
    {
     "name": "stderr",
     "output_type": "stream",
     "text": [
      "10011it [02:32, 47.06it/s]"
     ]
    },
    {
     "name": "stdout",
     "output_type": "stream",
     "text": [
      "money: him, them, it, able, ability, addition, way, even, work, taken\n",
      "lion: win, accepted, piece, writing, released, scene, size, brought, africa, followed\n",
      "africa: europe, china, india, america, north, east, end, germany, south, addition\n",
      "musician: actor, writer, singer, actress, author, addition, nine, born, painter, poet\n",
      "dance: music, rock, country, style, traditional, culture, beginning, actor, democratic, formed\n",
      "\n",
      "\n"
     ]
    },
    {
     "name": "stderr",
     "output_type": "stream",
     "text": [
      "10495it [02:39, 68.74it/s]"
     ]
    },
    {
     "name": "stdout",
     "output_type": "stream",
     "text": [
      "| epoch  10 | 10500/32580 batches | loss    1.330 \n"
     ]
    },
    {
     "name": "stderr",
     "output_type": "stream",
     "text": [
      "10508it [02:39, 44.25it/s]"
     ]
    },
    {
     "name": "stdout",
     "output_type": "stream",
     "text": [
      "money: him, them, it, able, ability, addition, way, even, work, taken\n",
      "lion: win, accepted, piece, writing, released, scene, size, brought, africa, followed\n",
      "africa: europe, china, india, america, north, east, end, germany, south, addition\n",
      "musician: actor, writer, singer, actress, author, addition, nine, born, painter, poet\n",
      "dance: music, rock, country, style, traditional, culture, beginning, actor, democratic, formed\n",
      "\n",
      "\n"
     ]
    },
    {
     "name": "stderr",
     "output_type": "stream",
     "text": [
      "10994it [02:47, 68.52it/s]"
     ]
    },
    {
     "name": "stdout",
     "output_type": "stream",
     "text": [
      "| epoch  10 | 11000/32580 batches | loss    1.328 \n"
     ]
    },
    {
     "name": "stderr",
     "output_type": "stream",
     "text": [
      "11007it [02:47, 45.27it/s]"
     ]
    },
    {
     "name": "stdout",
     "output_type": "stream",
     "text": [
      "money: him, them, it, able, ability, addition, way, even, work, taken\n",
      "lion: win, accepted, piece, writing, released, scene, size, brought, africa, followed\n",
      "africa: europe, china, india, america, north, east, end, germany, south, addition\n",
      "musician: actor, writer, singer, actress, author, addition, nine, born, painter, poet\n",
      "dance: music, rock, country, style, traditional, culture, beginning, actor, democratic, formed\n",
      "\n",
      "\n"
     ]
    },
    {
     "name": "stderr",
     "output_type": "stream",
     "text": [
      "11496it [02:54, 67.58it/s]"
     ]
    },
    {
     "name": "stdout",
     "output_type": "stream",
     "text": [
      "| epoch  10 | 11500/32580 batches | loss    1.333 \n"
     ]
    },
    {
     "name": "stderr",
     "output_type": "stream",
     "text": [
      "11510it [02:55, 45.96it/s]"
     ]
    },
    {
     "name": "stdout",
     "output_type": "stream",
     "text": [
      "money: him, them, it, able, ability, addition, way, even, work, taken\n",
      "lion: win, accepted, piece, writing, released, scene, size, brought, africa, followed\n",
      "africa: europe, china, india, america, north, east, end, germany, south, addition\n",
      "musician: actor, writer, singer, actress, author, addition, nine, born, painter, poet\n",
      "dance: music, rock, country, style, traditional, culture, beginning, actor, democratic, formed\n",
      "\n",
      "\n"
     ]
    },
    {
     "name": "stderr",
     "output_type": "stream",
     "text": [
      "11994it [03:02, 69.44it/s]"
     ]
    },
    {
     "name": "stdout",
     "output_type": "stream",
     "text": [
      "| epoch  10 | 12000/32580 batches | loss    1.328 \n"
     ]
    },
    {
     "name": "stderr",
     "output_type": "stream",
     "text": [
      "12007it [03:02, 43.08it/s]"
     ]
    },
    {
     "name": "stdout",
     "output_type": "stream",
     "text": [
      "money: him, them, it, able, ability, addition, way, even, work, taken\n",
      "lion: win, accepted, piece, writing, released, scene, size, brought, africa, followed\n",
      "africa: europe, china, india, america, north, east, end, germany, south, addition\n",
      "musician: actor, writer, singer, actress, author, addition, nine, born, painter, poet\n",
      "dance: music, rock, country, style, traditional, culture, beginning, actor, democratic, formed\n",
      "\n",
      "\n"
     ]
    },
    {
     "name": "stderr",
     "output_type": "stream",
     "text": [
      "12494it [03:09, 69.41it/s]"
     ]
    },
    {
     "name": "stdout",
     "output_type": "stream",
     "text": [
      "| epoch  10 | 12500/32580 batches | loss    1.334 \n"
     ]
    },
    {
     "name": "stderr",
     "output_type": "stream",
     "text": [
      "12507it [03:10, 44.97it/s]"
     ]
    },
    {
     "name": "stdout",
     "output_type": "stream",
     "text": [
      "money: him, them, it, able, ability, addition, way, even, work, taken\n",
      "lion: win, accepted, piece, writing, released, scene, size, brought, africa, followed\n",
      "africa: europe, china, india, america, north, east, end, germany, south, addition\n",
      "musician: actor, writer, singer, actress, author, addition, nine, born, painter, poet\n",
      "dance: music, rock, country, style, traditional, culture, beginning, actor, democratic, formed\n",
      "\n",
      "\n"
     ]
    },
    {
     "name": "stderr",
     "output_type": "stream",
     "text": [
      "13000it [03:17, 69.11it/s]"
     ]
    },
    {
     "name": "stdout",
     "output_type": "stream",
     "text": [
      "| epoch  10 | 13000/32580 batches | loss    1.332 \n"
     ]
    },
    {
     "name": "stderr",
     "output_type": "stream",
     "text": [
      "\r",
      "13007it [03:17, 40.72it/s]"
     ]
    },
    {
     "name": "stdout",
     "output_type": "stream",
     "text": [
      "money: him, them, it, able, ability, addition, way, even, work, taken\n",
      "lion: win, accepted, piece, writing, released, scene, size, brought, africa, followed\n",
      "africa: europe, china, india, america, north, east, end, germany, south, addition\n",
      "musician: actor, writer, singer, actress, author, addition, nine, born, painter, poet\n",
      "dance: music, rock, country, style, traditional, culture, beginning, actor, democratic, formed\n",
      "\n",
      "\n"
     ]
    },
    {
     "name": "stderr",
     "output_type": "stream",
     "text": [
      "13500it [03:24, 67.49it/s]"
     ]
    },
    {
     "name": "stdout",
     "output_type": "stream",
     "text": [
      "| epoch  10 | 13500/32580 batches | loss    1.333 \n"
     ]
    },
    {
     "name": "stderr",
     "output_type": "stream",
     "text": [
      "\r",
      "13507it [03:25, 40.65it/s]"
     ]
    },
    {
     "name": "stdout",
     "output_type": "stream",
     "text": [
      "money: him, them, it, able, ability, addition, way, even, work, taken\n",
      "lion: win, accepted, piece, writing, released, scene, size, brought, africa, followed\n",
      "africa: europe, china, india, america, north, east, end, germany, south, addition\n",
      "musician: actor, writer, singer, actress, author, addition, nine, born, painter, poet\n",
      "dance: music, rock, country, style, traditional, culture, beginning, actor, democratic, formed\n",
      "\n",
      "\n"
     ]
    },
    {
     "name": "stderr",
     "output_type": "stream",
     "text": [
      "13996it [03:32, 69.25it/s]"
     ]
    },
    {
     "name": "stdout",
     "output_type": "stream",
     "text": [
      "| epoch  10 | 14000/32580 batches | loss    1.327 \n"
     ]
    },
    {
     "name": "stderr",
     "output_type": "stream",
     "text": [
      "14009it [03:32, 45.93it/s]"
     ]
    },
    {
     "name": "stdout",
     "output_type": "stream",
     "text": [
      "money: him, them, it, able, ability, addition, way, even, work, taken\n",
      "lion: win, accepted, piece, writing, released, scene, size, brought, africa, followed\n",
      "africa: europe, china, india, america, north, east, end, germany, south, addition\n",
      "musician: actor, writer, singer, actress, author, addition, nine, born, painter, poet\n",
      "dance: music, rock, country, style, traditional, culture, beginning, actor, democratic, formed\n",
      "\n",
      "\n"
     ]
    },
    {
     "name": "stderr",
     "output_type": "stream",
     "text": [
      "14499it [03:40, 66.96it/s]"
     ]
    },
    {
     "name": "stdout",
     "output_type": "stream",
     "text": [
      "| epoch  10 | 14500/32580 batches | loss    1.331 \n"
     ]
    },
    {
     "name": "stderr",
     "output_type": "stream",
     "text": [
      "14513it [03:40, 45.22it/s]"
     ]
    },
    {
     "name": "stdout",
     "output_type": "stream",
     "text": [
      "money: him, them, it, able, ability, addition, way, even, work, taken\n",
      "lion: win, accepted, piece, writing, released, scene, size, brought, africa, followed\n",
      "africa: europe, china, india, america, north, east, end, germany, south, addition\n",
      "musician: actor, writer, singer, actress, author, addition, nine, born, painter, poet\n",
      "dance: music, rock, country, style, traditional, culture, beginning, actor, democratic, formed\n",
      "\n",
      "\n"
     ]
    },
    {
     "name": "stderr",
     "output_type": "stream",
     "text": [
      "14998it [03:47, 68.75it/s]"
     ]
    },
    {
     "name": "stdout",
     "output_type": "stream",
     "text": [
      "| epoch  10 | 15000/32580 batches | loss    1.330 \n"
     ]
    },
    {
     "name": "stderr",
     "output_type": "stream",
     "text": [
      "15012it [03:47, 46.59it/s]"
     ]
    },
    {
     "name": "stdout",
     "output_type": "stream",
     "text": [
      "money: him, them, it, able, ability, addition, way, even, work, taken\n",
      "lion: win, accepted, piece, writing, released, scene, size, brought, africa, followed\n",
      "africa: europe, china, india, america, north, east, end, germany, south, addition\n",
      "musician: actor, writer, singer, actress, author, addition, nine, born, painter, poet\n",
      "dance: music, rock, country, style, traditional, culture, beginning, actor, democratic, formed\n",
      "\n",
      "\n"
     ]
    },
    {
     "name": "stderr",
     "output_type": "stream",
     "text": [
      "15496it [03:55, 68.64it/s]"
     ]
    },
    {
     "name": "stdout",
     "output_type": "stream",
     "text": [
      "| epoch  10 | 15500/32580 batches | loss    1.326 \n"
     ]
    },
    {
     "name": "stderr",
     "output_type": "stream",
     "text": [
      "15510it [03:55, 45.28it/s]"
     ]
    },
    {
     "name": "stdout",
     "output_type": "stream",
     "text": [
      "money: him, them, it, able, ability, addition, way, even, work, taken\n",
      "lion: win, accepted, piece, writing, released, scene, size, brought, africa, followed\n",
      "africa: europe, china, india, america, north, east, end, germany, south, addition\n",
      "musician: actor, writer, singer, actress, author, addition, nine, born, painter, poet\n",
      "dance: music, rock, country, style, traditional, culture, beginning, actor, democratic, formed\n",
      "\n",
      "\n"
     ]
    },
    {
     "name": "stderr",
     "output_type": "stream",
     "text": [
      "15994it [04:02, 68.52it/s]"
     ]
    },
    {
     "name": "stdout",
     "output_type": "stream",
     "text": [
      "| epoch  10 | 16000/32580 batches | loss    1.326 \n"
     ]
    },
    {
     "name": "stderr",
     "output_type": "stream",
     "text": [
      "16007it [04:02, 45.51it/s]"
     ]
    },
    {
     "name": "stdout",
     "output_type": "stream",
     "text": [
      "money: him, them, it, able, ability, addition, way, even, work, taken\n",
      "lion: win, accepted, piece, writing, released, scene, size, brought, africa, followed\n",
      "africa: europe, china, india, america, north, east, end, germany, south, addition\n",
      "musician: actor, writer, singer, actress, author, addition, nine, born, painter, poet\n",
      "dance: music, rock, country, style, traditional, culture, beginning, actor, democratic, formed\n",
      "\n",
      "\n"
     ]
    },
    {
     "name": "stderr",
     "output_type": "stream",
     "text": [
      "16497it [04:10, 68.44it/s]"
     ]
    },
    {
     "name": "stdout",
     "output_type": "stream",
     "text": [
      "| epoch  10 | 16500/32580 batches | loss    1.327 \n"
     ]
    },
    {
     "name": "stderr",
     "output_type": "stream",
     "text": [
      "16511it [04:10, 46.23it/s]"
     ]
    },
    {
     "name": "stdout",
     "output_type": "stream",
     "text": [
      "money: him, them, it, able, ability, addition, way, even, work, taken\n",
      "lion: win, accepted, piece, writing, released, scene, size, brought, africa, followed\n",
      "africa: europe, china, india, america, north, east, end, germany, south, addition\n",
      "musician: actor, writer, singer, actress, author, addition, nine, born, painter, poet\n",
      "dance: music, rock, country, style, traditional, culture, beginning, actor, democratic, formed\n",
      "\n",
      "\n"
     ]
    },
    {
     "name": "stderr",
     "output_type": "stream",
     "text": [
      "16995it [04:17, 68.62it/s]"
     ]
    },
    {
     "name": "stdout",
     "output_type": "stream",
     "text": [
      "| epoch  10 | 17000/32580 batches | loss    1.329 \n"
     ]
    },
    {
     "name": "stderr",
     "output_type": "stream",
     "text": [
      "17008it [04:18, 45.10it/s]"
     ]
    },
    {
     "name": "stdout",
     "output_type": "stream",
     "text": [
      "money: him, them, it, able, ability, addition, way, even, work, taken\n",
      "lion: win, accepted, piece, writing, released, scene, size, brought, africa, followed\n",
      "africa: europe, china, india, america, north, east, end, germany, south, addition\n",
      "musician: actor, writer, singer, actress, author, addition, nine, born, painter, poet\n",
      "dance: music, rock, country, style, traditional, culture, beginning, actor, democratic, formed\n",
      "\n",
      "\n"
     ]
    },
    {
     "name": "stderr",
     "output_type": "stream",
     "text": [
      "17494it [04:25, 68.67it/s]"
     ]
    },
    {
     "name": "stdout",
     "output_type": "stream",
     "text": [
      "| epoch  10 | 17500/32580 batches | loss    1.332 \n"
     ]
    },
    {
     "name": "stderr",
     "output_type": "stream",
     "text": [
      "17507it [04:25, 45.00it/s]"
     ]
    },
    {
     "name": "stdout",
     "output_type": "stream",
     "text": [
      "money: him, them, it, able, ability, addition, way, even, work, taken\n",
      "lion: win, accepted, piece, writing, released, scene, size, brought, africa, followed\n",
      "africa: europe, china, india, america, north, east, end, germany, south, addition\n",
      "musician: actor, writer, singer, actress, author, addition, nine, born, painter, poet\n",
      "dance: music, rock, country, style, traditional, culture, beginning, actor, democratic, formed\n",
      "\n",
      "\n"
     ]
    },
    {
     "name": "stderr",
     "output_type": "stream",
     "text": [
      "17998it [04:32, 67.89it/s]"
     ]
    },
    {
     "name": "stdout",
     "output_type": "stream",
     "text": [
      "| epoch  10 | 18000/32580 batches | loss    1.330 \n"
     ]
    },
    {
     "name": "stderr",
     "output_type": "stream",
     "text": [
      "18012it [04:33, 45.54it/s]"
     ]
    },
    {
     "name": "stdout",
     "output_type": "stream",
     "text": [
      "money: him, them, it, able, ability, addition, way, even, work, taken\n",
      "lion: win, accepted, piece, writing, released, scene, size, brought, africa, followed\n",
      "africa: europe, china, india, america, north, east, end, germany, south, addition\n",
      "musician: actor, writer, singer, actress, author, addition, nine, born, painter, poet\n",
      "dance: music, rock, country, style, traditional, culture, beginning, actor, democratic, formed\n",
      "\n",
      "\n"
     ]
    },
    {
     "name": "stderr",
     "output_type": "stream",
     "text": [
      "18496it [04:40, 67.31it/s]"
     ]
    },
    {
     "name": "stdout",
     "output_type": "stream",
     "text": [
      "| epoch  10 | 18500/32580 batches | loss    1.331 \n"
     ]
    },
    {
     "name": "stderr",
     "output_type": "stream",
     "text": [
      "18510it [04:40, 45.05it/s]"
     ]
    },
    {
     "name": "stdout",
     "output_type": "stream",
     "text": [
      "money: him, them, it, able, ability, addition, way, even, work, taken\n",
      "lion: win, accepted, piece, writing, released, scene, size, brought, africa, followed\n",
      "africa: europe, china, india, america, north, east, end, germany, south, addition\n",
      "musician: actor, writer, singer, actress, author, addition, nine, born, painter, poet\n",
      "dance: music, rock, country, style, traditional, culture, beginning, actor, democratic, formed\n",
      "\n",
      "\n"
     ]
    },
    {
     "name": "stderr",
     "output_type": "stream",
     "text": [
      "18997it [04:47, 68.89it/s]"
     ]
    },
    {
     "name": "stdout",
     "output_type": "stream",
     "text": [
      "| epoch  10 | 19000/32580 batches | loss    1.332 \n"
     ]
    },
    {
     "name": "stderr",
     "output_type": "stream",
     "text": [
      "19011it [04:48, 45.99it/s]"
     ]
    },
    {
     "name": "stdout",
     "output_type": "stream",
     "text": [
      "money: him, them, it, able, ability, addition, way, even, work, taken\n",
      "lion: win, accepted, piece, writing, released, scene, size, brought, africa, followed\n",
      "africa: europe, china, india, america, north, east, end, germany, south, addition\n",
      "musician: actor, writer, singer, actress, author, addition, nine, born, painter, poet\n",
      "dance: music, rock, country, style, traditional, culture, beginning, actor, democratic, formed\n",
      "\n",
      "\n"
     ]
    },
    {
     "name": "stderr",
     "output_type": "stream",
     "text": [
      "19497it [04:55, 67.92it/s]"
     ]
    },
    {
     "name": "stdout",
     "output_type": "stream",
     "text": [
      "| epoch  10 | 19500/32580 batches | loss    1.326 \n"
     ]
    },
    {
     "name": "stderr",
     "output_type": "stream",
     "text": [
      "19511it [04:55, 45.91it/s]"
     ]
    },
    {
     "name": "stdout",
     "output_type": "stream",
     "text": [
      "money: him, them, it, able, ability, addition, way, even, work, taken\n",
      "lion: win, accepted, piece, writing, released, scene, size, brought, africa, followed\n",
      "africa: europe, china, india, america, north, east, end, germany, south, addition\n",
      "musician: actor, writer, singer, actress, author, addition, nine, born, painter, poet\n",
      "dance: music, rock, country, style, traditional, culture, beginning, actor, democratic, formed\n",
      "\n",
      "\n"
     ]
    },
    {
     "name": "stderr",
     "output_type": "stream",
     "text": [
      "19998it [05:03, 67.79it/s]"
     ]
    },
    {
     "name": "stdout",
     "output_type": "stream",
     "text": [
      "| epoch  10 | 20000/32580 batches | loss    1.333 \n"
     ]
    },
    {
     "name": "stderr",
     "output_type": "stream",
     "text": [
      "20012it [05:03, 46.27it/s]"
     ]
    },
    {
     "name": "stdout",
     "output_type": "stream",
     "text": [
      "money: him, them, it, able, ability, addition, way, even, work, taken\n",
      "lion: win, accepted, piece, writing, released, scene, size, brought, africa, followed\n",
      "africa: europe, china, india, america, north, east, end, germany, south, addition\n",
      "musician: actor, writer, singer, actress, author, addition, nine, born, painter, poet\n",
      "dance: music, rock, country, style, traditional, culture, beginning, actor, democratic, formed\n",
      "\n",
      "\n"
     ]
    },
    {
     "name": "stderr",
     "output_type": "stream",
     "text": [
      "20496it [05:10, 68.43it/s]"
     ]
    },
    {
     "name": "stdout",
     "output_type": "stream",
     "text": [
      "| epoch  10 | 20500/32580 batches | loss    1.327 \n"
     ]
    },
    {
     "name": "stderr",
     "output_type": "stream",
     "text": [
      "20510it [05:10, 45.62it/s]"
     ]
    },
    {
     "name": "stdout",
     "output_type": "stream",
     "text": [
      "money: him, them, it, able, ability, addition, way, even, work, taken\n",
      "lion: win, accepted, piece, writing, released, scene, size, brought, africa, followed\n",
      "africa: europe, china, india, america, north, east, end, germany, south, addition\n",
      "musician: actor, writer, singer, actress, author, addition, nine, born, painter, poet\n",
      "dance: music, rock, country, style, traditional, culture, beginning, actor, democratic, formed\n",
      "\n",
      "\n"
     ]
    },
    {
     "name": "stderr",
     "output_type": "stream",
     "text": [
      "21000it [05:18, 68.70it/s]"
     ]
    },
    {
     "name": "stdout",
     "output_type": "stream",
     "text": [
      "| epoch  10 | 21000/32580 batches | loss    1.333 \n"
     ]
    },
    {
     "name": "stderr",
     "output_type": "stream",
     "text": [
      "\r",
      "21007it [05:18, 40.79it/s]"
     ]
    },
    {
     "name": "stdout",
     "output_type": "stream",
     "text": [
      "money: him, them, it, able, ability, addition, way, even, work, taken\n",
      "lion: win, accepted, piece, writing, released, scene, size, brought, africa, followed\n",
      "africa: europe, china, india, america, north, east, end, germany, south, addition\n",
      "musician: actor, writer, singer, actress, author, addition, nine, born, painter, poet\n",
      "dance: music, rock, country, style, traditional, culture, beginning, actor, democratic, formed\n",
      "\n",
      "\n"
     ]
    },
    {
     "name": "stderr",
     "output_type": "stream",
     "text": [
      "21499it [05:25, 67.75it/s]"
     ]
    },
    {
     "name": "stdout",
     "output_type": "stream",
     "text": [
      "| epoch  10 | 21500/32580 batches | loss    1.331 \n"
     ]
    },
    {
     "name": "stderr",
     "output_type": "stream",
     "text": [
      "\r",
      "21506it [05:25, 40.22it/s]"
     ]
    },
    {
     "name": "stdout",
     "output_type": "stream",
     "text": [
      "money: him, them, it, able, ability, addition, way, even, work, taken\n",
      "lion: win, accepted, piece, writing, released, scene, size, brought, africa, followed\n",
      "africa: europe, china, india, america, north, east, end, germany, south, addition\n",
      "musician: actor, writer, singer, actress, author, addition, nine, born, painter, poet\n",
      "dance: music, rock, country, style, traditional, culture, beginning, actor, democratic, formed\n",
      "\n",
      "\n"
     ]
    },
    {
     "name": "stderr",
     "output_type": "stream",
     "text": [
      "21997it [05:33, 69.22it/s]"
     ]
    },
    {
     "name": "stdout",
     "output_type": "stream",
     "text": [
      "| epoch  10 | 22000/32580 batches | loss    1.330 \n"
     ]
    },
    {
     "name": "stderr",
     "output_type": "stream",
     "text": [
      "22011it [05:33, 46.46it/s]"
     ]
    },
    {
     "name": "stdout",
     "output_type": "stream",
     "text": [
      "money: him, them, it, able, ability, addition, way, even, work, taken\n",
      "lion: win, accepted, piece, writing, released, scene, size, brought, africa, followed\n",
      "africa: europe, china, india, america, north, east, end, germany, south, addition\n",
      "musician: actor, writer, singer, actress, author, addition, nine, born, painter, poet\n",
      "dance: music, rock, country, style, traditional, culture, beginning, actor, democratic, formed\n",
      "\n",
      "\n"
     ]
    },
    {
     "name": "stderr",
     "output_type": "stream",
     "text": [
      "22500it [05:40, 68.09it/s]"
     ]
    },
    {
     "name": "stdout",
     "output_type": "stream",
     "text": [
      "| epoch  10 | 22500/32580 batches | loss    1.331 \n"
     ]
    },
    {
     "name": "stderr",
     "output_type": "stream",
     "text": [
      "\r",
      "22507it [05:41, 40.87it/s]"
     ]
    },
    {
     "name": "stdout",
     "output_type": "stream",
     "text": [
      "money: him, them, it, able, ability, addition, way, even, work, taken\n",
      "lion: win, accepted, piece, writing, released, scene, size, brought, africa, followed\n",
      "africa: europe, china, india, america, north, east, end, germany, south, addition\n",
      "musician: actor, writer, singer, actress, author, addition, nine, born, painter, poet\n",
      "dance: music, rock, country, style, traditional, culture, beginning, actor, democratic, formed\n",
      "\n",
      "\n"
     ]
    },
    {
     "name": "stderr",
     "output_type": "stream",
     "text": [
      "22995it [05:51, 68.07it/s]"
     ]
    },
    {
     "name": "stdout",
     "output_type": "stream",
     "text": [
      "| epoch  10 | 23000/32580 batches | loss    1.327 \n"
     ]
    },
    {
     "name": "stderr",
     "output_type": "stream",
     "text": [
      "23008it [05:51, 43.23it/s]"
     ]
    },
    {
     "name": "stdout",
     "output_type": "stream",
     "text": [
      "money: him, them, it, able, ability, addition, way, even, work, taken\n",
      "lion: win, accepted, piece, writing, released, scene, size, brought, africa, followed\n",
      "africa: europe, china, india, america, north, east, end, germany, south, addition\n",
      "musician: actor, writer, singer, actress, author, addition, nine, born, painter, poet\n",
      "dance: music, rock, country, style, traditional, culture, beginning, actor, democratic, formed\n",
      "\n",
      "\n"
     ]
    },
    {
     "name": "stderr",
     "output_type": "stream",
     "text": [
      "23494it [05:58, 67.70it/s]"
     ]
    },
    {
     "name": "stdout",
     "output_type": "stream",
     "text": [
      "| epoch  10 | 23500/32580 batches | loss    1.332 \n"
     ]
    },
    {
     "name": "stderr",
     "output_type": "stream",
     "text": [
      "23507it [05:59, 43.12it/s]"
     ]
    },
    {
     "name": "stdout",
     "output_type": "stream",
     "text": [
      "money: him, them, it, able, ability, addition, way, even, work, taken\n",
      "lion: win, accepted, piece, writing, released, scene, size, brought, africa, followed\n",
      "africa: europe, china, india, america, north, east, end, germany, south, addition\n",
      "musician: actor, writer, singer, actress, author, addition, nine, born, painter, poet\n",
      "dance: music, rock, country, style, traditional, culture, beginning, actor, democratic, formed\n",
      "\n",
      "\n"
     ]
    },
    {
     "name": "stderr",
     "output_type": "stream",
     "text": [
      "23995it [06:06, 68.17it/s]"
     ]
    },
    {
     "name": "stdout",
     "output_type": "stream",
     "text": [
      "| epoch  10 | 24000/32580 batches | loss    1.329 \n"
     ]
    },
    {
     "name": "stderr",
     "output_type": "stream",
     "text": [
      "24008it [06:06, 44.05it/s]"
     ]
    },
    {
     "name": "stdout",
     "output_type": "stream",
     "text": [
      "money: him, them, it, able, ability, addition, way, even, work, taken\n",
      "lion: win, accepted, piece, writing, released, scene, size, brought, africa, followed\n",
      "africa: europe, china, india, america, north, east, end, germany, south, addition\n",
      "musician: actor, writer, singer, actress, author, addition, nine, born, painter, poet\n",
      "dance: music, rock, country, style, traditional, culture, beginning, actor, democratic, formed\n",
      "\n",
      "\n"
     ]
    },
    {
     "name": "stderr",
     "output_type": "stream",
     "text": [
      "24497it [06:13, 68.41it/s]"
     ]
    },
    {
     "name": "stdout",
     "output_type": "stream",
     "text": [
      "| epoch  10 | 24500/32580 batches | loss    1.332 \n"
     ]
    },
    {
     "name": "stderr",
     "output_type": "stream",
     "text": [
      "24510it [06:14, 44.21it/s]"
     ]
    },
    {
     "name": "stdout",
     "output_type": "stream",
     "text": [
      "money: him, them, it, able, ability, addition, way, even, work, taken\n",
      "lion: win, accepted, piece, writing, released, scene, size, brought, africa, followed\n",
      "africa: europe, china, india, america, north, east, end, germany, south, addition\n",
      "musician: actor, writer, singer, actress, author, addition, nine, born, painter, poet\n",
      "dance: music, rock, country, style, traditional, culture, beginning, actor, democratic, formed\n",
      "\n",
      "\n"
     ]
    },
    {
     "name": "stderr",
     "output_type": "stream",
     "text": [
      "24999it [06:21, 69.26it/s]"
     ]
    },
    {
     "name": "stdout",
     "output_type": "stream",
     "text": [
      "| epoch  10 | 25000/32580 batches | loss    1.333 \n"
     ]
    },
    {
     "name": "stderr",
     "output_type": "stream",
     "text": [
      "\r",
      "25006it [06:21, 40.82it/s]"
     ]
    },
    {
     "name": "stdout",
     "output_type": "stream",
     "text": [
      "money: him, them, it, able, ability, addition, way, even, work, taken\n",
      "lion: win, accepted, piece, writing, released, scene, size, brought, africa, followed\n",
      "africa: europe, china, india, america, north, east, end, germany, south, addition\n",
      "musician: actor, writer, singer, actress, author, addition, nine, born, painter, poet\n",
      "dance: music, rock, country, style, traditional, culture, beginning, actor, democratic, formed\n",
      "\n",
      "\n"
     ]
    },
    {
     "name": "stderr",
     "output_type": "stream",
     "text": [
      "25496it [06:28, 67.24it/s]"
     ]
    },
    {
     "name": "stdout",
     "output_type": "stream",
     "text": [
      "| epoch  10 | 25500/32580 batches | loss    1.329 \n"
     ]
    },
    {
     "name": "stderr",
     "output_type": "stream",
     "text": [
      "25510it [06:29, 45.69it/s]"
     ]
    },
    {
     "name": "stdout",
     "output_type": "stream",
     "text": [
      "money: him, them, it, able, ability, addition, way, even, work, taken\n",
      "lion: win, accepted, piece, writing, released, scene, size, brought, africa, followed\n",
      "africa: europe, china, india, america, north, east, end, germany, south, addition\n",
      "musician: actor, writer, singer, actress, author, addition, nine, born, painter, poet\n",
      "dance: music, rock, country, style, traditional, culture, beginning, actor, democratic, formed\n",
      "\n",
      "\n"
     ]
    },
    {
     "name": "stderr",
     "output_type": "stream",
     "text": [
      "26000it [06:36, 69.40it/s]"
     ]
    },
    {
     "name": "stdout",
     "output_type": "stream",
     "text": [
      "| epoch  10 | 26000/32580 batches | loss    1.332 \n"
     ]
    },
    {
     "name": "stderr",
     "output_type": "stream",
     "text": [
      "\r",
      "26007it [06:36, 41.06it/s]"
     ]
    },
    {
     "name": "stdout",
     "output_type": "stream",
     "text": [
      "money: him, them, it, able, ability, addition, way, even, work, taken\n",
      "lion: win, accepted, piece, writing, released, scene, size, brought, africa, followed\n",
      "africa: europe, china, india, america, north, east, end, germany, south, addition\n",
      "musician: actor, writer, singer, actress, author, addition, nine, born, painter, poet\n",
      "dance: music, rock, country, style, traditional, culture, beginning, actor, democratic, formed\n",
      "\n",
      "\n"
     ]
    },
    {
     "name": "stderr",
     "output_type": "stream",
     "text": [
      "26496it [06:43, 69.28it/s]"
     ]
    },
    {
     "name": "stdout",
     "output_type": "stream",
     "text": [
      "| epoch  10 | 26500/32580 batches | loss    1.327 \n"
     ]
    },
    {
     "name": "stderr",
     "output_type": "stream",
     "text": [
      "26509it [06:44, 45.21it/s]"
     ]
    },
    {
     "name": "stdout",
     "output_type": "stream",
     "text": [
      "money: him, them, it, able, ability, addition, way, even, work, taken\n",
      "lion: win, accepted, piece, writing, released, scene, size, brought, africa, followed\n",
      "africa: europe, china, india, america, north, east, end, germany, south, addition\n",
      "musician: actor, writer, singer, actress, author, addition, nine, born, painter, poet\n",
      "dance: music, rock, country, style, traditional, culture, beginning, actor, democratic, formed\n",
      "\n",
      "\n"
     ]
    },
    {
     "name": "stderr",
     "output_type": "stream",
     "text": [
      "26997it [06:51, 68.78it/s]"
     ]
    },
    {
     "name": "stdout",
     "output_type": "stream",
     "text": [
      "| epoch  10 | 27000/32580 batches | loss    1.334 \n"
     ]
    },
    {
     "name": "stderr",
     "output_type": "stream",
     "text": [
      "27011it [06:51, 46.75it/s]"
     ]
    },
    {
     "name": "stdout",
     "output_type": "stream",
     "text": [
      "money: him, them, it, able, ability, addition, way, even, work, taken\n",
      "lion: win, accepted, piece, writing, released, scene, size, brought, africa, followed\n",
      "africa: europe, china, india, america, north, east, end, germany, south, addition\n",
      "musician: actor, writer, singer, actress, author, addition, nine, born, painter, poet\n",
      "dance: music, rock, country, style, traditional, culture, beginning, actor, democratic, formed\n",
      "\n",
      "\n"
     ]
    },
    {
     "name": "stderr",
     "output_type": "stream",
     "text": [
      "27497it [06:58, 67.71it/s]"
     ]
    },
    {
     "name": "stdout",
     "output_type": "stream",
     "text": [
      "| epoch  10 | 27500/32580 batches | loss    1.330 \n"
     ]
    },
    {
     "name": "stderr",
     "output_type": "stream",
     "text": [
      "27510it [06:59, 44.61it/s]"
     ]
    },
    {
     "name": "stdout",
     "output_type": "stream",
     "text": [
      "money: him, them, it, able, ability, addition, way, even, work, taken\n",
      "lion: win, accepted, piece, writing, released, scene, size, brought, africa, followed\n",
      "africa: europe, china, india, america, north, east, end, germany, south, addition\n",
      "musician: actor, writer, singer, actress, author, addition, nine, born, painter, poet\n",
      "dance: music, rock, country, style, traditional, culture, beginning, actor, democratic, formed\n",
      "\n",
      "\n"
     ]
    },
    {
     "name": "stderr",
     "output_type": "stream",
     "text": [
      "27997it [07:06, 69.40it/s]"
     ]
    },
    {
     "name": "stdout",
     "output_type": "stream",
     "text": [
      "| epoch  10 | 28000/32580 batches | loss    1.330 \n"
     ]
    },
    {
     "name": "stderr",
     "output_type": "stream",
     "text": [
      "28011it [07:06, 46.76it/s]"
     ]
    },
    {
     "name": "stdout",
     "output_type": "stream",
     "text": [
      "money: him, them, it, able, ability, addition, way, even, work, taken\n",
      "lion: win, accepted, piece, writing, released, scene, size, brought, africa, followed\n",
      "africa: europe, china, india, america, north, east, end, germany, south, addition\n",
      "musician: actor, writer, singer, actress, author, addition, nine, born, painter, poet\n",
      "dance: music, rock, country, style, traditional, culture, beginning, actor, democratic, formed\n",
      "\n",
      "\n"
     ]
    },
    {
     "name": "stderr",
     "output_type": "stream",
     "text": [
      "28494it [07:14, 63.61it/s]"
     ]
    },
    {
     "name": "stdout",
     "output_type": "stream",
     "text": [
      "| epoch  10 | 28500/32580 batches | loss    1.332 \n"
     ]
    },
    {
     "name": "stderr",
     "output_type": "stream",
     "text": [
      "28507it [07:14, 42.13it/s]"
     ]
    },
    {
     "name": "stdout",
     "output_type": "stream",
     "text": [
      "money: him, them, it, able, ability, addition, way, even, work, taken\n",
      "lion: win, accepted, piece, writing, released, scene, size, brought, africa, followed\n",
      "africa: europe, china, india, america, north, east, end, germany, south, addition\n",
      "musician: actor, writer, singer, actress, author, addition, nine, born, painter, poet\n",
      "dance: music, rock, country, style, traditional, culture, beginning, actor, democratic, formed\n",
      "\n",
      "\n"
     ]
    },
    {
     "name": "stderr",
     "output_type": "stream",
     "text": [
      "28999it [07:21, 69.14it/s]"
     ]
    },
    {
     "name": "stdout",
     "output_type": "stream",
     "text": [
      "| epoch  10 | 29000/32580 batches | loss    1.330 \n"
     ]
    },
    {
     "name": "stderr",
     "output_type": "stream",
     "text": [
      "\r",
      "29006it [07:22, 40.85it/s]"
     ]
    },
    {
     "name": "stdout",
     "output_type": "stream",
     "text": [
      "money: him, them, it, able, ability, addition, way, even, work, taken\n",
      "lion: win, accepted, piece, writing, released, scene, size, brought, africa, followed\n",
      "africa: europe, china, india, america, north, east, end, germany, south, addition\n",
      "musician: actor, writer, singer, actress, author, addition, nine, born, painter, poet\n",
      "dance: music, rock, country, style, traditional, culture, beginning, actor, democratic, formed\n",
      "\n",
      "\n"
     ]
    },
    {
     "name": "stderr",
     "output_type": "stream",
     "text": [
      "29493it [07:29, 69.49it/s]"
     ]
    },
    {
     "name": "stdout",
     "output_type": "stream",
     "text": [
      "| epoch  10 | 29500/32580 batches | loss    1.328 \n"
     ]
    },
    {
     "name": "stderr",
     "output_type": "stream",
     "text": [
      "29507it [07:29, 46.32it/s]"
     ]
    },
    {
     "name": "stdout",
     "output_type": "stream",
     "text": [
      "money: him, them, it, able, ability, addition, way, even, work, taken\n",
      "lion: win, accepted, piece, writing, released, scene, size, brought, africa, followed\n",
      "africa: europe, china, india, america, north, east, end, germany, south, addition\n",
      "musician: actor, writer, singer, actress, author, addition, nine, born, painter, poet\n",
      "dance: music, rock, country, style, traditional, culture, beginning, actor, democratic, formed\n",
      "\n",
      "\n"
     ]
    },
    {
     "name": "stderr",
     "output_type": "stream",
     "text": [
      "29997it [07:36, 66.90it/s]"
     ]
    },
    {
     "name": "stdout",
     "output_type": "stream",
     "text": [
      "| epoch  10 | 30000/32580 batches | loss    1.328 \n"
     ]
    },
    {
     "name": "stderr",
     "output_type": "stream",
     "text": [
      "30011it [07:37, 44.41it/s]"
     ]
    },
    {
     "name": "stdout",
     "output_type": "stream",
     "text": [
      "money: him, them, it, able, ability, addition, way, even, work, taken\n",
      "lion: win, accepted, piece, writing, released, scene, size, brought, africa, followed\n",
      "africa: europe, china, india, america, north, east, end, germany, south, addition\n",
      "musician: actor, writer, singer, actress, author, addition, nine, born, painter, poet\n",
      "dance: music, rock, country, style, traditional, culture, beginning, actor, democratic, formed\n",
      "\n",
      "\n"
     ]
    },
    {
     "name": "stderr",
     "output_type": "stream",
     "text": [
      "30499it [07:44, 69.00it/s]"
     ]
    },
    {
     "name": "stdout",
     "output_type": "stream",
     "text": [
      "| epoch  10 | 30500/32580 batches | loss    1.330 \n"
     ]
    },
    {
     "name": "stderr",
     "output_type": "stream",
     "text": [
      "30513it [07:44, 46.28it/s]"
     ]
    },
    {
     "name": "stdout",
     "output_type": "stream",
     "text": [
      "money: him, them, it, able, ability, addition, way, even, work, taken\n",
      "lion: win, accepted, piece, writing, released, scene, size, brought, africa, followed\n",
      "africa: europe, china, india, america, north, east, end, germany, south, addition\n",
      "musician: actor, writer, singer, actress, author, addition, nine, born, painter, poet\n",
      "dance: music, rock, country, style, traditional, culture, beginning, actor, democratic, formed\n",
      "\n",
      "\n"
     ]
    },
    {
     "name": "stderr",
     "output_type": "stream",
     "text": [
      "30994it [07:51, 68.04it/s]"
     ]
    },
    {
     "name": "stdout",
     "output_type": "stream",
     "text": [
      "| epoch  10 | 31000/32580 batches | loss    1.332 \n"
     ]
    },
    {
     "name": "stderr",
     "output_type": "stream",
     "text": [
      "31007it [07:52, 45.17it/s]"
     ]
    },
    {
     "name": "stdout",
     "output_type": "stream",
     "text": [
      "money: him, them, it, able, ability, addition, way, even, work, taken\n",
      "lion: win, accepted, piece, writing, released, scene, size, brought, africa, followed\n",
      "africa: europe, china, india, america, north, east, end, germany, south, addition\n",
      "musician: actor, writer, singer, actress, author, addition, nine, born, painter, poet\n",
      "dance: music, rock, country, style, traditional, culture, beginning, actor, democratic, formed\n",
      "\n",
      "\n"
     ]
    },
    {
     "name": "stderr",
     "output_type": "stream",
     "text": [
      "31497it [07:59, 68.40it/s]"
     ]
    },
    {
     "name": "stdout",
     "output_type": "stream",
     "text": [
      "| epoch  10 | 31500/32580 batches | loss    1.332 \n"
     ]
    },
    {
     "name": "stderr",
     "output_type": "stream",
     "text": [
      "31511it [07:59, 45.93it/s]"
     ]
    },
    {
     "name": "stdout",
     "output_type": "stream",
     "text": [
      "money: him, them, it, able, ability, addition, way, even, work, taken\n",
      "lion: win, accepted, piece, writing, released, scene, size, brought, africa, followed\n",
      "africa: europe, china, india, america, north, east, end, germany, south, addition\n",
      "musician: actor, writer, singer, actress, author, addition, nine, born, painter, poet\n",
      "dance: music, rock, country, style, traditional, culture, beginning, actor, democratic, formed\n",
      "\n",
      "\n"
     ]
    },
    {
     "name": "stderr",
     "output_type": "stream",
     "text": [
      "31996it [08:06, 68.77it/s]"
     ]
    },
    {
     "name": "stdout",
     "output_type": "stream",
     "text": [
      "| epoch  10 | 32000/32580 batches | loss    1.332 \n"
     ]
    },
    {
     "name": "stderr",
     "output_type": "stream",
     "text": [
      "32009it [08:07, 44.54it/s]"
     ]
    },
    {
     "name": "stdout",
     "output_type": "stream",
     "text": [
      "money: him, them, it, able, ability, addition, way, even, work, taken\n",
      "lion: win, accepted, piece, writing, released, scene, size, brought, africa, followed\n",
      "africa: europe, china, india, america, north, east, end, germany, south, addition\n",
      "musician: actor, writer, singer, actress, author, addition, nine, born, painter, poet\n",
      "dance: music, rock, country, style, traditional, culture, beginning, actor, democratic, formed\n",
      "\n",
      "\n"
     ]
    },
    {
     "name": "stderr",
     "output_type": "stream",
     "text": [
      "32494it [08:14, 69.57it/s]"
     ]
    },
    {
     "name": "stdout",
     "output_type": "stream",
     "text": [
      "| epoch  10 | 32500/32580 batches | loss    1.331 \n"
     ]
    },
    {
     "name": "stderr",
     "output_type": "stream",
     "text": [
      "32507it [08:14, 45.07it/s]"
     ]
    },
    {
     "name": "stdout",
     "output_type": "stream",
     "text": [
      "money: him, them, it, able, ability, addition, way, even, work, taken\n",
      "lion: win, accepted, piece, writing, released, scene, size, brought, africa, followed\n",
      "africa: europe, china, india, america, north, east, end, germany, south, addition\n",
      "musician: actor, writer, singer, actress, author, addition, nine, born, painter, poet\n",
      "dance: music, rock, country, style, traditional, culture, beginning, actor, democratic, formed\n",
      "\n",
      "\n"
     ]
    },
    {
     "name": "stderr",
     "output_type": "stream",
     "text": [
      "32580it [08:16, 65.58it/s]\n"
     ]
    }
   ],
   "source": [
    "for epoch in range(1, NUM_EPOCHS + 1):\n",
    "    epoch_start_time = time.time()\n",
    "\n",
    "    train(train_dl, model, optimizer, epoch)\n",
    "    # We have a learning rate scheduler here\n",
    "    # Basically, given the state of the optimizer, this lowers the learning rate in a smart way\n",
    "    scheduler.step()"
   ]
  },
  {
   "cell_type": "code",
   "execution_count": 109,
   "metadata": {
    "colab": {
     "base_uri": "https://localhost:8080/"
    },
    "id": "YQRgXaT3T0wr",
    "outputId": "8b489b96-e2cd-4734-8a75-d3bc33b641e4"
   },
   "outputs": [
    {
     "name": "stdout",
     "output_type": "stream",
     "text": [
      "using matrix A, the associated vectors for the validation words are:\n",
      "tensor([[ 0.4953,  0.2483,  0.2230,  0.1042,  0.2821],\n",
      "        [-0.0016, -0.0545,  0.1148, -0.1175, -0.0359],\n",
      "        [-0.3026, -0.4564, -0.6605, -0.1210, -0.1906],\n",
      "        ...,\n",
      "        [-0.4030, -0.0842, -0.8716, -0.8540, -0.1783],\n",
      "        [ 0.1035,  0.4277,  0.3288, -0.2397,  0.0866],\n",
      "        [-0.2463,  0.1513,  0.4742,  0.1298, -0.3245]], device='cuda:0',\n",
      "       grad_fn=<TBackward0>)\n",
      "using matrix B, the associated vectors for the validation words are:\n",
      "tensor([[ 0.3331, -0.4238, -0.1914, -0.2280,  0.0073],\n",
      "        [ 0.0502,  0.1585, -0.2859,  0.6871, -0.2110],\n",
      "        [ 0.5351,  0.5179, -0.0169, -0.1914,  0.5379],\n",
      "        ...,\n",
      "        [ 0.1408,  0.2456, -0.6827,  0.1243,  0.2705],\n",
      "        [-0.3617, -0.3228, -0.3763,  0.2951,  0.4067],\n",
      "        [ 0.0205, -0.4111, -0.3279,  0.3772,  0.1225]], device='cuda:0',\n",
      "       grad_fn=<TBackward0>)\n",
      "torch.Size([300, 5])\n"
     ]
    }
   ],
   "source": [
    "encoderA = model.A.weight\n",
    "encoderB = model.B.weight\n",
    "\n",
    "### Matrix A times the one-hot encodings of w just mean selecting the wth column of A.t()\n",
    "validation_vectors_A = encoderA[valid_ids].t()\n",
    "validation_vectors_B = encoderB[valid_ids].t()\n",
    "print('using matrix A, the associated vectors for the validation words are:')\n",
    "print(validation_vectors_A)\n",
    "print('using matrix B, the associated vectors for the validation words are:')\n",
    "print(validation_vectors_B)\n",
    "print(validation_vectors.shape)"
   ]
  },
  {
   "cell_type": "code",
   "execution_count": 113,
   "metadata": {
    "colab": {
     "base_uri": "https://localhost:8080/"
    },
    "id": "b0227888",
    "outputId": "29c0a244-52de-4955-8083-4f61c4d9a0f6"
   },
   "outputs": [
    {
     "name": "stdout",
     "output_type": "stream",
     "text": [
      "generate the most likely one-hot encodings from the vectors: \n",
      "tensor([ 814, 4668,  552, 1309, 1140], device='cuda:0')\n",
      "the most predicted words from these one-hot encodings should match the validation words\n",
      "['money', 'lion', 'africa', 'musician', 'dance']\n"
     ]
    }
   ],
   "source": [
    "logit_scores = torch.mm(encoderA,validation_vectors_A)\n",
    "\n",
    "probabilities = torch.softmax(logit_scores, dim=1)\n",
    "\n",
    "most_likely_one_hot_indices = torch.argmax(probabilities, dim=0)\n",
    "\n",
    "print('generate the most likely one-hot encodings from the vectors: ')\n",
    "print(most_likely_one_hot_indices)\n",
    "\n",
    "print('the most predicted words from these one-hot encodings should match the validation words')\n",
    "predicted_words = [itos[index.item()] for index in most_likely_one_hot_indices]\n",
    "print(predicted_words)"
   ]
  },
  {
   "cell_type": "code",
   "execution_count": 118,
   "metadata": {
    "colab": {
     "base_uri": "https://localhost:8080/"
    },
    "id": "L3v7sd4UnkxT",
    "outputId": "20766b84-1960-4cd8-ae00-ee059495c0d7"
   },
   "outputs": [
    {
     "data": {
      "text/plain": [
       "Parameter containing:\n",
       "tensor([[-0.0281, -0.3890,  0.6851,  ..., -0.3136,  0.3395,  0.1619],\n",
       "        [ 0.2855, -0.1539, -0.0710,  ...,  0.3070,  0.5302, -0.1617],\n",
       "        [-0.0205, -0.1376,  0.2515,  ..., -0.0785,  0.2573, -0.1101],\n",
       "        ...,\n",
       "        [-0.1058, -0.0050, -0.0279,  ..., -0.2700, -0.0493,  0.3265],\n",
       "        [ 0.2328, -0.3390,  0.4947,  ...,  0.2594,  0.4218, -0.4265],\n",
       "        [ 0.0784, -0.0830,  0.4202,  ...,  0.1826, -0.2941,  0.0031]],\n",
       "       device='cuda:0', requires_grad=True)"
      ]
     },
     "execution_count": 118,
     "metadata": {},
     "output_type": "execute_result"
    }
   ],
   "source": [
    "file_path_A = 'encoderA.pt'\n",
    "torch.save(encoderA, file_path_A)\n",
    "loaded_tensor_A = torch.load(file_path_A)\n",
    "loaded_tensor_A\n",
    "\n",
    "file_path_B = 'encoderB.pt'\n",
    "torch.save(encoderB, file_path_B)\n",
    "loaded_tensor_B = torch.load(file_path_B)\n",
    "loaded_tensor_B"
   ]
  },
  {
   "cell_type": "code",
   "execution_count": 122,
   "metadata": {
    "colab": {
     "base_uri": "https://localhost:8080/"
    },
    "id": "-vGQGtmroIhP",
    "outputId": "ccb0ce64-a423-45da-a39c-1280c3b311bf"
   },
   "outputs": [
    {
     "data": {
      "text/plain": [
       "Parameter containing:\n",
       "tensor([[-0.0281, -0.3890,  0.6851,  ..., -0.3136,  0.3395,  0.1619],\n",
       "        [ 0.2855, -0.1539, -0.0710,  ...,  0.3070,  0.5302, -0.1617],\n",
       "        [-0.0205, -0.1376,  0.2515,  ..., -0.0785,  0.2573, -0.1101],\n",
       "        ...,\n",
       "        [-0.1058, -0.0050, -0.0279,  ..., -0.2700, -0.0493,  0.3265],\n",
       "        [ 0.2328, -0.3390,  0.4947,  ...,  0.2594,  0.4218, -0.4265],\n",
       "        [ 0.0784, -0.0830,  0.4202,  ...,  0.1826, -0.2941,  0.0031]],\n",
       "       device='cuda:0', requires_grad=True)"
      ]
     },
     "execution_count": 122,
     "metadata": {},
     "output_type": "execute_result"
    }
   ],
   "source": [
    "loaded_tensor_A = torch.load('/content/drive/MyDrive/sh/encoderA.pt')\n",
    "loaded_tensor_B = torch.load('/content/drive/MyDrive/sh/encoderB.pt')\n",
    "loaded_tensor_B\n"
   ]
  },
  {
   "cell_type": "code",
   "execution_count": 123,
   "metadata": {
    "colab": {
     "base_uri": "https://localhost:8080/"
    },
    "id": "lgasUfbFofAo",
    "outputId": "fd7a4f52-6491-4e3c-fbfb-372fed984696"
   },
   "outputs": [
    {
     "data": {
      "text/plain": [
       "Parameter containing:\n",
       "tensor([[-0.0281, -0.3890,  0.6851,  ..., -0.3136,  0.3395,  0.1619],\n",
       "        [ 0.2855, -0.1539, -0.0710,  ...,  0.3070,  0.5302, -0.1617],\n",
       "        [-0.0205, -0.1376,  0.2515,  ..., -0.0785,  0.2573, -0.1101],\n",
       "        ...,\n",
       "        [-0.1058, -0.0050, -0.0279,  ..., -0.2700, -0.0493,  0.3265],\n",
       "        [ 0.2328, -0.3390,  0.4947,  ...,  0.2594,  0.4218, -0.4265],\n",
       "        [ 0.0784, -0.0830,  0.4202,  ...,  0.1826, -0.2941,  0.0031]],\n",
       "       device='cuda:0', requires_grad=True)"
      ]
     },
     "execution_count": 123,
     "metadata": {},
     "output_type": "execute_result"
    }
   ],
   "source": [
    "encoderB"
   ]
  }
 ],
 "metadata": {
  "accelerator": "GPU",
  "colab": {
   "gpuType": "A100",
   "machine_shape": "hm",
   "provenance": []
  },
  "kernelspec": {
   "display_name": "Python 3",
   "language": "python",
   "name": "python3"
  },
  "language_info": {
   "codemirror_mode": {
    "name": "ipython",
    "version": 3
   },
   "file_extension": ".py",
   "mimetype": "text/x-python",
   "name": "python",
   "nbconvert_exporter": "python",
   "pygments_lexer": "ipython3",
   "version": "3.7.6"
  }
 },
 "nbformat": 4,
 "nbformat_minor": 5
}
